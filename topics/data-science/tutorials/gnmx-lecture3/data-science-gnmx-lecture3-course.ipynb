{
  "metadata": {},
  "nbformat": 4,
  "nbformat_minor": 5,
  "cells": [
    {
      "id": "metadata",
      "cell_type": "markdown",
      "source": "<div style=\"border: 2px solid #8A9AD0; margin: 1em 0.2em; padding: 0.5em;\">\n\n# Introduction to sequencing with Python (part two)\n\nby [Anton Nekrutenko](https://training.galaxyproject.org/hall-of-fame/nekrut/)\n\nCC-BY licensed content from the [Galaxy Training Network](https://training.galaxyproject.org/)\n\n**Objectives**\n\n- What is FASTQ format\n- How do I parse FASTQ format with Python\n- How do I decide whether my data is good or not?\n\n**Objectives**\n\n- Understand manipulation of FASTQ data in Python\n- Understand quality metrics\n\n**Time Estimation: 1h**\n</div>\n",
      "metadata": {
        "editable": false,
        "collapsed": false
      }
    },
    {
      "id": "cell-0",
      "source": "<p><a href=\"https://xkcd.com/353/\"><a href=\"https://imgs.xkcd.com/comics/python.png\" rel=\"noopener noreferrer\"><img src=\"https://imgs.xkcd.com/comics/python.png\" alt=\"XKCD353. \" loading=\"lazy\" /></a></a></p>\n<p>Preclass prep: Chapters <a href=\"https://greenteapress.com/thinkpython2/html/thinkpython2009.html\">8</a> and <a href=\"https://greenteapress.com/thinkpython2/html/thinkpython2011.html\">10</a> from “Think Python”</p>\n<blockquote class=\"quote\" cite=\"https://langmead-lab.org/teaching-materials\">\n<p>This material uses examples from notebooks developed by <a href=\"https://langmead-lab.org/teaching-materials/\">Ben Langmead</a></p>\n</blockquote>\n<h1 id=\"prep\">Prep</h1>\n<ol>\n<li>Start <a href=\"https://mybinder.org/v2/gh/jupyterlab/jupyterlab-demo/try.jupyter.org?urlpath=lab\">JupyterLab</a></li>\n<li>Within JupyterLab start a new Python3 notebook</li>\n<li>Open <a href=\"http://cs1110.cs.cornell.edu/tutor/#mode=edit\">this page</a> in a new browser tab</li>\n</ol>\n<h1 id=\"strings-in-python\">Strings in Python</h1>\n<p>In Python, strings are sequences of characters enclosed in quotation marks (either single or double quotes). They can be assigned to a variable and manipulated using various string methods. For example:</p>\n<p>string1 = “Hello World!”\nstring2 = ‘Hello World!’</p>\n<p>print(string1)  # Output: Hello World!\nprint(string2)  # Output: Hello World!</p>\n<p>You can also use the + operator to concatenate strings, and the * operator to repeat a string a certain number of times:</p>\n",
      "cell_type": "markdown",
      "metadata": {
        "editable": false,
        "collapsed": false
      }
    },
    {
      "id": "cell-1",
      "source": [
        "string3 = \"Hello \" + \"World!\"\n",
        "print(string3)  # Output: Hello World!\n",
        "\n",
        "string4 = \"Hello \" * 3\n",
        "print(string4)  # Output: Hello Hello Hello"
      ],
      "cell_type": "code",
      "execution_count": null,
      "outputs": [],
      "metadata": {
        "attributes": {
          "classes": [
            "Preclass prep: Chapters [8](https://greenteapress.com/thinkpython2/html/thinkpython2009.html) and [10](https://greenteapress.com/thinkpython2/html/thinkpython2011.html) from \"Think Python\""
          ],
          "id": ""
        }
      }
    },
    {
      "id": "cell-2",
      "source": "<p>Hello World!\n    Hello Hello Hello</p>\n<p>There are also many built-in string methods such as <code style=\"color: inherit\">upper()</code>, <code style=\"color: inherit\">lower()</code>, <code style=\"color: inherit\">replace()</code>, <code style=\"color: inherit\">split()</code>, <code style=\"color: inherit\">find()</code>, <code style=\"color: inherit\">len()</code>, etc. These can be used to manipulate and extract information from strings:</p>\n",
      "cell_type": "markdown",
      "metadata": {
        "editable": false,
        "collapsed": false
      }
    },
    {
      "id": "cell-3",
      "source": [
        "string5 = \"Hello World!\"\n",
        "print(string5.upper())   # Output: HELLO WORLD!\n",
        "print(string5.lower())   # Output: hello world!\n",
        "print(string5.replace(\"H\", \"J\"))  # Output: Jello World!\n",
        "print(string5.split(\" \"))  # Output: ['Hello', 'World!']"
      ],
      "cell_type": "code",
      "execution_count": null,
      "outputs": [],
      "metadata": {
        "attributes": {
          "classes": [
            "Preclass prep: Chapters [8](https://greenteapress.com/thinkpython2/html/thinkpython2009.html) and [10](https://greenteapress.com/thinkpython2/html/thinkpython2011.html) from \"Think Python\""
          ],
          "id": ""
        }
      }
    },
    {
      "id": "cell-4",
      "source": "<p>HELLO WORLD!\n    hello world!\n    Jello World!\n    [‘Hello’, ‘World!’]</p>\n<p>You can also use indexing, slicing and string formatting to access or manipulate substrings or insert dynamic data into a string.</p>\n",
      "cell_type": "markdown",
      "metadata": {
        "editable": false,
        "collapsed": false
      }
    },
    {
      "id": "cell-5",
      "source": [
        "name = \"John\"\n",
        "age = 30\n",
        "\n",
        "print(\"My name is {} and I am {} years old.\".format(name, age))"
      ],
      "cell_type": "code",
      "execution_count": null,
      "outputs": [],
      "metadata": {
        "attributes": {
          "classes": [
            "Preclass prep: Chapters [8](https://greenteapress.com/thinkpython2/html/thinkpython2009.html) and [10](https://greenteapress.com/thinkpython2/html/thinkpython2011.html) from \"Think Python\""
          ],
          "id": ""
        }
      }
    },
    {
      "id": "cell-6",
      "source": "<p>My name is John and I am 30 years old.</p>\n<p>You can also use f-strings, or formatted string literals, to embed expressions inside string literals.</p>\n",
      "cell_type": "markdown",
      "metadata": {
        "editable": false,
        "collapsed": false
      }
    },
    {
      "id": "cell-7",
      "source": [
        "name = \"John\"\n",
        "age = 30\n",
        "\n",
        "print(f\"My name is {name} and I am {age} years old.\")"
      ],
      "cell_type": "code",
      "execution_count": null,
      "outputs": [],
      "metadata": {
        "attributes": {
          "classes": [
            "Preclass prep: Chapters [8](https://greenteapress.com/thinkpython2/html/thinkpython2009.html) and [10](https://greenteapress.com/thinkpython2/html/thinkpython2011.html) from \"Think Python\""
          ],
          "id": ""
        }
      }
    },
    {
      "id": "cell-8",
      "source": "<p>My name is John and I am 30 years old.</p>\n<h2 id=\"string-indexing\">String indexing</h2>\n<p>In Python, strings are sequences of characters, and each character has a corresponding index, starting from 0.\nThis means that we can access individual characters in a string using their index. This is called “string indexing”.</p>\n<p>Here is an example:</p>\n",
      "cell_type": "markdown",
      "metadata": {
        "editable": false,
        "collapsed": false
      }
    },
    {
      "id": "cell-9",
      "source": [
        "string = \"Hello World!\"\n",
        "print(string[0])  # Output: H\n",
        "print(string[1])  # Output: e\n",
        "print(string[-1])  # Output: !"
      ],
      "cell_type": "code",
      "execution_count": null,
      "outputs": [],
      "metadata": {
        "attributes": {
          "classes": [
            "Preclass prep: Chapters [8](https://greenteapress.com/thinkpython2/html/thinkpython2009.html) and [10](https://greenteapress.com/thinkpython2/html/thinkpython2011.html) from \"Think Python\""
          ],
          "id": ""
        }
      }
    },
    {
      "id": "cell-10",
      "source": "<p>H\n    e\n    !</p>\n<p>You can also use negative indexing to access characters from the end of the string, with -1 being the last character, -2 the second to last and so on.</p>\n<p>You can also use slicing to extract a substring from a string. The syntax is <code style=\"color: inherit\">string[start:end:step]</code>, where <code style=\"color: inherit\">start</code> is the starting index, <code style=\"color: inherit\">end</code> is the ending index (not included), and step is the number of characters to skip between each index.</p>\n",
      "cell_type": "markdown",
      "metadata": {
        "editable": false,
        "collapsed": false
      }
    },
    {
      "id": "cell-11",
      "source": [
        "string = \"Hello World!\"\n",
        "print(string[0:5])  # Output: Hello\n",
        "print(string[6:11])  # Output: World\n",
        "print(string[::2])  # Output: HloWrd"
      ],
      "cell_type": "code",
      "execution_count": null,
      "outputs": [],
      "metadata": {
        "attributes": {
          "classes": [
            "Preclass prep: Chapters [8](https://greenteapress.com/thinkpython2/html/thinkpython2009.html) and [10](https://greenteapress.com/thinkpython2/html/thinkpython2011.html) from \"Think Python\""
          ],
          "id": ""
        }
      }
    },
    {
      "id": "cell-12",
      "source": "<p>Hello\n    World\n    HloWrd</p>\n<p>You can also use the string formatting method to get the string at the specific index.</p>\n",
      "cell_type": "markdown",
      "metadata": {
        "editable": false,
        "collapsed": false
      }
    },
    {
      "id": "cell-13",
      "source": [
        "string = \"Hello World!\"\n",
        "index = 3\n",
        "print(f\"The character at index {index} is: {string[index]}\")"
      ],
      "cell_type": "code",
      "execution_count": null,
      "outputs": [],
      "metadata": {
        "attributes": {
          "classes": [
            "Preclass prep: Chapters [8](https://greenteapress.com/thinkpython2/html/thinkpython2009.html) and [10](https://greenteapress.com/thinkpython2/html/thinkpython2011.html) from \"Think Python\""
          ],
          "id": ""
        }
      }
    },
    {
      "id": "cell-14",
      "source": "<p>The character at index 3 is: l</p>\n<h2 id=\"string-functions\">String functions</h2>\n<p>In Python, many built-in string methods can be used to manipulate and extract information from strings. Here are some of the most commonly used ones:</p>\n<ul>\n<li><code style=\"color: inherit\">upper()</code>: Converts the string to uppercase</li>\n<li><code style=\"color: inherit\">lower()</code>: Converts the string to lowercase</li>\n<li><code style=\"color: inherit\">replace(old, new)</code>: Replaces all occurrences of the old substring with the new substring</li>\n<li><code style=\"color: inherit\">split(separator)</code>: Splits the string into a list of substrings using the specified separator</li>\n<li><code style=\"color: inherit\">find(substring)</code>: Returns the index of the first occurrence of the substring, or -1 if the substring is not found</li>\n<li><code style=\"color: inherit\">index(substring)</code>: Returns the index of the first occurrence of the substring or raises a ValueError if the substring is not found</li>\n<li><code style=\"color: inherit\">count(substring)</code>: Returns the number of occurrences of the substring</li>\n<li><code style=\"color: inherit\">join(iterable)</code>: Concatenates the elements of an iterable (such as a list or tuple) with the string as the separator</li>\n<li><code style=\"color: inherit\">strip()</code>: Removes leading and trailing whitespaces from the string</li>\n<li><code style=\"color: inherit\">lstrip()</code>: Removes leading whitespaces from the string</li>\n<li><code style=\"color: inherit\">rstrip()</code>: Removes trailing whitespaces from the string</li>\n<li><code style=\"color: inherit\">startswith(substring)</code>: Returns True if the string starts with the specified substring, False otherwise</li>\n<li><code style=\"color: inherit\">endswith(substring)</code>: Returns True if the string ends with the specified substring, False otherwise</li>\n<li><code style=\"color: inherit\">isalpha()</code>: Returns True if the string contains only alphabetic characters, False otherwise</li>\n<li><code style=\"color: inherit\">isdigit()</code>: Returns True if the string contains only digits, False otherwise</li>\n<li><code style=\"color: inherit\">isalnum()</code>: Returns True if the string contains only alphanumeric characters, False otherwise</li>\n<li><code style=\"color: inherit\">format()</code>: Formats the string by replacing placeholders with specified values</li>\n<li><code style=\"color: inherit\">len()</code>: Returns the length of the string</li>\n</ul>\n<p>Here is an example of some of these methods:</p>\n",
      "cell_type": "markdown",
      "metadata": {
        "editable": false,
        "collapsed": false
      }
    },
    {
      "id": "cell-15",
      "source": [
        "string = \"Hello World!\"\n",
        "\n",
        "print(string.upper())  # Output: HELLO WORLD!\n",
        "print(string.lower())  # Output: hello world!\n",
        "print(string.replace(\"H\", \"J\"))  # Output: Jello World!\n",
        "print(string.split(\" \"))  # Output: ['Hello', 'World!']\n",
        "print(string.find(\"World\"))  # Output: 6\n",
        "print(string.count(\"l\"))  # Output: 3\n",
        "print(string.strip())  # Output: \"Hello World!\"\n",
        "print(string.startswith(\"Hello\"))  # Output: True\n",
        "print(string.endswith(\"World!\"))  # Output: True\n",
        "print(string.isalpha())  # Output: False\n",
        "print(string.isalnum())  # Output: False\n",
        "print(string.format())  # Output: Hello World!\n",
        "print(len(string))  # Output: 12"
      ],
      "cell_type": "code",
      "execution_count": null,
      "outputs": [],
      "metadata": {
        "attributes": {
          "classes": [
            "Preclass prep: Chapters [8](https://greenteapress.com/thinkpython2/html/thinkpython2009.html) and [10](https://greenteapress.com/thinkpython2/html/thinkpython2011.html) from \"Think Python\""
          ],
          "id": ""
        }
      }
    },
    {
      "id": "cell-16",
      "source": "<p>HELLO WORLD!\n    hello world!\n    Jello World!\n    [‘Hello’, ‘World!’]\n    6\n    3\n    Hello World!\n    True\n    True\n    False\n    False\n    Hello World!\n    12</p>\n<h2 id=\"playing-with-strings\">Playing with strings</h2>\n",
      "cell_type": "markdown",
      "metadata": {
        "editable": false,
        "collapsed": false
      }
    },
    {
      "id": "cell-17",
      "source": [
        "st = 'ACGT'"
      ],
      "cell_type": "code",
      "execution_count": null,
      "outputs": [],
      "metadata": {
        "attributes": {
          "classes": [
            "Preclass prep: Chapters [8](https://greenteapress.com/thinkpython2/html/thinkpython2009.html) and [10](https://greenteapress.com/thinkpython2/html/thinkpython2011.html) from \"Think Python\""
          ],
          "id": ""
        }
      }
    },
    {
      "id": "cell-18",
      "source": "\n",
      "cell_type": "markdown",
      "metadata": {
        "editable": false,
        "collapsed": false
      }
    },
    {
      "id": "cell-19",
      "source": [
        "len(st) # getting the length of a string"
      ],
      "cell_type": "code",
      "execution_count": null,
      "outputs": [],
      "metadata": {
        "attributes": {
          "classes": [
            "Preclass prep: Chapters [8](https://greenteapress.com/thinkpython2/html/thinkpython2009.html) and [10](https://greenteapress.com/thinkpython2/html/thinkpython2011.html) from \"Think Python\""
          ],
          "id": ""
        }
      }
    },
    {
      "id": "cell-20",
      "source": "<p>4</p>\n",
      "cell_type": "markdown",
      "metadata": {
        "editable": false,
        "collapsed": false
      }
    },
    {
      "id": "cell-21",
      "source": [
        "'' # empty string (epsilon)"
      ],
      "cell_type": "code",
      "execution_count": null,
      "outputs": [],
      "metadata": {
        "attributes": {
          "classes": [
            "Preclass prep: Chapters [8](https://greenteapress.com/thinkpython2/html/thinkpython2009.html) and [10](https://greenteapress.com/thinkpython2/html/thinkpython2011.html) from \"Think Python\""
          ],
          "id": ""
        }
      }
    },
    {
      "id": "cell-22",
      "source": "<p>’’</p>\n",
      "cell_type": "markdown",
      "metadata": {
        "editable": false,
        "collapsed": false
      }
    },
    {
      "id": "cell-23",
      "source": [
        "len('')"
      ],
      "cell_type": "code",
      "execution_count": null,
      "outputs": [],
      "metadata": {
        "attributes": {
          "classes": [
            "Preclass prep: Chapters [8](https://greenteapress.com/thinkpython2/html/thinkpython2009.html) and [10](https://greenteapress.com/thinkpython2/html/thinkpython2011.html) from \"Think Python\""
          ],
          "id": ""
        }
      }
    },
    {
      "id": "cell-24",
      "source": "<p>0</p>\n",
      "cell_type": "markdown",
      "metadata": {
        "editable": false,
        "collapsed": false
      }
    },
    {
      "id": "cell-25",
      "source": [
        "import random\n",
        "random.choice('ACGT') # generating a random nucleotide"
      ],
      "cell_type": "code",
      "execution_count": null,
      "outputs": [],
      "metadata": {
        "attributes": {
          "classes": [
            "Preclass prep: Chapters [8](https://greenteapress.com/thinkpython2/html/thinkpython2009.html) and [10](https://greenteapress.com/thinkpython2/html/thinkpython2011.html) from \"Think Python\""
          ],
          "id": ""
        }
      }
    },
    {
      "id": "cell-26",
      "source": "<p>‘G’</p>\n",
      "cell_type": "markdown",
      "metadata": {
        "editable": false,
        "collapsed": false
      }
    },
    {
      "id": "cell-27",
      "source": [
        "# now I'll make a random nucleotide string by concatenating random nucleotides\n",
        "st = ''.join([random.choice('ACGT') for _ in range(40)])\n",
        "st"
      ],
      "cell_type": "code",
      "execution_count": null,
      "outputs": [],
      "metadata": {
        "attributes": {
          "classes": [
            "Preclass prep: Chapters [8](https://greenteapress.com/thinkpython2/html/thinkpython2009.html) and [10](https://greenteapress.com/thinkpython2/html/thinkpython2011.html) from \"Think Python\""
          ],
          "id": ""
        }
      }
    },
    {
      "id": "cell-28",
      "source": "<p>‘GCTATATCAATGTTATCCGTTTTCTGATGTCGCGAGGACA’</p>\n",
      "cell_type": "markdown",
      "metadata": {
        "editable": false,
        "collapsed": false
      }
    },
    {
      "id": "cell-29",
      "source": [
        "st[1:3] # substring, starting at position 1 and extending up to but not including position 3\n",
        "# note that the first position is numbered 0"
      ],
      "cell_type": "code",
      "execution_count": null,
      "outputs": [],
      "metadata": {
        "attributes": {
          "classes": [
            "Preclass prep: Chapters [8](https://greenteapress.com/thinkpython2/html/thinkpython2009.html) and [10](https://greenteapress.com/thinkpython2/html/thinkpython2011.html) from \"Think Python\""
          ],
          "id": ""
        }
      }
    },
    {
      "id": "cell-30",
      "source": "<p>‘CT’</p>\n",
      "cell_type": "markdown",
      "metadata": {
        "editable": false,
        "collapsed": false
      }
    },
    {
      "id": "cell-31",
      "source": [
        "st[0:3] # prefix of length 3"
      ],
      "cell_type": "code",
      "execution_count": null,
      "outputs": [],
      "metadata": {
        "attributes": {
          "classes": [
            "Preclass prep: Chapters [8](https://greenteapress.com/thinkpython2/html/thinkpython2009.html) and [10](https://greenteapress.com/thinkpython2/html/thinkpython2011.html) from \"Think Python\""
          ],
          "id": ""
        }
      }
    },
    {
      "id": "cell-32",
      "source": "<p>‘GCT’</p>\n",
      "cell_type": "markdown",
      "metadata": {
        "editable": false,
        "collapsed": false
      }
    },
    {
      "id": "cell-33",
      "source": [
        "st[:3] # another way of getting the prefix of length 3"
      ],
      "cell_type": "code",
      "execution_count": null,
      "outputs": [],
      "metadata": {
        "attributes": {
          "classes": [
            "Preclass prep: Chapters [8](https://greenteapress.com/thinkpython2/html/thinkpython2009.html) and [10](https://greenteapress.com/thinkpython2/html/thinkpython2011.html) from \"Think Python\""
          ],
          "id": ""
        }
      }
    },
    {
      "id": "cell-34",
      "source": "<p>‘GCT’</p>\n",
      "cell_type": "markdown",
      "metadata": {
        "editable": false,
        "collapsed": false
      }
    },
    {
      "id": "cell-35",
      "source": [
        "st[len(st)-3:len(st)] # suffix of length 3"
      ],
      "cell_type": "code",
      "execution_count": null,
      "outputs": [],
      "metadata": {
        "attributes": {
          "classes": [
            "Preclass prep: Chapters [8](https://greenteapress.com/thinkpython2/html/thinkpython2009.html) and [10](https://greenteapress.com/thinkpython2/html/thinkpython2011.html) from \"Think Python\""
          ],
          "id": ""
        }
      }
    },
    {
      "id": "cell-36",
      "source": "<p>‘ACA’</p>\n",
      "cell_type": "markdown",
      "metadata": {
        "editable": false,
        "collapsed": false
      }
    },
    {
      "id": "cell-37",
      "source": [
        "st[-3:] # another way of getting the suffix of length 3"
      ],
      "cell_type": "code",
      "execution_count": null,
      "outputs": [],
      "metadata": {
        "attributes": {
          "classes": [
            "Preclass prep: Chapters [8](https://greenteapress.com/thinkpython2/html/thinkpython2009.html) and [10](https://greenteapress.com/thinkpython2/html/thinkpython2011.html) from \"Think Python\""
          ],
          "id": ""
        }
      }
    },
    {
      "id": "cell-38",
      "source": "<p>‘ACA’</p>\n",
      "cell_type": "markdown",
      "metadata": {
        "editable": false,
        "collapsed": false
      }
    },
    {
      "id": "cell-39",
      "source": [
        "st1, st2 = 'CAT', 'ATAC'"
      ],
      "cell_type": "code",
      "execution_count": null,
      "outputs": [],
      "metadata": {
        "attributes": {
          "classes": [
            "Preclass prep: Chapters [8](https://greenteapress.com/thinkpython2/html/thinkpython2009.html) and [10](https://greenteapress.com/thinkpython2/html/thinkpython2011.html) from \"Think Python\""
          ],
          "id": ""
        }
      }
    },
    {
      "id": "cell-40",
      "source": "\n",
      "cell_type": "markdown",
      "metadata": {
        "editable": false,
        "collapsed": false
      }
    },
    {
      "id": "cell-41",
      "source": [
        "st1"
      ],
      "cell_type": "code",
      "execution_count": null,
      "outputs": [],
      "metadata": {
        "attributes": {
          "classes": [
            "Preclass prep: Chapters [8](https://greenteapress.com/thinkpython2/html/thinkpython2009.html) and [10](https://greenteapress.com/thinkpython2/html/thinkpython2011.html) from \"Think Python\""
          ],
          "id": ""
        }
      }
    },
    {
      "id": "cell-42",
      "source": "<p>‘CAT’</p>\n",
      "cell_type": "markdown",
      "metadata": {
        "editable": false,
        "collapsed": false
      }
    },
    {
      "id": "cell-43",
      "source": [
        "st2"
      ],
      "cell_type": "code",
      "execution_count": null,
      "outputs": [],
      "metadata": {
        "attributes": {
          "classes": [
            "Preclass prep: Chapters [8](https://greenteapress.com/thinkpython2/html/thinkpython2009.html) and [10](https://greenteapress.com/thinkpython2/html/thinkpython2011.html) from \"Think Python\""
          ],
          "id": ""
        }
      }
    },
    {
      "id": "cell-44",
      "source": "<p>‘ATAC’</p>\n",
      "cell_type": "markdown",
      "metadata": {
        "editable": false,
        "collapsed": false
      }
    },
    {
      "id": "cell-45",
      "source": [
        "st1 + st2 # concatenation of 2 strings"
      ],
      "cell_type": "code",
      "execution_count": null,
      "outputs": [],
      "metadata": {
        "attributes": {
          "classes": [
            "Preclass prep: Chapters [8](https://greenteapress.com/thinkpython2/html/thinkpython2009.html) and [10](https://greenteapress.com/thinkpython2/html/thinkpython2011.html) from \"Think Python\""
          ],
          "id": ""
        }
      }
    },
    {
      "id": "cell-46",
      "source": "<p>‘CATATAC’</p>\n<h1 id=\"fastq\">FASTQ</h1>\n<p>This notebook explores [FASTQ], the most common format for storing sequencing reads.</p>\n<p>FASTA and FASTQ are rather similar, but FASTQ is almost always used for storing <em>sequencing reads</em> (with associated quality values), whereas FASTA is used for storing all kinds of DNA,\nRNA or protein sequences (without associated quality values).</p>\n<h2 id=\"basic-format\">Basic format</h2>\n<p>Here’s a single sequencing read in FASTQ format:</p>\n<div class=\"language-plaintext highlighter-rouge\"><div><pre style=\"color: inherit; background: transparent\"><code style=\"color: inherit\">@ERR294379.100739024 HS24_09441:8:2203:17450:94030#42/1\nAGGGAGTCCACAGCACAGTCCAGACTCCCACCAGTTCTGACGAAATGATGAGAGCTCAGAAGTAACAGTTGCTTTCAGTCCCATAAAAACAGTCCTACAA\n+\nBDDEEF?FGFFFHGFFHHGHGGHCH@GHHHGFAHEGFEHGEFGHCCGGGFEGFGFFDFFHBGDGFHGEFGHFGHGFGFFFEHGGFGGDGHGFEEHFFHGE\n</code></pre></div></div>\n<p>It’s spread across four lines.  The four lines are:</p>\n<ol>\n<li>”<code class=\"language-plaintext highlighter-rouge\">@</code>” followed by a read name</li>\n<li>Nucleotide sequence</li>\n<li>”<code class=\"language-plaintext highlighter-rouge\">+</code>”, possibly followed by some info, but ignored by virtually all tools</li>\n<li>Quality sequence (explained below)</li>\n</ol>\n<h2 id=\"reading-fastq-with-python\">Reading FASTQ with python</h2>\n<p>Download a sample small fastq file:</p>\n<div class=\"language-plaintext highlighter-rouge\"><div><pre style=\"color: inherit; background: transparent\"><code style=\"color: inherit\">!wget https://zenodo.org/records/10602772/files/fastq_single_end_short.fq\n</code></pre></div></div>\n<p>Now we will use a very simple Python function to read this file and load fastq data into a list:</p>\n",
      "cell_type": "markdown",
      "metadata": {
        "editable": false,
        "collapsed": false
      }
    },
    {
      "id": "cell-47",
      "source": [
        "def parse_fastq(fh):\n",
        "    \"\"\" Parse reads from a FASTQ filehandle.  For each read, we\n",
        "        return a name, nucleotide-string, quality-string triple. \"\"\"\n",
        "    reads = []\n",
        "    while True:\n",
        "        first_line = fh.readline()\n",
        "        if len(first_line) == 0:\n",
        "            break  # end of file\n",
        "        name = first_line[1:].rstrip()\n",
        "        seq = fh.readline().rstrip()\n",
        "        fh.readline()  # ignore line starting with +\n",
        "        qual = fh.readline().rstrip()\n",
        "        reads.append((name, seq, qual))\n",
        "    return reads\n",
        "\n",
        "with open('fastq_single_end_short.fq','r') as fq:\n",
        "    reads = parse_fastq(fq)\n",
        "\n",
        "for read in reads:\n",
        "    print(read)"
      ],
      "cell_type": "code",
      "execution_count": null,
      "outputs": [],
      "metadata": {
        "attributes": {
          "classes": [
            "Preclass prep: Chapters [8](https://greenteapress.com/thinkpython2/html/thinkpython2009.html) and [10](https://greenteapress.com/thinkpython2/html/thinkpython2011.html) from \"Think Python\""
          ],
          "id": ""
        }
      }
    },
    {
      "id": "cell-48",
      "source": "<div class=\"language-plaintext highlighter-rouge\"><div><pre style=\"color: inherit; background: transparent\"><code style=\"color: inherit\">('ERR294379.100739024 HS24_09441:8:2203:17450:94030#42/1', 'AGGGAGTCCACAGCACAGTCCAGACTCCCACCAGTTCTGACGAAATGATG', 'BDDEEF?FGFFFHGFFHHGHGGHCH@GHHHGFAHEGFEHGEFGHCCGGGF')\n('ERR294379.136275489 HS24_09441:8:2311:1917:99340#42/1',  'CTTAAGTATTTTGAAAGTTAACATAAGTTATTCTCAGAGAGACTGCTTTT', '@@AHFF?EEDEAF?FEEGEFD?GGFEFGECGE?9H?EEABFAG9@CDGGF')\n('ERR294379.97291341 HS24_09441:8:2201:10397:52549#42/1',  'GGCTGCCATCAGTGAGCAAGTAAGAATTTGCAGAAATTTATTAGCACACT', 'CDAF&lt;FFDEHEFDDFEEFDGDFCHD=GHG&lt;GEDHDGJFHEFFGEFEE@GH')\n</code></pre></div></div>\n<p>The nucleotide string can sometimes contain the character “<code class=\"language-plaintext highlighter-rouge\">N</code>”.  <code style=\"color: inherit\">N</code> essentially means “no confidence.” The sequencer knows there’s a nucleotide there but doesn’t know whether it’s an A, C, G or T.</p>\n<blockquote class=\"comment\" style=\"border: 2px solid #ffecc1; margin: 1em 0.2em\">\n<div class=\"box-title comment-title\" id=\"comment-a-note-on-tt-while-true-tt\"><i class=\"far fa-comment-dots\" aria-hidden=\"true\" ></i> Comment: A note on <tt>while True</tt></div>\n<p>In Python, the while loop is used to repeatedly execute a block of code as long as a certain condition is true. The while True statement is a special case where the loop will run indefinitely until a break statement is encountered inside the loop.</p>\n<p>Here is an example of a while True loop:</p>\n<div class=\"language-plaintext highlighter-rouge\"><div><pre style=\"color: inherit; background: transparent\"><code style=\"color: inherit\">while True:\n   user_input = input(\"Enter 'q' to quit: \")\n   if user_input == 'q':\n       break\n   print(\"You entered:\", user_input)\n\nprint(\"Exited the loop\")\n</code></pre></div>  </div>\n<div class=\"language-plaintext highlighter-rouge\"><div><pre style=\"color: inherit; background: transparent\"><code style=\"color: inherit\">Enter 'q' to quit:  q\nExited the loop\n</code></pre></div>  </div>\n<p>In this example, the loop will keep asking for user input until the user enters the ‘q’ character, which triggers the break statement, and the loop is exited.</p>\n<p>It is important to be careful when using while True loops, as they will run indefinitely if a break statement is not included. This can cause the program to crash or hang, if not handled properly.</p>\n<p>Also, It is recommended to use <code style=\"color: inherit\">while True</code> loop with a <code style=\"color: inherit\">break</code> statement, in case you want to execute the loop until some specific condition is met, otherwise, it’s not a good practice to use <code style=\"color: inherit\">while True</code>.</p>\n<p>It’s a good practice to include a way for the user to exit the loop, such as the break statement in the example above, or a counter variable to keep track of the number of iterations.</p>\n</blockquote>\n<h2 id=\"read-name\">Read name</h2>\n<p>Read names often contain information about:</p>\n<ol>\n<li>The scientific study for which the read was sequenced.  E.g. the string <code style=\"color: inherit\">ERR294379</code> (an <a href=\"http://www.ebi.ac.uk/ena/about/sra_format\">SRA accession number</a>) in the read names correspond to <a href=\"http://www.ncbi.nlm.nih.gov/sra/?term=ERR294379\">this study</a>.</li>\n<li>The sequencing instrument, and the exact <em>part</em> of the sequencing instrument, where the DNA was sequenced.  See the <a href=\"http://en.wikipedia.org/wiki/FASTQ_format#Illumina_sequence_identifiers\">FASTQ format</a> Wikipedia article for specifics on how the Illumina software encodes this information.</li>\n<li>Whether the read is part of a <em>paired-end read</em> and, if so, which end it is.  Paired-end reads will be discussed further below.  The <code style=\"color: inherit\">/1</code> you see at the end of the read names above indicates the read is the first end from a paired-end read.</li>\n</ol>\n<h2 id=\"quality-values\">Quality values</h2>\n<p>Quality values are probabilities.  Each nucleotide in each sequencing read has an associated quality value.  A nucleotide quality value encodes the probability that the nucleotide was <em>incorrectly called</em> by the sequencing instrument and its software.  If the nucleotide is <code style=\"color: inherit\">A</code>, the corresponding quality value encodes the probability that the nucleotide at that position is actually <em>not</em> an <code style=\"color: inherit\">A</code>.</p>\n<p>Quality values are encoded in two senses: first, the relevant probabilities are re-scaled using the Phread scale, which is a negative log scale.\nIn other words if <em>p</em> is the probability that the nucleotide was incorrectly called, we encode this as <em>Q</em> where <em>Q</em> = -10 * log10(<em>p</em>).</p>\n<p>For example, if <em>Q</em> = 30, then <em>p</em> = 0.001, a 1-in-1000 chance that the nucleotide is wrong.  If <em>Q</em> = 20, then <em>p</em> = 0.01, a 1-in-100 chance.  If <em>Q</em> = 10, then <em>p</em> = 0.1, a 1-in-10 chance.  And so on.</p>\n<p>Second, scaled quality values are <em>rounded</em> to the nearest integer and encoded using <a href=\"http://en.wikipedia.org/wiki/ASCII#ASCII_printable_characters\">ASCII printable characters</a>.  For example, using the Phred33 encoding (which is by far the most common), a <em>Q</em> of 30 is encoded as the ASCII character with code 33 + 30 = 63, which is “<code class=\"language-plaintext highlighter-rouge\">?</code>”.  A <em>Q</em> of 20 is encoded as the ASCII character with code 33 + 20 = 53, which is “<code class=\"language-plaintext highlighter-rouge\">5</code>”.  And so on.</p>\n<p>Let’s define some relevant Python functions:</p>\n",
      "cell_type": "markdown",
      "metadata": {
        "editable": false,
        "collapsed": false
      }
    },
    {
      "id": "cell-49",
      "source": [
        "def phred33_to_q(qual):\n",
        "  \"\"\" Turn Phred+33 ASCII-encoded quality into Phred-scaled integer \"\"\"\n",
        "  return ord(qual)-33\n",
        "\n",
        "def q_to_phred33(Q):\n",
        "  \"\"\" Turn Phred-scaled integer into Phred+33 ASCII-encoded quality \"\"\"\n",
        "  return chr(Q + 33)\n",
        "\n",
        "def q_to_p(Q):\n",
        "  \"\"\" Turn Phred-scaled integer into error probability \"\"\"\n",
        "  return 10.0 ** (-0.1 * Q)\n",
        "\n",
        "def p_to_q(p):\n",
        "  \"\"\" Turn error probability into Phred-scaled integer \"\"\"\n",
        "  import math\n",
        "  return int(round(-10.0 * math.log10(p)))"
      ],
      "cell_type": "code",
      "execution_count": null,
      "outputs": [],
      "metadata": {
        "attributes": {
          "classes": [
            "Preclass prep: Chapters [8](https://greenteapress.com/thinkpython2/html/thinkpython2009.html) and [10](https://greenteapress.com/thinkpython2/html/thinkpython2011.html) from \"Think Python\""
          ],
          "id": ""
        }
      }
    },
    {
      "id": "cell-50",
      "source": "\n",
      "cell_type": "markdown",
      "metadata": {
        "editable": false,
        "collapsed": false
      }
    },
    {
      "id": "cell-51",
      "source": [
        "# Here are the examples I discussed above\n",
        "\n",
        "# Convert Qs into ps\n",
        "q_to_p(30), q_to_p(20), q_to_p(10)"
      ],
      "cell_type": "code",
      "execution_count": null,
      "outputs": [],
      "metadata": {
        "attributes": {
          "classes": [
            "Preclass prep: Chapters [8](https://greenteapress.com/thinkpython2/html/thinkpython2009.html) and [10](https://greenteapress.com/thinkpython2/html/thinkpython2011.html) from \"Think Python\""
          ],
          "id": ""
        }
      }
    },
    {
      "id": "cell-52",
      "source": "<p>(0.001, 0.01, 0.1)</p>\n<pre><code class=\"language-=\">p_to_q(0.00011) # note that the result is rounded\n</code></pre>\n<div class=\"language-plaintext highlighter-rouge\"><div><pre style=\"color: inherit; background: transparent\"><code style=\"color: inherit\">40\n</code></pre></div></div>\n<pre><code class=\"language-=\">q_to_phred33(30), q_to_phred33(20)\n</code></pre>\n<div class=\"language-plaintext highlighter-rouge\"><div><pre style=\"color: inherit; background: transparent\"><code style=\"color: inherit\">('?', '5')\n</code></pre></div></div>\n<p>To convert an entire string Phred33-encoded quality values into the corresponding <em>Q</em> or <em>p</em> values, I can do the following:</p>\n",
      "cell_type": "markdown",
      "metadata": {
        "editable": false,
        "collapsed": false
      }
    },
    {
      "id": "cell-53",
      "source": [
        "# Take the first read from the small example above\n",
        "name, seq, qual = parse_fastq(StringIO(fastq_string))[0]\n",
        "q_string = list(map(phred33_to_q, qual))\n",
        "p_string = list(map(q_to_p, q_string))\n",
        "print(q_string)\n",
        "print(p_string)"
      ],
      "cell_type": "code",
      "execution_count": null,
      "outputs": [],
      "metadata": {
        "attributes": {
          "classes": [
            "Preclass prep: Chapters [8](https://greenteapress.com/thinkpython2/html/thinkpython2009.html) and [10](https://greenteapress.com/thinkpython2/html/thinkpython2011.html) from \"Think Python\""
          ],
          "id": ""
        }
      }
    },
    {
      "id": "cell-54",
      "source": "<p>[33, 35, 35, 36, 36, 37, 30, 37, 38, 37, 37, 37, 39, 38, 37, 37, 39, 39, 38, 39, 38, 38, 39, 34, 39, 31, 38, 39, 39, 39, 38, 37, 32, 39, 36, 38, 37, 36, 39, 38, 36, 37, 38, 39, 34, 34, 38, 38, 38, 37]\n    [0.000501187233627272, 0.00031622776601683794, 0.00031622776601683794, 0.00025118864315095795, 0.00025118864315095795, 0.00019952623149688788, 0.001, 0.00019952623149688788, 0.00015848931924611126, 0.00019952623149688788, 0.00019952623149688788, 0.00019952623149688788, 0.0001258925411794166, 0.00015848931924611126, 0.00019952623149688788, 0.00019952623149688788, 0.0001258925411794166, 0.0001258925411794166, 0.00015848931924611126, 0.0001258925411794166, 0.00015848931924611126, 0.00015848931924611126, 0.0001258925411794166, 0.0003981071705534969, 0.0001258925411794166, 0.0007943282347242813, 0.00015848931924611126, 0.0001258925411794166, 0.0001258925411794166, 0.0001258925411794166, 0.00015848931924611126, 0.00019952623149688788, 0.000630957344480193, 0.0001258925411794166, 0.00025118864315095795, 0.00015848931924611126, 0.00019952623149688788, 0.00025118864315095795, 0.0001258925411794166, 0.00015848931924611126, 0.00025118864315095795, 0.00019952623149688788, 0.00015848931924611126, 0.0001258925411794166, 0.0003981071705534969, 0.0003981071705534969, 0.00015848931924611126, 0.00015848931924611126, 0.00015848931924611126, 0.00019952623149688788]</p>\n<p>You might wonder how the sequencer and its software can <em>know</em> the probability that a nucleotide is incorrectly called.  It can’t; this number is just an estimate.  To describe exactly how it’s estimated is beyond the scope of this notebook; if you’re interested, search for academic papers with “base calling” in the title.  Here’s a helpful <a href=\"http://www.youtube.com/watch?v=eXkjlopwIH4\">video by Rafa Irizarry</a>.</p>\n<p>A final note: other ways of encoding quality values were proposed and used in the past.  For example, Phred64 uses an ASCII offset of 64 instead of 33, and Solexa64 uses “odds” instead of the probability <em>p</em>.  But Phred33 is by far the most common today and you will likely never have to worry about this.</p>\n<blockquote class=\"comment\" style=\"border: 2px solid #ffecc1; margin: 1em 0.2em\">\n<div class=\"box-title comment-title\" id=\"comment-a-note-in-tt-map-tt\"><i class=\"far fa-comment-dots\" aria-hidden=\"true\" ></i> Comment: A note in <tt>map()</tt></div>\n<p>In Python, the <code style=\"color: inherit\">map()</code> function is used to apply a given function to all elements of an iterable (such as a list, tuple, or string) and return an iterator (an object that can be iterated, e.g. in a <code style=\"color: inherit\">for</code>-loop) that yields the results.</p>\n<p>The <code style=\"color: inherit\">map()</code> function takes two arguments:</p>\n<p>A function that is to be applied to each element of the iterable\nAn iterable on which the function is to be applied</p>\n<p>Here is an example:</p>\n<div class=\"language-plaintext highlighter-rouge\"><div><pre style=\"color: inherit; background: transparent\"><code style=\"color: inherit\"># Using a function to square each element of a list\nnumbers = [1, 2, 3, 4, 5]\nsquared_numbers = map(lambda x: x**2, numbers)\nprint(list(squared_numbers))  # Output: [1, 4, 9, 16, 25]\n</code></pre></div>  </div>\n<div class=\"language-plaintext highlighter-rouge\"><div><pre style=\"color: inherit; background: transparent\"><code style=\"color: inherit\">[1, 4, 9, 16, 25]\n</code></pre></div>  </div>\n<p>In the example above, the <code style=\"color: inherit\">map()</code> function applies the lambda function <code style=\"color: inherit\">lambda x: x**2</code> to each element of the numbers list, and returns an iterator of the squared numbers. The <code style=\"color: inherit\">list()</code> function is used to convert the iterator to a list, so that the result can be printed.</p>\n<p>Another example is,</p>\n<div class=\"language-plaintext highlighter-rouge\"><div><pre style=\"color: inherit; background: transparent\"><code style=\"color: inherit\"># Using the map() function to convert a list of strings to uppercase\nwords = [\"hello\", \"world\"]\nuppercase_words = map(lambda word: word.upper(), words)\nprint(list(uppercase_words))  # Output: ['HELLO', 'WORLD']\n</code></pre></div>  </div>\n<div class=\"language-plaintext highlighter-rouge\"><div><pre style=\"color: inherit; background: transparent\"><code style=\"color: inherit\">['HELLO', 'WORLD']\n</code></pre></div>  </div>\n<p>It’s important to note that the <code style=\"color: inherit\">map()</code> function returns an iterator, which can be used in a for loop, but is not a list, tuple, or any other iterable. If you want to create a list, tuple, or other iterable from the result of the <code style=\"color: inherit\">map()</code> function, you can use the <code style=\"color: inherit\">list()</code>, <code style=\"color: inherit\">tuple()</code>, or any other built-in function that creates an iterable.</p>\n<p>In Python 3, the <code style=\"color: inherit\">map()</code> function returns an iterator, which can be used in a for loop, but it’s not iterable. If you want to create a list, tuple, or other iterable from the result of the <code style=\"color: inherit\">map()</code> function, you can use the <code style=\"color: inherit\">list()</code>, <code style=\"color: inherit\">tuple()</code>, or any other built-in function that creates an iterable.</p>\n<p>In Python 2, <code style=\"color: inherit\">map()</code> function returns a list, which can be used in a for loop, and it’s iterable.</p>\n<p>In python 3.x, there is an alternative way to use map() function is <code style=\"color: inherit\">list(map(...))</code> or <code style=\"color: inherit\">tuple(map(...))</code> etc.</p>\n</blockquote>\n<h2 id=\"paired-end-reads\">Paired-end reads</h2>\n<p>Sequencing reads can come in <em>pairs</em>.  Basically instead of reporting a single snippet of nucleotides from the genome, the sequencer might report a <em>pair</em> of\nsnippets that appear <em>close to each other</em> in the genome.  To accomplish this, the sequencer sequences <em>both ends</em> of a longer <em>fragment</em> of DNA.</p>\n<p>Here is simple Python code that mimics how the sequencer obtains one paired-end read:</p>\n",
      "cell_type": "markdown",
      "metadata": {
        "editable": false,
        "collapsed": false
      }
    },
    {
      "id": "cell-55",
      "source": [
        "# Let's just make a random genome of length 1K\n",
        "import random\n",
        "random.seed(637485)\n",
        "genome = ''.join([random.choice('ACGT') for _ in range(1000)])\n",
        "genome"
      ],
      "cell_type": "code",
      "execution_count": null,
      "outputs": [],
      "metadata": {
        "attributes": {
          "classes": [
            "Preclass prep: Chapters [8](https://greenteapress.com/thinkpython2/html/thinkpython2009.html) and [10](https://greenteapress.com/thinkpython2/html/thinkpython2011.html) from \"Think Python\""
          ],
          "id": ""
        }
      }
    },
    {
      "id": "cell-56",
      "source": "<p>‘AGTACGTCATACCGTTATGATCTAGGTGGGATCGCGGATTGGTCGTGCAGAATACAGCCTTGGAGAGTGGTTAACACGATAAGGCCGATAATATGTCTGGATAAGCTCAGGCTCTGCTCCGAGGCGCTAAGGTACATGTTATTGATTTGGAGCTCAAAAATTGCCATAGCATGCAATACGCCCGTTGATAGACCACTTGCCTTCAGGGGAGCGTCGCATGTATTGATTGTGTTACATAAACCCTCCCCCCCTACACGTGCTTGTCGACGCGGCACTGGACACTGATACGAGGAGGCACTTCGCTAGAAACGGCTTACTGCAGGTGATAAAATCAACAGATGGCACGCTCGCAACAGAAGCATAATATGCTTCCAACCAGGACCGGCATTTAACTCAATATATTAGCTCTCGAGGACAACGCACTACGTTTTCCAATTCAGCGGACTGGCGCCATTACAGTAAGTTGATTGTGCAGTGGTCTTTGACAGACAGCAGTTCGCTCCTTACTGACAATACCTGATACTTATAGTATGGCAGCGAGTCGTTGTCTAGGTTAGCCACCTCAGTCTACAGCAGGTAATGAAGCATTCCCACAAAGGCTGGTCCATACACCCGACTGCTACGATTCATGCTTCGCTCGAGAACTGCCCCTGCCTTAGATTCCCCCTCGTCTCCAATGAATACCCATTTTTTTAGATTGCTGAAAACCTTTCGTAAGACGCTTTCCAGTGATTACATGCCCTAACTGGGTACAGTTTGCCCAGGAGCTTTTTGGATGGAGGAGTATTAGTAGCGACCAAAACTCTTCCTCGACTGTTACTGTGTAGAGTCCCAAACGCTAAAGCGGTCCCAGAAAAACGGAACGGCCTACAGATTAAATTGCTCCGTGTTGCAGTTAAGGCGTACAAACCCCTCTGTGTATTAGTTTAAGTCTCTGAGTCTTCTTTGCTATGACGGATTGATGGGTGCCGGTTTGTAGTTCAAGAACCGTGAGTGAACC’</p>\n",
      "cell_type": "markdown",
      "metadata": {
        "editable": false,
        "collapsed": false
      }
    },
    {
      "id": "cell-57",
      "source": [
        "# The sequencer draws a fragment from the genome of length, say, 250\n",
        "offset = random.randint(0, len(genome) - 250)\n",
        "fragment = genome[offset:offset+250]\n",
        "fragment"
      ],
      "cell_type": "code",
      "execution_count": null,
      "outputs": [],
      "metadata": {
        "attributes": {
          "classes": [
            "Preclass prep: Chapters [8](https://greenteapress.com/thinkpython2/html/thinkpython2009.html) and [10](https://greenteapress.com/thinkpython2/html/thinkpython2011.html) from \"Think Python\""
          ],
          "id": ""
        }
      }
    },
    {
      "id": "cell-58",
      "source": "<p>‘GTATTGATTGTGTTACATAAACCCTCCCCCCCTACACGTGCTTGTCGACGCGGCACTGGACACTGATACGAGGAGGCACTTCGCTAGAAACGGCTTACTGCAGGTGATAAAATCAACAGATGGCACGCTCGCAACAGAAGCATAATATGCTTCCAACCAGGACCGGCATTTAACTCAATATATTAGCTCTCGAGGACAACGCACTACGTTTTCCAATTCAGCGGACTGGCGCCATTACAGTAAGTTGATT’</p>\n",
      "cell_type": "markdown",
      "metadata": {
        "editable": false,
        "collapsed": false
      }
    },
    {
      "id": "cell-59",
      "source": [
        "# Then it reads sequences from either end of the fragment\n",
        "end1, end2 = fragment[:75], fragment[-75:]\n",
        "end1, end2"
      ],
      "cell_type": "code",
      "execution_count": null,
      "outputs": [],
      "metadata": {
        "attributes": {
          "classes": [
            "Preclass prep: Chapters [8](https://greenteapress.com/thinkpython2/html/thinkpython2009.html) and [10](https://greenteapress.com/thinkpython2/html/thinkpython2011.html) from \"Think Python\""
          ],
          "id": ""
        }
      }
    },
    {
      "id": "cell-60",
      "source": "<p>(‘GTATTGATTGTGTTACATAAACCCTCCCCCCCTACACGTGCTTGTCGACGCGGCACTGGACACTGATACGAGGAG’,\n     ‘CAATATATTAGCTCTCGAGGACAACGCACTACGTTTTCCAATTCAGCGGACTGGCGCCATTACAGTAAGTTGATT’)</p>\n",
      "cell_type": "markdown",
      "metadata": {
        "editable": false,
        "collapsed": false
      }
    },
    {
      "id": "cell-61",
      "source": [
        "# And because of how Illumina sequencing works, the\n",
        "# second end is always from the opposite strand from the first\n",
        "# (this is not the case for 454 and SOLiD data)\n",
        "\n",
        "import string\n",
        "\n",
        "# function for reverse-complementing\n",
        "revcomp_trans = str.maketrans(\"ACGTacgt\", \"TGCAtgca\")\n",
        "def reverse_complement(s):\n",
        "    return s[::-1].translate(revcomp_trans)\n",
        "\n",
        "end2 = reverse_complement(end2)\n",
        "end1, end2"
      ],
      "cell_type": "code",
      "execution_count": null,
      "outputs": [],
      "metadata": {
        "attributes": {
          "classes": [
            "Preclass prep: Chapters [8](https://greenteapress.com/thinkpython2/html/thinkpython2009.html) and [10](https://greenteapress.com/thinkpython2/html/thinkpython2011.html) from \"Think Python\""
          ],
          "id": ""
        }
      }
    },
    {
      "id": "cell-62",
      "source": "<p>(‘GTATTGATTGTGTTACATAAACCCTCCCCCCCTACACGTGCTTGTCGACGCGGCACTGGACACTGATACGAGGAG’,\n     ‘AATCAACTTACTGTAATGGCGCCAGTCCGCTGAATTGGAAAACGTAGTGCGTTGTCCTCGAGAGCTAATATATTG’)</p>\n<p>FASTQ can be used to store paired-end reads.  Say we have 1000 paired-end reads.  We should store them in a <em>pair</em> of FASTQ files.  The first FASTQ file (say, <code style=\"color: inherit\">reads_1.fq</code>) would contain all of the first ends and the second FASTQ file (say, <code style=\"color: inherit\">reads_2.fq</code>) would contain all of the second ends.  In both files, the ends would appear in corresponding order.  That is, the first entry in <code style=\"color: inherit\">reads_1.fq</code> is paired with the first entry in <code style=\"color: inherit\">reads_2.fq</code> and so on.</p>\n<p>Here is a Python function that parses a pair of files containing paired-end reads.</p>\n",
      "cell_type": "markdown",
      "metadata": {
        "editable": false,
        "collapsed": false
      }
    },
    {
      "id": "cell-63",
      "source": [
        "def parse_paired_fastq(fh1, fh2):\n",
        "    \"\"\" Parse paired-end reads from a pair of FASTQ filehandles\n",
        "        For each pair, we return a name, the nucleotide string\n",
        "        for the first end, the quality string for the first end,\n",
        "        the nucleotide string for the second end, and the\n",
        "        quality string for the second end. \"\"\"\n",
        "    reads = []\n",
        "    while True:\n",
        "        first_line_1, first_line_2 = fh1.readline(), fh2.readline()\n",
        "        if len(first_line_1) == 0:\n",
        "            break  # end of file\n",
        "        name_1, name_2 = first_line_1[1:].rstrip(), first_line_2[1:].rstrip()\n",
        "        seq_1, seq_2 = fh1.readline().rstrip(), fh2.readline().rstrip()\n",
        "        fh1.readline()  # ignore line starting with +\n",
        "        fh2.readline()  # ignore line starting with +\n",
        "        qual_1, qual_2 = fh1.readline().rstrip(), fh2.readline().rstrip()\n",
        "        reads.append(((name_1, seq_1, qual_1), (name_2, seq_2, qual_2)))\n",
        "    return reads\n",
        "\n",
        "fastq_string1 = '''@509.6.64.20524.149722/1\n",
        "AGCTCTGGTGACCCATGGGCAGCTGCTAGGGAGCCTTCTCTCCACCCTGA\n",
        "+\n",
        "HHHHHHHGHHHHHHHHHHHHHHHHHHHHHHHHHHHHHHHHIIHHIHFHHF\n",
        "@509.4.62.19231.2763/1\n",
        "GTTGATAAGCAAGCATCTCATTTTGTGCATATACCTGGTCTTTCGTATTC\n",
        "+\n",
        "HHHHHHHHHHHHHHEHHHHHHHHHHHHHHHHHHHHHHHDHHHHHHGHGHH'''\n",
        "\n",
        "fastq_string2 = '''@509.6.64.20524.149722/2\n",
        "TAAGTCAGGATACTTTCCCATATCCCAGCCCTGCTCCNTCTTTAAATAAT\n",
        "+\n",
        "HHHHHHHHHHHHHHHHHHHH@HHFHHHEFHHHHHHFF#FFFFFFFHHHHH\n",
        "@509.4.62.19231.2763/2\n",
        "CTCTGCTGGTATGGTTGACGCCGGATTTGAGAATCAANAAGAGCTTACTA\n",
        "+\n",
        "HHHHHHHHHHHHHHHHHHEHEHHHFHGHHHHHHHH>@#@=44465HHHHH'''\n",
        "\n",
        "parse_paired_fastq(StringIO(fastq_string1), StringIO(fastq_string2))"
      ],
      "cell_type": "code",
      "execution_count": null,
      "outputs": [],
      "metadata": {
        "attributes": {
          "classes": [
            "Preclass prep: Chapters [8](https://greenteapress.com/thinkpython2/html/thinkpython2009.html) and [10](https://greenteapress.com/thinkpython2/html/thinkpython2011.html) from \"Think Python\""
          ],
          "id": ""
        }
      }
    },
    {
      "id": "cell-64",
      "source": "<p>[((‘509.6.64.20524.149722/1’,\n       ‘AGCTCTGGTGACCCATGGGCAGCTGCTAGGGAGCCTTCTCTCCACCCTGA’,\n       ‘HHHHHHHGHHHHHHHHHHHHHHHHHHHHHHHHHHHHHHHHIIHHIHFHHF’),\n      (‘509.6.64.20524.149722/2’,\n       ‘TAAGTCAGGATACTTTCCCATATCCCAGCCCTGCTCCNTCTTTAAATAAT’,\n       ‘HHHHHHHHHHHHHHHHHHHH@HHFHHHEFHHHHHHFF#FFFFFFFHHHHH’)),\n     ((‘509.4.62.19231.2763/1’,\n       ‘GTTGATAAGCAAGCATCTCATTTTGTGCATATACCTGGTCTTTCGTATTC’,\n       ‘HHHHHHHHHHHHHHEHHHHHHHHHHHHHHHHHHHHHHHDHHHHHHGHGHH’),\n      (‘509.4.62.19231.2763/2’,\n       ‘CTCTGCTGGTATGGTTGACGCCGGATTTGAGAATCAANAAGAGCTTACTA’,\n       ‘HHHHHHHHHHHHHHHHHHEHEHHHFHGHHHHHHHH&gt;@#@=44465HHHHH’))]</p>\n<blockquote class=\"comment\" style=\"border: 2px solid #ffecc1; margin: 1em 0.2em\">\n<div class=\"box-title comment-title\" id=\"comment-a-note-on-triple-quotes\"><i class=\"far fa-comment-dots\" aria-hidden=\"true\" ></i> Comment: A note on triple quotes</div>\n<p>In Python, triple quotes (either single or double) are used to create multi-line strings. They can also be used to create doc-strings, which are used to document a function, class, or module.</p>\n<p>For example:</p>\n<div class=\"language-plaintext highlighter-rouge\"><div><pre style=\"color: inherit; background: transparent\"><code style=\"color: inherit\">string1 = \"\"\"This is a\nmultiline string\"\"\"\n\nstring2 = '''This is also\na multiline string'''\n\nprint(string1)\n# Output:\n# This is a\n# multiline string\n\nprint(string2)\n# Output:\n# This is also\n# a multiline string\n</code></pre></div>  </div>\n<p>This is a\n   multiline string\n   This is also\n   a multiline string</p>\n<p>Triple quotes can also be used to create docstrings, which are used to document a function, class, or module. The first line of a docstring is a brief summary of what the function, class, or module does, and the following lines provide more detailed information.</p>\n<div class=\"language-plaintext highlighter-rouge\"><div><pre style=\"color: inherit; background: transparent\"><code style=\"color: inherit\">def my_function():\n   \"\"\"\n   This is a docstring for the my_function.\n   This function does not perform any operation.\n   \"\"\"\n   pass\n\nprint(my_function.__doc__)\n# Output:\n# This is a docstring for the my_function.\n# This function does not perform any operation.\n</code></pre></div>  </div>\n<div class=\"language-plaintext highlighter-rouge\"><div><pre style=\"color: inherit; background: transparent\"><code style=\"color: inherit\">   This is a docstring for the my_function.\n   This function does not perform any operation.\n</code></pre></div>  </div>\n</blockquote>\n<h2 id=\"how-good-are-my-reads\">How good are my reads?</h2>\n<p>Let’s reuse the <code style=\"color: inherit\">parse_fastq</code> function from above:</p>\n",
      "cell_type": "markdown",
      "metadata": {
        "editable": false,
        "collapsed": false
      }
    },
    {
      "id": "cell-65",
      "source": [
        "# Read the file into a list\n",
        "with open('fastq_single_end_short.fq','r') as fq:\n",
        "    reads = parse_fastq(fq)"
      ],
      "cell_type": "code",
      "execution_count": null,
      "outputs": [],
      "metadata": {
        "attributes": {
          "classes": [
            "Preclass prep: Chapters [8](https://greenteapress.com/thinkpython2/html/thinkpython2009.html) and [10](https://greenteapress.com/thinkpython2/html/thinkpython2011.html) from \"Think Python\""
          ],
          "id": ""
        }
      }
    },
    {
      "id": "cell-66",
      "source": "<p>☝️ This will load data into a list called <code style=\"color: inherit\">reads</code> containing individual reads (name, nucleotides, and quality values) represented as a <a href=\"https://docs.python.org/3/tutorial/datastructures.html#tuples-and-sequences\">tuple</a>.</p>\n",
      "cell_type": "markdown",
      "metadata": {
        "editable": false,
        "collapsed": false
      }
    },
    {
      "id": "cell-67",
      "source": [
        "# Extract qualities and convert them into numerical values\n",
        "run_qualities = []\n",
        "for read in reads:\n",
        "    read_qualities = []\n",
        "    for quality in read[2]:\n",
        "        read_qualities.append(phred33_to_q(quality))\n",
        "    run_qualities.append(read_qualities)"
      ],
      "cell_type": "code",
      "execution_count": null,
      "outputs": [],
      "metadata": {
        "attributes": {
          "classes": [
            "Preclass prep: Chapters [8](https://greenteapress.com/thinkpython2/html/thinkpython2009.html) and [10](https://greenteapress.com/thinkpython2/html/thinkpython2011.html) from \"Think Python\""
          ],
          "id": ""
        }
      }
    },
    {
      "id": "cell-68",
      "source": "<p>☝️ This will take quality string only for each read from <code style=\"color: inherit\">reads</code> and convert it into a list of values. The end result, a list of lists called <code style=\"color: inherit\">run_qualities</code>, will contain as many elements as there as reads, where each element (also a list) contains all quality values for a read. We need to <a href=\"https://en.wikipedia.org/wiki/Transpose\">transpose</a> this list, so that instead of representing every reads as a list of quality values we represent every position as a list of quality values for all reads at that position. This can be easily done with <a href=\"https://numpy.org/\">numpy</a>’s <a href=\"https://numpy.org/doc/stable/reference/generated/numpy.ndarray.T.html\"><code class=\"language-plaintext highlighter-rouge\">T</code></a>:</p>\n",
      "cell_type": "markdown",
      "metadata": {
        "editable": false,
        "collapsed": false
      }
    },
    {
      "id": "cell-69",
      "source": [
        "# Transpose the quality values matrix\n",
        "\n",
        "import numpy as np\n",
        "base_qualities = np.array(run_qualities).T"
      ],
      "cell_type": "code",
      "execution_count": null,
      "outputs": [],
      "metadata": {
        "attributes": {
          "classes": [
            "Preclass prep: Chapters [8](https://greenteapress.com/thinkpython2/html/thinkpython2009.html) and [10](https://greenteapress.com/thinkpython2/html/thinkpython2011.html) from \"Think Python\""
          ],
          "id": ""
        }
      }
    },
    {
      "id": "cell-70",
      "source": "<p>Now we need to extract some key per-position statistics from the <code style=\"color: inherit\">base_qualities</code> list generated above. We, again, use numpy for this:</p>\n",
      "cell_type": "markdown",
      "metadata": {
        "editable": false,
        "collapsed": false
      }
    },
    {
      "id": "cell-71",
      "source": [
        "# Prep data for plotting\n",
        "plotting_data = {\n",
        "    'base':[],\n",
        "    'mean':[],\n",
        "    'median':[],\n",
        "    'q25':[],\n",
        "    'q75':[],\n",
        "    'min':[],\n",
        "    'max':[]\n",
        "}\n",
        "for i,base in enumerate(base_qualities):\n",
        "    plotting_data['base'].append(i)\n",
        "    plotting_data['mean'].append(np.mean(base))\n",
        "    plotting_data['median'].append(np.median(base))\n",
        "    plotting_data['q25'].append(np.quantile(base,.25))\n",
        "    plotting_data['q75'].append(np.quantile(base,.75))\n",
        "    plotting_data['min'].append(np.min(base))\n",
        "    plotting_data['max'].append(np.max(base))"
      ],
      "cell_type": "code",
      "execution_count": null,
      "outputs": [],
      "metadata": {
        "attributes": {
          "classes": [
            "Preclass prep: Chapters [8](https://greenteapress.com/thinkpython2/html/thinkpython2009.html) and [10](https://greenteapress.com/thinkpython2/html/thinkpython2011.html) from \"Think Python\""
          ],
          "id": ""
        }
      }
    },
    {
      "id": "cell-72",
      "source": "<p>☝️ The result of this, a dictionary called <code style=\"color: inherit\">plotting_data</code>, contains statistics types as <em>keys</em> and corresponding values as <em>lists</em>. Now we load these into Pandas:</p>\n",
      "cell_type": "markdown",
      "metadata": {
        "editable": false,
        "collapsed": false
      }
    },
    {
      "id": "cell-73",
      "source": [
        "# Load into Pandas\n",
        "import pandas as pd\n",
        "plotting_data_df = pd.DataFrame(plotting_data)"
      ],
      "cell_type": "code",
      "execution_count": null,
      "outputs": [],
      "metadata": {
        "attributes": {
          "classes": [
            "Preclass prep: Chapters [8](https://greenteapress.com/thinkpython2/html/thinkpython2009.html) and [10](https://greenteapress.com/thinkpython2/html/thinkpython2011.html) from \"Think Python\""
          ],
          "id": ""
        }
      }
    },
    {
      "id": "cell-74",
      "source": "<p>And plot:</p>\n",
      "cell_type": "markdown",
      "metadata": {
        "editable": false,
        "collapsed": false
      }
    },
    {
      "id": "cell-75",
      "source": [
        "# Plot!\n",
        "import altair as alt\n",
        "\n",
        "base = alt.Chart(plotting_data_df).encode(\n",
        "    alt.X('base:Q', title=\"Position in the read\")\n",
        ").properties(\n",
        "    width=800,\n",
        "    height=200)\n",
        "\n",
        "median = base.mark_tick(color='red',orient='horizontal').encode(\n",
        "    alt.Y('median:Q', title=\"Phred quality score\"),\n",
        ")\n",
        "\n",
        "q = base.mark_rule(color='green',opacity=.5,strokeWidth=10).encode(\n",
        "    alt.Y('q25:Q'),\n",
        "    alt.Y2('q75:Q')\n",
        ")\n",
        "\n",
        "min_max = base.mark_rule(color='black').encode(\n",
        "        alt.Y('min:Q'),\n",
        "        alt.Y2('max:Q')\n",
        ")\n",
        "\n",
        "median + q + min_max"
      ],
      "cell_type": "code",
      "execution_count": null,
      "outputs": [],
      "metadata": {
        "attributes": {
          "classes": [
            "Preclass prep: Chapters [8](https://greenteapress.com/thinkpython2/html/thinkpython2009.html) and [10](https://greenteapress.com/thinkpython2/html/thinkpython2011.html) from \"Think Python\""
          ],
          "id": ""
        }
      }
    },
    {
      "id": "cell-76",
      "source": "<p>Below is the same thing as just one code blob:</p>\n",
      "cell_type": "markdown",
      "metadata": {
        "editable": false,
        "collapsed": false
      }
    },
    {
      "id": "cell-77",
      "source": [
        "# Read the file into a list\n",
        "with open('fastq_single_end_short.fq','r') as fq:\n",
        "    reads = parse_fastq(fq)\n",
        "\n",
        "# Extract qualities and convert them into numerical values\n",
        "run_qualities = []\n",
        "for read in reads:\n",
        "    read_qualities = []\n",
        "    for quality in read[2]:\n",
        "        read_qualities.append(phred33_to_q(quality))\n",
        "    run_qualities.append(read_qualities)\n",
        "\n",
        "# Transpose the quality values matrix\n",
        "\n",
        "import numpy as np\n",
        "base_qualities = np.array(run_qualities).T\n",
        "\n",
        "# Prep data for plotting\n",
        "plotting_data = {\n",
        "    'base':[],\n",
        "    'mean':[],\n",
        "    'median':[],\n",
        "    'q25':[],\n",
        "    'q75':[],\n",
        "    'min':[],\n",
        "    'max':[]\n",
        "}\n",
        "for i,base in enumerate(base_qualities):\n",
        "    plotting_data['base'].append(i)\n",
        "    plotting_data['mean'].append(np.mean(base))\n",
        "    plotting_data['median'].append(np.median(base))\n",
        "    plotting_data['q25'].append(np.quantile(base,.25))\n",
        "    plotting_data['q75'].append(np.quantile(base,.75))\n",
        "    plotting_data['min'].append(np.min(base))\n",
        "    plotting_data['max'].append(np.max(base))\n",
        "\n",
        "# Load into Pandas\n",
        "import pandas as pd\n",
        "plotting_data_df = pd.DataFrame(plotting_data)\n",
        "\n",
        "# Plot!\n",
        "import altair as alt\n",
        "\n",
        "base = alt.Chart(plotting_data_df).encode(\n",
        "    alt.X('base:Q', title=\"Position in the read\")\n",
        ").properties(\n",
        "    width=800,\n",
        "    height=200)\n",
        "\n",
        "median = base.mark_tick(color='red',orient='horizontal').encode(\n",
        "    alt.Y('median:Q', title=\"Phred quality score\"),\n",
        ")\n",
        "\n",
        "q = base.mark_rule(color='green',opacity=.5,strokeWidth=10).encode(\n",
        "    alt.Y('q25:Q'),\n",
        "    alt.Y2('q75:Q')\n",
        ")\n",
        "\n",
        "min_max = base.mark_rule(color='black').encode(\n",
        "        alt.Y('min:Q'),\n",
        "        alt.Y2('max:Q')\n",
        ")\n",
        "\n",
        "median + q + min_max"
      ],
      "cell_type": "code",
      "execution_count": null,
      "outputs": [],
      "metadata": {
        "attributes": {
          "classes": [
            "Preclass prep: Chapters [8](https://greenteapress.com/thinkpython2/html/thinkpython2009.html) and [10](https://greenteapress.com/thinkpython2/html/thinkpython2011.html) from \"Think Python\""
          ],
          "id": ""
        }
      }
    },
    {
      "id": "cell-78",
      "source": "<figure id=\"figure-1\" style=\"max-width: 90%;\"><div style=\"overflow-x: auto\"><object data=\"./images/qualities.svg\" type=\"image/svg+xml\" alt=\"Qualities. \">Qualities.</object></div><a target=\"_blank\" href=\"./images/qualities.svg\" rel=\"noopener noreferrer\"><small>Open image in new tab</small></a><br /><br /><figcaption><span class=\"figcaption-prefix\"><strong>Figure 1</strong>:</span> Box plot of quality values across read positions</figcaption></figure>\n<h2 id=\"other-comments\">Other comments</h2>\n<p>In all the examples above, the reads in the FASTQ file are all the same length.  This is not necessarily the case though it is usually true for datasets generated by sequencing-by-synthesis instruments.  FASTQ files can contain reads of various lengths.</p>\n<p>FASTQ files often have the extension <code style=\"color: inherit\">.fastq</code> or <code style=\"color: inherit\">.fq</code>.</p>\n<h2 id=\"other-resources\">Other resources</h2>\n<ul>\n<li><a href=\"http://biopython.org/wiki/Main_Page\">BioPython</a></li>\n<li><a href=\"http://biopython.org/wiki/SeqIO\">SeqIO</a></li>\n<li><a href=\"http://samtools.sourceforge.net/\">SAMtools</a></li>\n<li><a href=\"http://hannonlab.cshl.edu/fastx_toolkit/\">FASTX</a></li>\n<li><a href=\"http://www.bioinformatics.babraham.ac.uk/projects/fastqc/\">FASTQC</a></li>\n<li><a href=\"https://github.com/lh3/seqtk\">seqtk</a></li>\n</ul>\n",
      "cell_type": "markdown",
      "metadata": {
        "editable": false,
        "collapsed": false
      }
    },
    {
      "cell_type": "markdown",
      "id": "final-ending-cell",
      "metadata": {
        "editable": false,
        "collapsed": false
      },
      "source": [
        "# Key Points\n\n",
        "- Python can be used to parse FASTQ easily\n",
        "- One can readily visualize quality values\n",
        "\n# Congratulations on successfully completing this tutorial!\n\n",
        "Please [fill out the feedback on the GTN website](https://training.galaxyproject.org/training-material/topics/data-science/tutorials/gnmx-lecture3/tutorial.html#feedback) and check there for further resources!\n"
      ]
    }
  ]
}