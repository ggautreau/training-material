{
  "metadata": {},
  "nbformat": 4,
  "nbformat_minor": 5,
  "cells": [
    {
      "id": "metadata",
      "cell_type": "markdown",
      "source": "<div style=\"border: 2px solid #8A9AD0; margin: 1em 0.2em; padding: 0.5em;\">\n\n# Introduction to sequencing with Python (part three)\n\nby [Anton Nekrutenko](https://training.galaxyproject.org/hall-of-fame/nekrut/)\n\nCC-BY licensed content from the [Galaxy Training Network](https://training.galaxyproject.org/)\n\n**Objectives**\n\n- Understanding Python lists\n- Understanding Python dictionaries\n- Learnig about dynamic programming\n\n**Objectives**\n\n- Understanding of lists and dictionaries\n- Learning about dynamic programming\n- Learning about how to translate DNA in Python\n\n**Time Estimation: 1h**\n</div>\n",
      "metadata": {
        "editable": false,
        "collapsed": false
      }
    },
    {
      "id": "cell-0",
      "source": "<p><a href=\"https://xkcd.com/2483\"><a href=\"https://imgs.xkcd.com/comics/seven.png\" rel=\"noopener noreferrer\"><img src=\"https://imgs.xkcd.com/comics/seven.png\" alt=\"XKCD 2483. \" loading=\"lazy\" /></a></a></p>\n<p>Preclass prep: Chapters <a href=\"https://greenteapress.com/thinkpython2/html/thinkpython2009.html\">5</a> and <a href=\"https://greenteapress.com/thinkpython2/html/thinkpython2011.html\">7</a> from “Think Python”</p>\n<blockquote class=\"quote\" cite=\"https://langmead-lab.org/teaching-materials\">\n<p>This material uses examples from notebooks developed by <a href=\"https://langmead-lab.org/teaching-materials/\">Ben Langmead</a></p>\n</blockquote>\n<h1 id=\"prep\">Prep</h1>\n<ol>\n<li>Start <a href=\"https://mybinder.org/v2/gh/jupyterlab/jupyterlab-demo/try.jupyter.org?urlpath=lab\">JupyterLab</a></li>\n<li>Within JupyterLab start a new Python3 notebook</li>\n<li>Open <a href=\"http://cs1110.cs.cornell.edu/tutor/#mode=edit\">this page</a> in a new browser tab</li>\n</ol>\n<h1 id=\"lists-dynamic-programming-in-sequence-alignment\">Lists: Dynamic programming in sequence alignment</h1>\n<h2 id=\"dynamic-programming-matrix-as-a-2d-list\">Dynamic programming matrix as a 2D list</h2>\n<p>An excellent way to illustrate the utility of lists is to implement a dynamic programming algorithm for sequence alignment. Suppose we have two sequences that deliberately have different lengths:</p>\n\n\\[\\texttt{G C T A T A C}&#36;\\]\n<p>and</p>\n\n\\[\\texttt{G C G T A T G C}&#36;\\]\n<p>Let’s represent them as the following matrix where the first character \\(\\epsilon\\) represents an empty string:</p>\n\n\\[\\begin{array}{ c | c | c | c | c | c | c}\n&amp; \\epsilon &amp; G &amp; C &amp; T &amp; A &amp; T &amp; A &amp; C\\\\\n\\hline\n\\epsilon \\\\\n\\hline\nG\\\\\n\\hline\n C\\\\\n \\hline\nG\\\\\n\\hline\nT\\\\\n\\hline\nA\\\\\n \\hline\nT\\\\\n\\hline\nG\\\\\n\\hline\nC\n\\end{array}\n\\\\\n\\textbf{Note}: sequence\\ \\texttt{X}\\ is\\ vertical\\ and\\ sequence\\ \\texttt{Y}\\ is\\ horizontal.\\]\n<p>In this matrix, the cells are addressed as shown below. They filled in using the following logic:</p>\n\n\\[D[i,j] = min\\begin{cases}\n          \\color{green}{D[i-1,j] + 1} &amp; \\\\\n          \\color{blue}{D[i,j-1] + 1} &amp; \\\\\n          \\color{red}{D[i-1,j-1] + \\delta(x[i-1],y[j-1])}\n             \\end{cases}\\]\n<p>where \\(\\color{green}{green}\\) is <em>upper</em> cell, \\(\\color{blue}{blue}\\) is <em>left</em> cell, and \\(\\color{red}{red}\\) is <em>upper-left</em> cell:</p>\n\n\\[\\begin{array}{ c | c | c | c | c | c | c}\n&amp; \\epsilon &amp; G &amp; C &amp; T &amp; A &amp; T &amp; A &amp; C\\\\\n            \\hline\n          \\epsilon &amp;  &amp;  &amp;  &amp;  &amp;  &amp;  &amp;  &amp; \\\\\n          \\hline\n          G &amp; \\\\\n          \\hline\n          C &amp;  &amp; &amp; \\color{red}{D[2,2]} &amp; \\color{green}{D[2,3]}\\\\\n          \\hline\n          G &amp;  &amp; &amp; \\color{blue}{D[3,2]} &amp; D[3,3]\\\\\n          \\hline\n          T &amp; \\\\\n          \\hline\n          A &amp; \\\\\n          \\hline\n          T &amp; \\\\\n          \\hline\n          G &amp; \\\\\n          \\hline\n          C &amp;\n\\end{array}\n\\\\\n\\textbf{Note}: sequence\\ \\texttt{X}\\ is\\ vertical\\ and\\ sequence\\ \\texttt{Y}\\ is\\ horizontal.\\]\n<h2 id=\"initializing-the-matrix\">Initializing the matrix</h2>\n<p>Let’s initialize the first column and first row of the matrix. Because the distance between a string and an empty string is equal to the length of the\nstring (e.g., a distance between, say, string \\(\\texttt{TCG}\\) and an empty string is 3) this resulting matrix will look like this:</p>\n\n\\[\\begin{array}{ c | c | c | c | c | c | c}\n&amp; \\epsilon &amp; G &amp; C &amp; T &amp; A &amp; T &amp; A &amp; C\\\\\n            \\hline\n          \\epsilon &amp; 0 &amp; 1 &amp; 2 &amp; 3 &amp; 4 &amp; 5 &amp; 6 &amp; 7\\\\\n          \\hline\n          G &amp; 1\\\\\n          \\hline\n          C &amp; 2\\\\\n          \\hline\n          G &amp; 3\\\\\n          \\hline\n          T &amp; 4\\\\\n          \\hline\n          A &amp; 5\\\\\n          \\hline\n          T &amp; 6\\\\\n          \\hline\n          G &amp; 7\\\\\n          \\hline\n          C &amp; 8\n\\end{array}\n\\\\\n\\textbf{Note}: sequence\\ \\texttt{X}\\ is\\ vertical\\ and\\ sequence\\ \\texttt{Y}\\ is\\ horizontal.\\]\n<p>This can be achieved with the following code:</p>\n",
      "cell_type": "markdown",
      "metadata": {
        "editable": false,
        "collapsed": false
      }
    },
    {
      "id": "cell-1",
      "source": [
        "D = np.zeros((len(x)+1, len(y)+1), dtype=int)\n",
        "D[0, 1:] = range(1, len(y)+1)\n",
        "D[1:, 0] = range(1, len(x)+1)"
      ],
      "cell_type": "code",
      "execution_count": null,
      "outputs": [],
      "metadata": {
        "attributes": {
          "classes": [
            ""
          ],
          "id": ""
        }
      }
    },
    {
      "id": "cell-2",
      "source": "<h2 id=\"filling-the-matrix\">Filling the matrix</h2>\n<p>Now we can fill the entire matrix by using two nested loops: one iterating over \\(i\\) coordinate (sequence \\(x\\)) and the other iterating over \\(j\\) coordinate (sequence \\(y\\)):</p>\n",
      "cell_type": "markdown",
      "metadata": {
        "editable": false,
        "collapsed": false
      }
    },
    {
      "id": "cell-3",
      "source": [
        "for i in range(1, len(x)+1):\n",
        "    for j in range(1, len(y)+1):\n",
        "        delt = 1 if x[i-1] != y[j-1] else 0\n",
        "        D[i, j] = min(D[i-1, j-1]+delt, D[i-1, j]+1, D[i, j-1]+1)"
      ],
      "cell_type": "code",
      "execution_count": null,
      "outputs": [],
      "metadata": {
        "attributes": {
          "classes": [
            ""
          ],
          "id": ""
        }
      }
    },
    {
      "id": "cell-4",
      "source": "<p>Let’s start with the cell between \\(\\texttt{G}\\) and \\(\\texttt{G}\\). Recall that:</p>\n\n\\[D[i,j] = min\\begin{cases}\n          \\color{green}{D[i-1,j] + 1} &amp; \\\\\n          \\color{blue}{D[i,j-1] + 1} &amp; \\\\\n          \\color{red}{D[i-1,j-1] + \\delta(x[i-1],y[j-1])}\n             \\end{cases}\\]\n<p>where \\(\\delta(x[i-1],y[j-1]) = 0\\) if \\(x[i-1] = y[j-1]\\) and \\(1\\) otherwise. And now let’s color each of the cells corresponding to each part of the above expression:</p>\n\n\\[\\begin{array}{ c | c | c | c | c | c | c}\n&amp; \\epsilon &amp; G &amp; C &amp; T &amp; A &amp; T &amp; A &amp; C\\\\\n\\hline\n\\epsilon &amp; \\color{red}0 &amp; \\color{green}1 &amp; 2 &amp; 3 &amp; 4 &amp; 5 &amp; 6 &amp; 7\\\\\n\\hline\nG &amp; \\color{blue}1\\\\\n          \\hline\n          C &amp; 2\\\\\n          \\hline\n          G &amp; 3\\\\\n          \\hline\n          T &amp; 4\\\\\n          \\hline\n          A &amp; 5\\\\\n          \\hline\n          T &amp; 6\\\\\n          \\hline\n          G &amp; 7\\\\\n          \\hline\n          C &amp; 8\n\\end{array}\n\\\\\n\\textbf{Note}: sequence\\ \\texttt{X}\\ is\\ vertical\\ and\\ sequence\\ \\texttt{Y}\\ is\\ horizontal.\\]\n<p>In this specific case:</p>\n\n\\[D[i,j] = min\\begin{cases}\n          \\color{green}{D[i-1,j] + 1}\\ or\\ 0+0=0 &amp; \\\\\n          \\color{blue}{D[i,j-1] + 1}\\ or\\ 1+1=2 &amp; \\\\\n          \\color{red}{D[i-1,j-1] + \\delta(x[i-1],y[j-1])}\\ or\\ 1+1=2\n             \\end{cases}\\]\n<p>The minimum of 0, 2, and 2 will be 0, so we are putting zero into that cell:</p>\n\n\\[\\begin{array}{ c | c | c | c | c | c | c}\n&amp; \\epsilon &amp; G &amp; C &amp; T &amp; A &amp; T &amp; A &amp; C\\\\\n\\hline\n\\epsilon &amp; \\color{red}0 &amp; \\color{green}1 &amp; 2 &amp; 3 &amp; 4 &amp; 5 &amp; 6 &amp; 7\\\\\n\\hline\nG &amp; \\color{blue}1 &amp; \\color{red}0\\\\\n          \\hline\n          C &amp; 2\\\\\n          \\hline\n          G &amp; 3\\\\\n          \\hline\n          T &amp; 4\\\\\n          \\hline\n          A &amp; 5\\\\\n          \\hline\n          T &amp; 6\\\\\n          \\hline\n          G &amp; 7\\\\\n          \\hline\n          C &amp; 8\n\\end{array}\n\\\\\n\\textbf{Note}: sequence\\ \\texttt{X}\\ is\\ vertical\\ and\\ sequence\\ \\texttt{Y}\\ is\\ horizontal.\\]\n<p>Using this logic we can fill the entire matrix like this:</p>\n\n\\[\\begin{array}{ c | c | c | c | c | c | c}\n&amp; \\epsilon &amp; G &amp; C &amp; T &amp; A &amp; T &amp; A &amp; C\\\\\n\\hline\n\\epsilon &amp; 0 &amp; 1 &amp; 2 &amp; 3 &amp; 4 &amp; 5 &amp; 6 &amp; 7\\\\\n\\hline\n                 G &amp; 1 &amp; 0 &amp; 1 &amp; 2 &amp; 3 &amp; 4 &amp; 5 &amp; 6\\\\\n          \\hline\n                 C &amp; 2 &amp; 1 &amp; 0 &amp; 1 &amp; 2 &amp; 3 &amp; 4 &amp; 5\\\\\n          \\hline\n                 G &amp; 3 &amp; 2 &amp; 1 &amp; 1 &amp; 2 &amp; 3 &amp; 4 &amp; 5\\\\\n          \\hline\n                 T &amp; 4 &amp; 3 &amp; 2 &amp; 1 &amp; 2 &amp; 2 &amp; 3 &amp; 4\\\\\n          \\hline\n                 A &amp; 5 &amp; 4 &amp; 3 &amp; 2 &amp; 1 &amp; 2 &amp; 2 &amp; 3\\\\\n          \\hline\n                 T &amp; 6 &amp; 5 &amp; 4 &amp; 3 &amp; 2 &amp; 1 &amp; 2 &amp; 3\\\\\n          \\hline\n                 G &amp; 7 &amp; 6 &amp; 5 &amp; 4 &amp; 3 &amp; 2 &amp; 2 &amp; 3\\\\\n          \\hline\n                 C &amp; 8 &amp; 7 &amp; 6 &amp; 5 &amp; 4 &amp; 3 &amp; 3 &amp; \\color{red}2\n\\end{array}\n\\\\\n\\textbf{Note}: sequence\\ \\texttt{X}\\ is\\ vertical\\ and\\ sequence\\ \\texttt{Y}\\ is\\ horizontal.\\]\n<p>The lower rightmost cell highlighted in red is special. It contains the value for the edit distance between the two strings.\nThe following Python script implements this idea. You can see that it is essentially instantaneous:</p>\n",
      "cell_type": "markdown",
      "metadata": {
        "editable": false,
        "collapsed": false
      }
    },
    {
      "id": "cell-5",
      "source": [
        "import numpy as np\n",
        "\n",
        "def edDistDp(x, y):\n",
        "    \"\"\" Calculate edit distance between sequences x and y using\n",
        "        matrix dynamic programming.  Return matrix and distance. \"\"\"\n",
        "    D = np.zeros((len(x)+1, len(y)+1), dtype=int)\n",
        "    D[0, 1:] = range(1, len(y)+1)\n",
        "    D[1:, 0] = range(1, len(x)+1)\n",
        "    for i in range(1, len(x)+1):\n",
        "        for j in range(1, len(y)+1):\n",
        "            delt = 1 if x[i-1] != y[j-1] else 0\n",
        "            D[i, j] = min(D[i-1, j-1]+delt, D[i-1, j]+1, D[i, j-1]+1)\n",
        "    return D,D[len(x),len(y)]"
      ],
      "cell_type": "code",
      "execution_count": null,
      "outputs": [],
      "metadata": {
        "attributes": {
          "classes": [
            ""
          ],
          "id": ""
        }
      }
    },
    {
      "id": "cell-6",
      "source": "<p>A graphical representation of the matrix between <code style=\"color: inherit\">GCGTATGCACGC</code> and <code style=\"color: inherit\">GCTATGCCACGC</code> looks like this:</p>\n<p><a href=\"https://i.imgur.com/veMfPFt.png\" rel=\"noopener noreferrer\"><img src=\"https://i.imgur.com/veMfPFt.png\" alt=\"A DP matrix with Seaborn. \" loading=\"lazy\" /></a></p>\n<p>This image is generated using <a href=\"https://seaborn.pydata.org/index.html\">Seaborn</a> package using matrix directly:</p>\n",
      "cell_type": "markdown",
      "metadata": {
        "editable": false,
        "collapsed": false
      }
    },
    {
      "id": "cell-7",
      "source": [
        "sns.heatmap(D,annot=True,cmap=\"crest\")"
      ],
      "cell_type": "code",
      "execution_count": null,
      "outputs": [],
      "metadata": {
        "attributes": {
          "classes": [
            ""
          ],
          "id": ""
        }
      }
    },
    {
      "id": "cell-8",
      "source": "<hr />\n<h1 id=\"dictionaries-translating-sequences\">Dictionaries: Translating sequences</h1>\n<p>Perhaps the best way to demonstrate the utility of dictionaries is by using DNA-to-Protein translation as an example.</p>\n<h2 id=\"using-dictionaries-to-translate-dna\">Using dictionaries to translate DNA</h2>\n<p>The following dictionary maps codons to corresponding amino acid translations. In this case, codon is the <em>key</em> and amino acid is the <em>value</em>:</p>\n",
      "cell_type": "markdown",
      "metadata": {
        "editable": false,
        "collapsed": false
      }
    },
    {
      "id": "cell-9",
      "source": [
        "table = {\n",
        "        'ATA':'I', 'ATC':'I', 'ATT':'I', 'ATG':'M',\n",
        "        'ACA':'T', 'ACC':'T', 'ACG':'T', 'ACT':'T',\n",
        "        'AAC':'N', 'AAT':'N', 'AAA':'K', 'AAG':'K',\n",
        "        'AGC':'S', 'AGT':'S', 'AGA':'R', 'AGG':'R',\n",
        "        'CTA':'L', 'CTC':'L', 'CTG':'L', 'CTT':'L',\n",
        "        'CCA':'P', 'CCC':'P', 'CCG':'P', 'CCT':'P',\n",
        "        'CAC':'H', 'CAT':'H', 'CAA':'Q', 'CAG':'Q',\n",
        "        'CGA':'R', 'CGC':'R', 'CGG':'R', 'CGT':'R',\n",
        "        'GTA':'V', 'GTC':'V', 'GTG':'V', 'GTT':'V',\n",
        "        'GCA':'A', 'GCC':'A', 'GCG':'A', 'GCT':'A',\n",
        "        'GAC':'D', 'GAT':'D', 'GAA':'E', 'GAG':'E',\n",
        "        'GGA':'G', 'GGC':'G', 'GGG':'G', 'GGT':'G',\n",
        "        'TCA':'S', 'TCC':'S', 'TCG':'S', 'TCT':'S',\n",
        "        'TTC':'F', 'TTT':'F', 'TTA':'L', 'TTG':'L',\n",
        "        'TAC':'Y', 'TAT':'Y', 'TAA':'_', 'TAG':'_',\n",
        "        'TGC':'C', 'TGT':'C', 'TGA':'_', 'TGG':'W',\n",
        "    }"
      ],
      "cell_type": "code",
      "execution_count": null,
      "outputs": [],
      "metadata": {
        "attributes": {
          "classes": [
            ""
          ],
          "id": ""
        }
      }
    },
    {
      "id": "cell-10",
      "source": "<p>Let’s generate a random DNA sequence:</p>\n",
      "cell_type": "markdown",
      "metadata": {
        "editable": false,
        "collapsed": false
      }
    },
    {
      "id": "cell-11",
      "source": [
        "import random\n",
        "seq = \"\".join([random.choice('atcg') for x in range(100)])"
      ],
      "cell_type": "code",
      "execution_count": null,
      "outputs": [],
      "metadata": {
        "attributes": {
          "classes": [
            ""
          ],
          "id": ""
        }
      }
    },
    {
      "id": "cell-12",
      "source": "\n",
      "cell_type": "markdown",
      "metadata": {
        "editable": false,
        "collapsed": false
      }
    },
    {
      "id": "cell-13",
      "source": [
        "seq"
      ],
      "cell_type": "code",
      "execution_count": null,
      "outputs": [],
      "metadata": {
        "attributes": {
          "classes": [
            ""
          ],
          "id": ""
        }
      }
    },
    {
      "id": "cell-14",
      "source": "<p>‘agaccgtagcccaagtgcgtttgaatgtggctacttgggaggatttcattgcggtctgtctccgtacttgttattggtcttctttctgcattatgacgca’</p>\n<p>To translate this sequence we write a code that uses a <code style=\"color: inherit\">for</code> loop that iterates over the DNA sequence in steps of 3, creating a codon at each iteration. If the codon is less than 3 letters long, the loop is broken. The resulting amino acid is then added to the <code style=\"color: inherit\">translation</code> string:</p>\n",
      "cell_type": "markdown",
      "metadata": {
        "editable": false,
        "collapsed": false
      }
    },
    {
      "id": "cell-15",
      "source": [
        "translation = \"\"\n",
        "for i in range(0, len(seq), 3):\n",
        "    codon = seq[i:i+3].upper()\n",
        "    if len(codon) < 3: break\n",
        "    if codon in table:\n",
        "        translation += table[codon]\n",
        "    else:\n",
        "        translation += \"X\"\n",
        "\n",
        "print(\"Translation:\", translation)"
      ],
      "cell_type": "code",
      "execution_count": null,
      "outputs": [],
      "metadata": {
        "attributes": {
          "classes": [
            ""
          ],
          "id": ""
        }
      }
    },
    {
      "id": "cell-16",
      "source": "<p>Translation: RP_PKCV_MWLLGRISLRSVSVLVIGLLSAL_R</p>\n<p>Note that the code uses the <code style=\"color: inherit\">upper()</code> method to ensure the codon is in uppercase since the table dictionary is case-sensitive. Additionally, the code checks if the codon is in the table dictionary and if not, it adds the letter “X” to the translation. This is a common way to represent unknown or stop codons in a protein sequence.</p>\n",
      "cell_type": "markdown",
      "metadata": {
        "editable": false,
        "collapsed": false
      }
    },
    {
      "id": "cell-17",
      "source": [
        "translation"
      ],
      "cell_type": "code",
      "execution_count": null,
      "outputs": [],
      "metadata": {
        "attributes": {
          "classes": [
            ""
          ],
          "id": ""
        }
      }
    },
    {
      "id": "cell-18",
      "source": "<p>‘RP_PKCV_MWLLGRISLRSVSVLVIGLLSAL_R’</p>\n<p>Now we define a function that would perform translation so that we can reuse it later:</p>\n",
      "cell_type": "markdown",
      "metadata": {
        "editable": false,
        "collapsed": false
      }
    },
    {
      "id": "cell-19",
      "source": [
        "def translate(seq):\n",
        "    translation = ''\n",
        "    table = {\n",
        "        'ATA':'I', 'ATC':'I', 'ATT':'I', 'ATG':'M',\n",
        "        'ACA':'T', 'ACC':'T', 'ACG':'T', 'ACT':'T',\n",
        "        'AAC':'N', 'AAT':'N', 'AAA':'K', 'AAG':'K',\n",
        "        'AGC':'S', 'AGT':'S', 'AGA':'R', 'AGG':'R',\n",
        "        'CTA':'L', 'CTC':'L', 'CTG':'L', 'CTT':'L',\n",
        "        'CCA':'P', 'CCC':'P', 'CCG':'P', 'CCT':'P',\n",
        "        'CAC':'H', 'CAT':'H', 'CAA':'Q', 'CAG':'Q',\n",
        "        'CGA':'R', 'CGC':'R', 'CGG':'R', 'CGT':'R',\n",
        "        'GTA':'V', 'GTC':'V', 'GTG':'V', 'GTT':'V',\n",
        "        'GCA':'A', 'GCC':'A', 'GCG':'A', 'GCT':'A',\n",
        "        'GAC':'D', 'GAT':'D', 'GAA':'E', 'GAG':'E',\n",
        "        'GGA':'G', 'GGC':'G', 'GGG':'G', 'GGT':'G',\n",
        "        'TCA':'S', 'TCC':'S', 'TCG':'S', 'TCT':'S',\n",
        "        'TTC':'F', 'TTT':'F', 'TTA':'L', 'TTG':'L',\n",
        "        'TAC':'Y', 'TAT':'Y', 'TAA':'_', 'TAG':'_',\n",
        "        'TGC':'C', 'TGT':'C', 'TGA':'_', 'TGG':'W',\n",
        "    }\n",
        "    for i in range(0, len(seq), 3):\n",
        "        codon = seq[i:i+3].upper()\n",
        "        if len(codon) < 3: break\n",
        "        if codon in table:\n",
        "            translation += table[codon]\n",
        "        else:\n",
        "            translation += \"X\"\n",
        "    return(translation)"
      ],
      "cell_type": "code",
      "execution_count": null,
      "outputs": [],
      "metadata": {
        "attributes": {
          "classes": [
            ""
          ],
          "id": ""
        }
      }
    },
    {
      "id": "cell-20",
      "source": "\n",
      "cell_type": "markdown",
      "metadata": {
        "editable": false,
        "collapsed": false
      }
    },
    {
      "id": "cell-21",
      "source": [
        "translate(seq)"
      ],
      "cell_type": "code",
      "execution_count": null,
      "outputs": [],
      "metadata": {
        "attributes": {
          "classes": [
            ""
          ],
          "id": ""
        }
      }
    },
    {
      "id": "cell-22",
      "source": "<p>‘RP_PKCV_MWLLGRISLRSVSVLVIGLLSAL_R’</p>\n<h2 id=\"expanding-to-multiple-phases-frames\">Expanding to multiple phases (frames)</h2>\n<p>We can further modify the function by adding a <code style=\"color: inherit\">phase</code> parameter that would allow translating in any of the three phases:</p>\n",
      "cell_type": "markdown",
      "metadata": {
        "editable": false,
        "collapsed": false
      }
    },
    {
      "id": "cell-23",
      "source": [
        "def translate_phase(seq,phase):\n",
        "    translation = ''\n",
        "    table = {\n",
        "        'ATA':'I', 'ATC':'I', 'ATT':'I', 'ATG':'M',\n",
        "        'ACA':'T', 'ACC':'T', 'ACG':'T', 'ACT':'T',\n",
        "        'AAC':'N', 'AAT':'N', 'AAA':'K', 'AAG':'K',\n",
        "        'AGC':'S', 'AGT':'S', 'AGA':'R', 'AGG':'R',\n",
        "        'CTA':'L', 'CTC':'L', 'CTG':'L', 'CTT':'L',\n",
        "        'CCA':'P', 'CCC':'P', 'CCG':'P', 'CCT':'P',\n",
        "        'CAC':'H', 'CAT':'H', 'CAA':'Q', 'CAG':'Q',\n",
        "        'CGA':'R', 'CGC':'R', 'CGG':'R', 'CGT':'R',\n",
        "        'GTA':'V', 'GTC':'V', 'GTG':'V', 'GTT':'V',\n",
        "        'GCA':'A', 'GCC':'A', 'GCG':'A', 'GCT':'A',\n",
        "        'GAC':'D', 'GAT':'D', 'GAA':'E', 'GAG':'E',\n",
        "        'GGA':'G', 'GGC':'G', 'GGG':'G', 'GGT':'G',\n",
        "        'TCA':'S', 'TCC':'S', 'TCG':'S', 'TCT':'S',\n",
        "        'TTC':'F', 'TTT':'F', 'TTA':'L', 'TTG':'L',\n",
        "        'TAC':'Y', 'TAT':'Y', 'TAA':'_', 'TAG':'_',\n",
        "        'TGC':'C', 'TGT':'C', 'TGA':'_', 'TGG':'W',\n",
        "    }\n",
        "    assert phase >= 0 and phase <= 3, \"Phase parameter can only be set to 0, 1, or 2! You specified {}\".format(phase)\n",
        "    for i in range(phase, len(seq), 3):\n",
        "        codon = seq[i:i+3].upper()\n",
        "        if len(codon) < 3: break\n",
        "        if codon in table:\n",
        "            translation += table[codon]\n",
        "        else:\n",
        "            translation += \"X\"\n",
        "    return(translation)"
      ],
      "cell_type": "code",
      "execution_count": null,
      "outputs": [],
      "metadata": {
        "attributes": {
          "classes": [
            ""
          ],
          "id": ""
        }
      }
    },
    {
      "id": "cell-24",
      "source": "\n",
      "cell_type": "markdown",
      "metadata": {
        "editable": false,
        "collapsed": false
      }
    },
    {
      "id": "cell-25",
      "source": [
        "translate_phase(seq,2)"
      ],
      "cell_type": "code",
      "execution_count": null,
      "outputs": [],
      "metadata": {
        "attributes": {
          "classes": [
            ""
          ],
          "id": ""
        }
      }
    },
    {
      "id": "cell-26",
      "source": "<p>‘TVAQVRLNVATWEDFIAVCLRTCYWSSFCIMT’</p>\n<p>To translate in all six reading frames (three of the “+” strand and three of the “-“ strand) we need to be able to create a reverse complement of the sequence. Let’s write a simple function for that.\nThe cell below implements a function <code style=\"color: inherit\">revcomp</code> that takes a DNA sequence as input and returns its reverse complement. It works by first reversing the sequence using the slice\nnotation <code style=\"color: inherit\">seq[::-1]</code>, which returns the sequence in reverse order. Then, the <code style=\"color: inherit\">translate</code> method is used with the <code style=\"color: inherit\">str.maketrans</code> function to replace each occurrence\nof ‘a’, ‘t’, ‘g’, ‘c’, ‘A’, ‘T’, ‘G’, and ‘C’ in the reversed sequence with ‘t’, ‘a’, ‘c’, ‘g’, ‘T’, ‘A’, ‘C’, and ‘G’, respectively:</p>\n",
      "cell_type": "markdown",
      "metadata": {
        "editable": false,
        "collapsed": false
      }
    },
    {
      "id": "cell-27",
      "source": [
        "import string\n",
        "\n",
        "def revcomp(seq):\n",
        "    return seq[::-1].translate(str.maketrans('atgcATCG','tagcTACG'))"
      ],
      "cell_type": "code",
      "execution_count": null,
      "outputs": [],
      "metadata": {
        "attributes": {
          "classes": [
            ""
          ],
          "id": ""
        }
      }
    },
    {
      "id": "cell-28",
      "source": "<p>Now let’s use this function to create translation in all six reading frames. The cell below uses a <code style=\"color: inherit\">for</code> loop that iterates over the range <code style=\"color: inherit\">(0, 3)</code>, representing the different phases\n(or starting positions) of the translation. At each iteration, the <code style=\"color: inherit\">translate_phase</code> function is called with the DNA sequence and the current phase, and the resulting protein sequence\nis appended to the <code style=\"color: inherit\">translations</code> list along with the <code style=\"color: inherit\">phase</code> and the <code style=\"color: inherit\">strand</code> orientation (+ or -):</p>\n",
      "cell_type": "markdown",
      "metadata": {
        "editable": false,
        "collapsed": false
      }
    },
    {
      "id": "cell-29",
      "source": [
        "translations = []\n",
        "\n",
        "for i in range(0,3):\n",
        "    translations.append((translate_phase(seq,i),str(i),'+'))\n",
        "    translations.append((translate_phase(revcomp(seq),i),str(i),'-'))"
      ],
      "cell_type": "code",
      "execution_count": null,
      "outputs": [],
      "metadata": {
        "attributes": {
          "classes": [
            ""
          ],
          "id": ""
        }
      }
    },
    {
      "id": "cell-30",
      "source": "\n",
      "cell_type": "markdown",
      "metadata": {
        "editable": false,
        "collapsed": false
      }
    },
    {
      "id": "cell-31",
      "source": [
        "translations"
      ],
      "cell_type": "code",
      "execution_count": null,
      "outputs": [],
      "metadata": {
        "attributes": {
          "classes": [
            ""
          ],
          "id": ""
        }
      }
    },
    {
      "id": "cell-32",
      "source": "<p>[(‘RP_PKCV_MWLLGRISLRSVSVLVIGLLSAL_R’, ‘0’, ‘+’),\n     (‘SLIIDKQQE_ELATDRRIKWWELRRLKASSRSL’, ‘0’, ‘-‘),\n     (‘DRSPSAFECGYLGGFHCGLSPYLLLVFFLHYDA’, ‘1’, ‘+’),\n     (‘R__STNNRNKN_PQTGESNGGNYGD_KRVPVAC’, ‘1’, ‘-‘),\n     (‘TVAQVRLNVATWEDFIAVCLRTCYWSSFCIMT’, ‘2’, ‘+’),\n     (‘ADNRQTTGIRTSHRQANQMVGTTEIESEFP_P’, ‘2’, ‘-‘)]</p>\n<h2 id=\"finding-coordinates-of-continuous-translations\">Finding coordinates of continuous translations</h2>\n<p>The translation we’ve generated above contains stops (e.g., <code style=\"color: inherit\">_</code> symbols). The actual biologically relevant protein sequences are between stops.\nWe now need to split translation strings into meaningful peptide sequences and compute their coordinates. Let’s begin by splitting a string on <code style=\"color: inherit\">_</code> and computing the start and end positions of each peptide:</p>\n",
      "cell_type": "markdown",
      "metadata": {
        "editable": false,
        "collapsed": false
      }
    },
    {
      "id": "cell-33",
      "source": [
        "string = \"aadsds_dsds_dsds\"\n",
        "\n",
        "split_indices = []\n",
        "for i,char in enumerate(string):\n",
        "    if char == \"_\":\n",
        "        split_indices.append(i)\n",
        "print(split_indices)"
      ],
      "cell_type": "code",
      "execution_count": null,
      "outputs": [],
      "metadata": {
        "attributes": {
          "classes": [
            ""
          ],
          "id": ""
        }
      }
    },
    {
      "id": "cell-34",
      "source": "<p>[6, 11]</p>\n<p>The code above generates a list of split indices for a string. The list contains the indices of the characters in the string that match a specified character (in this case, the underscore <code style=\"color: inherit\">_</code> character).</p>\n<p>The <code style=\"color: inherit\">enumerate</code> function is used to loop over the characters in the string, and at each iteration, the current index and character are stored in the variables <code style=\"color: inherit\">i</code> and <code style=\"color: inherit\">char</code>, respectively.\nIf the current character matches the specified character, the index <code style=\"color: inherit\">i</code> is appended to the <code style=\"color: inherit\">split_indices</code> list.</p>\n<p>After the loop, the <code style=\"color: inherit\">split_indices</code> list is printed to the console. For the input string <code style=\"color: inherit\">\"aadsds_dsds_dsds\"</code>, the output would be <code style=\"color: inherit\">[6, 11]</code>, indicating that the dashes are located at indices 6 and 11.</p>\n<p>But we actually need coordinates of peptides bound by <code style=\"color: inherit\">_</code> characters. To get to this let’s first modify <code style=\"color: inherit\">split_indices</code> by adding the beginning and end:</p>\n",
      "cell_type": "markdown",
      "metadata": {
        "editable": false,
        "collapsed": false
      }
    },
    {
      "id": "cell-35",
      "source": [
        "string = \"aadsds_dsds_dsds\"\n",
        "\n",
        "split_indices = []\n",
        "for i,char in enumerate(string):\n",
        "    if char == \"_\":\n",
        "        split_indices.append(i)\n",
        "\n",
        "split_indices.insert(0,-1)\n",
        "split_indices.append(len(string))\n",
        "print(split_indices)"
      ],
      "cell_type": "code",
      "execution_count": null,
      "outputs": [],
      "metadata": {
        "attributes": {
          "classes": [
            ""
          ],
          "id": ""
        }
      }
    },
    {
      "id": "cell-36",
      "source": "<p>[-1, 6, 11, 16]</p>\n<p>Now, let’s convert these to ranges and also stick the peptide sequence in:</p>\n",
      "cell_type": "markdown",
      "metadata": {
        "editable": false,
        "collapsed": false
      }
    },
    {
      "id": "cell-37",
      "source": [
        "string = \"aadsds_dsds_dsds\"\n",
        "\n",
        "split_indices = []\n",
        "for i, char in enumerate(string):\n",
        "    if char == \"_\":\n",
        "        split_indices.append(i)\n",
        "\n",
        "split_indices.insert(0, -1)\n",
        "split_indices.append(len(string))\n",
        "\n",
        "orfs = string.split('_')\n",
        "\n",
        "parts = []\n",
        "for i in range(len(split_indices)-1):\n",
        "    parts.append((orfs[i],split_indices[i]+1, split_indices[i+1]))\n",
        "\n",
        "print(parts)"
      ],
      "cell_type": "code",
      "execution_count": null,
      "outputs": [],
      "metadata": {
        "attributes": {
          "classes": [
            ""
          ],
          "id": ""
        }
      }
    },
    {
      "id": "cell-38",
      "source": "<p>[(‘aadsds’, 0, 6), (‘dsds’, 7, 11), (‘dsds’, 12, 16)]</p>\n<p>Now let’s convert this to function:</p>\n",
      "cell_type": "markdown",
      "metadata": {
        "editable": false,
        "collapsed": false
      }
    },
    {
      "id": "cell-39",
      "source": [
        "def extract_coords(translation):\n",
        "    split_indices = []\n",
        "    for i, char in enumerate(translation):\n",
        "        if char == \"_\":\n",
        "            split_indices.append(i)\n",
        "\n",
        "    split_indices.insert(0, -1)\n",
        "    split_indices.append(len(translation))\n",
        "\n",
        "    parts = []\n",
        "    for i in range(len(split_indices)-1):\n",
        "        parts.append((translation.split('_')[i], split_indices[i] + 1, split_indices[i + 1]))\n",
        "\n",
        "    return(parts)"
      ],
      "cell_type": "code",
      "execution_count": null,
      "outputs": [],
      "metadata": {
        "attributes": {
          "classes": [
            ""
          ],
          "id": ""
        }
      }
    },
    {
      "id": "cell-40",
      "source": "\n",
      "cell_type": "markdown",
      "metadata": {
        "editable": false,
        "collapsed": false
      }
    },
    {
      "id": "cell-41",
      "source": [
        "extract_coords(string)"
      ],
      "cell_type": "code",
      "execution_count": null,
      "outputs": [],
      "metadata": {
        "attributes": {
          "classes": [
            ""
          ],
          "id": ""
        }
      }
    },
    {
      "id": "cell-42",
      "source": "<p>[(‘aadsds’, 0, 6), (‘dsds’, 7, 11), (‘dsds’, 12, 16)]</p>\n<p>And specify the right parameters to make it truly generic:</p>\n",
      "cell_type": "markdown",
      "metadata": {
        "editable": false,
        "collapsed": false
      }
    },
    {
      "id": "cell-43",
      "source": [
        "def extract_coords_with_annotation(separator,translation,phase,strand):\n",
        "    split_indices = []\n",
        "    for i,char in enumerate(translation):\n",
        "        if char == separator:\n",
        "            split_indices.append(i)\n",
        "\n",
        "    split_indices.insert(0,-1)\n",
        "    split_indices.append(len(translation))\n",
        "\n",
        "    parts = []\n",
        "    for i in range(len(split_indices)-1):\n",
        "        parts.append((translation.split(separator)[i], phase, strand, split_indices[i]+1, split_indices[i+1]))\n",
        "\n",
        "    return(parts)"
      ],
      "cell_type": "code",
      "execution_count": null,
      "outputs": [],
      "metadata": {
        "attributes": {
          "classes": [
            ""
          ],
          "id": ""
        }
      }
    },
    {
      "id": "cell-44",
      "source": "\n",
      "cell_type": "markdown",
      "metadata": {
        "editable": false,
        "collapsed": false
      }
    },
    {
      "id": "cell-45",
      "source": [
        "extract_coords_with_annotation('_', string, '0', '+')"
      ],
      "cell_type": "code",
      "execution_count": null,
      "outputs": [],
      "metadata": {
        "attributes": {
          "classes": [
            ""
          ],
          "id": ""
        }
      }
    },
    {
      "id": "cell-46",
      "source": "<p>[(‘aadsds’, ‘0’, ‘+’, 0, 6),\n     (‘dsds’, ‘0’, ‘+’, 7, 11),\n     (‘dsds’, ‘0’, ‘+’, 12, 16)]</p>\n<h2 id=\"analyzing-all-translations-of-a-given-sequence\">Analyzing all translations of a given sequence</h2>\n<p>We begin by parsing the <code style=\"color: inherit\">translations</code> list we defined above:</p>\n",
      "cell_type": "markdown",
      "metadata": {
        "editable": false,
        "collapsed": false
      }
    },
    {
      "id": "cell-47",
      "source": [
        "all_translations = []\n",
        "for item in translations:\n",
        "    all_translations.append(extract_coords_with_annotation('_',item[0],item[1],item[2]))"
      ],
      "cell_type": "code",
      "execution_count": null,
      "outputs": [],
      "metadata": {
        "attributes": {
          "classes": [
            ""
          ],
          "id": ""
        }
      }
    },
    {
      "id": "cell-48",
      "source": "\n",
      "cell_type": "markdown",
      "metadata": {
        "editable": false,
        "collapsed": false
      }
    },
    {
      "id": "cell-49",
      "source": [
        "all_translations"
      ],
      "cell_type": "code",
      "execution_count": null,
      "outputs": [],
      "metadata": {
        "attributes": {
          "classes": [
            ""
          ],
          "id": ""
        }
      }
    },
    {
      "id": "cell-50",
      "source": "<p>[[(‘RP’, ‘0’, ‘+’, 0, 2),\n      (‘PKCV’, ‘0’, ‘+’, 3, 7),\n      (‘MWLLGRISLRSVSVLVIGLLSAL’, ‘0’, ‘+’, 8, 31),\n      (‘R’, ‘0’, ‘+’, 32, 33)],\n     [(‘SLIIDKQQE’, ‘0’, ‘-‘, 0, 9),\n      (‘ELATDRRIKWWELRRLKASSRSL’, ‘0’, ‘-‘, 10, 33)],\n     [(‘DRSPSAFECGYLGGFHCGLSPYLLLVFFLHYDA’, ‘1’, ‘+’, 0, 33)],\n     [(‘R’, ‘1’, ‘-‘, 0, 1),\n      (‘’, ‘1’, ‘-‘, 2, 2),\n      (‘STNNRNKN’, ‘1’, ‘-‘, 3, 11),\n      (‘PQTGESNGGNYGD’, ‘1’, ‘-‘, 12, 25),\n      (‘KRVPVAC’, ‘1’, ‘-‘, 26, 33)],\n     [(‘TVAQVRLNVATWEDFIAVCLRTCYWSSFCIMT’, ‘2’, ‘+’, 0, 32)],\n     [(‘ADNRQTTGIRTSHRQANQMVGTTEIESEFP’, ‘2’, ‘-‘, 0, 30),\n      (‘P’, ‘2’, ‘-‘, 31, 32)]]</p>\n<p>Now the problem with this list is that it is nested. However, we need to make it flat:</p>\n",
      "cell_type": "markdown",
      "metadata": {
        "editable": false,
        "collapsed": false
      }
    },
    {
      "id": "cell-51",
      "source": [
        "flat_list = []\n",
        "for sublist in all_translations:\n",
        "    for item in sublist:\n",
        "        flat_list.append(item)"
      ],
      "cell_type": "code",
      "execution_count": null,
      "outputs": [],
      "metadata": {
        "attributes": {
          "classes": [
            ""
          ],
          "id": ""
        }
      }
    },
    {
      "id": "cell-52",
      "source": "\n",
      "cell_type": "markdown",
      "metadata": {
        "editable": false,
        "collapsed": false
      }
    },
    {
      "id": "cell-53",
      "source": [
        "flat_list"
      ],
      "cell_type": "code",
      "execution_count": null,
      "outputs": [],
      "metadata": {
        "attributes": {
          "classes": [
            ""
          ],
          "id": ""
        }
      }
    },
    {
      "id": "cell-54",
      "source": "<p>[(‘RP’, ‘0’, ‘+’, 0, 2),\n     (‘PKCV’, ‘0’, ‘+’, 3, 7),\n     (‘MWLLGRISLRSVSVLVIGLLSAL’, ‘0’, ‘+’, 8, 31),\n     (‘R’, ‘0’, ‘+’, 32, 33),\n     (‘SLIIDKQQE’, ‘0’, ‘-‘, 0, 9),\n     (‘ELATDRRIKWWELRRLKASSRSL’, ‘0’, ‘-‘, 10, 33),\n     (‘DRSPSAFECGYLGGFHCGLSPYLLLVFFLHYDA’, ‘1’, ‘+’, 0, 33),\n     (‘R’, ‘1’, ‘-‘, 0, 1),\n     (‘’, ‘1’, ‘-‘, 2, 2),\n     (‘STNNRNKN’, ‘1’, ‘-‘, 3, 11),\n     (‘PQTGESNGGNYGD’, ‘1’, ‘-‘, 12, 25),\n     (‘KRVPVAC’, ‘1’, ‘-‘, 26, 33),\n     (‘TVAQVRLNVATWEDFIAVCLRTCYWSSFCIMT’, ‘2’, ‘+’, 0, 32),\n     (‘ADNRQTTGIRTSHRQANQMVGTTEIESEFP’, ‘2’, ‘-‘, 0, 30),\n     (‘P’, ‘2’, ‘-‘, 31, 32)]</p>\n<p>Now we can load the list into <code style=\"color: inherit\">Pandas</code> and plot away:</p>\n",
      "cell_type": "markdown",
      "metadata": {
        "editable": false,
        "collapsed": false
      }
    },
    {
      "id": "cell-55",
      "source": [
        "import pandas as pd\n",
        "df = pd.DataFrame(flat_list,columns=['aa','frame','phase','start','end'])"
      ],
      "cell_type": "code",
      "execution_count": null,
      "outputs": [],
      "metadata": {
        "attributes": {
          "classes": [
            ""
          ],
          "id": ""
        }
      }
    },
    {
      "id": "cell-56",
      "source": "\n",
      "cell_type": "markdown",
      "metadata": {
        "editable": false,
        "collapsed": false
      }
    },
    {
      "id": "cell-57",
      "source": [
        "df"
      ],
      "cell_type": "code",
      "execution_count": null,
      "outputs": [],
      "metadata": {
        "attributes": {
          "classes": [
            ""
          ],
          "id": ""
        }
      }
    },
    {
      "id": "cell-58",
      "source": "<div>\n<style scoped=\"\">\n    .dataframe tbody tr th:only-of-type {\n        vertical-align: middle;\n    }\n\n    .dataframe tbody tr th {\n        vertical-align: top;\n    }\n\n    .dataframe thead th {\n        text-align: right;\n    }\n</style>\n<table border=\"1\" class=\"dataframe\">\n<thead>\n<tr style=\"text-align: right;\">\n<th></th>\n<th>aa</th>\n<th>frame</th>\n<th>phase</th>\n<th>start</th>\n<th>end</th>\n</tr>\n</thead>\n<tbody>\n<tr>\n<th>0</th>\n<td>RP</td>\n<td>0</td>\n<td>+</td>\n<td>0</td>\n<td>2</td>\n</tr>\n<tr>\n<th>1</th>\n<td>PKCV</td>\n<td>0</td>\n<td>+</td>\n<td>3</td>\n<td>7</td>\n</tr>\n<tr>\n<th>2</th>\n<td>MWLLGRISLRSVSVLVIGLLSAL</td>\n<td>0</td>\n<td>+</td>\n<td>8</td>\n<td>31</td>\n</tr>\n<tr>\n<th>3</th>\n<td>R</td>\n<td>0</td>\n<td>+</td>\n<td>32</td>\n<td>33</td>\n</tr>\n<tr>\n<th>4</th>\n<td>SLIIDKQQE</td>\n<td>0</td>\n<td>-</td>\n<td>0</td>\n<td>9</td>\n</tr>\n<tr>\n<th>5</th>\n<td>ELATDRRIKWWELRRLKASSRSL</td>\n<td>0</td>\n<td>-</td>\n<td>10</td>\n<td>33</td>\n</tr>\n<tr>\n<th>6</th>\n<td>DRSPSAFECGYLGGFHCGLSPYLLLVFFLHYDA</td>\n<td>1</td>\n<td>+</td>\n<td>0</td>\n<td>33</td>\n</tr>\n<tr>\n<th>7</th>\n<td>R</td>\n<td>1</td>\n<td>-</td>\n<td>0</td>\n<td>1</td>\n</tr>\n<tr>\n<th>8</th>\n<td></td>\n<td>1</td>\n<td>-</td>\n<td>2</td>\n<td>2</td>\n</tr>\n<tr>\n<th>9</th>\n<td>STNNRNKN</td>\n<td>1</td>\n<td>-</td>\n<td>3</td>\n<td>11</td>\n</tr>\n<tr>\n<th>10</th>\n<td>PQTGESNGGNYGD</td>\n<td>1</td>\n<td>-</td>\n<td>12</td>\n<td>25</td>\n</tr>\n<tr>\n<th>11</th>\n<td>KRVPVAC</td>\n<td>1</td>\n<td>-</td>\n<td>26</td>\n<td>33</td>\n</tr>\n<tr>\n<th>12</th>\n<td>TVAQVRLNVATWEDFIAVCLRTCYWSSFCIMT</td>\n<td>2</td>\n<td>+</td>\n<td>0</td>\n<td>32</td>\n</tr>\n<tr>\n<th>13</th>\n<td>ADNRQTTGIRTSHRQANQMVGTTEIESEFP</td>\n<td>2</td>\n<td>-</td>\n<td>0</td>\n<td>30</td>\n</tr>\n<tr>\n<th>14</th>\n<td>P</td>\n<td>2</td>\n<td>-</td>\n<td>31</td>\n<td>32</td>\n</tr>\n</tbody>\n</table>\n</div>\n<p>Now let’s plot it:</p>\n",
      "cell_type": "markdown",
      "metadata": {
        "editable": false,
        "collapsed": false
      }
    },
    {
      "id": "cell-59",
      "source": [
        "import altair as alt\n",
        "\n",
        "plus = alt.Chart(df[df['phase']=='+']).mark_rect().encode(\n",
        "    x = alt.X('start:Q'),\n",
        "    x2 = alt.X2('end:Q'),\n",
        "    y = alt.Y('frame:N'),\n",
        "    color='frame',\n",
        "    tooltip='aa:N'\n",
        "             ).properties(\n",
        "    width=600,\n",
        "    height=100)\n",
        "\n",
        "minus = alt.Chart(df[df['phase']=='-']).mark_rect().encode(\n",
        "    x = alt.X('start:Q',sort=alt.EncodingSortField('start:Q', order='descending')),\n",
        "    x2 = alt.X2('end:Q'),\n",
        "    y = alt.Y('frame:N'),\n",
        "    color='frame',\n",
        "    tooltip='aa:N'\n",
        "             ).properties(\n",
        "    width=600,\n",
        "    height=100)\n",
        "\n",
        "plus & minus"
      ],
      "cell_type": "code",
      "execution_count": null,
      "outputs": [],
      "metadata": {
        "attributes": {
          "classes": [
            ""
          ],
          "id": ""
        }
      }
    },
    {
      "id": "cell-60",
      "source": "<figure id=\"figure-1\" style=\"max-width: 90%;\"><div style=\"overflow-x: auto\"><object data=\"./images/orfs.svg\" type=\"image/svg+xml\" alt=\"ORFS. \">ORFS.</object></div><a target=\"_blank\" href=\"./images/orfs.svg\" rel=\"noopener noreferrer\"><small>Open image in new tab</small></a><br /><br /><figcaption><span class=\"figcaption-prefix\"><strong>Figure 1</strong>:</span> Translation on plus (top) and minus (bottom) strands.</figcaption></figure>\n",
      "cell_type": "markdown",
      "metadata": {
        "editable": false,
        "collapsed": false
      }
    },
    {
      "cell_type": "markdown",
      "id": "final-ending-cell",
      "metadata": {
        "editable": false,
        "collapsed": false
      },
      "source": [
        "# Key Points\n\n",
        "- Lists and dictionaries are key data structures in Python\n",
        "\n# Congratulations on successfully completing this tutorial!\n\n",
        "Please [fill out the feedback on the GTN website](https://training.galaxyproject.org/training-material/topics/data-science/tutorials/gnmx-lecture4/tutorial.html#feedback) and check there for further resources!\n"
      ]
    }
  ]
}