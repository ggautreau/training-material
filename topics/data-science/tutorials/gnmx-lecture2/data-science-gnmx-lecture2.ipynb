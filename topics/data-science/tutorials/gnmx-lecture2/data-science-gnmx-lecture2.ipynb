{
  "metadata": {},
  "nbformat": 4,
  "nbformat_minor": 5,
  "cells": [
    {
      "id": "metadata",
      "cell_type": "markdown",
      "source": "<div style=\"border: 2px solid #8A9AD0; margin: 1em 0.2em; padding: 0.5em;\">\n\n# Introduction to sequencing with Python (part one)\n\nby [Anton Nekrutenko](https://training.galaxyproject.org/hall-of-fame/nekrut/)\n\nCC-BY licensed content from the [Galaxy Training Network](https://training.galaxyproject.org/)\n\n**Objectives**\n\n- What are the origins of Sanger sequencing\n- How did sequencing machines evolve?\n- How can we simulate Sanger sequencing with Python?\n\n**Objectives**\n\n- Have a basic understanding of the history of sequencing\n- Understand Python basics\n\n**Time Estimation: 1h**\n</div>\n",
      "metadata": {
        "editable": false,
        "collapsed": false
      }
    },
    {
      "id": "cell-0",
      "source": "<p><a href=\"https://i.imgur.com/1PCleoW.png\" rel=\"noopener noreferrer\"><img src=\"https://i.imgur.com/1PCleoW.png\" alt=\"Imgur image. \" loading=\"lazy\" /></a></p>\n<h1 id=\"the-problem\">The problem</h1>\n<p>The difficulty with sequencing nucleic acids is nicely summarized by <a href=\"http://dx.doi.org/10.1093/nar/gkm688\">Hutchinson 2007</a>:</p>\n<ol>\n<li>The chemical properties of different DNA molecules were so similar that it appeared difficult to separate them.</li>\n<li>The chain length of naturally occurring DNA molecules was much greater than for proteins and made complete sequencing seem unapproachable.</li>\n<li>The 20 amino acid residues found in proteins have widely varying properties that had proven useful in the separation of peptides. The existence of only four bases in DNA therefore seemed to make sequencing a more difficult problem for DNA than for protein.</li>\n<li>No base-specific DNAases were known. Protein sequencing had depended upon proteases that cleave adjacent to certain amino acids.</li>\n</ol>\n<p>It is therefore not surprising that protein-sequencing was developed before DNA sequencing by <a href=\"https://www.ncbi.nlm.nih.gov/pmc/articles/PMC1197535/\">Sanger and Tuppy 1951</a>.</p>\n<p>tRNA was the first complete nucleic acid sequenced (see pioneering work of <a href=\"http://www.jstor.org/stable/1715055\">Robert Holley and colleagues</a> and also <a href=\"https://www.nobelprize.org/nobel_prizes/medicine/laureates/1968/holley-lecture.pdf\">Holley’s Nobel Lecture</a>). Conceptually, Holley’s approach was similar to Sanger’s protein sequencing: break molecule into small pieces with RNases, determine sequences of small fragments, and use overlaps between fragments to reconstruct (assemble) the final nucleotide sequence.</p>\n<p>The work on finding approaches to sequencing DNA molecules began in the late 60s and early 70s. One of the earliest contributions has been made by Ray Wu (Cornell) and Dave Kaiser (Stanford), who used <em>E. coli</em> DNA polymerase to <a href=\"http://www.sciencedirect.com/science/article/pii/S0022283668800129?via%3Dihub\">incorporate radioactively labelled nucleotides into protruding ends of bacteriphage lambda</a>. It took several more years for the development of more “high throughput” technologies by Sanger and Maxam/Gilbert. The Sanger technique has ultimately won over Maxam/Gilbert’s protocol due to its relative simplicity (once dideoxynucleotides has become commercially available) and the fact that it required a smaller amount of starting material as the polymerase was used to generate fragments necessary for sequence determination.</p>\n<h1 id=\"sangercoulson-plusminus-method\">Sanger/Coulson plus/minus method</h1>\n<blockquote class=\"comment\" style=\"border: 2px solid #ffecc1; margin: 1em 0.2em\">\n<div class=\"box-title comment-title\" id=\"comment-two-nobel-prizes\"><i class=\"far fa-comment-dots\" aria-hidden=\"true\" ></i> Comment: Two Nobel prizes</div>\n<p><a href=\"https://www.nature.com/articles/505027a\">Fred Sanger</a> is one of only <a href=\"https://en.wikipedia.org/wiki/Category:Nobel_laureates_with_multiple_Nobel_awards\">four people</a>, who received two Nobel Prizes in their original form (for scientific, not societal, breakthroughs).</p>\n</blockquote>\n<p>This method builds on the idea of Wu and Kaiser (for <em>minus</em> part) and on the special property of DNA polymerase isolated from phage T4 (for <em>plus</em> part). The schematics of the method is given in the following figure (from <a href=\"http://www.sciencedirect.com/science/article/pii/0022283675902132?via%3Dihub\">Sanger &amp; Coulson: 1975</a>):</p>\n<figure id=\"figure-1\" style=\"max-width: 90%;\"><img src=\"./images/sanger_plus_minus.png\" alt=\"Plus/minus method. \" width=\"619\" height=\"898\" loading=\"lazy\" /><a target=\"_blank\" href=\"./images/sanger_plus_minus.png\" rel=\"noopener noreferrer\"><small>Open image in new tab</small></a><br /><br /><figcaption><span class=\"figcaption-prefix\"><strong>Figure 1</strong>:</span> Plus/minus method (from Sanger &amp; Coulson 1975)</figcaption></figure>\n<p>In this method, a primer and DNA polymerase is used to synthesize DNA in the presence of P<sup>32</sup>-labeled nucleotides (only one of four is labeled). This generates P<sup>32</sup>-labeled copies of DNA being sequenced. These are then purified and (without denaturing) separated into two groups: <em>minus</em> and <em>plus</em>. Each group is further divided into four equal parts.</p>\n<p>In the case of <em>minus</em> polymerase a mix of nucleotides minus one is added to each of the four aliquotes: ACG (-T), ACT (-G), CGT (-A), AGT (-C). As a result in each case DNA strand is extended up to a missing nucleotide.</p>\n<p>In the case of plus only one nucleotide is added to each of the four aliquotes (+A, +C, +G, and +T) and T4 DNA polymerase is used. T4 DNA polymerase acts as an exonuclease that would degrade DNA\nfrom 3’-end up to a nucleotide that is supplied in the reaction.</p>\n<p>The products of these are loaded into a denaturing polyacrylamide gel as eight tracks (four for minus and four for plus; from <a href=\"http://www.sciencedirect.com/science/article/pii/0022283675902132?via%3Dihub\">Sanger &amp; Coulson: 1975</a>):</p>\n<figure id=\"figure-2\" style=\"max-width: 90%;\"><img src=\"./images/sanger_plus_minus_gel.png\" alt=\"Plus/minus gel. \" width=\"1008\" height=\"1107\" loading=\"lazy\" /><a target=\"_blank\" href=\"./images/sanger_plus_minus_gel.png\" rel=\"noopener noreferrer\"><small>Open image in new tab</small></a><br /><br /><figcaption><span class=\"figcaption-prefix\"><strong>Figure 2</strong>:</span> Plus/minus method gel radiograph (from Sanger &amp; Coulson 1975)</figcaption></figure>\n<h1 id=\"maxamgilbert-chemical-cleavage-method\">Maxam/Gilbert chemical cleavage method</h1>\n<p>In this method DNA is terminally labeled with P<sup>32</sup>, separated into four equal aliquotes.  Two of these are treated with <a href=\"https://en.wikipedia.org/wiki/Dimethyl_sulfate\">Dimethyl sulfate (DMSO)</a> and the remaining two are treated with <a href=\"https://en.wikipedia.org/wiki/Hydrazine\">hydrazine</a>.</p>\n<p>DMSO methylates G and A residues. Treatment of DMSO-incubated DNA with alkali at high temperature will break DNA chains at G and A with Gs being preferentially broken, while treatment of DMSO-incubated DNA with acid will preferentially break DNA at As. Likewise treating hydrazine-incubated DNA with <a href=\"https://en.wikipedia.org/wiki/Piperidine\">piperidine</a> breaks DNA at C and T, while DNA treated with hydrazine in the presence of NaCl preferentially breaks at Cs. The four reactions are then loaded on a gel generating the following picture (from <a href=\"https://www.ncbi.nlm.nih.gov/pmc/articles/PMC392330/pdf/pnas00024-0174.pdf\">Maxam &amp; Gilbert: 1977</a>):</p>\n<figure id=\"figure-3\" style=\"max-width: 90%;\"><img src=\"./images/maxam_gilbert.jpeg\" alt=\"Maxam/Gilbert gel. \" width=\"1201\" height=\"1148\" loading=\"lazy\" /><a target=\"_blank\" href=\"./images/maxam_gilbert.jpeg\" rel=\"noopener noreferrer\"><small>Open image in new tab</small></a><br /><br /><figcaption><span class=\"figcaption-prefix\"><strong>Figure 3</strong>:</span> Radiograph of Maxam/Gilbert gel (from Maxam &amp; Gilbert 1977)</figcaption></figure>\n<h1 id=\"sanger-dideoxy-method\">Sanger dideoxy method</h1>\n<p>The original Sanger +/- method was not popular and had a number of technical limitations. In a new approach, Sanger took advantage of inhibitors that stop the extension of a DNA strand at particular nucleotides.\nThese inhibitors are dideoxy analogs of normal nucleotide triphosphates (from <a href=\"https://www.ncbi.nlm.nih.gov/pmc/articles/PMC431765/pdf/pnas00043-0271.pdf\">Sanger et al. 1977</a>):</p>\n<figure id=\"figure-4\" style=\"max-width: 90%;\"><img src=\"./images/sanger_ddN.png\" alt=\"Sanger ddN. \" width=\"918\" height=\"792\" loading=\"lazy\" /><a target=\"_blank\" href=\"./images/sanger_ddN.png\" rel=\"noopener noreferrer\"><small>Open image in new tab</small></a><br /><br /><figcaption><span class=\"figcaption-prefix\"><strong>Figure 4</strong>:</span> Sanger ddNTP gel (from Sanger et al. 1977)</figcaption></figure>\n<h1 id=\"original-approaches-were-laborious\">Original approaches were laborious</h1>\n<p>In the original <a href=\"https://www.ncbi.nlm.nih.gov/pmc/articles/PMC431765/pdf/pnas00043-0271.pdf\">Sanger paper</a> the authors sequenced bacteriophage phiX174 by using its own restriction fragments as primers. This was an ideal set up to show the proof of principle for the new method. This is because phiX174 DNA is homogeneous and can be isolated in large quantities. Now suppose that you would like to sequence a larger genome (say <em>E. coli</em>). Remember that the original version of Sanger method can only sequence fragments up to 200 nucleotides at a time. So to sequence the entire <em>E. coli</em> genome (which by-the-way was not sequenced until <a href=\"http://science.sciencemag.org/content/277/5331/1453\">1997</a>) you would need to split the genome into multiple pieces and sequence each of them individually. This is hard because to produce a readable Sanger sequencing gel each sequence must be amplified to a suitable amount (around 1 nanogram) and be homogeneous (you cannot mix multiple DNA fragments in a single reaction as it will be impossible to interpret the gel). Molecular cloning enabled by the availability of commercially available restriction enzymes and cloning vectors simplified this process. Until the onset of next generation sequencing in 2005 the process for sequencing looked something like this:</p>\n<ul>\n<li>(<strong>1</strong>) - Generate a collection of fragments you want to sequence. It can be a collection of fragments from a genome that was mechanically sheared or just a single fragment generated by PCR.</li>\n<li>(<strong>2</strong>) - These fragment(s) are then cloned into a plasmid vector (we will talk about other types of vectors such as BACs later in the course).</li>\n<li>(<strong>3</strong>) - Vectors are transformed into bacterial cells and positive colonies (containing vectors with insert) are picked from an agar plate.</li>\n<li>(<strong>4</strong>) - Each colony now represents a unique piece of DNA.</li>\n<li>(<strong>5</strong>) - An individual colony is used to seed a bacterial culture that is grown overnight.</li>\n<li>(<strong>6</strong>) - Plasmid DNA is isolated from this culture and now can be used for sequencing because it is (1) homogeneous and (2) we now have a sufficient amount.</li>\n<li>(<strong>7</strong>) - It is sequenced using universal primers. For example, the image below shows a map for pGEM-3Z plasmid (a pUC18 derivative). Its multiple cloning site is enlarged and sites for <strong>T7</strong> and <strong>SP6</strong> sequencing primers are shown.</li>\n<li>These are the <strong>pads</strong> I’m referring to in the lecture. These provide universal sites that can be used to sequence any insert in between.</li>\n</ul>\n<figure id=\"figure-5\" style=\"max-width: 90%;\"><img src=\"./images/pgem3z.png\" alt=\"pGEM3z. \" width=\"640\" height=\"434\" loading=\"lazy\" /><a target=\"_blank\" href=\"./images/pgem3z.png\" rel=\"noopener noreferrer\"><small>Open image in new tab</small></a><br /><br /><figcaption><span class=\"figcaption-prefix\"><strong>Figure 5</strong>:</span> Map of pGEM-3Z cloning vector (from Promega Inc.)</figcaption></figure>\n<p>Until the invention of NGS the above protocol was followed with some degree of automation. But you can see that it was quite laborious if the large number of fragments needed to be sequenced. This is because each of them needed to be subcloned and handled separately. This is in part why the Human Genome Project, which will be discussed in future lectures in detail, took so much time to complete.</p>\n<h1 id=\"evolution-of-sequencing-machines\">Evolution of sequencing machines</h1>\n<p>The simplest possible sequencing machine is a <a href=\"https://en.wikipedia.org/wiki/Polyacrylamide_gel_electrophoresis\">gel rig with polyacrylamide gel</a>. Sanger used it is his protocol obtaining the following results (from <a href=\"https://www.ncbi.nlm.nih.gov/pmc/articles/PMC431765/pdf/pnas00043-0271.pdf\">Sanger et al. 1977</a>):</p>\n<figure id=\"figure-6\" style=\"max-width: 90%;\"><img src=\"./images/sanger_gel.png\" alt=\"Sanger gel. \" width=\"359\" height=\"762\" loading=\"lazy\" /><a target=\"_blank\" href=\"./images/sanger_gel.png\" rel=\"noopener noreferrer\"><small>Open image in new tab</small></a><br /><br /><figcaption><span class=\"figcaption-prefix\"><strong>Figure 6</strong>:</span> Typical polyacrylamide gel separating DNA fragments generate with Sanger's dideoxy method (from Sanger et al. 1977)</figcaption></figure>\n<p>Here for sequencing each fragment four separate reactions are performed (with ddA, ddT, ggC, and ddG) and four lanes on the gel are used. <a href=\"http://www.jstor.org/stable/pdf/2879539.pdf\">One simplification of this process</a> that\ncame in the 90s was to use fluorescently labeled dideoxy nucleotides. This is easier because everything can be performed in a single tube and uses a single lane on a gel\n(from Applied Biosystems <a href=\"https://www3.appliedbiosystems.com/cms/groups/mcb_support/documents/generaldocuments/cms_041003.pdf\">support site</a>):</p>\n<figure id=\"figure-7\" style=\"max-width: 90%;\"><img src=\"./images/gel_versus_chromotogram.png\" alt=\"PA versus chromotogram. \" width=\"605\" height=\"282\" loading=\"lazy\" /><a target=\"_blank\" href=\"./images/gel_versus_chromotogram.png\" rel=\"noopener noreferrer\"><small>Open image in new tab</small></a><br /><br /><figcaption><span class=\"figcaption-prefix\"><strong>Figure 7</strong>:</span> Comparison between a chromatogram and a polyacrylamide gel readouts (from Applied Biosystems)</figcaption></figure>\n<p>However, there is still substantial labor involved in pouring the gels, loading them, running machines, and cleaning everything post-run. A significant improvement was offered by the development of capillary electrophoresis allowing automation of liquid handling and sample loading. Although several manufacturers have been developing and selling such machines a <em>de facto</em> standard in this area was (and still is) the Applied Biosystems (ABI) Genetics and DNA Analyzer systems. The highest throughput ABI system, 3730<em>xl</em>, had 96 capillaries and could automatically process 384 samples.</p>\n<h1 id=\"ngs\">NGS!</h1>\n<p>384 samples may sound like a lot, but it is nothing if we are sequencing an entire genome. The beauty of NGS is that these technologies are not bound by sample handling logistics. They still require the preparation of libraries,\nbut once a library is made (which can be automated) it is processed more or less automatically to generate multiple copies of each fragment\n(in the case of 454, Illumina, Ion Torrent, PacBio, Oxford Nanopore, Element, Complete Genomics etc…) and loaded onto the machine, where millions of individual fragments are sequenced simultaneously.\nWe will learn about these technologies later in this course.</p>\n<h1 id=\"reading\">Reading</h1>\n<ul>\n<li>2001 <a href=\"http://genome.cshlp.org/content/11/1/3\">Overview of pyrosequencing methodology - Ronaghi</a></li>\n<li>2005 <a href=\"http://www.nature.com/nature/journal/v437/n7057/pdf/nature03959.pdf\">Description of 454 process - Margulies et al.</a></li>\n<li>2007 <a href=\"http://link.springer.com/protocol/10.1385/1-59745-377-3:1\">History of pyrosequencing - Pål Nyrén</a></li>\n<li>2007 <a href=\"http://genomebiology.com/content/pdf/gb-2007-8-7-r143.pdf\">Errors in 454 data - Huse et al. </a></li>\n<li>2010 <a href=\"http://bioinformatics.oxfordjournals.org/content/26/18/i420.full.pdf+html\">Properties of 454 data - Balzer et al.</a></li>\n</ul>\n<h2 id=\"a-few-classical-papers\">A few classical papers</h2>\n<p>In a series of now classical papers (<a href=\"http://genome.cshlp.org/content/8/3/175.full\">Paper 1</a>, <a href=\"http://genome.cshlp.org/content/8/3/186.full\">Paper2</a>) Philip Green and co-workers have developed a quantitative framework for the analysis of data generated by automated DNA sequencers:</p>\n<figure id=\"figure-8\" style=\"max-width: 90%;\"><img src=\"./images/phred1.png\" alt=\"phred1. \" width=\"592\" height=\"326\" loading=\"lazy\" /><a target=\"_blank\" href=\"./images/phred1.png\" rel=\"noopener noreferrer\"><small>Open image in new tab</small></a><br /><br /><figcaption><span class=\"figcaption-prefix\"><strong>Figure 8</strong>:</span> The first paper</figcaption></figure>\n<figure id=\"figure-9\" style=\"max-width: 90%;\"><img src=\"./images/phred2.png\" alt=\"phred2. \" width=\"793\" height=\"385\" loading=\"lazy\" /><a target=\"_blank\" href=\"./images/phred2.png\" rel=\"noopener noreferrer\"><small>Open image in new tab</small></a><br /><br /><figcaption><span class=\"figcaption-prefix\"><strong>Figure 9</strong>:</span> The second paper</figcaption></figure>\n<p>In particular, they developed a standard metric for describing the reliability of base calls:</p>\n<p>An important technical aspect of our work is the use of log-transformed error probabilities rather than untransformed ones, which facilitates working with error rates in the range of most importance (very close to 0).\nSpecifically, we define the quality value \\(q\\) assigned to a base-call to be:</p>\n\n\\[q = -10\\times log\\_{10}(p)\\]\n<p>where \\(p\\) is the estimated error probability for that base-call. Thus a base-call having a probability of 1/1000 of being incorrect is assigned a quality value of 30. Note that high-quality values correspond to low error probabilities, and conversely.</p>\n<p>We will be using the concept of “<em>quality score</em>” or “<em>phred-scaled quality score</em>” repeatedly in this course.</p>\n<h2 id=\"myers---green-debate\">Myers - Green debate</h2>\n<p>Can we sequence a genome using the shotgun approach?</p>\n<figure id=\"figure-10\" style=\"max-width: 90%;\"><img src=\"./images/myers_versus_green.png\" alt=\"Myers/Green debate. \" width=\"923\" height=\"687\" loading=\"lazy\" /><a target=\"_blank\" href=\"./images/myers_versus_green.png\" rel=\"noopener noreferrer\"><small>Open image in new tab</small></a><br /><br /><figcaption><span class=\"figcaption-prefix\"><strong>Figure 10</strong>:</span> Gene Myers versus Phil Green</figcaption></figure>\n<h1 id=\"simulating-sanger-sequencing-with-python\">Simulating Sanger sequencing with Python</h1>\n<p><a href=\"https://xkcd.com/1306\"><a href=\"https://imgs.xkcd.com/comics/sigil_cycle.png\" rel=\"noopener noreferrer\"><img src=\"https://imgs.xkcd.com/comics/sigil_cycle.png\" alt=\"xkcd1306. \" loading=\"lazy\" /></a></a></p>\n<p>In this lesson we will cover some of the fundamental Python basics including variables, expressions, statements, and functions.</p>\n<h2 id=\"prep\">Prep</h2>\n<ol>\n<li>Start <a href=\"https://mybinder.org/v2/gh/jupyterlab/jupyterlab-demo/try.jupyter.org?urlpath=lab\">JupyterLab</a></li>\n<li>Within JupyterLab start a new Python3 notebook</li>\n</ol>\n<h2 id=\"preclass-prep-chapters-1-2-3-from-think-python\">Preclass prep: Chapters <a href=\"https://greenteapress.com/thinkpython2/html/thinkpython2002.html\">1</a>, <a href=\"https://greenteapress.com/thinkpython2/html/thinkpython2003.html\">2</a>, <a href=\"https://greenteapress.com/thinkpython2/html/thinkpython2004.html\">3</a> from “Think Python”</h2>\n<h2 id=\"indentation-is-everything\"><a href=\"https://peps.python.org/pep-0008/#indentation\">Indentation</a> is everything!</h2>\n<blockquote class=\"warning\" style=\"border: 2px solid #de8875; margin: 1em 0.2em\">\n<div class=\"box-title warning-title\" id=\"warning-indentation-or-bust\"><i class=\"fas fa-exclamation-triangle\" aria-hidden=\"true\" ></i> Warning: Indentation or bust!</div>\n<p>Python is an indented language: code blocks are defined using indentation with <a href=\"https://peps.python.org/pep-0008/#tabs-or-spaces\">spaces</a>!</p>\n</blockquote>\n<p>In Python, indentation is used to indicate the scope of control structures such as <code style=\"color: inherit\">for</code> loops, <code style=\"color: inherit\">if</code> statements, and function and class definitions. The amount of indentation is not fixed, but it must be consistent within a block of code.\nThe recommended amount of indentation is 4 spaces, although some developers prefer to use 2 spaces. Indenting is important in Python because it is used to indicate the level of nesting and structure of the code,\nwhich makes it easier to read and understand. Additionally, indentation is also used to indicate which lines of code are executed together as a block.</p>\n<h2 id=\"the-storyline\">The storyline</h2>\n<p>In this lecture, we will re-implement our Sanger sequencing simulator from the previous lecture and generate realistic gel images.</p>\n<h2 id=\"generate-a-random-sequence\">Generate a random sequence</h2>\n<p>First, we import a module called <a href=\"https://docs.python.org/3/library/random.html\"><code class=\"language-plaintext highlighter-rouge\">random</code></a> which contains a number of functions for generating and working with random numbers</p>\n",
      "cell_type": "markdown",
      "metadata": {
        "editable": false,
        "collapsed": false
      }
    },
    {
      "id": "cell-1",
      "source": [
        "import random"
      ],
      "cell_type": "code",
      "execution_count": null,
      "outputs": [],
      "metadata": {
        "attributes": {
          "classes": [
            "# The problem"
          ],
          "id": ""
        }
      }
    },
    {
      "id": "cell-2",
      "source": "<p>Next, we will write a simple loop that would generate a sequence of pre-set lengths:</p>\n",
      "cell_type": "markdown",
      "metadata": {
        "editable": false,
        "collapsed": false
      }
    },
    {
      "id": "cell-3",
      "source": [
        "seq = ''\n",
        "for _ in range(100):\n",
        "    seq += random.choice('ATCG')"
      ],
      "cell_type": "code",
      "execution_count": null,
      "outputs": [],
      "metadata": {
        "attributes": {
          "classes": [
            "# The problem"
          ],
          "id": ""
        }
      }
    },
    {
      "id": "cell-4",
      "source": "\n",
      "cell_type": "markdown",
      "metadata": {
        "editable": false,
        "collapsed": false
      }
    },
    {
      "id": "cell-5",
      "source": [
        "seq"
      ],
      "cell_type": "code",
      "execution_count": null,
      "outputs": [],
      "metadata": {
        "attributes": {
          "classes": [
            "# The problem"
          ],
          "id": ""
        }
      }
    },
    {
      "id": "cell-6",
      "source": "<div class=\"language-plaintext highlighter-rouge\"><div><pre style=\"color: inherit; background: transparent\"><code style=\"color: inherit\">CTTGCGGCTATAGGAATAAAAGGCTTTGCGGGTAGTGACCGCGCCGCGTATGTAATTCATGGGTGTCGTCGCGCCCTCACAACTGCAAGGTCGTGGCACC\n</code></pre></div></div>\n<h2 id=\"simulate-one-polymerase-molecule\">Simulate one polymerase molecule</h2>\n<p>The code below iterates through each element of a sequence <code style=\"color: inherit\">seq</code> (assumed to be a string containing nucleotides) and it checks if the current nucleotide is equal to ‘A’. If it is, it generates a random number between 0 and 1 using the <code style=\"color: inherit\">random.random()</code> function.</p>\n<p>It then checks if the random number is greater than 0.5. If it is, the code does nothing and proceeds to the next iteration. If the random number is less than or equal to 0.5, the code adds the\nlowercase version of the nucleotide (‘a’) to a string called <code style=\"color: inherit\">synthesized_strand</code> and then breaks out of the loop.</p>\n<p>In every iteration of the loop, regardless of whether the nucleotide is ‘A’ or not, the code then adds the current nucleotide to the <code style=\"color: inherit\">synthesized_strand</code> string.</p>\n<p>This means that when the current nucleotide is ‘A’, then the generated random number will decide whether the code will add the nucleotide ‘A’ or ‘a’ to the <code style=\"color: inherit\">synthesized_strand</code>, and it will break out of the loop\nafter adding the nucleotide to the <code style=\"color: inherit\">synthesized_strand</code>. To get a good idea of what is going on let’s visualize the code execution in</p>\n",
      "cell_type": "markdown",
      "metadata": {
        "editable": false,
        "collapsed": false
      }
    },
    {
      "id": "cell-7",
      "source": [
        "synthesized_strand = ''\n",
        "\n",
        "for nucleotide in seq:\n",
        "    if nucleotide == 'A':\n",
        "        d_or_dd = random.random()\n",
        "        if d_or_dd > 0.5:\n",
        "            None\n",
        "        else:\n",
        "            synthesized_strand += 'a'\n",
        "            break\n",
        "    synthesized_strand += nucleotide"
      ],
      "cell_type": "code",
      "execution_count": null,
      "outputs": [],
      "metadata": {
        "attributes": {
          "classes": [
            "# The problem"
          ],
          "id": ""
        }
      }
    },
    {
      "id": "cell-8",
      "source": "<p>This can be simplified by first removing <code style=\"color: inherit\">d_or_dd</code> variable:</p>\n",
      "cell_type": "markdown",
      "metadata": {
        "editable": false,
        "collapsed": false
      }
    },
    {
      "id": "cell-9",
      "source": [
        "synthesized_strand = ''\n",
        "for nucleotide in seq:\n",
        "    if nucleotide == 'A':\n",
        "        if random.random() > 0.5:\n",
        "            None\n",
        "        else:\n",
        "            synthesized_strand += 'a'\n",
        "            break\n",
        "    synthesized_strand += nucleotide\n",
        "print(synthesized_strand)"
      ],
      "cell_type": "code",
      "execution_count": null,
      "outputs": [],
      "metadata": {
        "attributes": {
          "classes": [
            "# The problem"
          ],
          "id": ""
        }
      }
    },
    {
      "id": "cell-10",
      "source": "<div class=\"language-plaintext highlighter-rouge\"><div><pre style=\"color: inherit; background: transparent\"><code style=\"color: inherit\">CTTGCGGCTATa\n</code></pre></div></div>\n<p>and removing an unnecessary group of <code style=\"color: inherit\">if ... else</code> statements:</p>\n",
      "cell_type": "markdown",
      "metadata": {
        "editable": false,
        "collapsed": false
      }
    },
    {
      "id": "cell-11",
      "source": [
        "synthesized_strand = ''\n",
        "for nucleotide in seq:\n",
        "    if nucleotide == 'A' and random.random() > 0.5:\n",
        "        synthesized_strand += 'a'\n",
        "        break\n",
        "    synthesized_strand += nucleotide\n",
        "print(synthesized_strand)"
      ],
      "cell_type": "code",
      "execution_count": null,
      "outputs": [],
      "metadata": {
        "attributes": {
          "classes": [
            "# The problem"
          ],
          "id": ""
        }
      }
    },
    {
      "id": "cell-12",
      "source": "<div class=\"language-plaintext highlighter-rouge\"><div><pre style=\"color: inherit; background: transparent\"><code style=\"color: inherit\">CTTGCGGCTATAGGAATa\n</code></pre></div></div>\n<p>finally let’s make <code style=\"color: inherit\">synthesized_strand += 'a'</code> a bit more generic:</p>\n",
      "cell_type": "markdown",
      "metadata": {
        "editable": false,
        "collapsed": false
      }
    },
    {
      "id": "cell-13",
      "source": [
        "synthesized_strand = ''\n",
        "for nucleotide in seq:\n",
        "    if nucleotide == 'A' and random.random() > 0.5:\n",
        "        synthesized_strand += nucleotide.lower()\n",
        "        break\n",
        "    synthesized_strand += nucleotide\n",
        "print(synthesized_strand)"
      ],
      "cell_type": "code",
      "execution_count": null,
      "outputs": [],
      "metadata": {
        "attributes": {
          "classes": [
            "# The problem"
          ],
          "id": ""
        }
      }
    },
    {
      "id": "cell-14",
      "source": "<p>CTTGCGGCTATAGGa</p>\n<h2 id=\"simulating-multiple-molecules\">Simulating multiple molecules</h2>\n<p>To simulate 10 polymerase molecules we simply wrap the code from above into a <code style=\"color: inherit\">for</code> loop:</p>\n",
      "cell_type": "markdown",
      "metadata": {
        "editable": false,
        "collapsed": false
      }
    },
    {
      "id": "cell-15",
      "source": [
        "for _ in range(10):\n",
        "    synthesized_strand = ''\n",
        "    for nucleotide in seq:\n",
        "        if nucleotide == 'A' and random.random() > 0.5:\n",
        "            synthesized_strand += nucleotide.lower()\n",
        "            break\n",
        "        synthesized_strand += nucleotide\n",
        "    print(synthesized_strand)"
      ],
      "cell_type": "code",
      "execution_count": null,
      "outputs": [],
      "metadata": {
        "attributes": {
          "classes": [
            "# The problem"
          ],
          "id": ""
        }
      }
    },
    {
      "id": "cell-16",
      "source": "<p>CTTGCGGCTa\n    CTTGCGGCTa\n    CTTGCGGCTa\n    CTTGCGGCTa\n    CTTGCGGCTa\n    CTTGCGGCTa\n    CTTGCGGCTATa\n    CTTGCGGCTATAGGa\n    CTTGCGGCTa\n    CTTGCGGCTa</p>\n<p>One problem with this code is that does not actually save the newly synthesized strand: it simply prints it. To fix this we will create a <a href=\"https://greenteapress.com/thinkpython2/html/thinkpython2011.html\">list</a>\n(or an array) called <code style=\"color: inherit\">new_strands</code> and initialize it by assigning an empty array to it:</p>\n",
      "cell_type": "markdown",
      "metadata": {
        "editable": false,
        "collapsed": false
      }
    },
    {
      "id": "cell-17",
      "source": [
        "new_strands = []\n",
        "for _ in range(10):\n",
        "    synthesized_strand = ''\n",
        "    for nucleotide in seq:\n",
        "        if nucleotide == 'A' and random.random() > 0.5:\n",
        "            synthesized_strand += nucleotide.lower()\n",
        "            break\n",
        "        synthesized_strand += nucleotide\n",
        "    new_strands.append(synthesized_strand)"
      ],
      "cell_type": "code",
      "execution_count": null,
      "outputs": [],
      "metadata": {
        "attributes": {
          "classes": [
            "# The problem"
          ],
          "id": ""
        }
      }
    },
    {
      "id": "cell-18",
      "source": "\n",
      "cell_type": "markdown",
      "metadata": {
        "editable": false,
        "collapsed": false
      }
    },
    {
      "id": "cell-19",
      "source": [
        "new_strands"
      ],
      "cell_type": "code",
      "execution_count": null,
      "outputs": [],
      "metadata": {
        "attributes": {
          "classes": [
            "# The problem"
          ],
          "id": ""
        }
      }
    },
    {
      "id": "cell-20",
      "source": "<p>[‘CTTGCGGCTa’,\n     ‘CTTGCGGCTa’,\n     ‘CTTGCGGCTATAGGAATAa’,\n     ‘CTTGCGGCTATAGGAATa’,\n     ‘CTTGCGGCTATa’,\n     ‘CTTGCGGCTATAGGa’,\n     ‘CTTGCGGCTATAGGa’,\n     ‘CTTGCGGCTATa’,\n     ‘CTTGCGGCTATAGGa’,\n     ‘CTTGCGGCTa’]</p>\n<h2 id=\"simulating-multiple-molecules-and-all-nucleotides\">Simulating multiple molecules and all nucleotides</h2>\n<p>And to repeat this for the remaining three nucleotides we will do the following crazy thing:</p>\n",
      "cell_type": "markdown",
      "metadata": {
        "editable": false,
        "collapsed": false
      }
    },
    {
      "id": "cell-21",
      "source": [
        "new_strands = []\n",
        "for _ in range(10):\n",
        "    synthesized_strand = ''\n",
        "    for nucleotide in seq:\n",
        "        if nucleotide == 'A' and random.random() > 0.5:\n",
        "            synthesized_strand += nucleotide.lower()\n",
        "            break\n",
        "        synthesized_strand += nucleotide\n",
        "    new_strands.append(synthesized_strand)\n",
        "\n",
        "for _ in range(10):\n",
        "    synthesized_strand = ''\n",
        "    for nucleotide in seq:\n",
        "        if nucleotide == 'C' and random.random() > 0.5:\n",
        "            synthesized_strand += nucleotide.lower()\n",
        "            break\n",
        "        synthesized_strand += nucleotide\n",
        "    new_strands.append(synthesized_strand)\n",
        "\n",
        "for _ in range(10):\n",
        "    synthesized_strand = ''\n",
        "    for nucleotide in seq:\n",
        "        if nucleotide == 'G' and random.random() > 0.5:\n",
        "            synthesized_strand += nucleotide.lower()\n",
        "            break\n",
        "        synthesized_strand += nucleotide\n",
        "    new_strands.append(synthesized_strand)\n",
        "\n",
        "for _ in range(10):\n",
        "    synthesized_strand = ''\n",
        "    for nucleotide in seq:\n",
        "        if nucleotide == 'T' and random.random() > 0.5:\n",
        "            synthesized_strand += nucleotide.lower()\n",
        "            break\n",
        "        synthesized_strand += nucleotide\n",
        "    new_strands.append(synthesized_strand)"
      ],
      "cell_type": "code",
      "execution_count": null,
      "outputs": [],
      "metadata": {
        "attributes": {
          "classes": [
            "# The problem"
          ],
          "id": ""
        }
      }
    },
    {
      "id": "cell-22",
      "source": "\n",
      "cell_type": "markdown",
      "metadata": {
        "editable": false,
        "collapsed": false
      }
    },
    {
      "id": "cell-23",
      "source": [
        "len(new_strands)"
      ],
      "cell_type": "code",
      "execution_count": null,
      "outputs": [],
      "metadata": {
        "attributes": {
          "classes": [
            "# The problem"
          ],
          "id": ""
        }
      }
    },
    {
      "id": "cell-24",
      "source": "<p>40</p>\n<p>Repeating the same code four times is just plain stupid so instead we will write a function called <code style=\"color: inherit\">polymerase</code>. Here we need to worry about the scope of variables.  The scope of a variable refers to the regions\nof the code where the variable can be accessed or modified. Variables that are defined within a certain block of code (such as a function or a loop) are said to have a <em>local</em> scope, meaning that they can\nonly be accessed within that block of code. Variables that are defined outside of any block of code are said to have a <em>global</em> scope, meaning that they can be accessed from anywhere in the code.</p>\n<p>In most programming languages, a variable defined within a function has a local scope, and it can only be accessed within that function. If a variable with the same name is defined outside the function,\nit will have a global scope and can be accessed from anywhere in the code. However, if a variable with the same name is defined within the function, it will take precedence over the global variable and will be used within the function.</p>\n<p>There are also some languages that have block scope, where a variable defined within a block (such as an if statement or a for loop) can only be accessed within that block and not outside of it.</p>\n<p>In Python, variables defined in the main module have a global scope and can be accessed from any function or module. Variables defined within a function have local scope, and they can only be\naccessed within that function. Variables defined within a loop or a block can be accessed only within the scope of the loop or block.</p>\n",
      "cell_type": "markdown",
      "metadata": {
        "editable": false,
        "collapsed": false
      }
    },
    {
      "id": "cell-25",
      "source": [
        "def ddN(number_of_iterations, template, base, ddN_ratio):\n",
        "    new_strands = []\n",
        "    for _ in range(number_of_iterations):\n",
        "        synthesized_strand = ''\n",
        "        for nucleotide in template:\n",
        "            if nucleotide == base and random.random() > ddN_ratio:\n",
        "                synthesized_strand += nucleotide.lower()\n",
        "                break\n",
        "            synthesized_strand += nucleotide\n",
        "        new_strands.append(synthesized_strand)\n",
        "    return(new_strands)"
      ],
      "cell_type": "code",
      "execution_count": null,
      "outputs": [],
      "metadata": {
        "attributes": {
          "classes": [
            "# The problem"
          ],
          "id": ""
        }
      }
    },
    {
      "id": "cell-26",
      "source": "\n",
      "cell_type": "markdown",
      "metadata": {
        "editable": false,
        "collapsed": false
      }
    },
    {
      "id": "cell-27",
      "source": [
        "ddN(10,seq,'A',0.5)"
      ],
      "cell_type": "code",
      "execution_count": null,
      "outputs": [],
      "metadata": {
        "attributes": {
          "classes": [
            "# The problem"
          ],
          "id": ""
        }
      }
    },
    {
      "id": "cell-28",
      "source": "<p>[‘CTTGCGGCTATAGGa’,\n     ‘CTTGCGGCTATa’,\n     ‘CTTGCGGCTATa’,\n     ‘CTTGCGGCTATAGGAATa’,\n     ‘CTTGCGGCTa’,\n     ‘CTTGCGGCTa’,\n     ‘CTTGCGGCTa’,\n     ‘CTTGCGGCTATa’,\n     ‘CTTGCGGCTATAGGa’,\n     ‘CTTGCGGCTATa’]</p>\n<p>To execute this function on all four types of ddNTPs with need to wrap it in a <code style=\"color: inherit\">for</code> loop iterating over the four possibilities:</p>\n",
      "cell_type": "markdown",
      "metadata": {
        "editable": false,
        "collapsed": false
      }
    },
    {
      "id": "cell-29",
      "source": [
        "for nt in 'ATCG':\n",
        "    ddN(10,seq,nt,0.5)"
      ],
      "cell_type": "code",
      "execution_count": null,
      "outputs": [],
      "metadata": {
        "attributes": {
          "classes": [
            "# The problem"
          ],
          "id": ""
        }
      }
    },
    {
      "id": "cell-30",
      "source": "<h2 id=\"a-bit-about-lists\">A bit about <a href=\"https://greenteapress.com/thinkpython2/html/thinkpython2011.html\">lists</a></h2>\n<p>To store the sequences being generated in the previous loop we will create and initialize a list called <code style=\"color: inherit\">seq_run</code>:</p>\n",
      "cell_type": "markdown",
      "metadata": {
        "editable": false,
        "collapsed": false
      }
    },
    {
      "id": "cell-31",
      "source": [
        "seq_run = []\n",
        "for nt in 'ATCG':\n",
        "    seq_run.append(ddN(10,seq,nt,0.5))"
      ],
      "cell_type": "code",
      "execution_count": null,
      "outputs": [],
      "metadata": {
        "attributes": {
          "classes": [
            "# The problem"
          ],
          "id": ""
        }
      }
    },
    {
      "id": "cell-32",
      "source": "<p>you will see that the seq run is a two-dimensional list:</p>\n",
      "cell_type": "markdown",
      "metadata": {
        "editable": false,
        "collapsed": false
      }
    },
    {
      "id": "cell-33",
      "source": [
        "seq_run"
      ],
      "cell_type": "code",
      "execution_count": null,
      "outputs": [],
      "metadata": {
        "attributes": {
          "classes": [
            "# The problem"
          ],
          "id": ""
        }
      }
    },
    {
      "id": "cell-34",
      "source": "<p>[[‘CTTGCGGCTa’,\n      ‘CTTGCGGCTATAGGa’,\n      ‘CTTGCGGCTa’,\n      ‘CTTGCGGCTATa’,\n      ‘CTTGCGGCTATAGGa’,\n      ‘CTTGCGGCTATa’,\n      ‘CTTGCGGCTa’,\n      ‘CTTGCGGCTATAGGAATAa’,\n      ‘CTTGCGGCTa’,\n      ‘CTTGCGGCTATa’],\n     [‘CTTGCGGCt’, ‘Ct’, ‘Ct’, ‘Ct’, ‘Ct’, ‘CTt’, ‘Ct’, ‘Ct’, ‘CTTGCGGCt’, ‘Ct’],\n     [‘CTTGc’,\n      ‘c’,\n      ‘c’,\n      ‘c’,\n      ‘c’,\n      ‘CTTGCGGCTATAGGAATAAAAGGCTTTGc’,\n      ‘c’,\n      ‘CTTGCGGCTATAGGAATAAAAGGc’,\n      ‘c’,\n      ‘CTTGc’],\n     [‘CTTg’,\n      ‘CTTGCg’,\n      ‘CTTg’,\n      ‘CTTg’,\n      ‘CTTGCg’,\n      ‘CTTGCGGCTATAGGAATAAAAg’,\n      ‘CTTGCGGCTATAGGAATAAAAg’,\n      ‘CTTg’,\n      ‘CTTg’,\n      ‘CTTg’]]</p>\n<p>as you will read in your next home assignment list elements can be addressed by “index”. The first element has the number 0:</p>\n",
      "cell_type": "markdown",
      "metadata": {
        "editable": false,
        "collapsed": false
      }
    },
    {
      "id": "cell-35",
      "source": [
        "seq_run[0]"
      ],
      "cell_type": "code",
      "execution_count": null,
      "outputs": [],
      "metadata": {
        "attributes": {
          "classes": [
            "# The problem"
          ],
          "id": ""
        }
      }
    },
    {
      "id": "cell-36",
      "source": "<p>[‘CTTGCGGCTa’,\n     ‘CTTGCGGCTATAGGa’,\n     ‘CTTGCGGCTa’,\n     ‘CTTGCGGCTATa’,\n     ‘CTTGCGGCTATAGGa’,\n     ‘CTTGCGGCTATa’,\n     ‘CTTGCGGCTa’,\n     ‘CTTGCGGCTATAGGAATAa’,\n     ‘CTTGCGGCTa’,\n     ‘CTTGCGGCTATa’]</p>\n<h2 id=\"a-bit-about-dictionaries\">A bit about <a href=\"https://greenteapress.com/thinkpython2/html/thinkpython2012.html\">dictionaries</a></h2>\n<p>Another way to store these data is in a dictionary, which is a collection of <code style=\"color: inherit\">key:value</code> pairs where a key and value can be anything:</p>\n",
      "cell_type": "markdown",
      "metadata": {
        "editable": false,
        "collapsed": false
      }
    },
    {
      "id": "cell-37",
      "source": [
        "seq_run = {}\n",
        "for nt in 'ATCG':\n",
        "    seq_run[nt] = ddN(10,seq,nt,0.90)"
      ],
      "cell_type": "code",
      "execution_count": null,
      "outputs": [],
      "metadata": {
        "attributes": {
          "classes": [
            "# The problem"
          ],
          "id": ""
        }
      }
    },
    {
      "id": "cell-38",
      "source": "\n",
      "cell_type": "markdown",
      "metadata": {
        "editable": false,
        "collapsed": false
      }
    },
    {
      "id": "cell-39",
      "source": [
        "seq_run"
      ],
      "cell_type": "code",
      "execution_count": null,
      "outputs": [],
      "metadata": {
        "attributes": {
          "classes": [
            "# The problem"
          ],
          "id": ""
        }
      }
    },
    {
      "id": "cell-40",
      "source": "<p>{‘A’: [‘CTTGCGGCTATAGGAATAAAAGGCTTTGCGGGTAGTGACCGCGCCGCGTATGTAATTCATGGGTGTCGTCGCGCCCTCACa’,\n      ‘CTTGCGGCTATAGGAATAAAAGGCTTTGCGGGTAGTGACCGCGCCGCGTATGTa’,\n      ‘CTTGCGGCTATAGGAATAa’,\n      ‘CTTGCGGCTATAGGAATAAAAGGCTTTGCGGGTa’,\n      ‘CTTGCGGCTa’,\n      ‘CTTGCGGCTATAGGAATAAAAGGCTTTGCGGGTAGTGACCGCGCCGCGTATGTAATTCATGGGTGTCGTCGCGCCCTCACAACTGCa’,\n      ‘CTTGCGGCTATAGGa’,\n      ‘CTTGCGGCTATAGGAATAAAa’,\n      ‘CTTGCGGCTATAGGAATAAAAGGCTTTGCGGGTAGTGACCGCGCCGCGTATGTAATTCATGGGTGTCGTCGCGCCCTCACAACTGCAa’,\n      ‘CTTGCGGCTATAGGAa’],\n     ‘T’: [‘CTTGCGGCTAt’,\n      ‘CTTGCGGCTATAGGAATAAAAGGCTTt’,\n      ‘CTTGCGGCTATAGGAATAAAAGGCTTTGCGGGTAGTGACCGCGCCGCGTATGTAATTCATGGGTGTCGTCGCGCCCTCACAACt’,\n      ‘CTTGCGGCTATAGGAATAAAAGGCTTTGCGGGTAGTGACCGCGCCGCGTATGTAATTCATGGGTGTCGTCGCGCCCTCACAACTGCAAGGTCGTGGCACC’,\n      ‘CTTGCGGCTATAGGAATAAAAGGCTTTGCGGGTAGTGACCGCGCCGCGTATGTAATt’,\n      ‘CTTGCGGCTATAGGAATAAAAGGCTTTGCGGGTAGTGACCGCGCCGCGTAt’,\n      ‘CTTGCGGCTATAGGAATAAAAGGCTTTGCGGGTAGTGACCGCGCCGCGTATGTAATTCAt’,\n      ‘CTTGCGGCTATAGGAATAAAAGGCTTTGCGGGTAGTGACCGCGCCGCGTATGTAATTCATGGGTGTCGTCGCGCCCTCACAACTGCAAGGTCGTGGCACC’,\n      ‘CTTGCGGCTATAGGAATAAAAGGCTTTGCGGGTAGTGACCGCGCCGCGTATGTAATTCAt’,\n      ‘CTt’],\n     ‘C’: [‘CTTGCGGCTATAGGAATAAAAGGc’,\n      ‘CTTGCGGCTATAGGAATAAAAGGc’,\n      ‘CTTGCGGCTATAGGAATAAAAGGCTTTGCGGGTAGTGACCGCGCCGCGTATGTAATTCATGGGTGTc’,\n      ‘CTTGCGGCTATAGGAATAAAAGGCTTTGCGGGTAGTGAc’,\n      ‘c’,\n      ‘CTTGCGGCTATAGGAATAAAAGGc’,\n      ‘CTTGCGGCTATAGGAATAAAAGGCTTTGCGGGTAGTGACCGCGCCGCGTATGTAATTCATGGGTGTc’,\n      ‘CTTGCGGc’,\n      ‘CTTGCGGCTATAGGAATAAAAGGCTTTGCGGGTAGTGAc’,\n      ‘CTTGCGGCTATAGGAATAAAAGGCTTTGCGGGTAGTGACCGCGCCGc’],\n     ‘G’: [‘CTTGCGGCTATAGg’,\n      ‘CTTGCGGCTATAGGAATAAAAGGCTTTGCGGGTAGTGACCGCGCCGCGTATGTAATTCATGGGTg’,\n      ‘CTTGCg’,\n      ‘CTTGCGGCTATAGGAATAAAAGGCTTTGCGGGTAGTGACCGCGCCGCGTATGTAATTCATGGGTGTCGTCGCGCCCTCACAACTGCAAGGTCGTGGCACC’,\n      ‘CTTg’,\n      ‘CTTGCGGCTATAGGAATAAAAGg’,\n      ‘CTTGCGGCTATAGGAATAAAAGGCTTTg’,\n      ‘CTTGCGGCTATAGGAATAAAAGGCTTTGCGGGTAGTGACCGCg’,\n      ‘CTTGCGGCTATAGGAATAAAAGGCTTTGCGg’,\n      ‘CTTGCGGCTATAGGAATAAAAg’]}</p>\n<p>dictionary elements can be retrieved using a key:</p>\n",
      "cell_type": "markdown",
      "metadata": {
        "editable": false,
        "collapsed": false
      }
    },
    {
      "id": "cell-41",
      "source": [
        "seq_run['A']"
      ],
      "cell_type": "code",
      "execution_count": null,
      "outputs": [],
      "metadata": {
        "attributes": {
          "classes": [
            "# The problem"
          ],
          "id": ""
        }
      }
    },
    {
      "id": "cell-42",
      "source": "<p>[‘CTTGCGGCTATAGGAATAAAAGGCTTTGCGGGTAGTGACCGCGCCGCGTATGTAATTCATGGGTGTCGTCGCGCCCTCACa’,\n     ‘CTTGCGGCTATAGGAATAAAAGGCTTTGCGGGTAGTGACCGCGCCGCGTATGTa’,\n     ‘CTTGCGGCTATAGGAATAa’,\n     ‘CTTGCGGCTATAGGAATAAAAGGCTTTGCGGGTa’,\n     ‘CTTGCGGCTa’,\n     ‘CTTGCGGCTATAGGAATAAAAGGCTTTGCGGGTAGTGACCGCGCCGCGTATGTAATTCATGGGTGTCGTCGCGCCCTCACAACTGCa’,\n     ‘CTTGCGGCTATAGGa’,\n     ‘CTTGCGGCTATAGGAATAAAa’,\n     ‘CTTGCGGCTATAGGAATAAAAGGCTTTGCGGGTAGTGACCGCGCCGCGTATGTAATTCATGGGTGTCGTCGCGCCCTCACAACTGCAa’,\n     ‘CTTGCGGCTATAGGAa’]</p>\n<h2 id=\"drawing-a-sequencing-gel\">Drawing a sequencing gel</h2>\n<p>Now that we can simulate and store newly synthesized sequencing strands terminated with ddNTPs let us try to draw a realistic representation of the sequencing gel. For this, we will use\nseveral components that will be discussed in much greater detail in the upcoming lectures. These components are:</p>\n<ul>\n<li><a href=\"https://pandas.pydata.org/\"><code class=\"language-plaintext highlighter-rouge\">pandas</code></a> - a dataframe manipulation tool</li>\n<li><a href=\"https://altair-viz.github.io/\"><code class=\"language-plaintext highlighter-rouge\">altair</code></a> - a statistical visualization library built on top of <code style=\"color: inherit\">vega-light</code> visualization grammar</li>\n</ul>\n<p>These two libraries will be used in almost all lectures concerning Python in this class.</p>\n<p><a href=\"https://en.wikipedia.org/wiki/Gel_electrophoresis\">Gel electophoresis</a> separates molecules based on mass, shape, or charge. In the case of DNA all molecules are universally negatively charged and thus will always migrate\nto (+) electrode. All our molecules are linear single-stranded pieces (our gel is <em>denaturing</em>) and so the only physical/chemical characteristic that distinguishes them is <em>length</em>.\nTherefore the first thing we will do is to convert our sequences into their lengths. For this, we will initialize a new dictionary called <code style=\"color: inherit\">seq_lengths</code>:</p>\n",
      "cell_type": "markdown",
      "metadata": {
        "editable": false,
        "collapsed": false
      }
    },
    {
      "id": "cell-43",
      "source": [
        "seq_lengths = {'base':[],'length':[]}\n",
        "for key in seq_run.keys():\n",
        "    for sequence in seq_run[key]:\n",
        "        seq_lengths['base'].append(key)\n",
        "        seq_lengths['length'].append(len(sequence))"
      ],
      "cell_type": "code",
      "execution_count": null,
      "outputs": [],
      "metadata": {
        "attributes": {
          "classes": [
            "# The problem"
          ],
          "id": ""
        }
      }
    },
    {
      "id": "cell-44",
      "source": "\n",
      "cell_type": "markdown",
      "metadata": {
        "editable": false,
        "collapsed": false
      }
    },
    {
      "id": "cell-45",
      "source": [
        "seq_lengths"
      ],
      "cell_type": "code",
      "execution_count": null,
      "outputs": [],
      "metadata": {
        "attributes": {
          "classes": [
            "# The problem"
          ],
          "id": ""
        }
      }
    },
    {
      "id": "cell-46",
      "source": "<p>{‘base’: [‘A’,\n      ‘A’,\n      ‘A’,\n      ‘A’,\n      ‘A’,\n      ‘A’,\n      ‘A’,\n      ‘A’,\n      ‘A’,\n      ‘A’,\n      ‘T’,\n      ‘T’,\n      ‘T’,\n      ‘T’,\n      ‘T’,\n      ‘T’,\n      ‘T’,\n      ‘T’,\n      ‘T’,\n      ‘T’,\n      ‘C’,\n      ‘C’,\n      ‘C’,\n      ‘C’,\n      ‘C’,\n      ‘C’,\n      ‘C’,\n      ‘C’,\n      ‘C’,\n      ‘C’,\n      ‘G’,\n      ‘G’,\n      ‘G’,\n      ‘G’,\n      ‘G’,\n      ‘G’,\n      ‘G’,\n      ‘G’,\n      ‘G’,\n      ‘G’],\n     ‘length’: [81,\n      54,\n      19,\n      34,\n      10,\n      87,\n      15,\n      21,\n      88,\n      16,\n      11,\n      27,\n      84,\n      100,\n      57,\n      51,\n      60,\n      100,\n      60,\n      3,\n      24,\n      24,\n      67,\n      39,\n      1,\n      24,\n      67,\n      8,\n      39,\n      47,\n      14,\n      65,\n      6,\n      100,\n      4,\n      23,\n      28,\n      43,\n      31,\n      22]}</p>\n<p>now let’s import <code style=\"color: inherit\">pandas</code>:</p>\n",
      "cell_type": "markdown",
      "metadata": {
        "editable": false,
        "collapsed": false
      }
    },
    {
      "id": "cell-47",
      "source": [
        "import pandas as pd"
      ],
      "cell_type": "code",
      "execution_count": null,
      "outputs": [],
      "metadata": {
        "attributes": {
          "classes": [
            "# The problem"
          ],
          "id": ""
        }
      }
    },
    {
      "id": "cell-48",
      "source": "<p>and inject <code style=\"color: inherit\">seq_lengths</code> into a pandas <em>dataframe</em>:</p>\n",
      "cell_type": "markdown",
      "metadata": {
        "editable": false,
        "collapsed": false
      }
    },
    {
      "id": "cell-49",
      "source": [
        "sequences = pd.DataFrame(seq_lengths)"
      ],
      "cell_type": "code",
      "execution_count": null,
      "outputs": [],
      "metadata": {
        "attributes": {
          "classes": [
            "# The problem"
          ],
          "id": ""
        }
      }
    },
    {
      "id": "cell-50",
      "source": "<p>it looks pretty:</p>\n",
      "cell_type": "markdown",
      "metadata": {
        "editable": false,
        "collapsed": false
      }
    },
    {
      "id": "cell-51",
      "source": [
        "sequences"
      ],
      "cell_type": "code",
      "execution_count": null,
      "outputs": [],
      "metadata": {
        "attributes": {
          "classes": [
            "# The problem"
          ],
          "id": ""
        }
      }
    },
    {
      "id": "cell-52",
      "source": "<div>\n<style scoped=\"\">\n    .dataframe tbody tr th:only-of-type {\n        vertical-align: middle;\n    }\n\n    .dataframe tbody tr th {\n        vertical-align: top;\n    }\n\n    .dataframe thead th {\n        text-align: right;\n    }\n</style>\n<table border=\"1\" class=\"dataframe\">\n<thead>\n<tr style=\"text-align: right;\">\n<th></th>\n<th>base</th>\n<th>length</th>\n</tr>\n</thead>\n<tbody>\n<tr>\n<th>0</th>\n<td>A</td>\n<td>81</td>\n</tr>\n<tr>\n<th>1</th>\n<td>A</td>\n<td>54</td>\n</tr>\n<tr>\n<th>2</th>\n<td>A</td>\n<td>19</td>\n</tr>\n<tr>\n<th>3</th>\n<td>A</td>\n<td>34</td>\n</tr>\n<tr>\n<th>4</th>\n<td>A</td>\n<td>10</td>\n</tr>\n<tr>\n<th>5</th>\n<td>A</td>\n<td>87</td>\n</tr>\n<tr>\n<th>6</th>\n<td>A</td>\n<td>15</td>\n</tr>\n<tr>\n<th>7</th>\n<td>A</td>\n<td>21</td>\n</tr>\n<tr>\n<th>8</th>\n<td>A</td>\n<td>88</td>\n</tr>\n<tr>\n<th>9</th>\n<td>A</td>\n<td>16</td>\n</tr>\n<tr>\n<th>10</th>\n<td>T</td>\n<td>11</td>\n</tr>\n<tr>\n<th>11</th>\n<td>T</td>\n<td>27</td>\n</tr>\n<tr>\n<th>12</th>\n<td>T</td>\n<td>84</td>\n</tr>\n<tr>\n<th>13</th>\n<td>T</td>\n<td>100</td>\n</tr>\n<tr>\n<th>14</th>\n<td>T</td>\n<td>57</td>\n</tr>\n<tr>\n<th>15</th>\n<td>T</td>\n<td>51</td>\n</tr>\n<tr>\n<th>16</th>\n<td>T</td>\n<td>60</td>\n</tr>\n<tr>\n<th>17</th>\n<td>T</td>\n<td>100</td>\n</tr>\n<tr>\n<th>18</th>\n<td>T</td>\n<td>60</td>\n</tr>\n<tr>\n<th>19</th>\n<td>T</td>\n<td>3</td>\n</tr>\n<tr>\n<th>20</th>\n<td>C</td>\n<td>24</td>\n</tr>\n<tr>\n<th>21</th>\n<td>C</td>\n<td>24</td>\n</tr>\n<tr>\n<th>22</th>\n<td>C</td>\n<td>67</td>\n</tr>\n<tr>\n<th>23</th>\n<td>C</td>\n<td>39</td>\n</tr>\n<tr>\n<th>24</th>\n<td>C</td>\n<td>1</td>\n</tr>\n<tr>\n<th>25</th>\n<td>C</td>\n<td>24</td>\n</tr>\n<tr>\n<th>26</th>\n<td>C</td>\n<td>67</td>\n</tr>\n<tr>\n<th>27</th>\n<td>C</td>\n<td>8</td>\n</tr>\n<tr>\n<th>28</th>\n<td>C</td>\n<td>39</td>\n</tr>\n<tr>\n<th>29</th>\n<td>C</td>\n<td>47</td>\n</tr>\n<tr>\n<th>30</th>\n<td>G</td>\n<td>14</td>\n</tr>\n<tr>\n<th>31</th>\n<td>G</td>\n<td>65</td>\n</tr>\n<tr>\n<th>32</th>\n<td>G</td>\n<td>6</td>\n</tr>\n<tr>\n<th>33</th>\n<td>G</td>\n<td>100</td>\n</tr>\n<tr>\n<th>34</th>\n<td>G</td>\n<td>4</td>\n</tr>\n<tr>\n<th>35</th>\n<td>G</td>\n<td>23</td>\n</tr>\n<tr>\n<th>36</th>\n<td>G</td>\n<td>28</td>\n</tr>\n<tr>\n<th>37</th>\n<td>G</td>\n<td>43</td>\n</tr>\n<tr>\n<th>38</th>\n<td>G</td>\n<td>31</td>\n</tr>\n<tr>\n<th>39</th>\n<td>G</td>\n<td>22</td>\n</tr>\n</tbody>\n</table>\n</div>\n<p>In our data, there is a number of DNA fragments that have identical length (just look at the dataframe above). We can condense these by grouping dataframe entries first by nucleotide (<code class=\"language-plaintext highlighter-rouge\">['base']</code>) and then by length (<code class=\"language-plaintext highlighter-rouge\">['length']</code>). For each group we will then compute <code style=\"color: inherit\">count</code> and put it into a new column named, …, <code style=\"color: inherit\">count</code>:</p>\n",
      "cell_type": "markdown",
      "metadata": {
        "editable": false,
        "collapsed": false
      }
    },
    {
      "id": "cell-53",
      "source": [
        "sequences_grouped_by_length = sequences.groupby(\n",
        "    ['base','length']\n",
        ").agg(\n",
        "    count=pd.NamedAgg(\n",
        "        column='length',\n",
        "        aggfunc='count'\n",
        "    )\n",
        ").reset_index()"
      ],
      "cell_type": "code",
      "execution_count": null,
      "outputs": [],
      "metadata": {
        "attributes": {
          "classes": [
            "# The problem"
          ],
          "id": ""
        }
      }
    },
    {
      "id": "cell-54",
      "source": "\n",
      "cell_type": "markdown",
      "metadata": {
        "editable": false,
        "collapsed": false
      }
    },
    {
      "id": "cell-55",
      "source": [
        "sequences_grouped_by_length"
      ],
      "cell_type": "code",
      "execution_count": null,
      "outputs": [],
      "metadata": {
        "attributes": {
          "classes": [
            "# The problem"
          ],
          "id": ""
        }
      }
    },
    {
      "id": "cell-56",
      "source": "<div>\n<style scoped=\"\">\n    .dataframe tbody tr th:only-of-type {\n        vertical-align: middle;\n    }\n\n    .dataframe tbody tr th {\n        vertical-align: top;\n    }\n\n    .dataframe thead th {\n        text-align: right;\n    }\n</style>\n<table border=\"1\" class=\"dataframe\">\n<thead>\n<tr style=\"text-align: right;\">\n<th></th>\n<th>base</th>\n<th>length</th>\n<th>count</th>\n</tr>\n</thead>\n<tbody>\n<tr>\n<th>0</th>\n<td>A</td>\n<td>10</td>\n<td>1</td>\n</tr>\n<tr>\n<th>1</th>\n<td>A</td>\n<td>15</td>\n<td>1</td>\n</tr>\n<tr>\n<th>2</th>\n<td>A</td>\n<td>16</td>\n<td>1</td>\n</tr>\n<tr>\n<th>3</th>\n<td>A</td>\n<td>19</td>\n<td>1</td>\n</tr>\n<tr>\n<th>4</th>\n<td>A</td>\n<td>21</td>\n<td>1</td>\n</tr>\n<tr>\n<th>5</th>\n<td>A</td>\n<td>34</td>\n<td>1</td>\n</tr>\n<tr>\n<th>6</th>\n<td>A</td>\n<td>54</td>\n<td>1</td>\n</tr>\n<tr>\n<th>7</th>\n<td>A</td>\n<td>81</td>\n<td>1</td>\n</tr>\n<tr>\n<th>8</th>\n<td>A</td>\n<td>87</td>\n<td>1</td>\n</tr>\n<tr>\n<th>9</th>\n<td>A</td>\n<td>88</td>\n<td>1</td>\n</tr>\n<tr>\n<th>10</th>\n<td>C</td>\n<td>1</td>\n<td>1</td>\n</tr>\n<tr>\n<th>11</th>\n<td>C</td>\n<td>8</td>\n<td>1</td>\n</tr>\n<tr>\n<th>12</th>\n<td>C</td>\n<td>24</td>\n<td>3</td>\n</tr>\n<tr>\n<th>13</th>\n<td>C</td>\n<td>39</td>\n<td>2</td>\n</tr>\n<tr>\n<th>14</th>\n<td>C</td>\n<td>47</td>\n<td>1</td>\n</tr>\n<tr>\n<th>15</th>\n<td>C</td>\n<td>67</td>\n<td>2</td>\n</tr>\n<tr>\n<th>16</th>\n<td>G</td>\n<td>4</td>\n<td>1</td>\n</tr>\n<tr>\n<th>17</th>\n<td>G</td>\n<td>6</td>\n<td>1</td>\n</tr>\n<tr>\n<th>18</th>\n<td>G</td>\n<td>14</td>\n<td>1</td>\n</tr>\n<tr>\n<th>19</th>\n<td>G</td>\n<td>22</td>\n<td>1</td>\n</tr>\n<tr>\n<th>20</th>\n<td>G</td>\n<td>23</td>\n<td>1</td>\n</tr>\n<tr>\n<th>21</th>\n<td>G</td>\n<td>28</td>\n<td>1</td>\n</tr>\n<tr>\n<th>22</th>\n<td>G</td>\n<td>31</td>\n<td>1</td>\n</tr>\n<tr>\n<th>23</th>\n<td>G</td>\n<td>43</td>\n<td>1</td>\n</tr>\n<tr>\n<th>24</th>\n<td>G</td>\n<td>65</td>\n<td>1</td>\n</tr>\n<tr>\n<th>25</th>\n<td>G</td>\n<td>100</td>\n<td>1</td>\n</tr>\n<tr>\n<th>26</th>\n<td>T</td>\n<td>3</td>\n<td>1</td>\n</tr>\n<tr>\n<th>27</th>\n<td>T</td>\n<td>11</td>\n<td>1</td>\n</tr>\n<tr>\n<th>28</th>\n<td>T</td>\n<td>27</td>\n<td>1</td>\n</tr>\n<tr>\n<th>29</th>\n<td>T</td>\n<td>51</td>\n<td>1</td>\n</tr>\n<tr>\n<th>30</th>\n<td>T</td>\n<td>57</td>\n<td>1</td>\n</tr>\n<tr>\n<th>31</th>\n<td>T</td>\n<td>60</td>\n<td>2</td>\n</tr>\n<tr>\n<th>32</th>\n<td>T</td>\n<td>84</td>\n<td>1</td>\n</tr>\n<tr>\n<th>33</th>\n<td>T</td>\n<td>100</td>\n<td>2</td>\n</tr>\n</tbody>\n</table>\n</div>\n<p>The following chart is created using the <code style=\"color: inherit\">alt.Chart()</code> function and passing the data as an argument. The <code style=\"color: inherit\">mark_tick()</code> function is used to create a tick chart with a thickness of 4 pixels.</p>\n<p>The chart is encoded with two main axis:</p>\n<ul>\n<li>y-axis which represents the length of the data and is encoded by the <code style=\"color: inherit\">'length'</code> field of the data.</li>\n<li>x-axis which represents the base of the data and is encoded by the <code style=\"color: inherit\">'base'</code> field of the data.\nThe chart also encodes a color, it encodes the <code style=\"color: inherit\">'count'</code> field of the data, sets the legend to <code style=\"color: inherit\">None</code>, and uses the <code style=\"color: inherit\">'greys'</code> scale from the Altair library.</li>\n</ul>\n<p>Finally, the chart properties are set to a width of 100 pixels and a height of 800 pixels.</p>\n",
      "cell_type": "markdown",
      "metadata": {
        "editable": false,
        "collapsed": false
      }
    },
    {
      "id": "cell-57",
      "source": [
        "import altair as alt\n",
        "alt.Chart(sequences_grouped_by_length).mark_tick(thickness=4).encode(\n",
        "    y = alt.Y('length:Q'),\n",
        "    x = alt.X('base'),\n",
        "    color=alt.Color('count:Q',legend=None,\n",
        "                    scale=alt.Scale(scheme=\"greys\"))\n",
        ").properties(\n",
        "    width=100,\n",
        "    height=800)"
      ],
      "cell_type": "code",
      "execution_count": null,
      "outputs": [],
      "metadata": {
        "attributes": {
          "classes": [
            "# The problem"
          ],
          "id": ""
        }
      }
    },
    {
      "id": "cell-58",
      "source": "<figure id=\"figure-11\" style=\"max-width: 90%;\"><div style=\"overflow-x: auto\"><object data=\"./images/gel1.svg\" type=\"image/svg+xml\" alt=\"Gel rendering 1. \">Gel rendering 1.</object></div><a target=\"_blank\" href=\"./images/gel1.svg\" rel=\"noopener noreferrer\"><small>Open image in new tab</small></a><br /><br /><figcaption><span class=\"figcaption-prefix\"><strong>Figure 11</strong>:</span> A simulated gel image</figcaption></figure>\n<p>And here is a color version of the same graph using just one line of the gel:</p>\n",
      "cell_type": "markdown",
      "metadata": {
        "editable": false,
        "collapsed": false
      }
    },
    {
      "id": "cell-59",
      "source": [
        "import altair as alt\n",
        "alt.Chart(sequences_grouped_by_length).mark_tick(thickness=4).encode(\n",
        "    y = alt.Y('length:Q'),\n",
        "    color=alt.Color('base:N',#legend=None,\n",
        "                    scale=alt.Scale(scheme=\"set1\"))\n",
        ").properties(\n",
        "    width=20,\n",
        "    height=800)"
      ],
      "cell_type": "code",
      "execution_count": null,
      "outputs": [],
      "metadata": {
        "attributes": {
          "classes": [
            "# The problem"
          ],
          "id": ""
        }
      }
    },
    {
      "id": "cell-60",
      "source": "<figure id=\"figure-12\" style=\"max-width: 90%;\"><div style=\"overflow-x: auto\"><object data=\"./images/gel2.svg\" type=\"image/svg+xml\" alt=\"Gel rendering 2. \">Gel rendering 2.</object></div><a target=\"_blank\" href=\"./images/gel2.svg\" rel=\"noopener noreferrer\"><small>Open image in new tab</small></a><br /><br /><figcaption><span class=\"figcaption-prefix\"><strong>Figure 12</strong>:</span> A simulated gel image using \\\"colored dyes\\\"</figcaption></figure>\n<h2 id=\"putting-everything-together\">Putting everything together</h2>\n",
      "cell_type": "markdown",
      "metadata": {
        "editable": false,
        "collapsed": false
      }
    },
    {
      "id": "cell-61",
      "source": [
        "# Generate random sequences\n",
        "\n",
        "seq = ''\n",
        "for _ in range(300):\n",
        "    seq += random.choice('ATCG')"
      ],
      "cell_type": "code",
      "execution_count": null,
      "outputs": [],
      "metadata": {
        "attributes": {
          "classes": [
            "# The problem"
          ],
          "id": ""
        }
      }
    },
    {
      "id": "cell-62",
      "source": "\n",
      "cell_type": "markdown",
      "metadata": {
        "editable": false,
        "collapsed": false
      }
    },
    {
      "id": "cell-63",
      "source": [
        "seq"
      ],
      "cell_type": "code",
      "execution_count": null,
      "outputs": [],
      "metadata": {
        "attributes": {
          "classes": [
            "# The problem"
          ],
          "id": ""
        }
      }
    },
    {
      "id": "cell-64",
      "source": "<p>‘GTCGATGCCTGTTTGACCTAACTGGCGTGAAGGCTATATCAGTTATCCCAAGCGTAGGCTTTCAATTCGCCCGGTTGCGTCGCCCGATTATCAATCGCGGAAGGTGGGTGCGATTGGAAGTCCAAAACCTTTATCCTGACACACTTTCTGACTCGGCTTGGCAATGGGAAGTGTAGAACGTAGCGGGGACCTACATCATATCGTACATAACTGAGACGTGCTCACCCGCAGAGATAAGAACTGCAATACCCGGGTGAATACTTGGGGAGTCTCACCCAGATGGTTGGCCTGATCCTCCCC’</p>\n",
      "cell_type": "markdown",
      "metadata": {
        "editable": false,
        "collapsed": false
      }
    },
    {
      "id": "cell-65",
      "source": [
        "# Function simulating a single run of a single polymerase molecule\n",
        "\n",
        "def ddN(number_of_iterations, template, base, ddN_ratio):\n",
        "    new_strands = []\n",
        "    for _ in range(number_of_iterations):\n",
        "        synthesized_strand = ''\n",
        "        for nucleotide in template:\n",
        "            if nucleotide == base and random.random() > ddN_ratio:\n",
        "                synthesized_strand += nucleotide.lower()\n",
        "                break\n",
        "            synthesized_strand += nucleotide\n",
        "        new_strands.append(synthesized_strand)\n",
        "    return(new_strands)"
      ],
      "cell_type": "code",
      "execution_count": null,
      "outputs": [],
      "metadata": {
        "attributes": {
          "classes": [
            "# The problem"
          ],
          "id": ""
        }
      }
    },
    {
      "id": "cell-66",
      "source": "\n",
      "cell_type": "markdown",
      "metadata": {
        "editable": false,
        "collapsed": false
      }
    },
    {
      "id": "cell-67",
      "source": [
        "# Generating simulated sequencing run\n",
        "\n",
        "seq_run = {}\n",
        "for nt in 'ATCG':\n",
        "    seq_run[nt] = ddN(100000,seq,nt,0.95)"
      ],
      "cell_type": "code",
      "execution_count": null,
      "outputs": [],
      "metadata": {
        "attributes": {
          "classes": [
            "# The problem"
          ],
          "id": ""
        }
      }
    },
    {
      "id": "cell-68",
      "source": "\n",
      "cell_type": "markdown",
      "metadata": {
        "editable": false,
        "collapsed": false
      }
    },
    {
      "id": "cell-69",
      "source": [
        "# Computing lengths\n",
        "\n",
        "seq_lengths = {'base':[],'length':[]}\n",
        "for key in seq_run.keys():\n",
        "    for sequence in seq_run[key]:\n",
        "        seq_lengths['base'].append(key)\n",
        "        seq_lengths['length'].append(len(sequence))"
      ],
      "cell_type": "code",
      "execution_count": null,
      "outputs": [],
      "metadata": {
        "attributes": {
          "classes": [
            "# The problem"
          ],
          "id": ""
        }
      }
    },
    {
      "id": "cell-70",
      "source": "\n",
      "cell_type": "markdown",
      "metadata": {
        "editable": false,
        "collapsed": false
      }
    },
    {
      "id": "cell-71",
      "source": [
        "# Converting dictionary into Pandas dataframe\n",
        "\n",
        "sequences = pd.DataFrame(seq_lengths)"
      ],
      "cell_type": "code",
      "execution_count": null,
      "outputs": [],
      "metadata": {
        "attributes": {
          "classes": [
            "# The problem"
          ],
          "id": ""
        }
      }
    },
    {
      "id": "cell-72",
      "source": "\n",
      "cell_type": "markdown",
      "metadata": {
        "editable": false,
        "collapsed": false
      }
    },
    {
      "id": "cell-73",
      "source": [
        "# Grouping by nucleotide and length\n",
        "\n",
        "sequences_grouped_by_length = sequences.groupby(\n",
        "    ['base','length']\n",
        ").agg(\n",
        "    count=pd.NamedAgg(\n",
        "        column='length',\n",
        "        aggfunc='count'\n",
        "    )\n",
        ").reset_index()"
      ],
      "cell_type": "code",
      "execution_count": null,
      "outputs": [],
      "metadata": {
        "attributes": {
          "classes": [
            "# The problem"
          ],
          "id": ""
        }
      }
    },
    {
      "id": "cell-74",
      "source": "\n",
      "cell_type": "markdown",
      "metadata": {
        "editable": false,
        "collapsed": false
      }
    },
    {
      "id": "cell-75",
      "source": [
        "# Plotting (note the quadratic scale for realism)\n",
        "\n",
        "import altair as alt\n",
        "alt.Chart(sequences_grouped_by_length).mark_tick(thickness=4).encode(\n",
        "    y = alt.Y('length:Q',scale=alt.Scale(type='sqrt')),\n",
        "    x = alt.X('base'),\n",
        "    color=alt.Color('count:Q',legend=None,\n",
        "                    scale=alt.Scale(type='log',scheme=\"greys\")),\n",
        "    tooltip='count:Q'\n",
        ").properties(\n",
        "    width=100,\n",
        "    height=800)"
      ],
      "cell_type": "code",
      "execution_count": null,
      "outputs": [],
      "metadata": {
        "attributes": {
          "classes": [
            "# The problem"
          ],
          "id": ""
        }
      }
    },
    {
      "id": "cell-76",
      "source": "<figure id=\"figure-13\" style=\"max-width: 90%;\"><div style=\"overflow-x: auto\"><object data=\"./images/gel3.svg\" type=\"image/svg+xml\" alt=\"Gel rendering 3. \">Gel rendering 3.</object></div><a target=\"_blank\" href=\"./images/gel3.svg\" rel=\"noopener noreferrer\"><small>Open image in new tab</small></a><br /><br /><figcaption><span class=\"figcaption-prefix\"><strong>Figure 13</strong>:</span> A simulated gel image using quadratic scale</figcaption></figure>\n",
      "cell_type": "markdown",
      "metadata": {
        "editable": false,
        "collapsed": false
      }
    },
    {
      "id": "cell-77",
      "source": [
        "# Plotting using color\n",
        "\n",
        "import altair as alt\n",
        "alt.Chart(sequences_grouped_by_length).mark_tick(thickness=4).encode(\n",
        "    y = alt.Y('length:Q',scale=alt.Scale(type=\"sqrt\")),\n",
        "    color=alt.Color('base:N',#legend=None,\n",
        "                    scale=alt.Scale(scheme=\"set1\")),\n",
        "    opacity=alt.Opacity('count:N',legend=None),\n",
        "    tooltip='count:Q'\n",
        ").properties(\n",
        "    width=20,\n",
        "    height=800)"
      ],
      "cell_type": "code",
      "execution_count": null,
      "outputs": [],
      "metadata": {
        "attributes": {
          "classes": [
            "# The problem"
          ],
          "id": ""
        }
      }
    },
    {
      "id": "cell-78",
      "source": "<figure id=\"figure-14\" style=\"max-width: 90%;\"><div style=\"overflow-x: auto\"><object data=\"./images/gel4.svg\" type=\"image/svg+xml\" alt=\"Gel rendering 4. \">Gel rendering 4.</object></div><a target=\"_blank\" href=\"./images/gel4.svg\" rel=\"noopener noreferrer\"><small>Open image in new tab</small></a><br /><br /><figcaption><span class=\"figcaption-prefix\"><strong>Figure 14</strong>:</span> A simulated gel image using quadratic scale with colors</figcaption></figure>\n",
      "cell_type": "markdown",
      "metadata": {
        "editable": false,
        "collapsed": false
      }
    },
    {
      "cell_type": "markdown",
      "id": "final-ending-cell",
      "metadata": {
        "editable": false,
        "collapsed": false
      },
      "source": [
        "# Key Points\n\n",
        "- Sanger sequencing is sequencing by synthesis\n",
        "- Python is powerful\n",
        "\n# Congratulations on successfully completing this tutorial!\n\n",
        "Please [fill out the feedback on the GTN website](https://training.galaxyproject.org/training-material/topics/data-science/tutorials/gnmx-lecture2/tutorial.html#feedback) and check there for further resources!\n"
      ]
    }
  ]
}