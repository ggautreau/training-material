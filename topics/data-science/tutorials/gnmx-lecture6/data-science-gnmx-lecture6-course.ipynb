{
  "metadata": {},
  "nbformat": 4,
  "nbformat_minor": 5,
  "cells": [
    {
      "id": "metadata",
      "cell_type": "markdown",
      "source": "<div style=\"border: 2px solid #8A9AD0; margin: 1em 0.2em; padding: 0.5em;\">\n\n# Data manipulation with Pandas\n\nby [Anton Nekrutenko](https://training.galaxyproject.org/hall-of-fame/nekrut/)\n\nCC-BY licensed content from the [Galaxy Training Network](https://training.galaxyproject.org/)\n\n**Objectives**\n\n- What is Pandas\n- What is a dataframe\n- How to access data in dataframes\n\n**Objectives**\n\n- Understand data manipulation in Pandas\n\n**Time Estimation: 1h**\n</div>\n",
      "metadata": {
        "editable": false,
        "collapsed": false
      }
    },
    {
      "id": "cell-0",
      "source": "<h1 id=\"sars-cov-2-as-a-research-problem\">SARS-CoV-2 as a research problem</h1>\n<p>To learn about pandas we will use SARS-CoV-2 data. Before actually jumping to Pandas let’s learn about the coronavirus molecular biology.</p>\n<p>The following summary is based on these publications:</p>\n<ul>\n<li><a href=\"http://dx.doi.org/10.1016/S0065-3527(06)66005-3\">Masters:2006</a></li>\n<li><a href=\"http://dx.doi.org/10.1007/978-1-4939-2438-7_1\">Fehr and Perlman:2015</a></li>\n<li><a href=\"https://www.annualreviews.org/doi/full/10.1146/annurev-virology-100114-055218\">Sola:2015</a></li>\n<li><a href=\"http://dx.doi.org/10.1038/nature17200\">Kirchdoerfer:2016</a></li>\n<li><a href=\"http://dx.doi.org/10.1016/j.cell.2020.02.058\">Walls:2020</a></li>\n<li><a href=\"https://www.nature.com/articles/s41580-021-00418-x\">Jackson:2022</a></li>\n</ul>\n<h2 id=\"genome-organization\">Genome organization</h2>\n<p>All coronaviruses contain non-segmented positive-strand RNA genome approx. 30 kb in length. It is invariably 5’-leader-UTR-replicase-S-E-M-N-3’UTR-poly(A). In addition,\nit contains a variety of accessory proteins interspersed throughout the genome (see Fig. below; (From <a href=\"http://dx.doi.org/10.1007/978-1-4939-2438-7_1\">Fehr and Perlman:2015</a>)).</p>\n<figure id=\"figure-1\" style=\"max-width: 90%;\"><img src=\"https://media.springernature.com/original/springer-static/image/chp%3A10.1007%2F978-1-4939-2438-7_1/MediaObjects/317916_1_En_1_Fig1_HTML.gif\" alt=\"Genome organozation. \" loading=\"lazy\" /><a target=\"_blank\" href=\"https://media.springernature.com/original/springer-static/image/chp%3A10.1007%2F978-1-4939-2438-7_1/MediaObjects/317916_1_En_1_Fig1_HTML.gif\" rel=\"noopener noreferrer\"><small>Open image in new tab</small></a><br /><br /><figcaption><span class=\"figcaption-prefix\"><strong>Figure 1</strong>:</span> Genomic organization of representative α, β, and γ CoVs. An illustration of the MHV genome is depicted at the top. The expanded regions below show the structural and accessory proteins in the 3′ regions of the HCoV-229E, MHV, SARS-CoV, MERS-CoV and IBV. Size of the genome and individual genes are approximated using the legend at the top of the diagram but are not drawn to scale. HCoV-229E human coronavirus 229E, MHV mouse hepatitis virus, SARS-CoV severe acute respiratory syndrome coronavirus, MERS-CoV Middle East respiratory syndrome coronavirus, IBV infectious bronchitis virus.</figcaption></figure>\n<p>The long replicase gene encodes a number of non-structural proteins (nsps) and occupies 2/3 of the genome. Because of -1 ribosomal frameshifting within ORFab approx. in 25% of the cases\npolyprotein pp1ab is produced in place of pp1a. pp1a encodes 11 nsps while pp1ab encodes 15 (Fig. below from <a href=\"https://www.annualreviews.org/doi/full/10.1146/annurev-virology-100114-055218\">Sola:2015</a>).</p>\n<figure id=\"figure-2\" style=\"max-width: 90%;\"><img src=\"https://www.annualreviews.org/docserver/fulltext/virology/2/1/vi20265.f1.gif\" alt=\"Discontinuous transcription. \" loading=\"lazy\" /><a target=\"_blank\" href=\"https://www.annualreviews.org/docserver/fulltext/virology/2/1/vi20265.f1.gif\" rel=\"noopener noreferrer\"><small>Open image in new tab</small></a><br /><br /><figcaption><span class=\"figcaption-prefix\"><strong>Figure 2</strong>:</span> Coronavirus genome structure and gene expression. (a) Coronavirus genome structure. The upper scheme represents the TGEV genome. Labels indicate gene names; L corresponds to the leader sequence. Also represented are the nsps derived from the processing of the pp1a and pp1ab polyproteins. PLP1, PLP2, and 3CL protease sites are depicted as inverted triangles with the corresponding color code of each protease. Dark gray rectangles represent transmembrane domains, and light gray rectangles indicate other functional domains. (b) Coronavirus genome strategy of sgmRNA expression. The upper scheme represents the TGEV genome. Short lines represent the nested set of sgmRNAs, each containing a common leader sequence (black) and a specific gene to be translated (dark gray). (c) Key elements in coronavirus transcription. A TRS precedes each gene (TRS-B) and includes the core sequence (CS-B) and variable 5′ and 3′ flanking sequences. The TRS of the leader (TRS-L), containing the core sequence (CS-L), is present at the 5′ end of the genome, in an exposed location (orange box in the TRS-L loop). Discontinuous transcription occurs during the synthesis of the negative-strand RNA (light blue), when the copy of the TRS-B hybridizes with the TRS-L. Dotted lines indicate the complementarity between positive-strand and negative-strand RNA sequences. Abbreviations: EndoU, endonuclease; ExoN, exonuclease; HEL, helicase; MTase, methyltransferase (green, N7-methyltransferase; dark purple, 2′-O-methyltransferase); nsp, nonstructural protein; PLP, papain-like protease; RdRp, RNA-dependent RNA polymerase; sgmRNA, subgenomic RNA; TGEV, transmissible gastroenteritis virus; TRS, transcription-regulating sequence; UTR, untranslated region.</figcaption></figure>\n<h2 id=\"virion-structure\">Virion structure</h2>\n<p>Coronavirus is a spherical particle approx. 125 nm in diameter. It is covered with S-protein projections giving it an appearance of solar corona - hence the term coronavirus. Inside the envelope is a nucleocapsid that has helical symmetry far more typical of (-)-strand RNA viruses. There are four main structure proteins: spike (S), membrane (M), envelope (E), and nucleocapsid (N; Fig. below <a href=\"http://dx.doi.org/10.1016/S0065-3527(06)66005-3\">Masters:2006</a>):</p>\n<figure id=\"figure-3\" style=\"max-width: 90%;\"><img src=\"https://ars.els-cdn.com/content/image/1-s2.0-S0065352706660053-gr1.jpg\" alt=\"Virion structure. \" loading=\"lazy\" /><a target=\"_blank\" href=\"https://ars.els-cdn.com/content/image/1-s2.0-S0065352706660053-gr1.jpg\" rel=\"noopener noreferrer\"><small>Open image in new tab</small></a><br /><br /><figcaption><span class=\"figcaption-prefix\"><strong>Figure 3</strong>:</span> Schematic of the coronavirus virion, with the minimal set of structural proteins</figcaption></figure>\n<p>Mature S protein is a trimer of two subunits: S1 and S2. The two subunits are produced from a single S-precursor by host proteases (see <a href=\"http://dx.doi.org/10.1038/nature17200\">Kirchdoerfer:2016</a>; this however is not the case for all coronaviruses such as SARS-CoV). S1 forms the receptor-binding domain, while S2 forms the stalk.</p>\n<p>M protein is the most abundant structural component of the virion and determines its shape. It possibly exists as a dimer.</p>\n<p>E protein is the least abundant protein of the capsid and possesses ion channel activity. It facilitates the assembly and release of the virus. In SARS-CoV it is not required for replication but is essential for pathogenesis.</p>\n<p>N proteins form the nucleocapsid. Its N- and C-terminal domains are capable of RNA binding. Specifically, it binds to transcription regulatory sequences and the genomic packaging signal. It also binds to <code style=\"color: inherit\">nsp3</code>\nand M protein possible tethering viral genome and replicase-transcriptase complex.</p>\n<h2 id=\"entering-the-cell\">Entering the cell</h2>\n<p>Virion attaches to the cells as a result of interaction between S-protein and a cellular receptor. In the case of SARS-CoV-2 (as is in SARS-CoV) angiotensin converting enzyme 2 (ACE2) serves as the receptor binding to C-terminal portion of S1 domain. After receptor binding S protein is cleaved at two sites within the S2 subdomain. The first cleavage separates the receptor-binding domain of S from the membrane fusion domain. The second cleavage (at S2’) exposes the fusion peptide. The SARS-CoV-2 is different from SARS-CoV in that it contains a <a href=\"https://en.wikipedia.org/wiki/Furin\">furin</a> cleavage site that is processed during viral maturation within endoplasmatic reticulum (ER; see <a href=\"http://dx.doi.org/10.1016/j.cell.2020.02.058\">Walls:2020</a>). The fusion peptide inserts into the cellular membrane and triggers joining on the two heptad regions with S2 forming an antiparallel six-helix bundle resulting in fusion and release of the genome into the cytoplasm (Fig. below from <a href=\"https://www.nature.com/articles/s41580-021-00418-x\">Jackson:2022</a>.</p>\n<figure id=\"figure-4\" style=\"max-width: 90%;\"><img src=\"https://i.imgur.com/DD7EO3G.png\" alt=\"Entering the cell. \" loading=\"lazy\" /><a target=\"_blank\" href=\"https://i.imgur.com/DD7EO3G.png\" rel=\"noopener noreferrer\"><small>Open image in new tab</small></a><br /><br /><figcaption><span class=\"figcaption-prefix\"><strong>Figure 4</strong>:</span> Two spike (S) protein cleavage events are typically necessary for the coronavirus entry process: one at the junction of the S1 and S2 subunits and the other at the S2′ site, internal to the S2 subunit. In the case of SARS-CoV-2, the polybasic sequence at the S1–S2 boundary is cleaved during virus maturation in an infected cell, but the S2′ site is cleaved at the target cell following angiotensin-converting enzyme 2 (ACE2) binding. Virus binding to ACE2 (step 1) induces conformational changes in the S1 subunit and exposes the S2′ cleavage site in the S2 subunit. Depending on the entry route taken by SARS-CoV-2, the S2′ site is cleaved by different proteases. Left: If the target cell expresses insufficient transmembrane protease, serine 2 (TMPRSS2) or if a virus–ACE2 complex does not encounter TMPRSS2, the virus–ACE2 complex is internalized via clathrin-mediated endocytosis (step 2) into the endolysosomes, where S2′ cleavage is performed by cathepsins, which require an acidic environment for their activity (steps 3 and 4). Right: In the presence of TMPRSS2, S2′ cleavage occurs at the cell surface (step 2). In both entry pathways, cleavage of the S2′ site exposes the fusion peptide (FP) and dissociation of S1 from S2 induces dramatic conformational changes in the S2 subunit, especially in heptad repeat 1, propelling the fusion peptide forward into the target membrane, initiating membrane fusion (step 5 on the left and step 3 on the right). Fusion between viral and cellular membranes forms a fusion pore through which viral RNA is released into the host cell cytoplasm for uncoating and replication (step 6 on the left and step 4 on the right). Several agents disrupt interaction between the S protein and ACE2: ACE2 mimetics, therapeutic monoclonal antibodies targeting the neutralizing epitopes on the S protein and antibodies elicited by vaccination block virus binding to ACE2 and thus inhibit both entry pathways. By contrast, strategies targeting post-receptor-binding steps differ between the two pathways. Being a serine protease inhibitor, camostat mesylate restricts the TMPRSS2-mediated entry pathway. Hydroxychloroquine and chloroquine block endosomal acidification, which is necessary for cathepsin activity, and thus restrict the cathepsin-mediated entry pathway</figcaption></figure>\n<h2 id=\"replication\">Replication</h2>\n<p>The above figure shows that in addition to the full length (+)-strand genome there is a number of (+)-strand subgenomic RNAs corresponding to 3’-end of the complete viral sequence. All of these <em>subgenomic</em> RNAs (sgRNAs) share the same leader sequence that is present only once at the extreme 5’-end of the viral genome. These RNAs are produced via discontinuous RNA synthesis when the RNA-dependent RNA-polymerase (RdRp) switches template:</p>\n<iframe title=\"vimeo-player\" src=\"https://player.vimeo.com/video/133088346\" width=\"640\" height=\"480\" frameborder=\"0\" allowfullscreen=\"\"></iframe>\n<p>☝ Model for the formation of genome high-order structures regulating N gene transcription. The upper linear scheme represents the coronavirus genome. The red line indicates the leader sequence in the 5′ end of the genome. The hairpin indicates the TRS-L. The gray line with arrowheads represents the nascent negative-sense RNA. The curved blue arrow indicates the template switch to the leader sequence during discontinuous transcription. The orange line represents the copy of the leader added to the nascent RNA after the template switch. The RNA-RNA interactions between the pE (nucleotides 26894 to 26903) and dE (nucleotides 26454 to 26463) and between the B-M in the active domain (nucleotides 26412 to 26421) and the cB-M in the 5′ end of the genome (nucleotides 477 to 486) are represented by solid lines. Dotted lines indicate the complementarity between positive-strand and negative-strand RNA sequences. Abbreviations: AD, active domain secondary structure prediction; B-M, B motif; cB-M, complementary copy of the B-M; cCS-N, complementary copy of the CS-N; CS-L, conserved core sequence of the leader; CS-N, conserved core sequence of the N gene; dE, distal element; pE, proximal element; TRS-L, transcription-regulating sequence of the leader (From <a href=\"https://www.annualreviews.org/doi/full/10.1146/annurev-virology-100114-055218\">Sola:2015</a>).</p>\n<p>Furthermore, <a href=\"https://www.annualreviews.org/doi/full/10.1146/annurev-virology-100114-055218\">Sola:2015</a> suggests the coronavirus transcription model in which transcription initiation complex forms at the 3’-end of (+)-strand genomic RNA:</p>\n<figure id=\"figure-5\" style=\"max-width: 90%;\"><img src=\"https://www.annualreviews.org/docserver/fulltext/virology/2/1/vi20265.f3.gif\" alt=\"Coronavirus transcription. \" loading=\"lazy\" /><a target=\"_blank\" href=\"https://www.annualreviews.org/docserver/fulltext/virology/2/1/vi20265.f3.gif\" rel=\"noopener noreferrer\"><small>Open image in new tab</small></a><br /><br /><figcaption><span class=\"figcaption-prefix\"><strong>Figure 5</strong>:</span> Three-step model of coronavirus transcription. (1) Complex formation. Proteins binding transcription-regulating sequences are represented by ellipsoids, the leader sequence is indicated with a red bar, and core sequences are indicated with orange boxes. (2) Base-pairing scanning. Negative-strand RNA is shown in light blue; the transcription complex is represented by a hexagon. Vertical lines indicate complementarity between the genomic RNA and the nascent negative strand. (3) Template switch. Due to the complementarity between the newly synthesized negative-strand RNA and the transcription-regulating sequence of the leader, template switch to the leader is made by the transcription complex to complete the copy of the leader sequence</figcaption></figure>\n<h2 id=\"how-virus-is-screened\">How virus is screened</h2>\n<p>Two approaches: (1) RNAseq and (2) amplicons</p>\n<p>RNAseq approach requires a large sample quantity, but is suitable for detecting low-frequency variants. Ampliconic approaches are useful for samples containing a small fraction of viral RNA and are\nby far the most widely used (From <a href=\"https://primer-monitor.neb.com/lineages\">NEB</a>):</p>\n<figure id=\"figure-6\" style=\"max-width: 90%;\"><img src=\"https://i.imgur.com/9wLeHnZ.png\" alt=\"Primer schemes. \" loading=\"lazy\" /><a target=\"_blank\" href=\"https://i.imgur.com/9wLeHnZ.png\" rel=\"noopener noreferrer\"><small>Open image in new tab</small></a><br /><br /><figcaption><span class=\"figcaption-prefix\"><strong>Figure 6</strong>:</span> Nucleotide variants related to lineages of concern are indicated in yellow above a schematic SARS-CoV-2 genome. Primers that do not overlap with variants associated with these lineages are shown in blue. Overlapping primers are indicated in orange.</figcaption></figure>\n<h1 id=\"pandas\">Pandas!</h1>\n<blockquote class=\"quote\">\n<p>This is an aggregated tutorial relying on material from the following fantastic sources:</p>\n<ul>\n<li><a href=\"http://justinbois.github.io/bootcamp/2020/index.html\">Justin Bois</a>. It contains modified training datasets and adopts content to Colab environment.</li>\n<li><a href=\"https://people.duke.edu/~ccc14/bios-821-2017/index.html\">BIOS821 course at Duke</a></li>\n<li><a href=\"https://pandas.pydata.org/docs/user_guide/index.html/\">Pandas documentation</a></li>\n</ul>\n</blockquote>\n<p>Pandas (from “Panel Data”) is an essential piece of scientific (and not only) data analysis infrastructure. It is, in essence, a highly optimized library for manipulating very large tables (or “Data Frames”).</p>\n<p>Today we will be using a single notebook that explains the basics of this powerful tool:</p>\n<h2 id=\"pandas-learning-resources\">Pandas learning resources</h2>\n<ul>\n<li><a href=\"https://pandas.pydata.org/docs/getting_started/index.html#getting-started\">Getting started</a> - official introduction from Pandas.</li>\n<li><a href=\"http://people.duke.edu/~ccc14/bios-821-2017/index.html\">Data Science Tools</a> - Data Science for Biologists from Duke University.</li>\n<li><a href=\"https://datacarpentry.org/\">Data Carpentry</a> - a collection of lessons <em>à la</em> Software Carpentry.</li>\n</ul>\n",
      "cell_type": "markdown",
      "metadata": {
        "editable": false,
        "collapsed": false
      }
    },
    {
      "id": "cell-1",
      "source": [
        "# Pandas, conventionally imported as pd\n",
        "import pandas as pd"
      ],
      "cell_type": "code",
      "execution_count": null,
      "outputs": [],
      "metadata": {
        "attributes": {
          "classes": [
            "To learn about pandas we will use SARS-CoV-2 data. Before actually jumping to Pandas let's learn about the coronavirus molecular biology."
          ],
          "id": ""
        }
      }
    },
    {
      "id": "cell-2",
      "source": "<p>Throughout your research career, you will undoubtedly need to handle data, possibly lots of data. The data comes in lots of formats, and you will spend much of your time <strong>wrangling</strong> the data to get it into a usable form.</p>\n<p>Pandas is the primary tool in the Python ecosystem for handling data. Its primary object, the <code style=\"color: inherit\">DataFrame</code> is extremely useful in wrangling data. We will explore some of that functionality here and will put it to use in the next lesson.</p>\n<h1 id=\"basics\">Basics</h1>\n<h2 id=\"the-data-set\">The data set</h2>\n<p>The dataset we will be using is a subset of metadata describing SARS-CoV-2 datasets from the <a href=\"https://www.ncbi.nlm.nih.gov/sra\">Sequence Read Archive</a>.</p>\n<p>It is obtained by going to https://www.ncbi.nlm.nih.gov/sra and performing a query with the following search terms: <code style=\"color: inherit\">txid2697049[Organism:noexp]</code>.</p>\n<p>Results are downloaded using <code style=\"color: inherit\">Send to:</code> menu selecting <code style=\"color: inherit\">File</code> and then <code style=\"color: inherit\">RunInfo</code>. Let’s get these results into this notebook:</p>\n",
      "cell_type": "markdown",
      "metadata": {
        "editable": false,
        "collapsed": false
      }
    },
    {
      "id": "cell-3",
      "source": [
        "!wget https://zenodo.org/records/10680001/files/sra_ncov.csv.gz"
      ],
      "cell_type": "code",
      "execution_count": null,
      "outputs": [],
      "metadata": {
        "attributes": {
          "classes": [
            "To learn about pandas we will use SARS-CoV-2 data. Before actually jumping to Pandas let's learn about the coronavirus molecular biology."
          ],
          "id": ""
        }
      }
    },
    {
      "id": "cell-4",
      "source": "\n",
      "cell_type": "markdown",
      "metadata": {
        "editable": false,
        "collapsed": false
      }
    },
    {
      "id": "cell-5",
      "source": [
        "!gunzip -c  sra_ncov.csv.gz | head"
      ],
      "cell_type": "code",
      "execution_count": null,
      "outputs": [],
      "metadata": {
        "attributes": {
          "classes": [
            "To learn about pandas we will use SARS-CoV-2 data. Before actually jumping to Pandas let's learn about the coronavirus molecular biology."
          ],
          "id": ""
        }
      }
    },
    {
      "id": "cell-6",
      "source": "<p>The first line contains the <strong>headers</strong> for each column. The data follow. Given the file I/O skills you recently learned, you could write some functions to parse this file and extract the data you want.\nYou can imagine that this might be kind of painful. However, if the file format is nice and clean like we more or less have here, we can use pre-built tools. Pandas has a very powerful function, <code style=\"color: inherit\">pd.read_csv()</code>\nthat can read in a CSV file and store the contents in a convenient data structure called a <strong>data frame</strong>. In Pandas, the data type for a data frame is <code style=\"color: inherit\">DataFrame</code>, and we will use “data frame” and “<code class=\"language-plaintext highlighter-rouge\">DataFrame</code>” interchangeably.</p>\n<h2 id=\"reading-in-data\">Reading in data</h2>\n<p>Let’s first look at the doc string of <code style=\"color: inherit\">pd.read_csv()</code>.</p>\n",
      "cell_type": "markdown",
      "metadata": {
        "editable": false,
        "collapsed": false
      }
    },
    {
      "id": "cell-7",
      "source": [
        "pd.read_csv?"
      ],
      "cell_type": "code",
      "execution_count": null,
      "outputs": [],
      "metadata": {
        "attributes": {
          "classes": [
            "To learn about pandas we will use SARS-CoV-2 data. Before actually jumping to Pandas let's learn about the coronavirus molecular biology."
          ],
          "id": ""
        }
      }
    },
    {
      "id": "cell-8",
      "source": "<p>Holy cow! There are so many options we can specify for reading in a CSV file. You will likely find reasons to use many of these throughout your research. For now, however, we do not need most of them.\nSo, let’s load in the data set. Note that even though the dataset is compressed with <code style=\"color: inherit\">gzip</code> we do not need to do anything additional - pandas magically understands and uncompresses the data while loading it into the dataframe.</p>\n",
      "cell_type": "markdown",
      "metadata": {
        "editable": false,
        "collapsed": false
      }
    },
    {
      "id": "cell-9",
      "source": [
        "df = pd.read_csv('sra_ncov.csv.gz')"
      ],
      "cell_type": "code",
      "execution_count": null,
      "outputs": [],
      "metadata": {
        "attributes": {
          "classes": [
            "To learn about pandas we will use SARS-CoV-2 data. Before actually jumping to Pandas let's learn about the coronavirus molecular biology."
          ],
          "id": ""
        }
      }
    },
    {
      "id": "cell-10",
      "source": "<p>The same result can be achieved directly without downloading the file first:</p>\n",
      "cell_type": "markdown",
      "metadata": {
        "editable": false,
        "collapsed": false
      }
    },
    {
      "id": "cell-11",
      "source": [
        "df = pd.read_csv('https://zenodo.org/records/10680001/files/sra_ncov.csv.gz')"
      ],
      "cell_type": "code",
      "execution_count": null,
      "outputs": [],
      "metadata": {
        "attributes": {
          "classes": [
            "To learn about pandas we will use SARS-CoV-2 data. Before actually jumping to Pandas let's learn about the coronavirus molecular biology."
          ],
          "id": ""
        }
      }
    },
    {
      "id": "cell-12",
      "source": "<p>We now have the data stored in a data frame. We can look at it in the Jupyter Notebook since Jupyter will display it in a well-organized, pretty way. Note that because our dataframe is big,\nwe only display the first five rows using <code style=\"color: inherit\">head()</code> function:</p>\n",
      "cell_type": "markdown",
      "metadata": {
        "editable": false,
        "collapsed": false
      }
    },
    {
      "id": "cell-13",
      "source": [
        "df.head()"
      ],
      "cell_type": "code",
      "execution_count": null,
      "outputs": [],
      "metadata": {
        "attributes": {
          "classes": [
            "To learn about pandas we will use SARS-CoV-2 data. Before actually jumping to Pandas let's learn about the coronavirus molecular biology."
          ],
          "id": ""
        }
      }
    },
    {
      "id": "cell-14",
      "source": "<h2 id=\"indexing-data-frames\">Indexing data frames</h2>\n<p>The data frame is a convenient data structure for many reasons that will become clear as we start exploring. Let’s start by looking at how data frames are indexed. Let’s try to look at the first row.</p>\n",
      "cell_type": "markdown",
      "metadata": {
        "editable": false,
        "collapsed": false
      }
    },
    {
      "id": "cell-15",
      "source": [
        "df[0]"
      ],
      "cell_type": "code",
      "execution_count": null,
      "outputs": [],
      "metadata": {
        "attributes": {
          "classes": [
            "To learn about pandas we will use SARS-CoV-2 data. Before actually jumping to Pandas let's learn about the coronavirus molecular biology."
          ],
          "id": ""
        }
      }
    },
    {
      "id": "cell-16",
      "source": "<p>Yikes! Lots of errors. The problem is that we tried to index numerically by row. <strong>We index DataFrames, by columns.</strong> And no column has the name <code style=\"color: inherit\">0</code> in this data frame, though there could be.\nInstead, you might want to look at the column with the percentage of correct face-matching tasks.</p>\n",
      "cell_type": "markdown",
      "metadata": {
        "editable": false,
        "collapsed": false
      }
    },
    {
      "id": "cell-17",
      "source": [
        "df['Run'].head()"
      ],
      "cell_type": "code",
      "execution_count": null,
      "outputs": [],
      "metadata": {
        "attributes": {
          "classes": [
            "To learn about pandas we will use SARS-CoV-2 data. Before actually jumping to Pandas let's learn about the coronavirus molecular biology."
          ],
          "id": ""
        }
      }
    },
    {
      "id": "cell-18",
      "source": "<p>This gave us the numbers we were after. Notice that when it was printed, the index of the rows came along with it. If we wanted to pull out a single percentage correct, say corresponding to index <code style=\"color: inherit\">4</code>, we can do that.</p>\n",
      "cell_type": "markdown",
      "metadata": {
        "editable": false,
        "collapsed": false
      }
    },
    {
      "id": "cell-19",
      "source": [
        "df['Run'][4]"
      ],
      "cell_type": "code",
      "execution_count": null,
      "outputs": [],
      "metadata": {
        "attributes": {
          "classes": [
            "To learn about pandas we will use SARS-CoV-2 data. Before actually jumping to Pandas let's learn about the coronavirus molecular biology."
          ],
          "id": ""
        }
      }
    },
    {
      "id": "cell-20",
      "source": "<p>However, this is <strong>not</strong> the preferred way to do this. It is better to use <code style=\"color: inherit\">.loc</code>. This gives the location in the data frame we want.</p>\n<blockquote class=\"details\" style=\"border: 2px solid #ddd; margin: 1em 0.2em\">\n<div class=\"box-title details-title\" id=\"details-tt-loc-tt-versus-tt-iloc-tt\"><button class=\"gtn-boxify-button details\" type=\"button\" aria-controls=\"details-tt-loc-tt-versus-tt-iloc-tt\" aria-expanded=\"true\"><i class=\"fas fa-info-circle\" aria-hidden=\"true\" ></i> <span>Details: <tt>loc</tt> versus <tt>iloc</tt></span><span class=\"fold-unfold fa fa-minus-square\"></span></button></div>\n<p><code style=\"color: inherit\">loc</code> and <code style=\"color: inherit\">iloc</code> are both methods in the Pandas library for DataFrame indexing.</p>\n<p><code class=\"language-plaintext highlighter-rouge\">loc</code>: It is label-based indexing, meaning that you use the actual row and column labels to make selections. This means that you specify rows and columns based on their index labels.\nFor example, df.loc[3, ‘column_name’] will select the value in the third row and the column labeled ‘column_name’.</p>\n<p><code class=\"language-plaintext highlighter-rouge\">iloc</code>: It is integer-based indexing, where you use the integer position of the rows and columns to make selections. This means that you specify rows and columns based on their integer position.\nFor example, df.iloc[3, 2] will select the value in the fourth row and the third column (remembering that indexing starts at 0).</p>\n<p>In summary, <code style=\"color: inherit\">loc</code> uses labels for indexing, while <code style=\"color: inherit\">iloc</code> uses integer positions.</p>\n</blockquote>\n",
      "cell_type": "markdown",
      "metadata": {
        "editable": false,
        "collapsed": false
      }
    },
    {
      "id": "cell-21",
      "source": [
        "df.loc[4, 'Run']"
      ],
      "cell_type": "code",
      "execution_count": null,
      "outputs": [],
      "metadata": {
        "attributes": {
          "classes": [
            "To learn about pandas we will use SARS-CoV-2 data. Before actually jumping to Pandas let's learn about the coronavirus molecular biology."
          ],
          "id": ""
        }
      }
    },
    {
      "id": "cell-22",
      "source": "\n",
      "cell_type": "markdown",
      "metadata": {
        "editable": false,
        "collapsed": false
      }
    },
    {
      "id": "cell-23",
      "source": [
        "df.iloc[4:6]"
      ],
      "cell_type": "code",
      "execution_count": null,
      "outputs": [],
      "metadata": {
        "attributes": {
          "classes": [
            "To learn about pandas we will use SARS-CoV-2 data. Before actually jumping to Pandas let's learn about the coronavirus molecular biology."
          ],
          "id": ""
        }
      }
    },
    {
      "id": "cell-24",
      "source": "\n",
      "cell_type": "markdown",
      "metadata": {
        "editable": false,
        "collapsed": false
      }
    },
    {
      "id": "cell-25",
      "source": [
        "df.iloc[4:6, [0,2,4]]"
      ],
      "cell_type": "code",
      "execution_count": null,
      "outputs": [],
      "metadata": {
        "attributes": {
          "classes": [
            "To learn about pandas we will use SARS-CoV-2 data. Before actually jumping to Pandas let's learn about the coronavirus molecular biology."
          ],
          "id": ""
        }
      }
    },
    {
      "id": "cell-26",
      "source": "\n",
      "cell_type": "markdown",
      "metadata": {
        "editable": false,
        "collapsed": false
      }
    },
    {
      "id": "cell-27",
      "source": [
        "df.loc[4:6, ['Run','size_MB','LibraryStrategy']]"
      ],
      "cell_type": "code",
      "execution_count": null,
      "outputs": [],
      "metadata": {
        "attributes": {
          "classes": [
            "To learn about pandas we will use SARS-CoV-2 data. Before actually jumping to Pandas let's learn about the coronavirus molecular biology."
          ],
          "id": ""
        }
      }
    },
    {
      "id": "cell-28",
      "source": "\n",
      "cell_type": "markdown",
      "metadata": {
        "editable": false,
        "collapsed": false
      }
    },
    {
      "id": "cell-29",
      "source": [
        "df.loc[4:6, 'Run':]"
      ],
      "cell_type": "code",
      "execution_count": null,
      "outputs": [],
      "metadata": {
        "attributes": {
          "classes": [
            "To learn about pandas we will use SARS-CoV-2 data. Before actually jumping to Pandas let's learn about the coronavirus molecular biology."
          ],
          "id": ""
        }
      }
    },
    {
      "id": "cell-30",
      "source": "\n",
      "cell_type": "markdown",
      "metadata": {
        "editable": false,
        "collapsed": false
      }
    },
    {
      "id": "cell-31",
      "source": [
        "df.loc[4:6, 'Run':'LibrarySource']"
      ],
      "cell_type": "code",
      "execution_count": null,
      "outputs": [],
      "metadata": {
        "attributes": {
          "classes": [
            "To learn about pandas we will use SARS-CoV-2 data. Before actually jumping to Pandas let's learn about the coronavirus molecular biology."
          ],
          "id": ""
        }
      }
    },
    {
      "id": "cell-32",
      "source": "<p>It is also important to note that <strong>row indices need not be integers</strong>. And you should not count on them being integers. In practice, you will almost never use row indices, but rather use <strong>Boolean indexing</strong>.</p>\n<h2 id=\"filtering-boolean-indexing-of-data-frames\">Filtering: Boolean indexing of data frames</h2>\n<p>Let’s say I wanted to pull out accession numbers of runs produced by Pacific Biosciences machines (in this table such datasets are labeled as <code style=\"color: inherit\">PACBIO_SMRT</code>. I can use Boolean indexing to specify the row. Specifically, I want the row for which <code style=\"color: inherit\">df['Platform'] == 'PACBIO_SMRT'</code>. You can essentially plop this syntax directly when using <code style=\"color: inherit\">.loc</code>.</p>\n",
      "cell_type": "markdown",
      "metadata": {
        "editable": false,
        "collapsed": false
      }
    },
    {
      "id": "cell-33",
      "source": [
        "df.loc[df['Platform'] == 'PACBIO_SMRT', 'Run']"
      ],
      "cell_type": "code",
      "execution_count": null,
      "outputs": [],
      "metadata": {
        "attributes": {
          "classes": [
            "To learn about pandas we will use SARS-CoV-2 data. Before actually jumping to Pandas let's learn about the coronavirus molecular biology."
          ],
          "id": ""
        }
      }
    },
    {
      "id": "cell-34",
      "source": "<p>If I want to pull the whole record for that participant, I can use <code style=\"color: inherit\">:</code> for the column index.</p>\n",
      "cell_type": "markdown",
      "metadata": {
        "editable": false,
        "collapsed": false
      }
    },
    {
      "id": "cell-35",
      "source": [
        "df.loc[df['Platform'] == 'PACBIO_SMRT', :].head(10)"
      ],
      "cell_type": "code",
      "execution_count": null,
      "outputs": [],
      "metadata": {
        "attributes": {
          "classes": [
            "To learn about pandas we will use SARS-CoV-2 data. Before actually jumping to Pandas let's learn about the coronavirus molecular biology."
          ],
          "id": ""
        }
      }
    },
    {
      "id": "cell-36",
      "source": "<p>Now, let’s pull out all PacBio records that were obtained from Amplicon sequencing. We can again use Boolean indexing, but we need to use an <code style=\"color: inherit\">&amp;</code> operator.\nWe have not covered this bitwise operator before, but the syntax is self-explanatory in the example below. Note that it is important that each Boolean operation you are doing is in parentheses because of the precedence of the operators involved.</p>\n",
      "cell_type": "markdown",
      "metadata": {
        "editable": false,
        "collapsed": false
      }
    },
    {
      "id": "cell-37",
      "source": [
        "df.loc[(df['Platform'] == 'PACBIO_SMRT') & (df['LibraryStrategy'] == 'AMPLICON'), :].head(3)"
      ],
      "cell_type": "code",
      "execution_count": null,
      "outputs": [],
      "metadata": {
        "attributes": {
          "classes": [
            "To learn about pandas we will use SARS-CoV-2 data. Before actually jumping to Pandas let's learn about the coronavirus molecular biology."
          ],
          "id": ""
        }
      }
    },
    {
      "id": "cell-38",
      "source": "<p>What is going on will be clearer if we set up our Boolean indexing first, as follows.</p>\n",
      "cell_type": "markdown",
      "metadata": {
        "editable": false,
        "collapsed": false
      }
    },
    {
      "id": "cell-39",
      "source": [
        "inds = (df['Platform'] == 'PACBIO_SMRT') & (df['LibraryStrategy'] == 'AMPLICON')\n",
        "inds[2:6]"
      ],
      "cell_type": "code",
      "execution_count": null,
      "outputs": [],
      "metadata": {
        "attributes": {
          "classes": [
            "To learn about pandas we will use SARS-CoV-2 data. Before actually jumping to Pandas let's learn about the coronavirus molecular biology."
          ],
          "id": ""
        }
      }
    },
    {
      "id": "cell-40",
      "source": "<p>Notice that <code style=\"color: inherit\">inds</code> is an array (actually a Pandas <code style=\"color: inherit\">Series</code>, essentially a <code style=\"color: inherit\">DataFrame</code> with one column) of <code style=\"color: inherit\">True</code>s and <code style=\"color: inherit\">False</code>s. We can apply the <code style=\"color: inherit\">unique</code> function from <a href=\"https://numpy.org/\">NumPy</a> to see how\nmany <code style=\"color: inherit\">True</code> and <code style=\"color: inherit\">False</code> rows we have:</p>\n",
      "cell_type": "markdown",
      "metadata": {
        "editable": false,
        "collapsed": false
      }
    },
    {
      "id": "cell-41",
      "source": [
        "import numpy as np\n",
        "np.unique(inds, return_counts=True)"
      ],
      "cell_type": "code",
      "execution_count": null,
      "outputs": [],
      "metadata": {
        "attributes": {
          "classes": [
            "To learn about pandas we will use SARS-CoV-2 data. Before actually jumping to Pandas let's learn about the coronavirus molecular biology."
          ],
          "id": ""
        }
      }
    },
    {
      "id": "cell-42",
      "source": "<p>When we index with it using .loc, we get back rows where inds is True:</p>\n",
      "cell_type": "markdown",
      "metadata": {
        "editable": false,
        "collapsed": false
      }
    },
    {
      "id": "cell-43",
      "source": [
        "df.loc[inds, :]"
      ],
      "cell_type": "code",
      "execution_count": null,
      "outputs": [],
      "metadata": {
        "attributes": {
          "classes": [
            "To learn about pandas we will use SARS-CoV-2 data. Before actually jumping to Pandas let's learn about the coronavirus molecular biology."
          ],
          "id": ""
        }
      }
    },
    {
      "id": "cell-44",
      "source": "\n",
      "cell_type": "markdown",
      "metadata": {
        "editable": false,
        "collapsed": false
      }
    },
    {
      "id": "cell-45",
      "source": [
        "df.loc[(df['Platform'] == 'PACBIO_SMRT') & (df['LibraryStrategy'] == 'AMPLICON'), :].head(3)"
      ],
      "cell_type": "code",
      "execution_count": null,
      "outputs": [],
      "metadata": {
        "attributes": {
          "classes": [
            "To learn about pandas we will use SARS-CoV-2 data. Before actually jumping to Pandas let's learn about the coronavirus molecular biology."
          ],
          "id": ""
        }
      }
    },
    {
      "id": "cell-46",
      "source": "<h2 id=\"calculating-with-data-frames\">Calculating with data frames</h2>\n<p>The SRA data contains (sometimes) size of the run in MB (<code class=\"language-plaintext highlighter-rouge\">size_MB</code>). Let’s suppose we want to consider only those run where <code style=\"color: inherit\">size_MB</code> is above 100. We might like to add a column to the data frame that specifies whether or not the corresponding run is above 100Mb. We can conveniently compute with columns. This is done element-wise.</p>\n",
      "cell_type": "markdown",
      "metadata": {
        "editable": false,
        "collapsed": false
      }
    },
    {
      "id": "cell-47",
      "source": [
        "df['size_MB'] >= 100"
      ],
      "cell_type": "code",
      "execution_count": null,
      "outputs": [],
      "metadata": {
        "attributes": {
          "classes": [
            "To learn about pandas we will use SARS-CoV-2 data. Before actually jumping to Pandas let's learn about the coronavirus molecular biology."
          ],
          "id": ""
        }
      }
    },
    {
      "id": "cell-48",
      "source": "<p>This tells us which run is above 100 Mb. We can simply add this back to the data frame.</p>\n",
      "cell_type": "markdown",
      "metadata": {
        "editable": false,
        "collapsed": false
      }
    },
    {
      "id": "cell-49",
      "source": [
        "# Add the column to the DataFrame\n",
        "df['Over100Mb'] = df['size_MB'] >= 100\n",
        "\n",
        "# Take a look\n",
        "df.head()"
      ],
      "cell_type": "code",
      "execution_count": null,
      "outputs": [],
      "metadata": {
        "attributes": {
          "classes": [
            "To learn about pandas we will use SARS-CoV-2 data. Before actually jumping to Pandas let's learn about the coronavirus molecular biology."
          ],
          "id": ""
        }
      }
    },
    {
      "id": "cell-50",
      "source": "\n",
      "cell_type": "markdown",
      "metadata": {
        "editable": false,
        "collapsed": false
      }
    },
    {
      "id": "cell-51",
      "source": [
        "df.assign(over100 = df['size_MB']>=100)"
      ],
      "cell_type": "code",
      "execution_count": null,
      "outputs": [],
      "metadata": {
        "attributes": {
          "classes": [
            "To learn about pandas we will use SARS-CoV-2 data. Before actually jumping to Pandas let's learn about the coronavirus molecular biology."
          ],
          "id": ""
        }
      }
    },
    {
      "id": "cell-52",
      "source": "<h2 id=\"a-note-of-assign\">A note of <code style=\"color: inherit\">assign</code></h2>\n<p>The <code style=\"color: inherit\">assign</code> method in the pandas library is used to add new columns to a pandas DataFrame. The method allows you to perform calculations or operations on existing columns to generate new columns without modifying the original DataFrame.</p>\n<p>For example, you can use the <code style=\"color: inherit\">assign</code> method to add a new column that calculates the sum of two existing columns or to add a column based on a complex calculation that involves multiple columns. The method also supports adding columns based on external data sources, such as NumPy arrays or other pandas DataFrames.</p>\n<p>Using <code style=\"color: inherit\">assign</code> method is useful because it allows you to create new columns and add them to a DataFrame in a way that is both readable and easy to maintain. The method is also chain-able, meaning you can add multiple columns in one call, making your code more concise and efficient.</p>\n<h2 id=\"a-note-about-vectorization\">A note about vectorization</h2>\n<p>Notice how applying the <code style=\"color: inherit\">&lt;=</code> operator to a <code style=\"color: inherit\">Series</code> resulted in <strong>elementwise</strong> application. This is called <code style=\"color: inherit\">vectorization</code>. It means that we do not have to write a <code style=\"color: inherit\">for</code> loop to do operations on the elements of a <code style=\"color: inherit\">Series</code> or other array-like object. Imagine if we had to do that with a <code style=\"color: inherit\">for</code> loop.</p>\n",
      "cell_type": "markdown",
      "metadata": {
        "editable": false,
        "collapsed": false
      }
    },
    {
      "id": "cell-53",
      "source": [
        "big_runs = []\n",
        "for size in df['size_MB']:\n",
        "    big_runs.append(size >= 100)"
      ],
      "cell_type": "code",
      "execution_count": null,
      "outputs": [],
      "metadata": {
        "attributes": {
          "classes": [
            "To learn about pandas we will use SARS-CoV-2 data. Before actually jumping to Pandas let's learn about the coronavirus molecular biology."
          ],
          "id": ""
        }
      }
    },
    {
      "id": "cell-54",
      "source": "<p>This is cumbersome. The vectorization allows for much more convenient calculation. Beyond that, the vectorized code is almost always faster when using Pandas and Numpy because the looping is done with compiled code under the hood. This can be done with many operators, including those you’ve already seen, like <code style=\"color: inherit\">+</code>, <code style=\"color: inherit\">-</code>, <code style=\"color: inherit\">*</code>, <code style=\"color: inherit\">/</code>, <code style=\"color: inherit\">**</code>, etc.</p>\n<h2 id=\"outputting-a-new-csv-file\">Outputting a new CSV file</h2>\n<p>Now that we added the <code style=\"color: inherit\">Over100Mb</code> column, we might like to save our data frame as a new CSV that we can reload later. We use <code style=\"color: inherit\">df.to_csv()</code> for this with the <code style=\"color: inherit\">index</code> kwarg to ask Pandas not to explicitly write the indices to the file.</p>\n",
      "cell_type": "markdown",
      "metadata": {
        "editable": false,
        "collapsed": false
      }
    },
    {
      "id": "cell-55",
      "source": [
        "df.to_csv('over100Mb_data.csv', index=False)"
      ],
      "cell_type": "code",
      "execution_count": null,
      "outputs": [],
      "metadata": {
        "attributes": {
          "classes": [
            "To learn about pandas we will use SARS-CoV-2 data. Before actually jumping to Pandas let's learn about the coronavirus molecular biology."
          ],
          "id": ""
        }
      }
    },
    {
      "id": "cell-56",
      "source": "<p>Let’s take a look at what this file looks like.</p>\n",
      "cell_type": "markdown",
      "metadata": {
        "editable": false,
        "collapsed": false
      }
    },
    {
      "id": "cell-57",
      "source": [
        "!head over100Mb_data.csv"
      ],
      "cell_type": "code",
      "execution_count": null,
      "outputs": [],
      "metadata": {
        "attributes": {
          "classes": [
            "To learn about pandas we will use SARS-CoV-2 data. Before actually jumping to Pandas let's learn about the coronavirus molecular biology."
          ],
          "id": ""
        }
      }
    },
    {
      "id": "cell-58",
      "source": "<h1 id=\"tidy-data\">Tidy data</h1>\n<p><a href=\"https://en.wikipedia.org/wiki/Hadley_Wickham\">Hadley Wickham</a> wrote a <a href=\"http://dx.doi.org/10.18637/jss.v059.i10\">great article</a> in favor of “tidy data.” Tidy data frames follow the rules:</p>\n<ol>\n<li>Each variable is a column.</li>\n<li>Each observation is a row.</li>\n<li>Each type of observation has its own separate data frame.</li>\n</ol>\n<p>This is less pretty to visualize as a table, but we rarely look at data in tables. Indeed, the representation of data that is convenient for visualization is different from that which is convenient for analysis.\nA tidy data frame is almost always <strong>much</strong> easier to work with than non-tidy formats.</p>\n<p>Also, let’s take a look at this <a href=\"https://dtkaplan.github.io/DataComputingEbook/chap-tidy-data.html#chap:tidy-data\">article</a>.</p>\n<h2 id=\"the-data-set\">The data set</h2>\n<p>The dataset we will be using is a list of all SARS-CoV-2 datasets in <a href=\"https://www.ncbi.nlm.nih.gov/sra\">Sequence Read Archive</a> as of January 20, 2021.</p>\n<p>It is obtained by going to https://www.ncbi.nlm.nih.gov/sra and performing a query with the following search terms: <code style=\"color: inherit\">txid2697049[Organism:noexp]</code>.</p>\n<p>Results are downloaded using <code style=\"color: inherit\">Send to:</code> menu selecting <code style=\"color: inherit\">File</code> and then <code style=\"color: inherit\">RunInfo</code>. Let’s get these results into this notebook:</p>\n",
      "cell_type": "markdown",
      "metadata": {
        "editable": false,
        "collapsed": false
      }
    },
    {
      "id": "cell-59",
      "source": [
        "df = pd.read_csv('https://zenodo.org/records/10680001/files/sra_ncov.csv.gz')\n",
        "df = df[df['size_MB']> 0].reset_index(drop=True)\n",
        "\n",
        "# Take a look\n",
        "df"
      ],
      "cell_type": "code",
      "execution_count": null,
      "outputs": [],
      "metadata": {
        "attributes": {
          "classes": [
            "To learn about pandas we will use SARS-CoV-2 data. Before actually jumping to Pandas let's learn about the coronavirus molecular biology."
          ],
          "id": ""
        }
      }
    },
    {
      "id": "cell-60",
      "source": "<p>This data set is in tidy format. Each row represents a single SRA dataset. The properties of each run are given in each column. We already saw the power of having the data in this format when we did Boolean indexing in the last lesson.</p>\n<h2 id=\"finding-unique-values-and-counts\">Finding unique values and counts</h2>\n<p>How many unique sequencing platforms do we have?</p>\n",
      "cell_type": "markdown",
      "metadata": {
        "editable": false,
        "collapsed": false
      }
    },
    {
      "id": "cell-61",
      "source": [
        "df['Platform'].unique()"
      ],
      "cell_type": "code",
      "execution_count": null,
      "outputs": [],
      "metadata": {
        "attributes": {
          "classes": [
            "To learn about pandas we will use SARS-CoV-2 data. Before actually jumping to Pandas let's learn about the coronavirus molecular biology."
          ],
          "id": ""
        }
      }
    },
    {
      "id": "cell-62",
      "source": "\n",
      "cell_type": "markdown",
      "metadata": {
        "editable": false,
        "collapsed": false
      }
    },
    {
      "id": "cell-63",
      "source": [
        "df['Platform'].value_counts()"
      ],
      "cell_type": "code",
      "execution_count": null,
      "outputs": [],
      "metadata": {
        "attributes": {
          "classes": [
            "To learn about pandas we will use SARS-CoV-2 data. Before actually jumping to Pandas let's learn about the coronavirus molecular biology."
          ],
          "id": ""
        }
      }
    },
    {
      "id": "cell-64",
      "source": "<h2 id=\"sorting\">Sorting</h2>\n<p>(and axes!)</p>\n<p>Let’s start by sorting on index:</p>\n",
      "cell_type": "markdown",
      "metadata": {
        "editable": false,
        "collapsed": false
      }
    },
    {
      "id": "cell-65",
      "source": [
        "df_subset = df.sample(n=10)"
      ],
      "cell_type": "code",
      "execution_count": null,
      "outputs": [],
      "metadata": {
        "attributes": {
          "classes": [
            "To learn about pandas we will use SARS-CoV-2 data. Before actually jumping to Pandas let's learn about the coronavirus molecular biology."
          ],
          "id": ""
        }
      }
    },
    {
      "id": "cell-66",
      "source": "\n",
      "cell_type": "markdown",
      "metadata": {
        "editable": false,
        "collapsed": false
      }
    },
    {
      "id": "cell-67",
      "source": [
        "df_subset"
      ],
      "cell_type": "code",
      "execution_count": null,
      "outputs": [],
      "metadata": {
        "attributes": {
          "classes": [
            "To learn about pandas we will use SARS-CoV-2 data. Before actually jumping to Pandas let's learn about the coronavirus molecular biology."
          ],
          "id": ""
        }
      }
    },
    {
      "id": "cell-68",
      "source": "\n",
      "cell_type": "markdown",
      "metadata": {
        "editable": false,
        "collapsed": false
      }
    },
    {
      "id": "cell-69",
      "source": [
        "df_subset.sort_index()"
      ],
      "cell_type": "code",
      "execution_count": null,
      "outputs": [],
      "metadata": {
        "attributes": {
          "classes": [
            "To learn about pandas we will use SARS-CoV-2 data. Before actually jumping to Pandas let's learn about the coronavirus molecular biology."
          ],
          "id": ""
        }
      }
    },
    {
      "id": "cell-70",
      "source": "\n",
      "cell_type": "markdown",
      "metadata": {
        "editable": false,
        "collapsed": false
      }
    },
    {
      "id": "cell-71",
      "source": [
        "df_subset.sort_index(axis = 1)"
      ],
      "cell_type": "code",
      "execution_count": null,
      "outputs": [],
      "metadata": {
        "attributes": {
          "classes": [
            "To learn about pandas we will use SARS-CoV-2 data. Before actually jumping to Pandas let's learn about the coronavirus molecular biology."
          ],
          "id": ""
        }
      }
    },
    {
      "id": "cell-72",
      "source": "<p>Now let’s try sorting by values:</p>\n",
      "cell_type": "markdown",
      "metadata": {
        "editable": false,
        "collapsed": false
      }
    },
    {
      "id": "cell-73",
      "source": [
        "df_subset.sort_values(by=['LibraryLayout'])"
      ],
      "cell_type": "code",
      "execution_count": null,
      "outputs": [],
      "metadata": {
        "attributes": {
          "classes": [
            "To learn about pandas we will use SARS-CoV-2 data. Before actually jumping to Pandas let's learn about the coronavirus molecular biology."
          ],
          "id": ""
        }
      }
    },
    {
      "id": "cell-74",
      "source": "\n",
      "cell_type": "markdown",
      "metadata": {
        "editable": false,
        "collapsed": false
      }
    },
    {
      "id": "cell-75",
      "source": [
        "df_subset.sort_values(by=['LibraryLayout','size_MB'])"
      ],
      "cell_type": "code",
      "execution_count": null,
      "outputs": [],
      "metadata": {
        "attributes": {
          "classes": [
            "To learn about pandas we will use SARS-CoV-2 data. Before actually jumping to Pandas let's learn about the coronavirus molecular biology."
          ],
          "id": ""
        }
      }
    },
    {
      "id": "cell-76",
      "source": "\n",
      "cell_type": "markdown",
      "metadata": {
        "editable": false,
        "collapsed": false
      }
    },
    {
      "id": "cell-77",
      "source": [
        "df_subset.sort_values(by=['LibraryLayout','size_MB'],ascending=[True,False])"
      ],
      "cell_type": "code",
      "execution_count": null,
      "outputs": [],
      "metadata": {
        "attributes": {
          "classes": [
            "To learn about pandas we will use SARS-CoV-2 data. Before actually jumping to Pandas let's learn about the coronavirus molecular biology."
          ],
          "id": ""
        }
      }
    },
    {
      "id": "cell-78",
      "source": "<h1 id=\"split-apply-combine\">Split-apply-combine</h1>\n<p>Let’s say we want to compute the total size of SRA runs for each <code style=\"color: inherit\">BioProject</code>. Ignoring for the second the mechanics of how we would do this with Pandas, let’s think about it in English. What do we need to do?</p>\n<ol>\n<li><strong>Split</strong> the data set up according to the <code style=\"color: inherit\">'BioProject'</code> field, i.e., split it up so we have a separate data set for each BioProject ID.</li>\n<li><strong>Apply</strong> a median function to the activity in these split data sets.</li>\n<li><strong>Combine</strong> the results of these averages on the split data set into a new, summary data set that contains classes for each platform and medians for each.</li>\n</ol>\n<p>We see that the strategy we want is a <strong>split-apply-combine</strong> strategy. This idea was put forward by Hadley Wickham in <a href=\"http://dx.doi.org/10.18637/jss.v040.i01\">this paper</a>. It turns out that this is a strategy we want to use <em>very</em> often. Split the data in terms of some criterion. Apply some function to the split-up data. Combine the results into a new data frame.</p>\n<p>Note that if the data are tidy, this procedure makes a lot of sense. Choose the column you want to use to split by. All rows with like entries in the splitting column are then grouped into a new data set. You can then apply any function you want into these new data sets. You can then combine the results into a new data frame.</p>\n<p>Pandas’s split-apply-combine operations are achieved using the <code style=\"color: inherit\">groupby()</code> method. You can think of <code style=\"color: inherit\">groupby()</code> as the splitting part. You can then apply functions to the resulting <code style=\"color: inherit\">DataFrameGroupBy</code> object. The <a href=\"http://pandas.pydata.org/pandas-docs/stable/groupby.html\">Pandas documentation on split-apply-combine</a> is excellent and worth reading through. It is extensive though, so don’t let yourself get intimidated by it.</p>\n<h2 id=\"aggregation\">Aggregation</h2>\n<p>Let’s go ahead and do our first split-apply-combine on this tidy data set. First, we will split the data set up by <code style=\"color: inherit\">BioProject</code>.</p>\n",
      "cell_type": "markdown",
      "metadata": {
        "editable": false,
        "collapsed": false
      }
    },
    {
      "id": "cell-79",
      "source": [
        "grouped = df.groupby(['BioProject'])\n",
        "\n",
        "# Take a look\n",
        "grouped"
      ],
      "cell_type": "code",
      "execution_count": null,
      "outputs": [],
      "metadata": {
        "attributes": {
          "classes": [
            "To learn about pandas we will use SARS-CoV-2 data. Before actually jumping to Pandas let's learn about the coronavirus molecular biology."
          ],
          "id": ""
        }
      }
    },
    {
      "id": "cell-80",
      "source": "<p>There is not much to see in the <code style=\"color: inherit\">DataFrameGroupBy</code> object that resulted. But there is a lot we can do with this object. Typing <code style=\"color: inherit\">grouped.</code> and hitting tab will show you the many possibilities. For most of these possibilities, the apply and combine steps happen together and a new data frame is returned. The <code style=\"color: inherit\">grouped.sum()</code> method is exactly what we want.</p>\n",
      "cell_type": "markdown",
      "metadata": {
        "editable": false,
        "collapsed": false
      }
    },
    {
      "id": "cell-81",
      "source": [
        "df_sum = grouped.sum()\n",
        "\n",
        "# Take a look\n",
        "df_sum"
      ],
      "cell_type": "code",
      "execution_count": null,
      "outputs": [],
      "metadata": {
        "attributes": {
          "classes": [
            "To learn about pandas we will use SARS-CoV-2 data. Before actually jumping to Pandas let's learn about the coronavirus molecular biology."
          ],
          "id": ""
        }
      }
    },
    {
      "id": "cell-82",
      "source": "\n",
      "cell_type": "markdown",
      "metadata": {
        "editable": false,
        "collapsed": false
      }
    },
    {
      "id": "cell-83",
      "source": [
        "df_sum = pd.DataFrame(grouped['size_MB'].sum())\n",
        "df_sum"
      ],
      "cell_type": "code",
      "execution_count": null,
      "outputs": [],
      "metadata": {
        "attributes": {
          "classes": [
            "To learn about pandas we will use SARS-CoV-2 data. Before actually jumping to Pandas let's learn about the coronavirus molecular biology."
          ],
          "id": ""
        }
      }
    },
    {
      "id": "cell-84",
      "source": "<p>The outputted data frame has the sums of numerical columns only, which we have only one: <code style=\"color: inherit\">size_MS</code>. Note that this data frame has <code style=\"color: inherit\">Platform</code> as the name of the row index.\nIf we want to instead keep <code style=\"color: inherit\">Platform</code> (which, remember, is what we used to split up the data set before we computed the summary statistics) as a column, we can use the <code style=\"color: inherit\">reset_index()</code> method.</p>\n",
      "cell_type": "markdown",
      "metadata": {
        "editable": false,
        "collapsed": false
      }
    },
    {
      "id": "cell-85",
      "source": [
        "df_sum.reset_index()"
      ],
      "cell_type": "code",
      "execution_count": null,
      "outputs": [],
      "metadata": {
        "attributes": {
          "classes": [
            "To learn about pandas we will use SARS-CoV-2 data. Before actually jumping to Pandas let's learn about the coronavirus molecular biology."
          ],
          "id": ""
        }
      }
    },
    {
      "id": "cell-86",
      "source": "<p>Note, though, that this was not done in-place. If you want to update your data frame, you have to explicitly do so.</p>\n",
      "cell_type": "markdown",
      "metadata": {
        "editable": false,
        "collapsed": false
      }
    },
    {
      "id": "cell-87",
      "source": [
        "df_sum = df_sum.reset_index()"
      ],
      "cell_type": "code",
      "execution_count": null,
      "outputs": [],
      "metadata": {
        "attributes": {
          "classes": [
            "To learn about pandas we will use SARS-CoV-2 data. Before actually jumping to Pandas let's learn about the coronavirus molecular biology."
          ],
          "id": ""
        }
      }
    },
    {
      "id": "cell-88",
      "source": "<p>We can also use multiple columns in our <code style=\"color: inherit\">groupby()</code> operation. To do this, we simply pass in a list of columns into <code style=\"color: inherit\">df.groupby()</code>. We will <strong>chain the methods</strong>, performing a groupby,\napplying a median, and then resetting the index of the result, all in one line.</p>\n",
      "cell_type": "markdown",
      "metadata": {
        "editable": false,
        "collapsed": false
      }
    },
    {
      "id": "cell-89",
      "source": [
        "df.groupby(['BioProject', 'Platform']).sum().reset_index()"
      ],
      "cell_type": "code",
      "execution_count": null,
      "outputs": [],
      "metadata": {
        "attributes": {
          "classes": [
            "To learn about pandas we will use SARS-CoV-2 data. Before actually jumping to Pandas let's learn about the coronavirus molecular biology."
          ],
          "id": ""
        }
      }
    },
    {
      "id": "cell-90",
      "source": "<p>This type of operation is called an <strong>aggregation</strong>. That is, we split the data set up into groups, and then computed a summary statistic for each group, in this case the median.</p>\n<p>You now have tremendous power in your hands. When your data are tidy, you can rapidly accelerate the ubiquitous split-apply-combine methods. Importantly, you now have a logical\nframework to think about how you slice and dice your data. As a final, simple example, I will show you how to go start to finish after loading the data set into a data frame,\nsplitting by <code style=\"color: inherit\">BioProject</code> and <code style=\"color: inherit\">Platform</code>, and then getting the quartiles and extrema, in addition to the mean and standard deviation.</p>\n",
      "cell_type": "markdown",
      "metadata": {
        "editable": false,
        "collapsed": false
      }
    },
    {
      "id": "cell-91",
      "source": [
        "df.groupby(['BioProject', 'Platform'])['size_MB'].describe()"
      ],
      "cell_type": "code",
      "execution_count": null,
      "outputs": [],
      "metadata": {
        "attributes": {
          "classes": [
            "To learn about pandas we will use SARS-CoV-2 data. Before actually jumping to Pandas let's learn about the coronavirus molecular biology."
          ],
          "id": ""
        }
      }
    },
    {
      "id": "cell-92",
      "source": "\n",
      "cell_type": "markdown",
      "metadata": {
        "editable": false,
        "collapsed": false
      }
    },
    {
      "id": "cell-93",
      "source": [
        "df.groupby(['BioProject', 'Platform'])['size_MB'].describe().reset_index()"
      ],
      "cell_type": "code",
      "execution_count": null,
      "outputs": [],
      "metadata": {
        "attributes": {
          "classes": [
            "To learn about pandas we will use SARS-CoV-2 data. Before actually jumping to Pandas let's learn about the coronavirus molecular biology."
          ],
          "id": ""
        }
      }
    },
    {
      "id": "cell-94",
      "source": "\n",
      "cell_type": "markdown",
      "metadata": {
        "editable": false,
        "collapsed": false
      }
    },
    {
      "id": "cell-95",
      "source": [
        "import numpy as np\n",
        "df.groupby(['BioProject', 'Platform']).agg({'size_MB':np.mean, 'Run':'nunique'})"
      ],
      "cell_type": "code",
      "execution_count": null,
      "outputs": [],
      "metadata": {
        "attributes": {
          "classes": [
            "To learn about pandas we will use SARS-CoV-2 data. Before actually jumping to Pandas let's learn about the coronavirus molecular biology."
          ],
          "id": ""
        }
      }
    },
    {
      "id": "cell-96",
      "source": "<p>Yes, that’s right. One single, clean, easy-to-read line of code. In the coming tutorials, we will see how to use tidy data to quickly generate plots.</p>\n<blockquote class=\"tip\" style=\"border: 2px solid #FFE19E; margin: 1em 0.2em\">\n<div class=\"box-title tip-title\" id=\"tip-quotes-versus-no-quotes\"><button class=\"gtn-boxify-button tip\" type=\"button\" aria-controls=\"tip-quotes-versus-no-quotes\" aria-expanded=\"true\"><i class=\"far fa-lightbulb\" aria-hidden=\"true\" ></i> <span>Tip: Quotes versus no quotes?</span><span class=\"fold-unfold fa fa-minus-square\"></span></button></div>\n<p><a href=\"https://stackoverflow.com/questions/66443260/why-are-some-pandas-aggregation-functions-in-quotes-and-others-not\">Why <code style=\"color: inherit\">np.mean</code> is without quotes and <code style=\"color: inherit\">nunique</code> is with quotes?</a></p>\n</blockquote>\n<h2 id=\"tidying-a-data-set\">Tidying a data set</h2>\n<p>You should always organize your data sets in a tidy format. However, this is sometimes just not possible, since your data sets can come from instruments that do not output the\ndata in tidy format (though most do, at least in my experience), and you often have collaborators that send data in untidy formats.</p>\n<p>The most useful function for tidying data is <code style=\"color: inherit\">pd.melt()</code>. To demonstrate this we will use a dataset describing read coverage across SARS-CoV-2 genomes for several samples.</p>\n",
      "cell_type": "markdown",
      "metadata": {
        "editable": false,
        "collapsed": false
      }
    },
    {
      "id": "cell-97",
      "source": [
        "df = pd.read_csv('https://zenodo.org/records/10680470/files/coverage.tsv.gz',sep='\\t')\n",
        "\n",
        "df.head()"
      ],
      "cell_type": "code",
      "execution_count": null,
      "outputs": [],
      "metadata": {
        "attributes": {
          "classes": [
            "To learn about pandas we will use SARS-CoV-2 data. Before actually jumping to Pandas let's learn about the coronavirus molecular biology."
          ],
          "id": ""
        }
      }
    },
    {
      "id": "cell-98",
      "source": "<p>Clearly, these data are not tidy. When we melt the data frame, the data within it, called <strong>values</strong>, become a single column. The headers, called <strong>variables</strong>, also become new columns.\nSo, to melt it, we need to specify what we want to call the values and what we want to call the variable. <a href=\"https://pandas.pydata.org/docs/reference/api/pandas.melt.html#pandas.melt\"><code class=\"language-plaintext highlighter-rouge\">pd.melt()</code></a> does the rest!</p>\n<p><a href=\"https://pandas.pydata.org/docs/_images/07_melt.svg\" rel=\"noopener noreferrer\"><img src=\"https://pandas.pydata.org/docs/_images/07_melt.svg\" alt=\"Dataframe melt. \" loading=\"lazy\" /></a></p>\n<blockquote>\n<p>Image from <a href=\"https://pandas.pydata.org/docs/getting_started/intro_tutorials/07_reshape_table_layout.html#wide-to-long-format\">Pandas Docs</a>.</p>\n</blockquote>\n",
      "cell_type": "markdown",
      "metadata": {
        "editable": false,
        "collapsed": false
      }
    },
    {
      "id": "cell-99",
      "source": [
        "melted = pd.melt(df, value_name='coverage', var_name=['sample'],value_vars=df.columns[3:],id_vars=['start','end'])\n",
        "\n",
        "melted.head()"
      ],
      "cell_type": "code",
      "execution_count": null,
      "outputs": [],
      "metadata": {
        "attributes": {
          "classes": [
            "To learn about pandas we will use SARS-CoV-2 data. Before actually jumping to Pandas let's learn about the coronavirus molecular biology."
          ],
          "id": ""
        }
      }
    },
    {
      "id": "cell-100",
      "source": "<p>…and we are good to do with a tidy DataFrame! Let’s take a look at the summary. This would allow us to easily plot coverage:</p>\n",
      "cell_type": "markdown",
      "metadata": {
        "editable": false,
        "collapsed": false
      }
    },
    {
      "id": "cell-101",
      "source": [
        "import seaborn as sns\n",
        "sns.relplot(data=melted, x='start',y='coverage',kind='line')"
      ],
      "cell_type": "code",
      "execution_count": null,
      "outputs": [],
      "metadata": {
        "attributes": {
          "classes": [
            "To learn about pandas we will use SARS-CoV-2 data. Before actually jumping to Pandas let's learn about the coronavirus molecular biology."
          ],
          "id": ""
        }
      }
    },
    {
      "id": "cell-102",
      "source": "\n",
      "cell_type": "markdown",
      "metadata": {
        "editable": false,
        "collapsed": false
      }
    },
    {
      "id": "cell-103",
      "source": [
        "sns.relplot(data=melted, x='start',y='coverage',kind='line',hue='sample')"
      ],
      "cell_type": "code",
      "execution_count": null,
      "outputs": [],
      "metadata": {
        "attributes": {
          "classes": [
            "To learn about pandas we will use SARS-CoV-2 data. Before actually jumping to Pandas let's learn about the coronavirus molecular biology."
          ],
          "id": ""
        }
      }
    },
    {
      "id": "cell-104",
      "source": "\n",
      "cell_type": "markdown",
      "metadata": {
        "editable": false,
        "collapsed": false
      }
    },
    {
      "id": "cell-105",
      "source": [
        "melted.groupby(['sample']).describe()"
      ],
      "cell_type": "code",
      "execution_count": null,
      "outputs": [],
      "metadata": {
        "attributes": {
          "classes": [
            "To learn about pandas we will use SARS-CoV-2 data. Before actually jumping to Pandas let's learn about the coronavirus molecular biology."
          ],
          "id": ""
        }
      }
    },
    {
      "id": "cell-106",
      "source": "\n",
      "cell_type": "markdown",
      "metadata": {
        "editable": false,
        "collapsed": false
      }
    },
    {
      "id": "cell-107",
      "source": [
        "melted.groupby(['sample'])['coverage'].describe()"
      ],
      "cell_type": "code",
      "execution_count": null,
      "outputs": [],
      "metadata": {
        "attributes": {
          "classes": [
            "To learn about pandas we will use SARS-CoV-2 data. Before actually jumping to Pandas let's learn about the coronavirus molecular biology."
          ],
          "id": ""
        }
      }
    },
    {
      "id": "cell-108",
      "source": "<p>To get back from melted (narrow) format to wide format we can use <a href=\"https://pandas.pydata.org/docs/reference/api/pandas.DataFrame.pivot.html#pandas.DataFrame.pivot\"><code class=\"language-plaintext highlighter-rouge\">pivot()</code></a> function.</p>\n<p><a href=\"https://pandas.pydata.org/docs/_images/07_pivot.svg\" rel=\"noopener noreferrer\"><img src=\"https://pandas.pydata.org/docs/_images/07_pivot.svg\" alt=\"Dataframe pivot. \" loading=\"lazy\" /></a></p>\n<blockquote>\n<p>Image from <a href=\"https://pandas.pydata.org/docs/getting_started/intro_tutorials/07_reshape_table_layout.html#long-to-wide-table-format\">Pandas Docs</a>.</p>\n</blockquote>\n",
      "cell_type": "markdown",
      "metadata": {
        "editable": false,
        "collapsed": false
      }
    },
    {
      "id": "cell-109",
      "source": [
        "melted.pivot(index=['start','end'],columns='sample',values='coverage')"
      ],
      "cell_type": "code",
      "execution_count": null,
      "outputs": [],
      "metadata": {
        "attributes": {
          "classes": [
            "To learn about pandas we will use SARS-CoV-2 data. Before actually jumping to Pandas let's learn about the coronavirus molecular biology."
          ],
          "id": ""
        }
      }
    },
    {
      "id": "cell-110",
      "source": "<h1 id=\"working-with-multiple-tables\">Working with multiple tables</h1>\n<p>Working with multiple tables often involves joining them on a common key:</p>\n<p><a href=\"https://pandas.pydata.org/docs/_images/08_merge_left.svg\" rel=\"noopener noreferrer\"><img src=\"https://pandas.pydata.org/docs/_images/08_merge_left.svg\" alt=\"Left join. \" loading=\"lazy\" /></a></p>\n<p>In fact, this can be done in several different ways described below. But first, let’s define two simple dataframes:</p>\n",
      "cell_type": "markdown",
      "metadata": {
        "editable": false,
        "collapsed": false
      }
    },
    {
      "id": "cell-111",
      "source": [
        "!pip install --upgrade pandasql"
      ],
      "cell_type": "code",
      "execution_count": null,
      "outputs": [],
      "metadata": {
        "attributes": {
          "classes": [
            "To learn about pandas we will use SARS-CoV-2 data. Before actually jumping to Pandas let's learn about the coronavirus molecular biology."
          ],
          "id": ""
        }
      }
    },
    {
      "id": "cell-112",
      "source": "\n",
      "cell_type": "markdown",
      "metadata": {
        "editable": false,
        "collapsed": false
      }
    },
    {
      "id": "cell-113",
      "source": [
        "from pandasql import sqldf\n",
        "pysqldf = lambda q: sqldf(q, globals())"
      ],
      "cell_type": "code",
      "execution_count": null,
      "outputs": [],
      "metadata": {
        "attributes": {
          "classes": [
            "To learn about pandas we will use SARS-CoV-2 data. Before actually jumping to Pandas let's learn about the coronavirus molecular biology."
          ],
          "id": ""
        }
      }
    },
    {
      "id": "cell-114",
      "source": "\n",
      "cell_type": "markdown",
      "metadata": {
        "editable": false,
        "collapsed": false
      }
    },
    {
      "id": "cell-115",
      "source": [
        "df1 = pd.DataFrame({\"key\": [\"A\", \"B\", \"C\", \"D\"], \"value\": np.random.randn(4)})\n",
        "df2 = pd.DataFrame({\"key\": [\"B\", \"D\", \"D\", \"E\"], \"value\": np.random.randn(4)})"
      ],
      "cell_type": "code",
      "execution_count": null,
      "outputs": [],
      "metadata": {
        "attributes": {
          "classes": [
            "To learn about pandas we will use SARS-CoV-2 data. Before actually jumping to Pandas let's learn about the coronavirus molecular biology."
          ],
          "id": ""
        }
      }
    },
    {
      "id": "cell-116",
      "source": "\n",
      "cell_type": "markdown",
      "metadata": {
        "editable": false,
        "collapsed": false
      }
    },
    {
      "id": "cell-117",
      "source": [
        "df1"
      ],
      "cell_type": "code",
      "execution_count": null,
      "outputs": [],
      "metadata": {
        "attributes": {
          "classes": [
            "To learn about pandas we will use SARS-CoV-2 data. Before actually jumping to Pandas let's learn about the coronavirus molecular biology."
          ],
          "id": ""
        }
      }
    },
    {
      "id": "cell-118",
      "source": "\n",
      "cell_type": "markdown",
      "metadata": {
        "editable": false,
        "collapsed": false
      }
    },
    {
      "id": "cell-119",
      "source": [
        "df2"
      ],
      "cell_type": "code",
      "execution_count": null,
      "outputs": [],
      "metadata": {
        "attributes": {
          "classes": [
            "To learn about pandas we will use SARS-CoV-2 data. Before actually jumping to Pandas let's learn about the coronavirus molecular biology."
          ],
          "id": ""
        }
      }
    },
    {
      "id": "cell-120",
      "source": "<h2 id=\"inner-join\">Inner join</h2>\n<p><a href=\"https://upload.wikimedia.org/wikipedia/commons/thumb/1/18/SQL_Join_-_07_A_Inner_Join_B.svg/234px-SQL_Join_-_07_A_Inner_Join_B.svg.png?20170204165143\" rel=\"noopener noreferrer\"><img src=\"https://upload.wikimedia.org/wikipedia/commons/thumb/1/18/SQL_Join_-_07_A_Inner_Join_B.svg/234px-SQL_Join_-_07_A_Inner_Join_B.svg.png?20170204165143\" alt=\"Inner join. \" loading=\"lazy\" /></a></p>\n<blockquote>\n<p>Figure from Wikimedia Commons</p>\n</blockquote>\n<p>Using pandas <code style=\"color: inherit\">merge</code>:</p>\n",
      "cell_type": "markdown",
      "metadata": {
        "editable": false,
        "collapsed": false
      }
    },
    {
      "id": "cell-121",
      "source": [
        "pd.merge(df1, df2, on=\"key\")"
      ],
      "cell_type": "code",
      "execution_count": null,
      "outputs": [],
      "metadata": {
        "attributes": {
          "classes": [
            "To learn about pandas we will use SARS-CoV-2 data. Before actually jumping to Pandas let's learn about the coronavirus molecular biology."
          ],
          "id": ""
        }
      }
    },
    {
      "id": "cell-122",
      "source": "<p>Using <code style=\"color: inherit\">pysqldf</code>:</p>\n",
      "cell_type": "markdown",
      "metadata": {
        "editable": false,
        "collapsed": false
      }
    },
    {
      "id": "cell-123",
      "source": [
        "pysqldf('select * from df1 join df2 on df1.key=df2.key')"
      ],
      "cell_type": "code",
      "execution_count": null,
      "outputs": [],
      "metadata": {
        "attributes": {
          "classes": [
            "To learn about pandas we will use SARS-CoV-2 data. Before actually jumping to Pandas let's learn about the coronavirus molecular biology."
          ],
          "id": ""
        }
      }
    },
    {
      "id": "cell-124",
      "source": "<h2 id=\"left-join\">Left join</h2>\n<p><a href=\"https://upload.wikimedia.org/wikipedia/commons/thumb/d/dc/SQL_Join_-_01b_A_Left_Join_B.svg/234px-SQL_Join_-_01b_A_Left_Join_B.svg.png?20170204144906\" rel=\"noopener noreferrer\"><img src=\"https://upload.wikimedia.org/wikipedia/commons/thumb/d/dc/SQL_Join_-_01b_A_Left_Join_B.svg/234px-SQL_Join_-_01b_A_Left_Join_B.svg.png?20170204144906\" alt=\"Left join again. \" loading=\"lazy\" /></a></p>\n<blockquote>\n<p>Figure from Wikimedia Commons</p>\n</blockquote>\n<p>Using pandas <code style=\"color: inherit\">merge</code>:</p>\n",
      "cell_type": "markdown",
      "metadata": {
        "editable": false,
        "collapsed": false
      }
    },
    {
      "id": "cell-125",
      "source": [
        "pd.merge(df1, df2, on=\"key\", how=\"left\").fillna('.')"
      ],
      "cell_type": "code",
      "execution_count": null,
      "outputs": [],
      "metadata": {
        "attributes": {
          "classes": [
            "To learn about pandas we will use SARS-CoV-2 data. Before actually jumping to Pandas let's learn about the coronavirus molecular biology."
          ],
          "id": ""
        }
      }
    },
    {
      "id": "cell-126",
      "source": "<p>Using <code style=\"color: inherit\">pysqldf</code>:</p>\n",
      "cell_type": "markdown",
      "metadata": {
        "editable": false,
        "collapsed": false
      }
    },
    {
      "id": "cell-127",
      "source": [
        "pysqldf('select * from df1 left join df2 on df1.key=df2.key').fillna('.')"
      ],
      "cell_type": "code",
      "execution_count": null,
      "outputs": [],
      "metadata": {
        "attributes": {
          "classes": [
            "To learn about pandas we will use SARS-CoV-2 data. Before actually jumping to Pandas let's learn about the coronavirus molecular biology."
          ],
          "id": ""
        }
      }
    },
    {
      "id": "cell-128",
      "source": "\n",
      "cell_type": "markdown",
      "metadata": {
        "editable": false,
        "collapsed": false
      }
    },
    {
      "id": "cell-129",
      "source": [
        "pysqldf('select df1.key, df1.value as value_x, df2.value as value_y from df1 left join df2 on df1.key=df2.key').fillna('.')"
      ],
      "cell_type": "code",
      "execution_count": null,
      "outputs": [],
      "metadata": {
        "attributes": {
          "classes": [
            "To learn about pandas we will use SARS-CoV-2 data. Before actually jumping to Pandas let's learn about the coronavirus molecular biology."
          ],
          "id": ""
        }
      }
    },
    {
      "id": "cell-130",
      "source": "<h2 id=\"right-join\">Right join</h2>\n<p><a href=\"https://upload.wikimedia.org/wikipedia/commons/thumb/5/5f/SQL_Join_-_03_A_Right_Join_B.svg/234px-SQL_Join_-_03_A_Right_Join_B.svg.png?20170130230641\" rel=\"noopener noreferrer\"><img src=\"https://upload.wikimedia.org/wikipedia/commons/thumb/5/5f/SQL_Join_-_03_A_Right_Join_B.svg/234px-SQL_Join_-_03_A_Right_Join_B.svg.png?20170130230641\" alt=\"Right join. \" loading=\"lazy\" /></a></p>\n<blockquote>\n<p>Figure from Wikimedia Commons</p>\n</blockquote>\n<p>Using pandas <code style=\"color: inherit\">merge</code>:</p>\n",
      "cell_type": "markdown",
      "metadata": {
        "editable": false,
        "collapsed": false
      }
    },
    {
      "id": "cell-131",
      "source": [
        "pd.merge(df1, df2, on=\"key\", how=\"right\").fillna('.')"
      ],
      "cell_type": "code",
      "execution_count": null,
      "outputs": [],
      "metadata": {
        "attributes": {
          "classes": [
            "To learn about pandas we will use SARS-CoV-2 data. Before actually jumping to Pandas let's learn about the coronavirus molecular biology."
          ],
          "id": ""
        }
      }
    },
    {
      "id": "cell-132",
      "source": "<h2 id=\"full-join\">Full join</h2>\n<p><a href=\"https://upload.wikimedia.org/wikipedia/commons/thumb/6/61/SQL_Join_-_05_A_Full_Join_B.svg/234px-SQL_Join_-_05_A_Full_Join_B.svg.png?20170130230643\" rel=\"noopener noreferrer\"><img src=\"https://upload.wikimedia.org/wikipedia/commons/thumb/6/61/SQL_Join_-_05_A_Full_Join_B.svg/234px-SQL_Join_-_05_A_Full_Join_B.svg.png?20170130230643\" alt=\"Full join. \" loading=\"lazy\" /></a></p>\n<blockquote>\n<p>Figure from Wikimedia Commons</p>\n</blockquote>\n<p>Using pandas <code style=\"color: inherit\">merge</code>:</p>\n",
      "cell_type": "markdown",
      "metadata": {
        "editable": false,
        "collapsed": false
      }
    },
    {
      "id": "cell-133",
      "source": [
        "pd.merge(df1, df2, on=\"key\", how=\"outer\").fillna('.')"
      ],
      "cell_type": "code",
      "execution_count": null,
      "outputs": [],
      "metadata": {
        "attributes": {
          "classes": [
            "To learn about pandas we will use SARS-CoV-2 data. Before actually jumping to Pandas let's learn about the coronavirus molecular biology."
          ],
          "id": ""
        }
      }
    },
    {
      "id": "cell-134",
      "source": "<h1 id=\"putting-it-all-together-pandas--altair\">Putting it all together: Pandas + Altair</h1>\n<h2 id=\"understanding-altair\">Understanding <a href=\"https://altair-viz.github.io/\">Altair</a></h2>\n<p>Vega-Altair is a declarative statistical visualization library for Python, based on Vega and Vega-Lite. It offers a powerful and concise grammar that enables you to quickly build a wide range of statistical visualizations. <a href=\"https://uwdata.github.io/visualization-curriculum/intro.html\">This site</a> contains a complete set of “how-to” tutorials explaining all aspects of this remarkable package.</p>\n<h2 id=\"importing-data\">Importing data</h2>\n<p>First, import all the packages we need:</p>\n<div class=\"language-py highlighter-rouge\"><div><pre style=\"color: inherit; background: transparent\"><code style=\"color: inherit\"><span class=\"kn\">import</span> <span class=\"n\">pandas</span> <span class=\"k\">as</span> <span class=\"n\">pd</span>\n<span class=\"kn\">import</span> <span class=\"n\">altair</span> <span class=\"k\">as</span> <span class=\"n\">alt</span>\n<span class=\"kn\">from</span> <span class=\"n\">datetime</span> <span class=\"kn\">import</span> <span class=\"n\">date</span>\n<span class=\"n\">today</span> <span class=\"o\">=</span> <span class=\"n\">date</span><span class=\"p\">.</span><span class=\"nf\">today</span><span class=\"p\">()</span>\n</code></pre></div></div>\n<p>Next, read a gigantic dataset from DropBox:</p>\n<div class=\"language-py highlighter-rouge\"><div><pre style=\"color: inherit; background: transparent\"><code style=\"color: inherit\"><span class=\"n\">sra</span> <span class=\"o\">=</span> <span class=\"n\">pd</span><span class=\"p\">.</span><span class=\"nf\">read_csv</span><span class=\"p\">(</span>\n<span class=\"sh\">\"</span><span class=\"s\">https://zenodo.org/records/10680776/files/ena.tsv.gz</span><span class=\"sh\">\"</span><span class=\"p\">,</span>\n<span class=\"n\">compression</span><span class=\"o\">=</span><span class=\"sh\">'</span><span class=\"s\">gzip</span><span class=\"sh\">'</span><span class=\"p\">,</span>\n<span class=\"n\">sep</span><span class=\"o\">=</span><span class=\"sh\">\"</span><span class=\"se\">\\t</span><span class=\"sh\">\"</span><span class=\"p\">,</span>\n<span class=\"n\">low_memory</span><span class=\"o\">=</span><span class=\"bp\">False</span>\n<span class=\"p\">)</span>\n</code></pre></div></div>\n<p>This dataset contains <em>a lot</em> of rows:</p>\n<div class=\"language-py highlighter-rouge\"><div><pre style=\"color: inherit; background: transparent\"><code style=\"color: inherit\"><span class=\"nf\">len</span><span class=\"p\">(</span><span class=\"n\">sra</span><span class=\"p\">)</span>\n</code></pre></div></div>\n<p>Which would output:</p>\n<div class=\"language-plaintext highlighter-rouge\"><div><pre style=\"color: inherit; background: transparent\"><code style=\"color: inherit\">1000000\n</code></pre></div></div>\n<p>Let’s look at the five random lines from this table (scroll sideways):</p>\n<div class=\"language-py highlighter-rouge\"><div><pre style=\"color: inherit; background: transparent\"><code style=\"color: inherit\"><span class=\"n\">sra</span><span class=\"p\">.</span><span class=\"nf\">sample</span><span class=\"p\">(</span><span class=\"mi\">5</span><span class=\"p\">)</span>\n</code></pre></div></div>\n<table>\n<thead>\n<tr>\n<th style=\"text-align: right\"> </th>\n<th style=\"text-align: left\">study_accession</th>\n<th style=\"text-align: left\">run_accession</th>\n<th style=\"text-align: left\">collection_date</th>\n<th style=\"text-align: left\">instrument_platform</th>\n<th style=\"text-align: left\">library_strategy</th>\n<th style=\"text-align: left\">library_construction_protocol</th>\n</tr>\n</thead>\n<tbody>\n<tr>\n<td style=\"text-align: right\">2470282</td>\n<td style=\"text-align: left\">PRJEB37886</td>\n<td style=\"text-align: left\">ERR8618165</td>\n<td style=\"text-align: left\">2022-02-03 00:00:00</td>\n<td style=\"text-align: left\">ILLUMINA</td>\n<td style=\"text-align: left\">AMPLICON</td>\n<td style=\"text-align: left\">nan</td>\n</tr>\n<tr>\n<td style=\"text-align: right\">5747352</td>\n<td style=\"text-align: left\">PRJNA686984</td>\n<td style=\"text-align: left\">SRR21294506</td>\n<td style=\"text-align: left\">2022-07-10 00:00:00</td>\n<td style=\"text-align: left\">OXFORD_NANOPORE</td>\n<td style=\"text-align: left\">AMPLICON</td>\n<td style=\"text-align: left\">nan</td>\n</tr>\n<tr>\n<td style=\"text-align: right\">2588443</td>\n<td style=\"text-align: left\">PRJEB37886</td>\n<td style=\"text-align: left\">ERR8997118</td>\n<td style=\"text-align: left\">2022-02-15 00:00:00</td>\n<td style=\"text-align: left\">ILLUMINA</td>\n<td style=\"text-align: left\">AMPLICON</td>\n<td style=\"text-align: left\">nan</td>\n</tr>\n<tr>\n<td style=\"text-align: right\">3662323</td>\n<td style=\"text-align: left\">PRJNA716984</td>\n<td style=\"text-align: left\">SRR16033134</td>\n<td style=\"text-align: left\">2021-09-08 00:00:00</td>\n<td style=\"text-align: left\">PACBIO_SMRT</td>\n<td style=\"text-align: left\">AMPLICON</td>\n<td style=\"text-align: left\">Freed primers</td>\n</tr>\n<tr>\n<td style=\"text-align: right\">5298351</td>\n<td style=\"text-align: left\">PRJNA716984</td>\n<td style=\"text-align: left\">SRR20455932</td>\n<td style=\"text-align: left\">2022-04-10 00:00:00</td>\n<td style=\"text-align: left\">PACBIO_SMRT</td>\n<td style=\"text-align: left\">AMPLICON</td>\n<td style=\"text-align: left\">Freed primers</td>\n</tr>\n</tbody>\n</table>\n<p>This dataset also has <em>a lot</em> of columns:</p>\n<div class=\"language-py highlighter-rouge\"><div><pre style=\"color: inherit; background: transparent\"><code style=\"color: inherit\"><span class=\"k\">for</span> <span class=\"n\">_</span> <span class=\"ow\">in</span> <span class=\"n\">sra</span><span class=\"p\">.</span><span class=\"n\">columns</span><span class=\"p\">:</span> <span class=\"nf\">print</span><span class=\"p\">(</span><span class=\"n\">_</span><span class=\"p\">)</span>\n</code></pre></div></div>\n<p>We do not need all the columns, so let’s restrict the dataset only to columns we would need. This would also make it much smaller:</p>\n<div class=\"language-py highlighter-rouge\"><div><pre style=\"color: inherit; background: transparent\"><code style=\"color: inherit\"><span class=\"n\">sra</span> <span class=\"o\">=</span> <span class=\"n\">sra</span><span class=\"p\">[</span>\n<span class=\"p\">[</span>\n<span class=\"sh\">'</span><span class=\"s\">study_accession</span><span class=\"sh\">'</span><span class=\"p\">,</span>\n<span class=\"sh\">'</span><span class=\"s\">run_accession</span><span class=\"sh\">'</span><span class=\"p\">,</span>\n<span class=\"sh\">'</span><span class=\"s\">collection_date</span><span class=\"sh\">'</span><span class=\"p\">,</span>\n<span class=\"sh\">'</span><span class=\"s\">instrument_platform</span><span class=\"sh\">'</span><span class=\"p\">,</span>\n<span class=\"sh\">'</span><span class=\"s\">library_strategy</span><span class=\"sh\">'</span><span class=\"p\">,</span>\n<span class=\"sh\">'</span><span class=\"s\">library_construction_protocol</span><span class=\"sh\">'</span>\n<span class=\"p\">]</span>\n<span class=\"p\">]</span>\n</code></pre></div></div>\n<h2 id=\"cleaning-the-data\">Cleaning the data</h2>\n<p>The <code style=\"color: inherit\">collection_date</code> field will be useful for us to be able to filter out nonsense as you will see below. But to use it properly, we need tell Pandas that it is not just a text, but actually dates:</p>\n<div class=\"language-py highlighter-rouge\"><div><pre style=\"color: inherit; background: transparent\"><code style=\"color: inherit\"><span class=\"n\">sra</span> <span class=\"o\">=</span> <span class=\"n\">sra</span><span class=\"p\">.</span><span class=\"nf\">assign</span><span class=\"p\">(</span><span class=\"n\">collection_date</span> <span class=\"o\">=</span> <span class=\"n\">pd</span><span class=\"p\">.</span><span class=\"nf\">to_datetime</span><span class=\"p\">(</span><span class=\"n\">sra</span><span class=\"p\">[</span><span class=\"sh\">\"</span><span class=\"s\">collection_date</span><span class=\"sh\">\"</span><span class=\"p\">]))</span>\n</code></pre></div></div>\n<p>Let’s see what are the earliest and latest entries:</p>\n<div class=\"language-py highlighter-rouge\"><div><pre style=\"color: inherit; background: transparent\"><code style=\"color: inherit\"><span class=\"nf\">print</span><span class=\"p\">(</span><span class=\"sh\">'</span><span class=\"s\">Earliest entry:</span><span class=\"sh\">'</span><span class=\"p\">,</span> <span class=\"n\">sra</span><span class=\"p\">[</span><span class=\"sh\">'</span><span class=\"s\">collection_date</span><span class=\"sh\">'</span><span class=\"p\">].</span><span class=\"nf\">min</span><span class=\"p\">())</span>\n<span class=\"nf\">print</span><span class=\"p\">(</span><span class=\"sh\">'</span><span class=\"s\">Latest entry:</span><span class=\"sh\">'</span><span class=\"p\">,</span> <span class=\"n\">sra</span><span class=\"p\">[</span><span class=\"sh\">'</span><span class=\"s\">collection_date</span><span class=\"sh\">'</span><span class=\"p\">].</span><span class=\"nf\">max</span><span class=\"p\">())</span>\n</code></pre></div></div>\n<blockquote class=\"warning\" style=\"border: 2px solid #de8875; margin: 1em 0.2em\">\n<div class=\"box-title warning-title\" id=\"warning-metadata-is-128169\"><i class=\"fas fa-exclamation-triangle\" aria-hidden=\"true\" ></i> Warning: Metadata is &#128169;</div>\n<p>😱 | Don’t get surprised here - the metadata is only as good as the person who entered it. So, <strong>when you enter metadata for you sequencing data – pay attention!!!</strong></p>\n</blockquote>\n<blockquote class=\"question\" style=\"border: 2px solid #8A9AD0; margin: 1em 0.2em\">\n<div class=\"box-title question-title\" id=\"question\"><i class=\"far fa-question-circle\" aria-hidden=\"true\" ></i> Question</div>\n<p>Can you write a statement that would show how many rows contain these erroneous dates?</p>\n<br/><details style=\"border: 2px solid #B8C3EA; margin: 1em 0.2em;padding: 0.5em; cursor: pointer;\"><summary>👁 View solution</summary>\n<div class=\"box-title solution-title\" id=\"solution\"><button class=\"gtn-boxify-button solution\" type=\"button\" aria-controls=\"solution\" aria-expanded=\"true\"><i class=\"far fa-eye\" aria-hidden=\"true\" ></i> <span>Solution</span><span class=\"fold-unfold fa fa-minus-square\"></span></button></div>\n<div class=\"language-py highlighter-rouge\"><div><pre style=\"color: inherit; background: transparent\"><code style=\"color: inherit\"><span class=\"n\">sra</span><span class=\"p\">[</span><span class=\"n\">sra</span><span class=\"p\">[</span><span class=\"sh\">'</span><span class=\"s\">collection_date</span><span class=\"sh\">'</span><span class=\"p\">]</span> <span class=\"o\">==</span> <span class=\"n\">sra</span><span class=\"p\">[</span><span class=\"sh\">'</span><span class=\"s\">collection_date</span><span class=\"sh\">'</span><span class=\"p\">].</span><span class=\"nf\">min</span><span class=\"p\">()][</span><span class=\"sh\">'</span><span class=\"s\">run_accession</span><span class=\"sh\">'</span><span class=\"p\">].</span><span class=\"nf\">nunique</span><span class=\"p\">()</span>\n<span class=\"n\">sra</span><span class=\"p\">[</span><span class=\"n\">sra</span><span class=\"p\">[</span><span class=\"sh\">'</span><span class=\"s\">collection_date</span><span class=\"sh\">'</span><span class=\"p\">]</span> <span class=\"o\">==</span> <span class=\"n\">sra</span><span class=\"p\">[</span><span class=\"sh\">'</span><span class=\"s\">collection_date</span><span class=\"sh\">'</span><span class=\"p\">].</span><span class=\"nf\">max</span><span class=\"p\">()][</span><span class=\"sh\">'</span><span class=\"s\">run_accession</span><span class=\"sh\">'</span><span class=\"p\">].</span><span class=\"nf\">nunique</span><span class=\"p\">()</span>\n</code></pre></div>    </div>\n</details>\n</blockquote>\n<p>The data will likely need a bit of cleaning:</p>\n<div class=\"language-py highlighter-rouge\"><div><pre style=\"color: inherit; background: transparent\"><code style=\"color: inherit\"><span class=\"n\">sra</span> <span class=\"o\">=</span> <span class=\"n\">sra</span><span class=\"p\">[</span>\n<span class=\"p\">(</span> <span class=\"n\">sra</span><span class=\"p\">[</span><span class=\"sh\">'</span><span class=\"s\">collection_date</span><span class=\"sh\">'</span><span class=\"p\">]</span> <span class=\"o\">&gt;=</span> <span class=\"sh\">'</span><span class=\"s\">2020-01-01</span><span class=\"sh\">'</span> <span class=\"p\">)</span>\n<span class=\"o\">&amp;</span>\n<span class=\"p\">(</span> <span class=\"n\">sra</span><span class=\"p\">[</span><span class=\"sh\">'</span><span class=\"s\">collection_date</span><span class=\"sh\">'</span><span class=\"p\">]</span> <span class=\"o\">&lt;=</span> <span class=\"sh\">'</span><span class=\"s\">2023-02-16</span><span class=\"sh\">'</span> <span class=\"p\">)</span>\n<span class=\"p\">]</span>\n</code></pre></div></div>\n<p>Finally, in order to build the heatmap, we need to aggregate the data:</p>\n<div class=\"language-py highlighter-rouge\"><div><pre style=\"color: inherit; background: transparent\"><code style=\"color: inherit\"><span class=\"n\">heatmap_2d</span> <span class=\"o\">=</span> <span class=\"n\">sra</span><span class=\"p\">.</span><span class=\"nf\">groupby</span><span class=\"p\">(</span>\n<span class=\"p\">[</span><span class=\"sh\">'</span><span class=\"s\">instrument_platform</span><span class=\"sh\">'</span><span class=\"p\">,</span><span class=\"sh\">'</span><span class=\"s\">library_strategy</span><span class=\"sh\">'</span><span class=\"p\">]</span>\n<span class=\"p\">).</span><span class=\"nf\">agg</span><span class=\"p\">(</span>\n<span class=\"p\">{</span><span class=\"sh\">'</span><span class=\"s\">run_accession</span><span class=\"sh\">'</span><span class=\"p\">:</span><span class=\"sh\">'</span><span class=\"s\">nunique</span><span class=\"sh\">'</span><span class=\"p\">}</span>\n<span class=\"p\">).</span><span class=\"nf\">reset_index</span><span class=\"p\">()</span>\n</code></pre></div></div>\n<p>This will look something like this:</p>\n<table>\n<thead>\n<tr>\n<th style=\"text-align: right\"> </th>\n<th style=\"text-align: left\">instrument_platform</th>\n<th style=\"text-align: left\">library_strategy</th>\n<th style=\"text-align: right\">run_accession</th>\n</tr>\n</thead>\n<tbody>\n<tr>\n<td style=\"text-align: right\">0</td>\n<td style=\"text-align: left\">BGISEQ</td>\n<td style=\"text-align: left\">AMPLICON</td>\n<td style=\"text-align: right\">21</td>\n</tr>\n<tr>\n<td style=\"text-align: right\">1</td>\n<td style=\"text-align: left\">BGISEQ</td>\n<td style=\"text-align: left\">OTHER</td>\n<td style=\"text-align: right\">1067</td>\n</tr>\n<tr>\n<td style=\"text-align: right\">2</td>\n<td style=\"text-align: left\">BGISEQ</td>\n<td style=\"text-align: left\">RNA-Seq</td>\n<td style=\"text-align: right\">64</td>\n</tr>\n<tr>\n<td style=\"text-align: right\">3</td>\n<td style=\"text-align: left\">BGISEQ</td>\n<td style=\"text-align: left\">Targeted-Capture</td>\n<td style=\"text-align: right\">38</td>\n</tr>\n<tr>\n<td style=\"text-align: right\">4</td>\n<td style=\"text-align: left\">BGISEQ</td>\n<td style=\"text-align: left\">WGA</td>\n<td style=\"text-align: right\">1</td>\n</tr>\n<tr>\n<td style=\"text-align: right\">5</td>\n<td style=\"text-align: left\">CAPILLARY</td>\n<td style=\"text-align: left\">AMPLICON</td>\n<td style=\"text-align: right\">3</td>\n</tr>\n<tr>\n<td style=\"text-align: right\">6</td>\n<td style=\"text-align: left\">DNBSEQ</td>\n<td style=\"text-align: left\">AMPLICON</td>\n<td style=\"text-align: right\">325</td>\n</tr>\n<tr>\n<td style=\"text-align: right\">7</td>\n<td style=\"text-align: left\">DNBSEQ</td>\n<td style=\"text-align: left\">OTHER</td>\n<td style=\"text-align: right\">5</td>\n</tr>\n<tr>\n<td style=\"text-align: right\">8</td>\n<td style=\"text-align: left\">DNBSEQ</td>\n<td style=\"text-align: left\">RNA-Seq</td>\n<td style=\"text-align: right\">64</td>\n</tr>\n<tr>\n<td style=\"text-align: right\">9</td>\n<td style=\"text-align: left\">ILLUMINA</td>\n<td style=\"text-align: left\">AMPLICON</td>\n<td style=\"text-align: right\">4833110</td>\n</tr>\n<tr>\n<td style=\"text-align: right\">10</td>\n<td style=\"text-align: left\">ILLUMINA</td>\n<td style=\"text-align: left\">OTHER</td>\n<td style=\"text-align: right\">204</td>\n</tr>\n<tr>\n<td style=\"text-align: right\">11</td>\n<td style=\"text-align: left\">ILLUMINA</td>\n<td style=\"text-align: left\">RNA-Seq</td>\n<td style=\"text-align: right\">34826</td>\n</tr>\n<tr>\n<td style=\"text-align: right\">12</td>\n<td style=\"text-align: left\">ILLUMINA</td>\n<td style=\"text-align: left\">Targeted-Capture</td>\n<td style=\"text-align: right\">14843</td>\n</tr>\n<tr>\n<td style=\"text-align: right\">13</td>\n<td style=\"text-align: left\">ILLUMINA</td>\n<td style=\"text-align: left\">WCS</td>\n<td style=\"text-align: right\">74</td>\n</tr>\n<tr>\n<td style=\"text-align: right\">14</td>\n<td style=\"text-align: left\">ILLUMINA</td>\n<td style=\"text-align: left\">WGA</td>\n<td style=\"text-align: right\">89499</td>\n</tr>\n<tr>\n<td style=\"text-align: right\">15</td>\n<td style=\"text-align: left\">ILLUMINA</td>\n<td style=\"text-align: left\">WGS</td>\n<td style=\"text-align: right\">59618</td>\n</tr>\n<tr>\n<td style=\"text-align: right\">16</td>\n<td style=\"text-align: left\">ILLUMINA</td>\n<td style=\"text-align: left\">WXS</td>\n<td style=\"text-align: right\">2</td>\n</tr>\n<tr>\n<td style=\"text-align: right\">17</td>\n<td style=\"text-align: left\">ILLUMINA</td>\n<td style=\"text-align: left\">miRNA-Seq</td>\n<td style=\"text-align: right\">28</td>\n</tr>\n<tr>\n<td style=\"text-align: right\">18</td>\n<td style=\"text-align: left\">ION_TORRENT</td>\n<td style=\"text-align: left\">AMPLICON</td>\n<td style=\"text-align: right\">108617</td>\n</tr>\n<tr>\n<td style=\"text-align: right\">19</td>\n<td style=\"text-align: left\">ION_TORRENT</td>\n<td style=\"text-align: left\">RNA-Seq</td>\n<td style=\"text-align: right\">75</td>\n</tr>\n<tr>\n<td style=\"text-align: right\">20</td>\n<td style=\"text-align: left\">ION_TORRENT</td>\n<td style=\"text-align: left\">WGA</td>\n<td style=\"text-align: right\">724</td>\n</tr>\n<tr>\n<td style=\"text-align: right\">21</td>\n<td style=\"text-align: left\">ION_TORRENT</td>\n<td style=\"text-align: left\">WGS</td>\n<td style=\"text-align: right\">1385</td>\n</tr>\n<tr>\n<td style=\"text-align: right\">22</td>\n<td style=\"text-align: left\">OXFORD_NANOPORE</td>\n<td style=\"text-align: left\">AMPLICON</td>\n<td style=\"text-align: right\">445491</td>\n</tr>\n<tr>\n<td style=\"text-align: right\">23</td>\n<td style=\"text-align: left\">OXFORD_NANOPORE</td>\n<td style=\"text-align: left\">OTHER</td>\n<td style=\"text-align: right\">31</td>\n</tr>\n<tr>\n<td style=\"text-align: right\">24</td>\n<td style=\"text-align: left\">OXFORD_NANOPORE</td>\n<td style=\"text-align: left\">RNA-Seq</td>\n<td style=\"text-align: right\">18617</td>\n</tr>\n<tr>\n<td style=\"text-align: right\">25</td>\n<td style=\"text-align: left\">OXFORD_NANOPORE</td>\n<td style=\"text-align: left\">WGA</td>\n<td style=\"text-align: right\">7842</td>\n</tr>\n<tr>\n<td style=\"text-align: right\">26</td>\n<td style=\"text-align: left\">OXFORD_NANOPORE</td>\n<td style=\"text-align: left\">WGS</td>\n<td style=\"text-align: right\">13670</td>\n</tr>\n<tr>\n<td style=\"text-align: right\">27</td>\n<td style=\"text-align: left\">PACBIO_SMRT</td>\n<td style=\"text-align: left\">AMPLICON</td>\n<td style=\"text-align: right\">533112</td>\n</tr>\n<tr>\n<td style=\"text-align: right\">28</td>\n<td style=\"text-align: left\">PACBIO_SMRT</td>\n<td style=\"text-align: left\">FL-cDNA</td>\n<td style=\"text-align: right\">11</td>\n</tr>\n<tr>\n<td style=\"text-align: right\">29</td>\n<td style=\"text-align: left\">PACBIO_SMRT</td>\n<td style=\"text-align: left\">RNA-Seq</td>\n<td style=\"text-align: right\">1013</td>\n</tr>\n<tr>\n<td style=\"text-align: right\">30</td>\n<td style=\"text-align: left\">PACBIO_SMRT</td>\n<td style=\"text-align: left\">Synthetic-Long-Read</td>\n<td style=\"text-align: right\">29</td>\n</tr>\n<tr>\n<td style=\"text-align: right\">31</td>\n<td style=\"text-align: left\">PACBIO_SMRT</td>\n<td style=\"text-align: left\">Targeted-Capture</td>\n<td style=\"text-align: right\">465</td>\n</tr>\n<tr>\n<td style=\"text-align: right\">32</td>\n<td style=\"text-align: left\">PACBIO_SMRT</td>\n<td style=\"text-align: left\">WGS</td>\n<td style=\"text-align: right\">48</td>\n</tr>\n</tbody>\n</table>\n<h2 id=\"plotting-the-data\">Plotting the data</h2>\n<p>Now let’s create a graph. This graph will be layered: the “back” will be the heatmap squares and the “front” will be the numbers (see heatmap at the beginning of this page):</p>\n<div class=\"language-py highlighter-rouge\"><div><pre style=\"color: inherit; background: transparent\"><code style=\"color: inherit\"><span class=\"n\">back</span> <span class=\"o\">=</span> <span class=\"n\">alt</span><span class=\"p\">.</span><span class=\"nc\">Chart</span><span class=\"p\">(</span><span class=\"n\">heatmap_2d</span><span class=\"p\">).</span><span class=\"nf\">mark_rect</span><span class=\"p\">(</span><span class=\"n\">opacity</span><span class=\"o\">=</span><span class=\"mi\">1</span><span class=\"p\">).</span><span class=\"nf\">encode</span><span class=\"p\">(</span>\n<span class=\"n\">x</span><span class=\"o\">=</span><span class=\"n\">alt</span><span class=\"p\">.</span><span class=\"nc\">X</span><span class=\"p\">(</span>\n<span class=\"sh\">\"</span><span class=\"s\">instrument_platform:N</span><span class=\"sh\">\"</span><span class=\"p\">,</span>\n<span class=\"n\">title</span><span class=\"o\">=</span><span class=\"sh\">\"</span><span class=\"s\">Instrument</span><span class=\"sh\">\"</span>\n<span class=\"p\">),</span>\n<span class=\"n\">y</span><span class=\"o\">=</span><span class=\"n\">alt</span><span class=\"p\">.</span><span class=\"nc\">Y</span><span class=\"p\">(</span>\n<span class=\"sh\">\"</span><span class=\"s\">library_strategy:N</span><span class=\"sh\">\"</span><span class=\"p\">,</span>\n<span class=\"n\">title</span><span class=\"o\">=</span><span class=\"sh\">\"</span><span class=\"s\">Strategy</span><span class=\"sh\">\"</span><span class=\"p\">,</span>\n<span class=\"n\">axis</span><span class=\"o\">=</span><span class=\"n\">alt</span><span class=\"p\">.</span><span class=\"nc\">Axis</span><span class=\"p\">(</span><span class=\"n\">orient</span><span class=\"o\">=</span><span class=\"sh\">'</span><span class=\"s\">right</span><span class=\"sh\">'</span><span class=\"p\">)</span>\n<span class=\"p\">),</span>\n<span class=\"n\">color</span><span class=\"o\">=</span><span class=\"n\">alt</span><span class=\"p\">.</span><span class=\"nc\">Color</span><span class=\"p\">(</span>\n<span class=\"sh\">\"</span><span class=\"s\">run_accession:Q</span><span class=\"sh\">\"</span><span class=\"p\">,</span>\n<span class=\"n\">title</span><span class=\"o\">=</span><span class=\"sh\">\"</span><span class=\"s\"># Samples</span><span class=\"sh\">\"</span><span class=\"p\">,</span>\n<span class=\"n\">scale</span><span class=\"o\">=</span><span class=\"n\">alt</span><span class=\"p\">.</span><span class=\"nc\">Scale</span><span class=\"p\">(</span>\n<span class=\"n\">scheme</span><span class=\"o\">=</span><span class=\"sh\">\"</span><span class=\"s\">goldred</span><span class=\"sh\">\"</span><span class=\"p\">,</span>\n<span class=\"nb\">type</span><span class=\"o\">=</span><span class=\"sh\">\"</span><span class=\"s\">log</span><span class=\"sh\">\"</span>\n<span class=\"p\">),</span>\n<span class=\"p\">),</span>\n<span class=\"n\">tooltip</span><span class=\"o\">=</span><span class=\"p\">[</span>\n<span class=\"n\">alt</span><span class=\"p\">.</span><span class=\"nc\">Tooltip</span><span class=\"p\">(</span>\n<span class=\"sh\">\"</span><span class=\"s\">instrument_platform:N</span><span class=\"sh\">\"</span><span class=\"p\">,</span>\n<span class=\"n\">title</span><span class=\"o\">=</span><span class=\"sh\">\"</span><span class=\"s\">Machine</span><span class=\"sh\">\"</span>\n<span class=\"p\">),</span>\n<span class=\"n\">alt</span><span class=\"p\">.</span><span class=\"nc\">Tooltip</span><span class=\"p\">(</span>\n<span class=\"sh\">\"</span><span class=\"s\">run_accession:Q</span><span class=\"sh\">\"</span><span class=\"p\">,</span>\n<span class=\"n\">title</span><span class=\"o\">=</span><span class=\"sh\">\"</span><span class=\"s\">Number of runs</span><span class=\"sh\">\"</span>\n<span class=\"p\">),</span>\n<span class=\"n\">alt</span><span class=\"p\">.</span><span class=\"nc\">Tooltip</span><span class=\"p\">(</span>\n<span class=\"sh\">\"</span><span class=\"s\">library_strategy:N</span><span class=\"sh\">\"</span><span class=\"p\">,</span>\n<span class=\"n\">title</span><span class=\"o\">=</span><span class=\"sh\">\"</span><span class=\"s\">Protocol</span><span class=\"sh\">\"</span>\n<span class=\"p\">)</span>\n<span class=\"p\">]</span>\n<span class=\"p\">).</span><span class=\"nf\">properties</span><span class=\"p\">(</span>\n<span class=\"n\">width</span><span class=\"o\">=</span><span class=\"mi\">500</span><span class=\"p\">,</span>\n<span class=\"n\">height</span><span class=\"o\">=</span><span class=\"mi\">150</span><span class=\"p\">,</span>\n<span class=\"n\">title</span><span class=\"o\">=</span><span class=\"p\">{</span>\n<span class=\"sh\">\"</span><span class=\"s\">text</span><span class=\"sh\">\"</span><span class=\"p\">:</span>\n<span class=\"p\">[</span><span class=\"sh\">\"</span><span class=\"s\">Breakdown of datasets (unique accessions) from ENA</span><span class=\"sh\">\"</span><span class=\"p\">,</span>\n<span class=\"sh\">\"</span><span class=\"s\">by Platform and Library Strategy</span><span class=\"sh\">\"</span><span class=\"p\">],</span>\n<span class=\"sh\">\"</span><span class=\"s\">subtitle</span><span class=\"sh\">\"</span><span class=\"p\">:</span><span class=\"sh\">\"</span><span class=\"s\">(Updated {})</span><span class=\"sh\">\"</span><span class=\"p\">.</span><span class=\"nf\">format</span><span class=\"p\">(</span><span class=\"n\">today</span><span class=\"p\">.</span><span class=\"nf\">strftime</span><span class=\"p\">(</span><span class=\"sh\">\"</span><span class=\"s\">%B %d, %Y</span><span class=\"sh\">\"</span><span class=\"p\">))</span>\n<span class=\"p\">}</span>\n<span class=\"p\">)</span>\n<span class=\"n\">back</span>\n</code></pre></div></div>\n<p>This would give us a grid:</p>\n<p><a href=\"https://i.imgur.com/74itE5M.png\" rel=\"noopener noreferrer\"><img src=\"https://i.imgur.com/74itE5M.png\" alt=\"Grid. \" loading=\"lazy\" /></a></p>\n<p>Now, it would be nice to fill the rectangles with actual numbers:</p>\n<div class=\"language-py highlighter-rouge\"><div><pre style=\"color: inherit; background: transparent\"><code style=\"color: inherit\"><span class=\"n\">front</span> <span class=\"o\">=</span> <span class=\"n\">back</span><span class=\"p\">.</span><span class=\"nf\">mark_text</span><span class=\"p\">(</span>\n<span class=\"n\">align</span><span class=\"o\">=</span><span class=\"sh\">\"</span><span class=\"s\">center</span><span class=\"sh\">\"</span><span class=\"p\">,</span>\n<span class=\"n\">baseline</span><span class=\"o\">=</span><span class=\"sh\">\"</span><span class=\"s\">middle</span><span class=\"sh\">\"</span><span class=\"p\">,</span>\n<span class=\"n\">fontSize</span><span class=\"o\">=</span><span class=\"mi\">12</span><span class=\"p\">,</span>\n<span class=\"n\">fontWeight</span><span class=\"o\">=</span><span class=\"sh\">\"</span><span class=\"s\">bold</span><span class=\"sh\">\"</span><span class=\"p\">,</span>\n<span class=\"p\">).</span><span class=\"nf\">encode</span><span class=\"p\">(</span>\n<span class=\"n\">text</span><span class=\"o\">=</span><span class=\"n\">alt</span><span class=\"p\">.</span><span class=\"nc\">Text</span><span class=\"p\">(</span><span class=\"sh\">\"</span><span class=\"s\">run_accession:Q</span><span class=\"sh\">\"</span><span class=\"p\">,</span><span class=\"nb\">format</span><span class=\"o\">=</span><span class=\"sh\">\"</span><span class=\"s\">,.0f</span><span class=\"sh\">\"</span><span class=\"p\">),</span>\n<span class=\"n\">color</span><span class=\"o\">=</span><span class=\"n\">alt</span><span class=\"p\">.</span><span class=\"nf\">condition</span><span class=\"p\">(</span>\n<span class=\"n\">alt</span><span class=\"p\">.</span><span class=\"n\">datum</span><span class=\"p\">.</span><span class=\"n\">run_accession</span> <span class=\"o\">&gt;</span> <span class=\"mi\">200</span><span class=\"p\">,</span>\n<span class=\"n\">alt</span><span class=\"p\">.</span><span class=\"nf\">value</span><span class=\"p\">(</span><span class=\"sh\">\"</span><span class=\"s\">white</span><span class=\"sh\">\"</span><span class=\"p\">),</span>\n<span class=\"n\">alt</span><span class=\"p\">.</span><span class=\"nf\">value</span><span class=\"p\">(</span><span class=\"sh\">\"</span><span class=\"s\">black</span><span class=\"sh\">\"</span><span class=\"p\">)</span>\n<span class=\"p\">)</span>\n<span class=\"p\">)</span>\n<span class=\"n\">front</span>\n</code></pre></div></div>\n<p>This would give us the text:</p>\n<p><a href=\"https://i.imgur.com/pKalDaC.png\" rel=\"noopener noreferrer\"><img src=\"https://i.imgur.com/pKalDaC.png\" alt=\"Text for grid. \" loading=\"lazy\" /></a></p>\n<p>To superimpose these on top of each other we should simply do this:</p>\n<div class=\"language-py highlighter-rouge\"><div><pre style=\"color: inherit; background: transparent\"><code style=\"color: inherit\"><span class=\"n\">back</span> <span class=\"o\">+</span> <span class=\"n\">front</span>\n</code></pre></div></div>\n<p><a href=\"https://i.imgur.com/SzhM1QW.png\" rel=\"noopener noreferrer\"><img src=\"https://i.imgur.com/SzhM1QW.png\" alt=\"Full graph. \" loading=\"lazy\" /></a></p>\n",
      "cell_type": "markdown",
      "metadata": {
        "editable": false,
        "collapsed": false
      }
    },
    {
      "cell_type": "markdown",
      "id": "final-ending-cell",
      "metadata": {
        "editable": false,
        "collapsed": false
      },
      "source": [
        "# Key Points\n\n",
        "- Pandas are an essential tool for data manipulation\n",
        "\n# Congratulations on successfully completing this tutorial!\n\n",
        "Please [fill out the feedback on the GTN website](https://training.galaxyproject.org/training-material/topics/data-science/tutorials/gnmx-lecture6/tutorial.html#feedback) and check there for further resources!\n"
      ]
    }
  ]
}