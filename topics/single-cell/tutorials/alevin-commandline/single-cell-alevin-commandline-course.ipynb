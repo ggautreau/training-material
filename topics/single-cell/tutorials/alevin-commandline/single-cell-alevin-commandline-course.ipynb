{
  "metadata": {
    "kernelspec": {
      "display_name": "Bash",
      "language": "bash",
      "name": "bash"
    },
    "language_info": {
      "codemirror_mode": "shell",
      "file_extension": ".sh",
      "mimetype": "text/x-sh",
      "name": "bash"
    }
  },
  "nbformat": 4,
  "nbformat_minor": 5,
  "cells": [
    {
      "id": "metadata",
      "cell_type": "markdown",
      "source": "<div style=\"border: 2px solid #8A9AD0; margin: 1em 0.2em; padding: 0.5em;\">\n\n# Generating a single cell matrix using Alevin and combining datasets (bash + R)\n\nby [Julia Jakiela](https://training.galaxyproject.org/hall-of-fame/wee-snufkin/), [Wendi Bacon](https://training.galaxyproject.org/hall-of-fame/nomadscientist/)\n\nCC-BY licensed content from the [Galaxy Training Network](https://training.galaxyproject.org/)\n\n**Objectives**\n\n- I have some single cell FASTQ files I want to analyse. Where do I start?\n- How to generate a single cell matrix using command line?\n\n**Objectives**\n\n- Generate a cellxgene matrix for droplet-based single cell sequencing data\n- Interpret quality control (QC) plots to make informed decisions on cell thresholds\n- Find relevant information in GTF files for the particulars of their study, and include this in data matrix metadata\n\n**Time Estimation: 2H**\n</div>\n",
      "metadata": {
        "editable": false,
        "collapsed": false
      }
    },
    {
      "id": "cell-0",
      "source": "<h1 id=\"setting-up-the-environment\">Setting up the environment</h1>\n<p>Alevin is a tool integrated with the <a href=\"https://salmon.readthedocs.io/en/latest/salmon.html\">Salmon software</a>, so first we need to get Salmon. You can install Salmon using conda, but in this tutorial we will show an alternative method - downloading the pre-compiled binaries from the <a href=\"https://github.com/COMBINE-lab/salmon/releases\">releases page</a>. Note that binaries are usually compiled for specific CPU architectures, such as the 64-bit (x86_64) machine release referenced below .</p>\n",
      "cell_type": "markdown",
      "metadata": {
        "editable": false,
        "collapsed": false
      }
    },
    {
      "id": "cell-1",
      "source": [
        "wget -nv https://github.com/COMBINE-lab/salmon/releases/download/v1.10.0/salmon-1.10.0_linux_x86_64.tar.gz"
      ],
      "cell_type": "code",
      "execution_count": null,
      "outputs": [],
      "metadata": {
        "attributes": {
          "classes": [
            "Alevin is a tool integrated with the [Salmon software](https://salmon.readthedocs.io/en/latest/salmon.html), so first we need to get Salmon. You can install Salmon using conda, but in this tutorial we will show an alternative method - downloading the pre-compiled binaries from the [releases page](https://github.com/COMBINE-lab/salmon/releases). Note that binaries are usually compiled for specific CPU architectures, such as the 64-bit (x86_64) machine release referenced below ."
          ],
          "id": ""
        }
      }
    },
    {
      "id": "cell-2",
      "source": "<p>Once you’ve downloaded a specific binary (here we’re using version 1.10.0), just extract it like so:</p>\n",
      "cell_type": "markdown",
      "metadata": {
        "editable": false,
        "collapsed": false
      }
    },
    {
      "id": "cell-3",
      "source": [
        "tar -xvzf salmon-1.10.0_linux_x86_64.tar.gz"
      ],
      "cell_type": "code",
      "execution_count": null,
      "outputs": [],
      "metadata": {
        "attributes": {
          "classes": [
            "Alevin is a tool integrated with the [Salmon software](https://salmon.readthedocs.io/en/latest/salmon.html), so first we need to get Salmon. You can install Salmon using conda, but in this tutorial we will show an alternative method - downloading the pre-compiled binaries from the [releases page](https://github.com/COMBINE-lab/salmon/releases). Note that binaries are usually compiled for specific CPU architectures, such as the 64-bit (x86_64) machine release referenced below ."
          ],
          "id": ""
        }
      }
    },
    {
      "id": "cell-4",
      "source": "<blockquote class=\"details\" style=\"border: 2px solid #ddd; margin: 1em 0.2em\">\n<div class=\"box-title details-title\" id=\"details-conda-installation\"><button class=\"gtn-boxify-button details\" type=\"button\" aria-controls=\"details-conda-installation\" aria-expanded=\"true\"><i class=\"fas fa-info-circle\" aria-hidden=\"true\" ></i> <span>Details: Conda installation</span><span class=\"fold-unfold fa fa-minus-square\"></span></button></div>\n<p>As mentioned, installing salmon using conda is also an option, and you can do it using the following command in the terminal:</p>\n<div class=\"language-plaintext highlighter-rouge\"><div><pre style=\"color: inherit; background: transparent\"><code style=\"color: inherit\">conda install -c conda-forge -c bioconda salmon\n</code></pre></div>  </div>\n<p>However, for this tutorial, it would be easier and quicker to use the downloaded pre-compiled binaries, as shown above.</p>\n</blockquote>\n<p>We’re going to use Alevin for demonstration purposes, but we do not endorse one method over another.</p>\n<h1 id=\"get-data\">Get Data</h1>\n<p>We continue working on the same example data - a very small subset of the reads in a mouse dataset of fetal growth restriction {% cite Bacon2018 %} (see the <a href=\"https://www.ebi.ac.uk/gxa/sc/experiments/E-MTAB-6945/results/tsne\">study in Single Cell Expression Atlas</a> and the <a href=\"https://www.ebi.ac.uk/arrayexpress/experiments/E-MTAB-6945/\">project submission</a>). For the purposes of this tutorial, the datasets have been subsampled to only 50k reads (around 1% of the original files). Those are two fastq files - one with transcripts and the another one with cell barcodes. You can download the files by running the code below:</p>\n",
      "cell_type": "markdown",
      "metadata": {
        "editable": false,
        "collapsed": false
      }
    },
    {
      "id": "cell-5",
      "source": [
        "wget -nv https://zenodo.org/records/10116786/files/transcript_701.fastq\n",
        "wget -nv https://zenodo.org/records/10116786/files/barcodes_701.fastq"
      ],
      "cell_type": "code",
      "execution_count": null,
      "outputs": [],
      "metadata": {
        "attributes": {
          "classes": [
            "Alevin is a tool integrated with the [Salmon software](https://salmon.readthedocs.io/en/latest/salmon.html), so first we need to get Salmon. You can install Salmon using conda, but in this tutorial we will show an alternative method - downloading the pre-compiled binaries from the [releases page](https://github.com/COMBINE-lab/salmon/releases). Note that binaries are usually compiled for specific CPU architectures, such as the 64-bit (x86_64) machine release referenced below ."
          ],
          "id": ""
        }
      }
    },
    {
      "id": "cell-6",
      "source": "<blockquote class=\"question\" style=\"border: 2px solid #8A9AD0; margin: 1em 0.2em\">\n<div class=\"box-title question-title\" id=\"question\"><i class=\"far fa-question-circle\" aria-hidden=\"true\" ></i> Question</div>\n<p>How to differentiate between the two files if they are just called ‘Read 1’ and ‘Read 2’?</p>\n<br/><details style=\"border: 2px solid #B8C3EA; margin: 1em 0.2em;padding: 0.5em; cursor: pointer;\"><summary>👁 View solution</summary>\n<div class=\"box-title solution-title\" id=\"solution\"><button class=\"gtn-boxify-button solution\" type=\"button\" aria-controls=\"solution\" aria-expanded=\"true\"><i class=\"far fa-eye\" aria-hidden=\"true\" ></i> <span>Solution</span><span class=\"fold-unfold fa fa-minus-square\"></span></button></div>\n<p>The file which contains the cell barcodes and UMI is significantly shorter (indeed, 20 bp!) compared to the other file containing longer, transcript read. For ease, we will use explicit file names.</p>\n</details>\n</blockquote>\n<p>Additionally, to map your reads, you will need a transcriptome to align against (a FASTA) as well as the gene information for each transcript (a gtf) file. These files are included in the data import step below. You can also download these for your species of interest <a href=\"https://www.ensembl.org/info/data/ftp/index.html\">from Ensembl</a>.</p>\n",
      "cell_type": "markdown",
      "metadata": {
        "editable": false,
        "collapsed": false
      }
    },
    {
      "id": "cell-7",
      "source": [
        "wget -c https://zenodo.org/record/4574153/files/Mus_musculus.GRCm38.100.gtf.gff -O GRCm38_gtf.gff\n",
        "wget -c https://zenodo.org/record/4574153/files/Mus_musculus.GRCm38.cdna.all.fa.fasta -O GRCm38_cdna.fasta"
      ],
      "cell_type": "code",
      "execution_count": null,
      "outputs": [],
      "metadata": {
        "attributes": {
          "classes": [
            "Alevin is a tool integrated with the [Salmon software](https://salmon.readthedocs.io/en/latest/salmon.html), so first we need to get Salmon. You can install Salmon using conda, but in this tutorial we will show an alternative method - downloading the pre-compiled binaries from the [releases page](https://github.com/COMBINE-lab/salmon/releases). Note that binaries are usually compiled for specific CPU architectures, such as the 64-bit (x86_64) machine release referenced below ."
          ],
          "id": ""
        }
      }
    },
    {
      "id": "cell-8",
      "source": "<p>Why do we need FASTA and GTF files?\nTo generate gene-level quantifications based on transcriptome quantification, Alevin and similar tools require a conversion between transcript and gene identifiers. We can derive a transcript-gene conversion from the gene annotations available in genome resources such as Ensembl. The transcripts in such a list need to match the ones we will use later to build a binary transcriptome index. If you were using spike-ins, you’d need to add these to the transcriptome and the transcript-gene mapping.</p>\n<p>We will use the murine reference annotation as retrieved from Ensembl (<em>GRCm38</em> or <em>mm10</em>) in GTF format. This annotation contains gene, exon, transcript and all sorts of other information on the sequences. We will use these to generate the transcript-gene mapping by passing that information to a tool that extracts just the transcript identifiers we need.</p>\n<p>Finally, we will download some files for later so that you don’t have to switch kernels again - that’s an Alevin output folder for another sample!</p>\n",
      "cell_type": "markdown",
      "metadata": {
        "editable": false,
        "collapsed": false
      }
    },
    {
      "id": "cell-9",
      "source": [
        "wget https://zenodo.org/records/10116786/files/alevin_output_702.zip\n",
        "unzip alevin_output_702.zip"
      ],
      "cell_type": "code",
      "execution_count": null,
      "outputs": [],
      "metadata": {
        "attributes": {
          "classes": [
            "Alevin is a tool integrated with the [Salmon software](https://salmon.readthedocs.io/en/latest/salmon.html), so first we need to get Salmon. You can install Salmon using conda, but in this tutorial we will show an alternative method - downloading the pre-compiled binaries from the [releases page](https://github.com/COMBINE-lab/salmon/releases). Note that binaries are usually compiled for specific CPU architectures, such as the 64-bit (x86_64) machine release referenced below ."
          ],
          "id": ""
        }
      }
    },
    {
      "id": "cell-10",
      "source": "<h1 id=\"generate-a-transcript-to-gene-map-and-filtered-fasta\">Generate a transcript to gene map and filtered FASTA</h1>\n<p>We will now install the package <code style=\"color: inherit\">atlas-gene-annotation-manipulation</code> to help us generate the files required for Salmon and Alevin.</p>\n",
      "cell_type": "markdown",
      "metadata": {
        "editable": false,
        "collapsed": false
      }
    },
    {
      "id": "cell-11",
      "source": [
        "conda install -y -c conda-forge -c bioconda atlas-gene-annotation-manipulation"
      ],
      "cell_type": "code",
      "execution_count": null,
      "outputs": [],
      "metadata": {
        "attributes": {
          "classes": [
            "Alevin is a tool integrated with the [Salmon software](https://salmon.readthedocs.io/en/latest/salmon.html), so first we need to get Salmon. You can install Salmon using conda, but in this tutorial we will show an alternative method - downloading the pre-compiled binaries from the [releases page](https://github.com/COMBINE-lab/salmon/releases). Note that binaries are usually compiled for specific CPU architectures, such as the 64-bit (x86_64) machine release referenced below ."
          ],
          "id": ""
        }
      }
    },
    {
      "id": "cell-12",
      "source": "<p>After the installation is completed, you can execute the code cell below and while it’s running, I’ll explain all the parameters we set here.</p>\n",
      "cell_type": "markdown",
      "metadata": {
        "editable": false,
        "collapsed": false
      }
    },
    {
      "id": "cell-13",
      "source": [
        "gtf2featureAnnotation.R -g GRCm38_gtf.gff -c GRCm38_cdna.fasta -d \"transcript_id\" -t \"transcript\" -f \"transcript_id\" -o map -l \"transcript_id,gene_id\" -r -e filtered_fasta"
      ],
      "cell_type": "code",
      "execution_count": null,
      "outputs": [],
      "metadata": {
        "attributes": {
          "classes": [
            "Alevin is a tool integrated with the [Salmon software](https://salmon.readthedocs.io/en/latest/salmon.html), so first we need to get Salmon. You can install Salmon using conda, but in this tutorial we will show an alternative method - downloading the pre-compiled binaries from the [releases page](https://github.com/COMBINE-lab/salmon/releases). Note that binaries are usually compiled for specific CPU architectures, such as the 64-bit (x86_64) machine release referenced below ."
          ],
          "id": ""
        }
      }
    },
    {
      "id": "cell-14",
      "source": "<p>In essence, <a href=\"https://github.com/ebi-gene-expression-group/atlas-gene-annotation-manipulation\">gtf2featureAnnotation.R script</a> takes a GTF annotation file and creates a table of annotation by feature, optionally filtering a cDNA file supplied at the same time. Therefore the first parameter <code style=\"color: inherit\">-g</code> stands for “gtf-file” and requires a path to a valid GTF file. Then <code style=\"color: inherit\">-c</code> takes a cDNA file for extracting meta info and/or filtering - that’s our FASTA! Where –parse-cdnas (that’s our <code style=\"color: inherit\">-c</code>) is specified, we need to specify, using <code style=\"color: inherit\">-d</code>, which field should be used to compare to identfiers from the FASTA. We set that to “transcript_id” - feel free to inspect the GTF file to explore other attributes. We pass the same value in <code style=\"color: inherit\">-f</code>, meaning first-field, ie. the name of the field to place first in output table. To specify which other fields to retain in the output table, we provide comma-separated list of those fields, and since we’re only interested in transcript to gene map, we put those two names (“transcript_id,gene_id”) into <code style=\"color: inherit\">-l</code>. <code style=\"color: inherit\">-t</code> stands for the feature type to use, and in our case we’re using “transcript”. Guess what <code style=\"color: inherit\">-o</code> is! Indeed, that’s the output annotation table - here we specify the file path of our transcript to gene map. We will also have another output denoted by <code style=\"color: inherit\">-e</code> and that’s the path to a filtered FASTA. Finally, we also put <code style=\"color: inherit\">-r</code> which is there only to suppress header on output. Summarising, output will be a an annotation table, and a FASTA-format cDNAs file with unannotated transcripts removed.</p>\n<p>Why filtered FASTA?\nSometimes it’s important that there are no transcripts in a FASTA-format transcriptome that cannot be matched to a transcript/gene mapping. Salmon, for example,  used to produce errors when this mismatch was present. We can synchronise the cDNA file by removing mismatches as we have done above.</p>\n<h1 id=\"generate-a-transcriptome-index\">Generate a transcriptome index</h1>\n<p>We will use Salmon in mapping-based mode, so first we have to build a Salmon index for our transcriptome. We will run the Salmon indexer as so:</p>\n",
      "cell_type": "markdown",
      "metadata": {
        "editable": false,
        "collapsed": false
      }
    },
    {
      "id": "cell-15",
      "source": [
        "salmon-latest_linux_x86_64/bin/salmon index -t filtered_fasta -i salmon_index -k 31"
      ],
      "cell_type": "code",
      "execution_count": null,
      "outputs": [],
      "metadata": {
        "attributes": {
          "classes": [
            "Alevin is a tool integrated with the [Salmon software](https://salmon.readthedocs.io/en/latest/salmon.html), so first we need to get Salmon. You can install Salmon using conda, but in this tutorial we will show an alternative method - downloading the pre-compiled binaries from the [releases page](https://github.com/COMBINE-lab/salmon/releases). Note that binaries are usually compiled for specific CPU architectures, such as the 64-bit (x86_64) machine release referenced below ."
          ],
          "id": ""
        }
      }
    },
    {
      "id": "cell-16",
      "source": "<p>Where <code style=\"color: inherit\">-t</code> stands for our filtered FASTA file, and <code style=\"color: inherit\">-i</code> is the output of the mapping-based index. To build it, the function is using an auxiliary k-mer hash over k-mers of length 31. While the mapping algorithms will make use of arbitrarily long matches between the query and reference, the k size selected here will act as the minimum acceptable length for a valid match. Thus, a smaller value of k may slightly improve sensitivity. We find that a k of 31 seems to work well for reads of 75bp or longer, but you might consider a smaller k if you plan to deal with shorter reads. Also, a shorter value of k may improve sensitivity even more when using selective alignment (enabled via the –validateMappings flag). So, if you are seeing a smaller mapping rate than you might expect, consider building the index with a slightly smaller k.</p>\n<blockquote class=\"details\" style=\"border: 2px solid #ddd; margin: 1em 0.2em\">\n<div class=\"box-title details-title\" id=\"details-what-is-the-index\"><button class=\"gtn-boxify-button details\" type=\"button\" aria-controls=\"details-what-is-the-index\" aria-expanded=\"true\"><i class=\"fas fa-info-circle\" aria-hidden=\"true\" ></i> <span>Details: What is the index?</span><span class=\"fold-unfold fa fa-minus-square\"></span></button></div>\n<p>To be able to search a transcriptome quickly, Salmon needs to convert the text (FASTA) format sequences into something it can search quickly, called an ‘index’. The index is in a binary rather than human-readable format, but allows fast lookup by Alevin. Because the types of biological and technical sequences we need to include in the index can vary between experiments, and because we often want to use the most up-to-date reference sequences from Ensembl or NCBI, we can end up re-making the indices quite often.</p>\n</blockquote>\n<h1 id=\"use-alevin\">Use Alevin</h1>\n<p>Time to use Alevin now! Alevin works under the same indexing scheme (as Salmon) for the reference, and consumes the set of FASTA/Q files(s) containing the Cellular Barcode(CB) + Unique Molecule identifier (UMI) in one read file and the read sequence in the other. Given just the transcriptome and the raw read files, Alevin generates a cell-by-gene count matrix (in a fraction of the time compared to other tools).</p>\n<blockquote class=\"details\" style=\"border: 2px solid #ddd; margin: 1em 0.2em\">\n<div class=\"box-title details-title\" id=\"details-how-does-alevin-work-in-detail\"><button class=\"gtn-boxify-button details\" type=\"button\" aria-controls=\"details-how-does-alevin-work-in-detail\" aria-expanded=\"true\"><i class=\"fas fa-info-circle\" aria-hidden=\"true\" ></i> <span>Details: How does Alevin work in detail?</span><span class=\"fold-unfold fa fa-minus-square\"></span></button></div>\n<p>Alevin works in two phases. In the first phase it quickly parses the read file containing the CB and UMI information to generate the frequency distribution of all the observed CBs, and creates a lightweight data-structure for fast-look up and correction of the CB. In the second round, Alevin utilizes the read-sequences contained in the files to map the reads to the transcriptome, identify potential PCR/sequencing errors in the UMIs, and performs hybrid de-duplication while accounting for UMI collisions. Finally, a post-abundance estimation CB whitelisting procedure is done and a cell-by-gene count matrix is generated.</p>\n</blockquote>\n<p>Alevin can be run using the following command:</p>\n",
      "cell_type": "markdown",
      "metadata": {
        "editable": false,
        "collapsed": false
      }
    },
    {
      "id": "cell-17",
      "source": [
        "salmon-latest_linux_x86_64/bin/salmon alevin -l ISR -1 barcodes_701.fastq -2 transcript_701.fastq --dropseq  -i salmon_index -p 10 -o alevin_output --tgMap map --freqThreshold 3 --keepCBFraction 1 --dumpFeatures"
      ],
      "cell_type": "code",
      "execution_count": null,
      "outputs": [],
      "metadata": {
        "attributes": {
          "classes": [
            "Alevin is a tool integrated with the [Salmon software](https://salmon.readthedocs.io/en/latest/salmon.html), so first we need to get Salmon. You can install Salmon using conda, but in this tutorial we will show an alternative method - downloading the pre-compiled binaries from the [releases page](https://github.com/COMBINE-lab/salmon/releases). Note that binaries are usually compiled for specific CPU architectures, such as the 64-bit (x86_64) machine release referenced below ."
          ],
          "id": ""
        }
      }
    },
    {
      "id": "cell-18",
      "source": "<p>All the required input parameters are described in <a href=\"https://salmon.readthedocs.io/en/latest/alevin.html\">the documentation</a>, but for the ease of use, they are presented below as well:</p>\n<blockquote class=\"details\" style=\"border: 2px solid #ddd; margin: 1em 0.2em\">\n<div class=\"box-title details-title\" id=\"details-alevin-input-parameters\"><button class=\"gtn-boxify-button details\" type=\"button\" aria-controls=\"details-alevin-input-parameters\" aria-expanded=\"true\"><i class=\"fas fa-info-circle\" aria-hidden=\"true\" ></i> <span>Details: Alevin input parameters</span><span class=\"fold-unfold fa fa-minus-square\"></span></button></div>\n<ul>\n<li>\n<p><code style=\"color: inherit\">-l</code>: library type (same as Salmon), we recommend using ISR for both Drop-seq and 10x-v2 chemistry.</p>\n</li>\n<li>\n<p><code style=\"color: inherit\">-1</code>: CB+UMI file(s), alevin requires the path to the FASTQ file containing CB+UMI raw sequences to be given under this command line flag. Alevin also supports parsing of data from multiple files as long as the order is the same as in -2 flag. That’s our barcodes_701.fastq file.</p>\n</li>\n<li>\n<p><code style=\"color: inherit\">-2</code>: Read-sequence file(s), alevin requires the path to the FASTQ file containing raw read-sequences to be given under this command line flag. Alevin also supports parsing of data from multiple files as long as the order is the same as in -1 flag. That’s our transcript_701.fastq file.</p>\n</li>\n<li>\n<p><code style=\"color: inherit\">--dropseq</code> / <code style=\"color: inherit\">--chromium</code> / <code style=\"color: inherit\">--chromiumV3</code>: the protocol, this flag tells the type of single-cell protocol of the input sequencing-library. This is a study using the Drop-seq chemistry, so we specify that in the flag.</p>\n</li>\n<li>\n<p><code style=\"color: inherit\">-i</code>: index, file containing the salmon index of the reference transcriptome, as generated by salmon index command.</p>\n</li>\n<li>\n<p><code style=\"color: inherit\">-p</code>: number of threads, the number of threads which can be used by alevin to perform the quantification, by default alevin utilizes all the available threads in the system, although we recommend using ~10 threads which in our testing gave the best memory-time trade-off.</p>\n</li>\n<li>\n<p><code style=\"color: inherit\">-o</code>: output, path to folder where the output gene-count matrix (along with other meta-data) would be dumped. We simply call it alevin_output</p>\n</li>\n<li>\n<p><code style=\"color: inherit\">--tgMap</code>: transcript to gene map file, a tsv (tab-separated) file — with no header, containing two columns mapping of each transcript present in the reference to the corresponding gene (the first column is a transcript and the second is the corresponding gene). In our case, that’s map_code generated by using gtf2featureAnnotation.R function.</p>\n</li>\n<li>\n<p><code style=\"color: inherit\">--freqThreshold</code> - minimum frequency for a barcode to be considered. We’ve chosen 3 as this will only remove cell barcodes with a frequency of less than 3, a low bar to pass but useful way of avoiding processing a bunch of almost certainly empty barcodes.</p>\n</li>\n<li>\n<p><code style=\"color: inherit\">--keepCBFraction</code> - fraction of cellular barcodes to keep. We’re using 1 to quantify all!</p>\n</li>\n<li>\n<p><code style=\"color: inherit\">--dumpFeatures</code> - if activated, alevin dumps all the features used by the CB classification and their counts at each cell level. It’s generally used in pair with other command line flags.</p>\n</li>\n</ul>\n</blockquote>\n<p>We have also added some additional parameters (<code class=\"language-plaintext highlighter-rouge\">--freqThreshold</code>, <code style=\"color: inherit\">--keepCBFraction</code>) and their values are derived from the <a href=\"{% link topics/single-cell/tutorials/scrna-case_alevin/tutorial.md %}\">Alevin Galaxy tutorial</a> after QC to stop Alevin from applying its own thresholds. However, if you’re not sure what value to pick, you can simply allow Alevin to make its own calls on what constitutes empty droplets.</p>\n<p>This tool will take a while to run. Alevin produces many file outputs, not all of which we’ll use. You can refer to the <a href=\"https://salmon.readthedocs.io/en/latest/alevin.html\">Alevin documentation</a> if you’re curious what they all are, you can look through all the different files to find information such as the mapping rate, but we’ll just pass the whole output folder directory for downstream analysis.</p>\n<blockquote class=\"question\" style=\"border: 2px solid #8A9AD0; margin: 1em 0.2em\">\n<div class=\"box-title question-title\" id=\"question-1\"><i class=\"far fa-question-circle\" aria-hidden=\"true\" ></i> Question</div>\n<ol>\n<li>Can you find the information what was the mapping rate?</li>\n<li>How many transcripts did Alevin find?</li>\n</ol>\n<br/><details style=\"border: 2px solid #B8C3EA; margin: 1em 0.2em;padding: 0.5em; cursor: pointer;\"><summary>👁 View solution</summary>\n<div class=\"box-title solution-title\" id=\"solution-1\"><button class=\"gtn-boxify-button solution\" type=\"button\" aria-controls=\"solution-1\" aria-expanded=\"true\"><i class=\"far fa-eye\" aria-hidden=\"true\" ></i> <span>Solution</span><span class=\"fold-unfold fa fa-minus-square\"></span></button></div>\n<ol>\n<li>As mentioned above, in <em>alevin_output</em> folder there will be many different files, including the log files. To check the mapping rate, go to <em>alevin_output</em> -&gt; <em>logs</em> and open <em>salmon_quant</em> file. There you will find not only information about mapping rate, but also many more, calculated at salmon indexing step.</li>\n<li>Alevin log can be found in <em>alevin_output</em> -&gt; <em>alevin</em> and the file name is also <em>alevin</em>. You can find many details about the alevin process there, including the number of transcripts found.</li>\n</ol>\n</details>\n</blockquote>\n<blockquote class=\"warning\" style=\"border: 2px solid #de8875; margin: 1em 0.2em\">\n<div class=\"box-title warning-title\" id=\"warning-process-stopping\"><i class=\"fas fa-exclamation-triangle\" aria-hidden=\"true\" ></i> Warning: Process stopping</div>\n<p>The command above will display the log of the process and will say “Analyzed X cells (Y% of all)”. For some reason, running Alevin may sometimes cause problems in Jupyter Notebook and this process will stop and not go to completion. This is the reason why we use hugely subsampled dataset here - bigger ones couldn’t be fully analysed (they worked fine locally though). The dataset used in this tutorial shouldn’t make any issues when you’re using Jupyter notebook through galaxy.eu, however might not work properly on galaxy.org. If you’re accessing Jupyter notebook via galaxy.eu and alevin process stopped, just restart the kernel (in the upper left corner: <em>Kernel</em> -&gt; <em>Restart kernel…</em>) and that should help. However, if it doesn’t, here are the alternatives:</p>\n<ul>\n<li>We prepared a Jupyter notebook with the same workflow as shown here, compatible with Google Collab. So if you have troubles with running the above step, you can use the <a href=\"https://colab.research.google.com/drive/1nRidlpiU-_qUG1zLgpc8mJZewr_EQL0N?usp=sharing\">notebook provided</a>, upload it to your <a href=\"https://colab.research.google.com/\">Google Collab</a> and run the code there, following the tutorial on GTN.</li>\n<li>You can download the output folder that you would get as a result of running the code above. Simply run the code below.</li>\n</ul>\n</blockquote>\n",
      "cell_type": "markdown",
      "metadata": {
        "editable": false,
        "collapsed": false
      }
    },
    {
      "id": "cell-19",
      "source": [
        "# get the output folder from Alevin in case yours crashes\n",
        "wget https://zenodo.org/records/13732502/files/alevin_output.zip\n",
        "unzip alevin_output.zip"
      ],
      "cell_type": "code",
      "execution_count": null,
      "outputs": [],
      "metadata": {
        "attributes": {
          "classes": [
            "Alevin is a tool integrated with the [Salmon software](https://salmon.readthedocs.io/en/latest/salmon.html), so first we need to get Salmon. You can install Salmon using conda, but in this tutorial we will show an alternative method - downloading the pre-compiled binaries from the [releases page](https://github.com/COMBINE-lab/salmon/releases). Note that binaries are usually compiled for specific CPU architectures, such as the 64-bit (x86_64) machine release referenced below ."
          ],
          "id": ""
        }
      }
    },
    {
      "id": "cell-20",
      "source": "<!---\ncheck if we can get alevinQC to work - and paste the info from the first Alevin tutorial?\n-->\n<h1 id=\"alevin-output-to-summarizedexperiment\">Alevin output to SummarizedExperiment</h1>\n<p>Let’s change gear a little bit. We’ve done the work in bash, and now we’re switching to R to complete the processing. To do so, you have to change Kernel to R (either click on <code style=\"color: inherit\">Kernel</code> -&gt; <code style=\"color: inherit\">Change Kernel...</code> in the upper left corner of your JupyterLab or click on the displayed current kernel in the upper right corner and change it).</p>\n<figure id=\"figure-1\" style=\"max-width: 90%;\"><img src=\"data:image/jpeg;base64,/9j/2wBDAAYEBQYFBAYGBQYHBwYIChAKCgkJChQODwwQFxQYGBcUFhYaHSUf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\nEBERAREQEREBERAREQf/2Q==\n\"\" alt=\"Figure showing the JupyterLab interface with an arrow pointing to the left corner, showing the option 'Kernel' -&gt; 'Change Kernel...' and another arrow pointing to the right corner, showing the icon of the current kernel. The pop-up window asks which kernel should be chosen instead.\" width=\"1760\" height=\"580\" loading=\"lazy\" /><a target=\"_blank\" href=\"../../images/scrna-pre-processing/switch_kernel.jpg\" rel=\"noopener noreferrer\"><small>Open image in new tab</small></a><br /><br /><figcaption><span class=\"figcaption-prefix\"><strong>Figure 1</strong>:</span> Two ways of switching kernel.</figcaption></figure>\n<p>Now, when we are in the R environment, let’s install the packages required for this part - <code style=\"color: inherit\">tximeta</code> and <code style=\"color: inherit\">DropletUtils</code>:</p>\n",
      "cell_type": "markdown",
      "metadata": {
        "editable": false,
        "collapsed": false
      }
    },
    {
      "id": "cell-21",
      "source": [
        "system(\"conda install -y bioconductor-tximeta bioconductor-dropletutils\", intern=TRUE)"
      ],
      "cell_type": "code",
      "execution_count": null,
      "outputs": [],
      "metadata": {
        "attributes": {
          "classes": [
            "Alevin is a tool integrated with the [Salmon software](https://salmon.readthedocs.io/en/latest/salmon.html), so first we need to get Salmon. You can install Salmon using conda, but in this tutorial we will show an alternative method - downloading the pre-compiled binaries from the [releases page](https://github.com/COMBINE-lab/salmon/releases). Note that binaries are usually compiled for specific CPU architectures, such as the 64-bit (x86_64) machine release referenced below ."
          ],
          "id": ""
        }
      }
    },
    {
      "id": "cell-22",
      "source": "<p>Double check that the installation went fine:</p>\n",
      "cell_type": "markdown",
      "metadata": {
        "editable": false,
        "collapsed": false
      }
    },
    {
      "id": "cell-23",
      "source": [
        "require(\"tximeta\")\n",
        "require(\"DropletUtils\")"
      ],
      "cell_type": "code",
      "execution_count": null,
      "outputs": [],
      "metadata": {
        "attributes": {
          "classes": [
            "Alevin is a tool integrated with the [Salmon software](https://salmon.readthedocs.io/en/latest/salmon.html), so first we need to get Salmon. You can install Salmon using conda, but in this tutorial we will show an alternative method - downloading the pre-compiled binaries from the [releases page](https://github.com/COMBINE-lab/salmon/releases). Note that binaries are usually compiled for specific CPU architectures, such as the 64-bit (x86_64) machine release referenced below ."
          ],
          "id": ""
        }
      }
    },
    {
      "id": "cell-24",
      "source": "<blockquote class=\"details\" style=\"border: 2px solid #ddd; margin: 1em 0.2em\">\n<div class=\"box-title details-title\" id=\"details-quot-there-is-no-package-called-tximeta-or-dropletutils-quot\"><button class=\"gtn-boxify-button details\" type=\"button\" aria-controls=\"details-quot-there-is-no-package-called-tximeta-or-dropletutils-quot\" aria-expanded=\"true\"><i class=\"fas fa-info-circle\" aria-hidden=\"true\" ></i> <span>Details: &quot;There is no package called ‘tximeta’ or ‘DropletUtils’&quot;?</span><span class=\"fold-unfold fa fa-minus-square\"></span></button></div>\n<p>If you encounter this error message while loading the library, you can try to install them with BiocManager, as shown below. Just replace “package_name” with either <code style=\"color: inherit\">tximeta</code> or <code style=\"color: inherit\">DropletUtils</code>. Beware, it can take up to 25 minutes to run!</p>\n<div class=\"language-plaintext highlighter-rouge\"><div><pre style=\"color: inherit; background: transparent\"><code style=\"color: inherit\"># run the code below only if you cannot load tximeta library (or using notebook version 1.0.1)\nif (!require(\"BiocManager\", quietly = TRUE))\n    install.packages(\"BiocManager\")\n\nBiocManager::install(\"package_name\")\nlibrary(\"package_name\")\n</code></pre></div>  </div>\n</blockquote>\n<p>The <a href=\"https://bioconductor.org/packages/devel/bioc/vignettes/tximeta/inst/doc/tximeta.html\">tximeta package</a> created by {% cite Love2020 %} is used for import of transcript-level quantification data into R/Bioconductor and requires that the entire output of alevin is present and unmodified.</p>\n<p>In the <em>alevin_output</em> -&gt; <em>alevin</em> folder you can find the following files:</p>\n<ul>\n<li><em>quants_mat.gz</em>- Compressed count matrix</li>\n<li><em>quants_mat_rows.txt</em>- Row Index (CB-ids) of the matrix.</li>\n<li><em>quants_mat_cols.txt</em> - Column Header (Gene-ids) of the matrix.</li>\n<li><em>quants_tier_mat.gz</em> – Tier categorization of the matrix.</li>\n</ul>\n<p>We will only focus on <em>quants_mat.gz</em> though. First, let’s specify the path to that file:</p>\n",
      "cell_type": "markdown",
      "metadata": {
        "editable": false,
        "collapsed": false
      }
    },
    {
      "id": "cell-25",
      "source": [
        "path <- 'alevin_output/alevin/quants_mat.gz'"
      ],
      "cell_type": "code",
      "execution_count": null,
      "outputs": [],
      "metadata": {
        "attributes": {
          "classes": [
            "Alevin is a tool integrated with the [Salmon software](https://salmon.readthedocs.io/en/latest/salmon.html), so first we need to get Salmon. You can install Salmon using conda, but in this tutorial we will show an alternative method - downloading the pre-compiled binaries from the [releases page](https://github.com/COMBINE-lab/salmon/releases). Note that binaries are usually compiled for specific CPU architectures, such as the 64-bit (x86_64) machine release referenced below ."
          ],
          "id": ""
        }
      }
    },
    {
      "id": "cell-26",
      "source": "<p>We will specify the following arguments when running <em>tximeta</em>:</p>\n<ul>\n<li>‘coldata’ a data.frame with at least two columns:\n<ul>\n<li>files - character, paths of quantification files</li>\n<li>names - character, sample names</li>\n</ul>\n</li>\n<li>‘type’ - what quantifier was used (can be ‘salomon’, ‘alevin’, etc.)</li>\n</ul>\n<p>With that we can create a dataframe and pass it to tximeta to create SummarizedExperiment object.</p>\n",
      "cell_type": "markdown",
      "metadata": {
        "editable": false,
        "collapsed": false
      }
    },
    {
      "id": "cell-27",
      "source": [
        "coldata <- data.frame(files = path, names=\"sample701\")\n",
        "alevin_se <- tximeta(coldata, type = \"alevin\")"
      ],
      "cell_type": "code",
      "execution_count": null,
      "outputs": [],
      "metadata": {
        "attributes": {
          "classes": [
            "Alevin is a tool integrated with the [Salmon software](https://salmon.readthedocs.io/en/latest/salmon.html), so first we need to get Salmon. You can install Salmon using conda, but in this tutorial we will show an alternative method - downloading the pre-compiled binaries from the [releases page](https://github.com/COMBINE-lab/salmon/releases). Note that binaries are usually compiled for specific CPU architectures, such as the 64-bit (x86_64) machine release referenced below ."
          ],
          "id": ""
        }
      }
    },
    {
      "id": "cell-28",
      "source": "<p>Inspect the created object:</p>\n",
      "cell_type": "markdown",
      "metadata": {
        "editable": false,
        "collapsed": false
      }
    },
    {
      "id": "cell-29",
      "source": [
        "alevin_se"
      ],
      "cell_type": "code",
      "execution_count": null,
      "outputs": [],
      "metadata": {
        "attributes": {
          "classes": [
            "Alevin is a tool integrated with the [Salmon software](https://salmon.readthedocs.io/en/latest/salmon.html), so first we need to get Salmon. You can install Salmon using conda, but in this tutorial we will show an alternative method - downloading the pre-compiled binaries from the [releases page](https://github.com/COMBINE-lab/salmon/releases). Note that binaries are usually compiled for specific CPU architectures, such as the 64-bit (x86_64) machine release referenced below ."
          ],
          "id": ""
        }
      }
    },
    {
      "id": "cell-30",
      "source": "<p>As you can see, <em>rowData names</em> and <em>colData names</em> are still empty. Before we add some metadata,  we will first identify barcodes that correspond to non-empty droplets.</p>\n<h1 id=\"identify-barcodes-that-correspond-to-non-empty-droplets\">Identify barcodes that correspond to non-empty droplets</h1>\n<p>Some sub-populations of small cells may not be distinguished from empty droplets based purely on counts by barcode. Some libraries produce multiple ‘knees’ (see the <a href=\"{% link topics/single-cell/tutorials/scrna-case_alevin/tutorial.md %}#basic-qc\">Alevin Galaxy tutorial</a> for multiple sub-populations. The <code style=\"color: inherit\">emptyDrops</code> method ({% cite Lun2019 %}) has become a popular way of dealing with this. <code style=\"color: inherit\">emptyDrops</code> still retains barcodes with very high counts, but also adds in barcodes that can be statistically distinguished from the ambient profiles, even if total counts are similar.</p>\n<p>EmptyDrops takes multiple arguments that you can read about in the <a href=\"https://rdrr.io/github/MarioniLab/DropletUtils/man/emptyDrops.html\">documentation</a>. However, in this case, we will only specify the following arguments:</p>\n<blockquote class=\"details\" style=\"border: 2px solid #ddd; margin: 1em 0.2em\">\n<div class=\"box-title details-title\" id=\"details-emptydrops-input-parameters\"><button class=\"gtn-boxify-button details\" type=\"button\" aria-controls=\"details-emptydrops-input-parameters\" aria-expanded=\"true\"><i class=\"fas fa-info-circle\" aria-hidden=\"true\" ></i> <span>Details: emptyDrops input parameters</span><span class=\"fold-unfold fa fa-minus-square\"></span></button></div>\n<ul>\n<li><code style=\"color: inherit\">m</code> -\tA numeric matrix-like object - usually a dgTMatrix or dgCMatrix - containing droplet data prior to any filtering or cell calling. Columns represent barcoded droplets, rows represent genes.</li>\n<li><code style=\"color: inherit\">lower</code> - A numeric scalar specifying the lower bound on the total UMI count, at or below which all barcodes are assumed to correspond to empty droplets.</li>\n<li><code style=\"color: inherit\">niters</code> - An integer scalar specifying the number of iterations to use for the Monte Carlo p-value calculations.</li>\n<li><code style=\"color: inherit\">retain</code> - A numeric scalar specifying the threshold for the total UMI count above which all barcodes are assumed to contain cells.</li>\n</ul>\n</blockquote>\n<p>Let’s then extract the matrix from our <code style=\"color: inherit\">alevin_se</code> object. It’s stored in <em>assays</em> -&gt; <em>counts</em>.</p>\n",
      "cell_type": "markdown",
      "metadata": {
        "editable": false,
        "collapsed": false
      }
    },
    {
      "id": "cell-31",
      "source": [
        "matrix_alevin <- assays(alevin_se)$counts"
      ],
      "cell_type": "code",
      "execution_count": null,
      "outputs": [],
      "metadata": {
        "attributes": {
          "classes": [
            "Alevin is a tool integrated with the [Salmon software](https://salmon.readthedocs.io/en/latest/salmon.html), so first we need to get Salmon. You can install Salmon using conda, but in this tutorial we will show an alternative method - downloading the pre-compiled binaries from the [releases page](https://github.com/COMBINE-lab/salmon/releases). Note that binaries are usually compiled for specific CPU architectures, such as the 64-bit (x86_64) machine release referenced below ."
          ],
          "id": ""
        }
      }
    },
    {
      "id": "cell-32",
      "source": "<p>And now run emptyDrops:</p>\n",
      "cell_type": "markdown",
      "metadata": {
        "editable": false,
        "collapsed": false
      }
    },
    {
      "id": "cell-33",
      "source": [
        "# Identify likely cell-containing droplets\n",
        "out <- emptyDrops(matrix_alevin, lower = 100, niters = 1000, retain = 20)\n",
        "out"
      ],
      "cell_type": "code",
      "execution_count": null,
      "outputs": [],
      "metadata": {
        "attributes": {
          "classes": [
            "Alevin is a tool integrated with the [Salmon software](https://salmon.readthedocs.io/en/latest/salmon.html), so first we need to get Salmon. You can install Salmon using conda, but in this tutorial we will show an alternative method - downloading the pre-compiled binaries from the [releases page](https://github.com/COMBINE-lab/salmon/releases). Note that binaries are usually compiled for specific CPU architectures, such as the 64-bit (x86_64) machine release referenced below ."
          ],
          "id": ""
        }
      }
    },
    {
      "id": "cell-34",
      "source": "<p>We also correct for multiple testing by controlling the false discovery rate (FDR) using the Benjamini-Hochberg (BH) method ({% cite Benjamini1995 %}). Putative cells are defined as those barcodes that have significantly poor fits to the ambient model at a specified FDR threshold. Here, we will use an FDR threshold of 0.01. This means that the expected proportion of empty droplets in the set of retained barcodes is no greater than 1%, which we consider to be acceptably low for downstream analyses.</p>\n",
      "cell_type": "markdown",
      "metadata": {
        "editable": false,
        "collapsed": false
      }
    },
    {
      "id": "cell-35",
      "source": [
        "is.cell <- out$FDR <= 0.01\n",
        "sum(is.cell, na.rm=TRUE)                              # check how many cells left after filtering"
      ],
      "cell_type": "code",
      "execution_count": null,
      "outputs": [],
      "metadata": {
        "attributes": {
          "classes": [
            "Alevin is a tool integrated with the [Salmon software](https://salmon.readthedocs.io/en/latest/salmon.html), so first we need to get Salmon. You can install Salmon using conda, but in this tutorial we will show an alternative method - downloading the pre-compiled binaries from the [releases page](https://github.com/COMBINE-lab/salmon/releases). Note that binaries are usually compiled for specific CPU architectures, such as the 64-bit (x86_64) machine release referenced below ."
          ],
          "id": ""
        }
      }
    },
    {
      "id": "cell-36",
      "source": "<p>We got rid of the background droplets containing no cells, so now we will filter the matrix that we passed on to emptyDrops, so that it corresponds to the remaining cells.</p>\n",
      "cell_type": "markdown",
      "metadata": {
        "editable": false,
        "collapsed": false
      }
    },
    {
      "id": "cell-37",
      "source": [
        "emptied_matrix <- matrix_alevin[,which(is.cell),drop=FALSE]          # filter the matrix"
      ],
      "cell_type": "code",
      "execution_count": null,
      "outputs": [],
      "metadata": {
        "attributes": {
          "classes": [
            "Alevin is a tool integrated with the [Salmon software](https://salmon.readthedocs.io/en/latest/salmon.html), so first we need to get Salmon. You can install Salmon using conda, but in this tutorial we will show an alternative method - downloading the pre-compiled binaries from the [releases page](https://github.com/COMBINE-lab/salmon/releases). Note that binaries are usually compiled for specific CPU architectures, such as the 64-bit (x86_64) machine release referenced below ."
          ],
          "id": ""
        }
      }
    },
    {
      "id": "cell-38",
      "source": "<p>From here, we can move on to adding metadata and we’ll return to <code style=\"color: inherit\">emptied_matrix</code> soon.</p>\n<h1 id=\"adding-cell-metadata\">Adding cell metadata</h1>\n<p>The cells barcodes are stored in <em>colnames</em>. Let’s exctract them into a separate object:</p>\n",
      "cell_type": "markdown",
      "metadata": {
        "editable": false,
        "collapsed": false
      }
    },
    {
      "id": "cell-39",
      "source": [
        "barcode <- colnames(alevin_se)"
      ],
      "cell_type": "code",
      "execution_count": null,
      "outputs": [],
      "metadata": {
        "attributes": {
          "classes": [
            "Alevin is a tool integrated with the [Salmon software](https://salmon.readthedocs.io/en/latest/salmon.html), so first we need to get Salmon. You can install Salmon using conda, but in this tutorial we will show an alternative method - downloading the pre-compiled binaries from the [releases page](https://github.com/COMBINE-lab/salmon/releases). Note that binaries are usually compiled for specific CPU architectures, such as the 64-bit (x86_64) machine release referenced below ."
          ],
          "id": ""
        }
      }
    },
    {
      "id": "cell-40",
      "source": "<p>Now, we can simply add those barcodes into <em>colData names</em> where we will keep the cell metadata. To do this, we will create a column called <code style=\"color: inherit\">barcode</code> in <em>colData</em> and pass the stored values into there.</p>\n",
      "cell_type": "markdown",
      "metadata": {
        "editable": false,
        "collapsed": false
      }
    },
    {
      "id": "cell-41",
      "source": [
        "colData(alevin_se)$barcode <- barcode\n",
        "colData(alevin_se)"
      ],
      "cell_type": "code",
      "execution_count": null,
      "outputs": [],
      "metadata": {
        "attributes": {
          "classes": [
            "Alevin is a tool integrated with the [Salmon software](https://salmon.readthedocs.io/en/latest/salmon.html), so first we need to get Salmon. You can install Salmon using conda, but in this tutorial we will show an alternative method - downloading the pre-compiled binaries from the [releases page](https://github.com/COMBINE-lab/salmon/releases). Note that binaries are usually compiled for specific CPU architectures, such as the 64-bit (x86_64) machine release referenced below ."
          ],
          "id": ""
        }
      }
    },
    {
      "id": "cell-42",
      "source": "<p>That’s only cell barcodes for now! However, after running <em>emptyDrops</em>, we generated lots of cell information that is currently stored in <code style=\"color: inherit\">out</code> object (Total, LogProb, PValue, Limited, FDR). Let’s add those values to cell metadata! Since we already have <em>barcodes</em> in there, we will simply bind the emptyDrops output to the existing dataframe:</p>\n",
      "cell_type": "markdown",
      "metadata": {
        "editable": false,
        "collapsed": false
      }
    },
    {
      "id": "cell-43",
      "source": [
        "colData(alevin_se) <- cbind(colData(alevin_se),out)\n",
        "colData(alevin_se)"
      ],
      "cell_type": "code",
      "execution_count": null,
      "outputs": [],
      "metadata": {
        "attributes": {
          "classes": [
            "Alevin is a tool integrated with the [Salmon software](https://salmon.readthedocs.io/en/latest/salmon.html), so first we need to get Salmon. You can install Salmon using conda, but in this tutorial we will show an alternative method - downloading the pre-compiled binaries from the [releases page](https://github.com/COMBINE-lab/salmon/releases). Note that binaries are usually compiled for specific CPU architectures, such as the 64-bit (x86_64) machine release referenced below ."
          ],
          "id": ""
        }
      }
    },
    {
      "id": "cell-44",
      "source": "<p>As you can see, the new columns were appended successfully and now the dataframe has 6 columns.</p>\n<p>If you have a look at the Experimental Design from that study, you might notice that there is actually more information about the cells. The most important for us would be batch, genotype and sex, summarised in the small table below.</p>\n<table>\n<thead>\n<tr>\n<th>Index</th>\n<th>Batch</th>\n<th>Genotype</th>\n<th>Sex</th>\n</tr>\n</thead>\n<tbody>\n<tr>\n<td>N701</td>\n<td>0</td>\n<td>wildtype</td>\n<td>male</td>\n</tr>\n<tr>\n<td>N702</td>\n<td>1</td>\n<td>knockout</td>\n<td>male</td>\n</tr>\n<tr>\n<td>N703</td>\n<td>2</td>\n<td>knockout</td>\n<td>female</td>\n</tr>\n<tr>\n<td>N704</td>\n<td>3</td>\n<td>wildtype</td>\n<td>male</td>\n</tr>\n<tr>\n<td>N705</td>\n<td>4</td>\n<td>wildtype</td>\n<td>male</td>\n</tr>\n<tr>\n<td>N706</td>\n<td>5</td>\n<td>wildtype</td>\n<td>male</td>\n</tr>\n<tr>\n<td>N707</td>\n<td>6</td>\n<td>knockout</td>\n<td>male</td>\n</tr>\n</tbody>\n</table>\n<p>We are currently analysing sample N701, so let’s add its information from the table.</p>\n<h2 id=\"batch\">Batch</h2>\n<p>We will label batch as an integer - “0” for sample N701, “1” for N702 etc. The way to do it is creating a list with zeros of the length corresponding to the number of cells that we have in our SummarizedExperiment object, like so:</p>\n",
      "cell_type": "markdown",
      "metadata": {
        "editable": false,
        "collapsed": false
      }
    },
    {
      "id": "cell-45",
      "source": [
        "batch <- rep(\"0\", length(colnames(alevin_se)))"
      ],
      "cell_type": "code",
      "execution_count": null,
      "outputs": [],
      "metadata": {
        "attributes": {
          "classes": [
            "Alevin is a tool integrated with the [Salmon software](https://salmon.readthedocs.io/en/latest/salmon.html), so first we need to get Salmon. You can install Salmon using conda, but in this tutorial we will show an alternative method - downloading the pre-compiled binaries from the [releases page](https://github.com/COMBINE-lab/salmon/releases). Note that binaries are usually compiled for specific CPU architectures, such as the 64-bit (x86_64) machine release referenced below ."
          ],
          "id": ""
        }
      }
    },
    {
      "id": "cell-46",
      "source": "<p>And now create a batch slot in the <em>colData names</em> and append the <code style=\"color: inherit\">batch</code> list in the same way as we did with barcodes:</p>\n",
      "cell_type": "markdown",
      "metadata": {
        "editable": false,
        "collapsed": false
      }
    },
    {
      "id": "cell-47",
      "source": [
        "colData(alevin_se)$batch <- batch\n",
        "colData(alevin_se)"
      ],
      "cell_type": "code",
      "execution_count": null,
      "outputs": [],
      "metadata": {
        "attributes": {
          "classes": [
            "Alevin is a tool integrated with the [Salmon software](https://salmon.readthedocs.io/en/latest/salmon.html), so first we need to get Salmon. You can install Salmon using conda, but in this tutorial we will show an alternative method - downloading the pre-compiled binaries from the [releases page](https://github.com/COMBINE-lab/salmon/releases). Note that binaries are usually compiled for specific CPU architectures, such as the 64-bit (x86_64) machine release referenced below ."
          ],
          "id": ""
        }
      }
    },
    {
      "id": "cell-48",
      "source": "<p>A new column appeared, full of zeros - as expected!</p>\n<h2 id=\"genotype\">Genotype</h2>\n<p>It’s all the same for genotype, but instead creating a list with zeros, we’ll create a list with string “wildtype” and append it into genotype slot:</p>\n",
      "cell_type": "markdown",
      "metadata": {
        "editable": false,
        "collapsed": false
      }
    },
    {
      "id": "cell-49",
      "source": [
        "genotype <- rep(\"wildtype\", length(colnames(alevin_se)))\n",
        "colData(alevin_se)$genotype <- genotype"
      ],
      "cell_type": "code",
      "execution_count": null,
      "outputs": [],
      "metadata": {
        "attributes": {
          "classes": [
            "Alevin is a tool integrated with the [Salmon software](https://salmon.readthedocs.io/en/latest/salmon.html), so first we need to get Salmon. You can install Salmon using conda, but in this tutorial we will show an alternative method - downloading the pre-compiled binaries from the [releases page](https://github.com/COMBINE-lab/salmon/releases). Note that binaries are usually compiled for specific CPU architectures, such as the 64-bit (x86_64) machine release referenced below ."
          ],
          "id": ""
        }
      }
    },
    {
      "id": "cell-50",
      "source": "<h2 id=\"sex\">Sex</h2>\n<p>You already know what to do, right? A list with string “male” and then adding it into a new slot!</p>\n",
      "cell_type": "markdown",
      "metadata": {
        "editable": false,
        "collapsed": false
      }
    },
    {
      "id": "cell-51",
      "source": [
        "sex <- rep(\"male\", length(colnames(alevin_se)))\n",
        "colData(alevin_se)$sex <- sex"
      ],
      "cell_type": "code",
      "execution_count": null,
      "outputs": [],
      "metadata": {
        "attributes": {
          "classes": [
            "Alevin is a tool integrated with the [Salmon software](https://salmon.readthedocs.io/en/latest/salmon.html), so first we need to get Salmon. You can install Salmon using conda, but in this tutorial we will show an alternative method - downloading the pre-compiled binaries from the [releases page](https://github.com/COMBINE-lab/salmon/releases). Note that binaries are usually compiled for specific CPU architectures, such as the 64-bit (x86_64) machine release referenced below ."
          ],
          "id": ""
        }
      }
    },
    {
      "id": "cell-52",
      "source": "<p>Check if all looks fine:</p>\n",
      "cell_type": "markdown",
      "metadata": {
        "editable": false,
        "collapsed": false
      }
    },
    {
      "id": "cell-53",
      "source": [
        "colData(alevin_se)"
      ],
      "cell_type": "code",
      "execution_count": null,
      "outputs": [],
      "metadata": {
        "attributes": {
          "classes": [
            "Alevin is a tool integrated with the [Salmon software](https://salmon.readthedocs.io/en/latest/salmon.html), so first we need to get Salmon. You can install Salmon using conda, but in this tutorial we will show an alternative method - downloading the pre-compiled binaries from the [releases page](https://github.com/COMBINE-lab/salmon/releases). Note that binaries are usually compiled for specific CPU architectures, such as the 64-bit (x86_64) machine release referenced below ."
          ],
          "id": ""
        }
      }
    },
    {
      "id": "cell-54",
      "source": "<p>3 new columns appeared with the information that we’ve just added - perfect! You can add any information you need in this way, as long as it’s the same for all the cells from one sample.</p>\n<h1 id=\"adding-gene-metadata\">Adding gene metadata</h1>\n<p>The genes IDs are stored in <em>rownames</em>. Let’s exctract them into a separate object:</p>\n",
      "cell_type": "markdown",
      "metadata": {
        "editable": false,
        "collapsed": false
      }
    },
    {
      "id": "cell-55",
      "source": [
        "gene_ID <- rownames(alevin_se)"
      ],
      "cell_type": "code",
      "execution_count": null,
      "outputs": [],
      "metadata": {
        "attributes": {
          "classes": [
            "Alevin is a tool integrated with the [Salmon software](https://salmon.readthedocs.io/en/latest/salmon.html), so first we need to get Salmon. You can install Salmon using conda, but in this tutorial we will show an alternative method - downloading the pre-compiled binaries from the [releases page](https://github.com/COMBINE-lab/salmon/releases). Note that binaries are usually compiled for specific CPU architectures, such as the 64-bit (x86_64) machine release referenced below ."
          ],
          "id": ""
        }
      }
    },
    {
      "id": "cell-56",
      "source": "<p>Analogically, we will add those genes IDs into <em>rowData names</em> which stores gene metadata. To do this, we will create a column called <code style=\"color: inherit\">gene_ID</code> in <em>rowData</em> and pass the stored values into there.</p>\n",
      "cell_type": "markdown",
      "metadata": {
        "editable": false,
        "collapsed": false
      }
    },
    {
      "id": "cell-57",
      "source": [
        "rowData(alevin_se)$gene_ID <- gene_ID"
      ],
      "cell_type": "code",
      "execution_count": null,
      "outputs": [],
      "metadata": {
        "attributes": {
          "classes": [
            "Alevin is a tool integrated with the [Salmon software](https://salmon.readthedocs.io/en/latest/salmon.html), so first we need to get Salmon. You can install Salmon using conda, but in this tutorial we will show an alternative method - downloading the pre-compiled binaries from the [releases page](https://github.com/COMBINE-lab/salmon/releases). Note that binaries are usually compiled for specific CPU architectures, such as the 64-bit (x86_64) machine release referenced below ."
          ],
          "id": ""
        }
      }
    },
    {
      "id": "cell-58",
      "source": "<h2 id=\"adding-genes-symbols-based-on-their-ids\">Adding genes symbols based on their IDs</h2>\n<p>Since gene symbols are much more informative than only gene IDs, we will add them to our metadata. We will base this annotation on Ensembl - the genome database – with the use of the library BioMart. We will use the archive Genome assembly GRCm38 to get the gene names. Please note that the updated version (GRCm39) is available, but some of the gene IDs are not in that EnsEMBL database. The code below is written in a way that it will work for the updated dataset too, but will produce ‘NA’ where the corresponding gene name couldn’t be found.</p>\n",
      "cell_type": "markdown",
      "metadata": {
        "editable": false,
        "collapsed": false
      }
    },
    {
      "id": "cell-59",
      "source": [
        "# get relevant gene names\n",
        "library(\"biomaRt\")                                      # load the BioMart library\n",
        "ensembl.ids <- gene_ID\n",
        "mart <- useEnsembl(biomart = \"ENSEMBL_MART_ENSEMBL\")    # connect to a specified BioMart database and dataset hosted by Ensembl\n",
        "ensembl_m = useMart(\"ensembl\", dataset=\"mmusculus_gene_ensembl\")\n",
        "\n",
        "# The line above connects to a specified BioMart database and dataset within this database.\n",
        "# In our case we choose the mus musculus database and to get the desired Genome assembly GRCm38,\n",
        "# we specify the host with this archive. If you want to use the most recent version of the dataset, just run:\n",
        "# ensembl_m = useMart(\"ensembl\", dataset=\"mmusculus_gene_ensembl\")"
      ],
      "cell_type": "code",
      "execution_count": null,
      "outputs": [],
      "metadata": {
        "attributes": {
          "classes": [
            "Alevin is a tool integrated with the [Salmon software](https://salmon.readthedocs.io/en/latest/salmon.html), so first we need to get Salmon. You can install Salmon using conda, but in this tutorial we will show an alternative method - downloading the pre-compiled binaries from the [releases page](https://github.com/COMBINE-lab/salmon/releases). Note that binaries are usually compiled for specific CPU architectures, such as the 64-bit (x86_64) machine release referenced below ."
          ],
          "id": ""
        }
      }
    },
    {
      "id": "cell-60",
      "source": "<blockquote class=\"warning\" style=\"border: 2px solid #de8875; margin: 1em 0.2em\">\n<div class=\"box-title warning-title\" id=\"warning-ensembl-connection-problems\"><i class=\"fas fa-exclamation-triangle\" aria-hidden=\"true\" ></i> Warning: Ensembl connection problems</div>\n<p>Sometimes you may encounter some connection issues with Ensembl. To improve performance Ensembl provides several mirrors of their site distributed around the globe. When you use the default settings for useEnsembl() your queries will be directed to your closest mirror geographically. In theory this should give you the best performance, however this is not always the case in practice. For example, if the nearest mirror is experiencing many queries from other users it may perform poorly for you. In such cases, the other mirrors should be chosen automatically.</p>\n</blockquote>\n",
      "cell_type": "markdown",
      "metadata": {
        "editable": false,
        "collapsed": false
      }
    },
    {
      "id": "cell-61",
      "source": [
        "genes <- getBM(attributes=c('ensembl_gene_id','external_gene_name'),\n",
        "               filters = 'ensembl_gene_id',\n",
        "               values = ensembl.ids,\n",
        "               mart = ensembl_m)\n",
        "\n",
        "# The line above retrieves the specified attributes from the connected BioMart database;\n",
        "# 'ensembl_gene_id' are genes IDs,\n",
        "# 'external_gene_name' are the genes symbols that we want to get for our values stored in ‘ensembl.ids’."
      ],
      "cell_type": "code",
      "execution_count": null,
      "outputs": [],
      "metadata": {
        "attributes": {
          "classes": [
            "Alevin is a tool integrated with the [Salmon software](https://salmon.readthedocs.io/en/latest/salmon.html), so first we need to get Salmon. You can install Salmon using conda, but in this tutorial we will show an alternative method - downloading the pre-compiled binaries from the [releases page](https://github.com/COMBINE-lab/salmon/releases). Note that binaries are usually compiled for specific CPU architectures, such as the 64-bit (x86_64) machine release referenced below ."
          ],
          "id": ""
        }
      }
    },
    {
      "id": "cell-62",
      "source": "\n",
      "cell_type": "markdown",
      "metadata": {
        "editable": false,
        "collapsed": false
      }
    },
    {
      "id": "cell-63",
      "source": [
        "# see the resulting data\n",
        "head(genes)"
      ],
      "cell_type": "code",
      "execution_count": null,
      "outputs": [],
      "metadata": {
        "attributes": {
          "classes": [
            "Alevin is a tool integrated with the [Salmon software](https://salmon.readthedocs.io/en/latest/salmon.html), so first we need to get Salmon. You can install Salmon using conda, but in this tutorial we will show an alternative method - downloading the pre-compiled binaries from the [releases page](https://github.com/COMBINE-lab/salmon/releases). Note that binaries are usually compiled for specific CPU architectures, such as the 64-bit (x86_64) machine release referenced below ."
          ],
          "id": ""
        }
      }
    },
    {
      "id": "cell-64",
      "source": "\n",
      "cell_type": "markdown",
      "metadata": {
        "editable": false,
        "collapsed": false
      }
    },
    {
      "id": "cell-65",
      "source": [
        "# replace IDs for gene names\n",
        "gene_names <- ensembl.ids\n",
        "count = 1\n",
        "for (geneID in gene_names)\n",
        "{\n",
        " index <- which(genes==geneID)    # finds an index of geneID in the genes object created by getBM()\n",
        " if (length(index)==0)            # condition in case if there is no corresponding gene name in the chosen dataset\n",
        "  {\n",
        "    gene_names[count] <- 'NA'\n",
        "  }\n",
        "  else\n",
        "  {\n",
        "    gene_names[count] <- genes$external_gene_name[index] \t# replaces gene ID by the corresponding gene name based on the found geneID’s index\n",
        "  }\n",
        " count = count + 1                # increased count so that every element in gene_names is replaced\n",
        "}"
      ],
      "cell_type": "code",
      "execution_count": null,
      "outputs": [],
      "metadata": {
        "attributes": {
          "classes": [
            "Alevin is a tool integrated with the [Salmon software](https://salmon.readthedocs.io/en/latest/salmon.html), so first we need to get Salmon. You can install Salmon using conda, but in this tutorial we will show an alternative method - downloading the pre-compiled binaries from the [releases page](https://github.com/COMBINE-lab/salmon/releases). Note that binaries are usually compiled for specific CPU architectures, such as the 64-bit (x86_64) machine release referenced below ."
          ],
          "id": ""
        }
      }
    },
    {
      "id": "cell-66",
      "source": "\n",
      "cell_type": "markdown",
      "metadata": {
        "editable": false,
        "collapsed": false
      }
    },
    {
      "id": "cell-67",
      "source": [
        "# add the gene names into rowData in a new column gene_name\n",
        "rowData(alevin_se)$gene_name <- gene_names"
      ],
      "cell_type": "code",
      "execution_count": null,
      "outputs": [],
      "metadata": {
        "attributes": {
          "classes": [
            "Alevin is a tool integrated with the [Salmon software](https://salmon.readthedocs.io/en/latest/salmon.html), so first we need to get Salmon. You can install Salmon using conda, but in this tutorial we will show an alternative method - downloading the pre-compiled binaries from the [releases page](https://github.com/COMBINE-lab/salmon/releases). Note that binaries are usually compiled for specific CPU architectures, such as the 64-bit (x86_64) machine release referenced below ."
          ],
          "id": ""
        }
      }
    },
    {
      "id": "cell-68",
      "source": "\n",
      "cell_type": "markdown",
      "metadata": {
        "editable": false,
        "collapsed": false
      }
    },
    {
      "id": "cell-69",
      "source": [
        "# see the changes\n",
        "rowData(alevin_se)"
      ],
      "cell_type": "code",
      "execution_count": null,
      "outputs": [],
      "metadata": {
        "attributes": {
          "classes": [
            "Alevin is a tool integrated with the [Salmon software](https://salmon.readthedocs.io/en/latest/salmon.html), so first we need to get Salmon. You can install Salmon using conda, but in this tutorial we will show an alternative method - downloading the pre-compiled binaries from the [releases page](https://github.com/COMBINE-lab/salmon/releases). Note that binaries are usually compiled for specific CPU architectures, such as the 64-bit (x86_64) machine release referenced below ."
          ],
          "id": ""
        }
      }
    },
    {
      "id": "cell-70",
      "source": "<p>If you are working on your own data and it’s not mouse data, you can check available datasets for other species and just use relevant dataset in <code style=\"color: inherit\">useMart()</code> function.</p>\n",
      "cell_type": "markdown",
      "metadata": {
        "editable": false,
        "collapsed": false
      }
    },
    {
      "id": "cell-71",
      "source": [
        "listDatasets(mart)                # available datasets"
      ],
      "cell_type": "code",
      "execution_count": null,
      "outputs": [],
      "metadata": {
        "attributes": {
          "classes": [
            "Alevin is a tool integrated with the [Salmon software](https://salmon.readthedocs.io/en/latest/salmon.html), so first we need to get Salmon. You can install Salmon using conda, but in this tutorial we will show an alternative method - downloading the pre-compiled binaries from the [releases page](https://github.com/COMBINE-lab/salmon/releases). Note that binaries are usually compiled for specific CPU architectures, such as the 64-bit (x86_64) machine release referenced below ."
          ],
          "id": ""
        }
      }
    },
    {
      "id": "cell-72",
      "source": "<h2 id=\"flag-mitochondrial-genes\">Flag mitochondrial genes</h2>\n<p>We can also flag mitochondrial genes. Usually those are the genes whose name starts with ‘mt-‘ or ‘MT-‘. Therefore, we will store those characters in <code style=\"color: inherit\">mito_genes_names</code> and then use <em>grepl()</em> to find those genes stored in <em>gene_name</em> slot.</p>\n",
      "cell_type": "markdown",
      "metadata": {
        "editable": false,
        "collapsed": false
      }
    },
    {
      "id": "cell-73",
      "source": [
        "mito_genes_names <- '^mt-|^MT-'                                    # how mitochondrial gene names can start\n",
        "mito <- grepl(mito_genes_names, rowData(alevin_se)$gene_name)      # find mito genes\n",
        "mito                                                               # see the resulting boolean list"
      ],
      "cell_type": "code",
      "execution_count": null,
      "outputs": [],
      "metadata": {
        "attributes": {
          "classes": [
            "Alevin is a tool integrated with the [Salmon software](https://salmon.readthedocs.io/en/latest/salmon.html), so first we need to get Salmon. You can install Salmon using conda, but in this tutorial we will show an alternative method - downloading the pre-compiled binaries from the [releases page](https://github.com/COMBINE-lab/salmon/releases). Note that binaries are usually compiled for specific CPU architectures, such as the 64-bit (x86_64) machine release referenced below ."
          ],
          "id": ""
        }
      }
    },
    {
      "id": "cell-74",
      "source": "<p>Now we can add another slot in <em>rowData</em> and call it <em>mito</em> that will keep boolean values (true/false) to indicate which genes are mitochondrial.</p>\n",
      "cell_type": "markdown",
      "metadata": {
        "editable": false,
        "collapsed": false
      }
    },
    {
      "id": "cell-75",
      "source": [
        "rowData(alevin_se)$mito <- mito\n",
        "rowData(alevin_se)"
      ],
      "cell_type": "code",
      "execution_count": null,
      "outputs": [],
      "metadata": {
        "attributes": {
          "classes": [
            "Alevin is a tool integrated with the [Salmon software](https://salmon.readthedocs.io/en/latest/salmon.html), so first we need to get Salmon. You can install Salmon using conda, but in this tutorial we will show an alternative method - downloading the pre-compiled binaries from the [releases page](https://github.com/COMBINE-lab/salmon/releases). Note that binaries are usually compiled for specific CPU architectures, such as the 64-bit (x86_64) machine release referenced below ."
          ],
          "id": ""
        }
      }
    },
    {
      "id": "cell-76",
      "source": "<h1 id=\"subsetting-the-object\">Subsetting the object</h1>\n<p>Let’s go back to the <code style=\"color: inherit\">emptied_matrix</code> object. Do you remember how many cells were left after filtering? We can check that by looking at the matrix’ dimensions:</p>\n",
      "cell_type": "markdown",
      "metadata": {
        "editable": false,
        "collapsed": false
      }
    },
    {
      "id": "cell-77",
      "source": [
        "dim(matrix_alevin)                                                  # check the dimension of the unfiltered matrix\n",
        "dim(emptied_matrix)                                                 # check the dimension of the filtered matrix"
      ],
      "cell_type": "code",
      "execution_count": null,
      "outputs": [],
      "metadata": {
        "attributes": {
          "classes": [
            "Alevin is a tool integrated with the [Salmon software](https://salmon.readthedocs.io/en/latest/salmon.html), so first we need to get Salmon. You can install Salmon using conda, but in this tutorial we will show an alternative method - downloading the pre-compiled binaries from the [releases page](https://github.com/COMBINE-lab/salmon/releases). Note that binaries are usually compiled for specific CPU architectures, such as the 64-bit (x86_64) machine release referenced below ."
          ],
          "id": ""
        }
      }
    },
    {
      "id": "cell-78",
      "source": "<p>We’ve gone from 3608 to 35 cells. We’ve filtered the matrix, but not our SummarizedExperiment. We can subset <code style=\"color: inherit\">alevin_se</code> based on the cells that were left after filtering. We will store them in a separate list, as we did with the barcodes:</p>\n",
      "cell_type": "markdown",
      "metadata": {
        "editable": false,
        "collapsed": false
      }
    },
    {
      "id": "cell-79",
      "source": [
        "retained_cells <- colnames(emptied_matrix)\n",
        "retained_cells"
      ],
      "cell_type": "code",
      "execution_count": null,
      "outputs": [],
      "metadata": {
        "attributes": {
          "classes": [
            "Alevin is a tool integrated with the [Salmon software](https://salmon.readthedocs.io/en/latest/salmon.html), so first we need to get Salmon. You can install Salmon using conda, but in this tutorial we will show an alternative method - downloading the pre-compiled binaries from the [releases page](https://github.com/COMBINE-lab/salmon/releases). Note that binaries are usually compiled for specific CPU architectures, such as the 64-bit (x86_64) machine release referenced below ."
          ],
          "id": ""
        }
      }
    },
    {
      "id": "cell-80",
      "source": "<p>And now we can subset our SummarizedExperiment based on the barcodes that are in the <code style=\"color: inherit\">retained_cells</code> list:</p>\n",
      "cell_type": "markdown",
      "metadata": {
        "editable": false,
        "collapsed": false
      }
    },
    {
      "id": "cell-81",
      "source": [
        "alevin_subset <- alevin_se[, colData(alevin_se)$barcode %in% retained_cells]\n",
        "alevin_701 <- alevin_subset\n",
        "alevin_701"
      ],
      "cell_type": "code",
      "execution_count": null,
      "outputs": [],
      "metadata": {
        "attributes": {
          "classes": [
            "Alevin is a tool integrated with the [Salmon software](https://salmon.readthedocs.io/en/latest/salmon.html), so first we need to get Salmon. You can install Salmon using conda, but in this tutorial we will show an alternative method - downloading the pre-compiled binaries from the [releases page](https://github.com/COMBINE-lab/salmon/releases). Note that binaries are usually compiled for specific CPU architectures, such as the 64-bit (x86_64) machine release referenced below ."
          ],
          "id": ""
        }
      }
    },
    {
      "id": "cell-82",
      "source": "<p>And that’s our subset, ready for downstream analysis!</p>\n<h1 id=\"more-datasets\">More datasets</h1>\n<p>We’ve done the analysis for one sample. But there are 7 samples in this experiment and it would be very handy to have all the information in one place. Therefore, you would need to repeat all the steps for the subsequent samples (that’s when you’ll appreciate wrapped tools and automation in Galaxy workflows!). To make your life easier, we will show you how to combine the datasets on smaller scale. Also, to save you some time, we’ve already run Alevin on sample 702 (also subsampled to 50k reads). Let’s quickly repeat the steps we performed in R to complete the analysis of sample 702 in the same way as we did with 701.</p>\n<p>But first, we have to save the results of our hard work on sample 701!</p>\n<h2 id=\"saving-sample-701-data\">Saving sample 701 data</h2>\n<p>Saving files is quite straightforward. Just specify which object you want to save and how you want the file to be named. Don’t forget the extension!</p>\n",
      "cell_type": "markdown",
      "metadata": {
        "editable": false,
        "collapsed": false
      }
    },
    {
      "id": "cell-83",
      "source": [
        "save(alevin_701, file = \"alevin_701.rdata\")"
      ],
      "cell_type": "code",
      "execution_count": null,
      "outputs": [],
      "metadata": {
        "attributes": {
          "classes": [
            "Alevin is a tool integrated with the [Salmon software](https://salmon.readthedocs.io/en/latest/salmon.html), so first we need to get Salmon. You can install Salmon using conda, but in this tutorial we will show an alternative method - downloading the pre-compiled binaries from the [releases page](https://github.com/COMBINE-lab/salmon/releases). Note that binaries are usually compiled for specific CPU architectures, such as the 64-bit (x86_64) machine release referenced below ."
          ],
          "id": ""
        }
      }
    },
    {
      "id": "cell-84",
      "source": "<p>You will see the new file in the panel on the left.</p>\n<h2 id=\"analysis-of-sample-702\">Analysis of sample 702</h2>\n<p>Normally, at this point you would switch kernel to bash to run alevin, and then back to R to complete the analysis of another sample. Here, we are providing you with the alevin output for the next sample, which you have already downloaded and unzipped at the beginning of the tutorial when we were using bash.</p>\n<blockquote class=\"warning\" style=\"border: 2px solid #de8875; margin: 1em 0.2em\">\n<div class=\"box-title warning-title\" id=\"warning-switching-kernels-amp-losing-variables\"><i class=\"fas fa-exclamation-triangle\" aria-hidden=\"true\" ></i> Warning: Switching kernels &amp; losing variables</div>\n<p>Be aware that every time when you switch kernel, you will lose variables you store in the objects that you’ve created, unless you save them. Therefore, if you want to switch from R to bash, make sure you save your R objects! You can then load them anytime.</p>\n</blockquote>\n<p>Above we described all the steps done in R and explained what each bit of code does. Below all those steps are in one block of code, so read carefully and make sure you understand everything!</p>\n",
      "cell_type": "markdown",
      "metadata": {
        "editable": false,
        "collapsed": false
      }
    },
    {
      "id": "cell-85",
      "source": [
        "## load libraries again ##\n",
        "library(tximeta)\n",
        "library(DropletUtils)\n",
        "library(biomaRt)\n",
        "\n",
        "## running tximeta ##\n",
        "path2 <- 'alevin_output_702/alevin/quants_mat.gz'                                                    # path to alevin output for N702\n",
        "alevin2 <- tximeta(coldata = data.frame(files = path2, names = \"sample702\"), type = \"alevin\")        # create SummarizedExperiment from Alevin output\n",
        "\n",
        "## running emptyDrops ##\n",
        "matrix_alevin2 <- assays(alevin2)$counts                                                             # extract matrix from SummarizedExperiment\n",
        "out2 <- emptyDrops(matrix_alevin2, lower = 100, niters = 1000, retain = 20)                          # apply emptyDrops\n",
        "is.cell2 <- out2$FDR <= 0.01                                                                         # apply FDR threshold\n",
        "emptied_matrix2 <- matrix_alevin2[,which(is.cell2),drop=FALSE]                                       # subset the matrix to the cell-containing droplets\n",
        "\n",
        "## adding cell metadata ##\n",
        "barcode2 <- colnames(alevin2)\n",
        "colData(alevin2)$barcode <- barcode2                                             # add barcodes\n",
        "\n",
        "colData(alevin2) <- cbind(colData(alevin2),out2)                                 # add emptyDrops info\n",
        "\n",
        "batch2 <- rep(\"1\", length(colnames(alevin2)))\n",
        "colData(alevin2)$batch <- batch2                                                # add batch info\n",
        "\n",
        "genotype2 <- rep(\"wildtype\", length(colnames(alevin2)))\n",
        "colData(alevin2)$genotype <- genotype2                                          # add genotype info\n",
        "\n",
        "sex2 <- rep(\"male\", length(colnames(alevin2)))\n",
        "colData(alevin2)$sex <- sex2                                                    # add sex info\n",
        "\n",
        "## adding gene metadata ##\n",
        "gene_ID2 <- rownames(alevin2)\n",
        "rowData(alevin2)$gene_ID <- gene_ID2\n",
        "\n",
        "# get relevant gene names\n",
        "ensembl.ids2 <- gene_ID2\n",
        "mart <- useEnsembl(biomart = \"ENSEMBL_MART_ENSEMBL\")    # connect to a specified BioMart database and dataset hosted by Ensembl\n",
        "ensembl_m2 = useMart(\"ensembl\", dataset=\"mmusculus_gene_ensembl\")\n",
        "\n",
        "genes2 <- getBM(attributes=c('ensembl_gene_id','external_gene_name'),\n",
        "               filters = 'ensembl_gene_id',\n",
        "               values = ensembl.ids2,\n",
        "               mart = ensembl_m2)\n",
        "\n",
        "# replace IDs for gene names\n",
        "gene_names2 <- ensembl.ids2\n",
        "count = 1\n",
        "for (geneID in gene_names2)\n",
        "{\n",
        " index <- which(genes2==geneID)    # finds an index of geneID in the genes object created by getBM()\n",
        " if (length(index)==0)            # condition in case if there is no corresponding gene name in the chosen dataset\n",
        "  {\n",
        "    gene_names2[count] <- 'NA'\n",
        "  }\n",
        "  else\n",
        "  {\n",
        "    gene_names2[count] <- genes2$external_gene_name[index] \t# replaces gene ID by the corresponding gene name based on the found geneID’s index\n",
        "  }\n",
        " count = count + 1                # increased count so that every element in gene_names is replaced\n",
        "}\n",
        "\n",
        "rowData(alevin2)$gene_name <- gene_names2                              # add gene names to gene metadata\n",
        "\n",
        "mito_genes_names <- '^mt-|^MT-'                                        # how mitochondrial gene names can start\n",
        "mito2 <- grepl(mito_genes_names, rowData(alevin2)$gene_name)           # find mito genes\n",
        "rowData(alevin2)$mito <- mito2                                         # add mitochondrial information to gene metadata\n",
        "\n",
        "## create a subset of filtered object ##\n",
        "retained_cells2 <- colnames(emptied_matrix2)\n",
        "alevin_subset2 <- alevin2[, colData(alevin2)$barcode %in% retained_cells2]\n",
        "\n",
        "alevin_702 <- alevin_subset2\n",
        "alevin_702"
      ],
      "cell_type": "code",
      "execution_count": null,
      "outputs": [],
      "metadata": {
        "attributes": {
          "classes": [
            "Alevin is a tool integrated with the [Salmon software](https://salmon.readthedocs.io/en/latest/salmon.html), so first we need to get Salmon. You can install Salmon using conda, but in this tutorial we will show an alternative method - downloading the pre-compiled binaries from the [releases page](https://github.com/COMBINE-lab/salmon/releases). Note that binaries are usually compiled for specific CPU architectures, such as the 64-bit (x86_64) machine release referenced below ."
          ],
          "id": ""
        }
      }
    },
    {
      "id": "cell-86",
      "source": "<p>Alright, another sample pre-processed!</p>\n<h1 id=\"combining-datasets\">Combining datasets</h1>\n<p>Pre-processed sample 702 is there, but keep in mind that if you switched kernels in the meantime, you still need to load sample 701 that was saved before switching kernels. It’s equally easy as saving the object:</p>\n",
      "cell_type": "markdown",
      "metadata": {
        "editable": false,
        "collapsed": false
      }
    },
    {
      "id": "cell-87",
      "source": [
        "load(\"alevin_701.rdata\")"
      ],
      "cell_type": "code",
      "execution_count": null,
      "outputs": [],
      "metadata": {
        "attributes": {
          "classes": [
            "Alevin is a tool integrated with the [Salmon software](https://salmon.readthedocs.io/en/latest/salmon.html), so first we need to get Salmon. You can install Salmon using conda, but in this tutorial we will show an alternative method - downloading the pre-compiled binaries from the [releases page](https://github.com/COMBINE-lab/salmon/releases). Note that binaries are usually compiled for specific CPU architectures, such as the 64-bit (x86_64) machine release referenced below ."
          ],
          "id": ""
        }
      }
    },
    {
      "id": "cell-88",
      "source": "<p>Check if it was loaded ok:</p>\n",
      "cell_type": "markdown",
      "metadata": {
        "editable": false,
        "collapsed": false
      }
    },
    {
      "id": "cell-89",
      "source": [
        "alevin_701"
      ],
      "cell_type": "code",
      "execution_count": null,
      "outputs": [],
      "metadata": {
        "attributes": {
          "classes": [
            "Alevin is a tool integrated with the [Salmon software](https://salmon.readthedocs.io/en/latest/salmon.html), so first we need to get Salmon. You can install Salmon using conda, but in this tutorial we will show an alternative method - downloading the pre-compiled binaries from the [releases page](https://github.com/COMBINE-lab/salmon/releases). Note that binaries are usually compiled for specific CPU architectures, such as the 64-bit (x86_64) machine release referenced below ."
          ],
          "id": ""
        }
      }
    },
    {
      "id": "cell-90",
      "source": "<p>Now we can combine those two objects into one using one simple command:</p>\n",
      "cell_type": "markdown",
      "metadata": {
        "editable": false,
        "collapsed": false
      }
    },
    {
      "id": "cell-91",
      "source": [
        "alevin_combined <- cbind(alevin_701, alevin_702)\n",
        "alevin_combined"
      ],
      "cell_type": "code",
      "execution_count": null,
      "outputs": [],
      "metadata": {
        "attributes": {
          "classes": [
            "Alevin is a tool integrated with the [Salmon software](https://salmon.readthedocs.io/en/latest/salmon.html), so first we need to get Salmon. You can install Salmon using conda, but in this tutorial we will show an alternative method - downloading the pre-compiled binaries from the [releases page](https://github.com/COMBINE-lab/salmon/releases). Note that binaries are usually compiled for specific CPU architectures, such as the 64-bit (x86_64) machine release referenced below ."
          ],
          "id": ""
        }
      }
    },
    {
      "id": "cell-92",
      "source": "<p>If you have more samples, just append them in the same way. We won’t process another sample here, but pretending that we have third sample, we would combine it like this:</p>\n",
      "cell_type": "markdown",
      "metadata": {
        "editable": false,
        "collapsed": false
      }
    },
    {
      "id": "cell-93",
      "source": [
        "alevin_subset3 <- alevin_702                        # copy dataset for demonstration purposes\n",
        "alevin_combined_demo <- cbind(alevin_combined, alevin_subset3)\n",
        "alevin_combined_demo"
      ],
      "cell_type": "code",
      "execution_count": null,
      "outputs": [],
      "metadata": {
        "attributes": {
          "classes": [
            "Alevin is a tool integrated with the [Salmon software](https://salmon.readthedocs.io/en/latest/salmon.html), so first we need to get Salmon. You can install Salmon using conda, but in this tutorial we will show an alternative method - downloading the pre-compiled binaries from the [releases page](https://github.com/COMBINE-lab/salmon/releases). Note that binaries are usually compiled for specific CPU architectures, such as the 64-bit (x86_64) machine release referenced below ."
          ],
          "id": ""
        }
      }
    },
    {
      "id": "cell-94",
      "source": "<p>You get the point, right? It’s important though that the rowData names and colData names are the same in each sample.</p>\n<h1 id=\"saving-and-exporting-the-files\">Saving and exporting the files</h1>\n<p>It is generally more common to use SingleCellExperiment format rather than SummarizedExperiment. The conversion is quick and easy, and goes like this:</p>\n",
      "cell_type": "markdown",
      "metadata": {
        "editable": false,
        "collapsed": false
      }
    },
    {
      "id": "cell-95",
      "source": [
        "library(SingleCellExperiment)                                 # might need to load this library\n",
        "alevin_sce <- as(alevin_combined, \"SingleCellExperiment\")\n",
        "alevin_sce"
      ],
      "cell_type": "code",
      "execution_count": null,
      "outputs": [],
      "metadata": {
        "attributes": {
          "classes": [
            "Alevin is a tool integrated with the [Salmon software](https://salmon.readthedocs.io/en/latest/salmon.html), so first we need to get Salmon. You can install Salmon using conda, but in this tutorial we will show an alternative method - downloading the pre-compiled binaries from the [releases page](https://github.com/COMBINE-lab/salmon/releases). Note that binaries are usually compiled for specific CPU architectures, such as the 64-bit (x86_64) machine release referenced below ."
          ],
          "id": ""
        }
      }
    },
    {
      "id": "cell-96",
      "source": "<p>As you can see, all the embeddings have been successfully transfered during this conversion and believe me, SCE object will be more useful for you!</p>\n<p>You’ve already learned how to save and load objects in Jupyter notebook, let’s then save the SCE file:</p>\n",
      "cell_type": "markdown",
      "metadata": {
        "editable": false,
        "collapsed": false
      }
    },
    {
      "id": "cell-97",
      "source": [
        "save(alevin_sce, file = \"alevin_sce.rdata\")"
      ],
      "cell_type": "code",
      "execution_count": null,
      "outputs": [],
      "metadata": {
        "attributes": {
          "classes": [
            "Alevin is a tool integrated with the [Salmon software](https://salmon.readthedocs.io/en/latest/salmon.html), so first we need to get Salmon. You can install Salmon using conda, but in this tutorial we will show an alternative method - downloading the pre-compiled binaries from the [releases page](https://github.com/COMBINE-lab/salmon/releases). Note that binaries are usually compiled for specific CPU architectures, such as the 64-bit (x86_64) machine release referenced below ."
          ],
          "id": ""
        }
      }
    },
    {
      "id": "cell-98",
      "source": "<p>The last thing that might be useful is exporting the files into your Galaxy history. To do it… guess what! Yes - <strong>switching kernels again</strong>! But this time we choose <strong>Python 3</strong> kernel and run the following command:</p>\n",
      "cell_type": "markdown",
      "metadata": {
        "editable": false,
        "collapsed": false
      }
    },
    {
      "id": "cell-99",
      "source": [
        "# that's Python now!\n",
        "put(\"alevin_sce.rdata\")"
      ],
      "cell_type": "code",
      "execution_count": null,
      "outputs": [],
      "metadata": {
        "attributes": {
          "classes": [
            "Alevin is a tool integrated with the [Salmon software](https://salmon.readthedocs.io/en/latest/salmon.html), so first we need to get Salmon. You can install Salmon using conda, but in this tutorial we will show an alternative method - downloading the pre-compiled binaries from the [releases page](https://github.com/COMBINE-lab/salmon/releases). Note that binaries are usually compiled for specific CPU architectures, such as the 64-bit (x86_64) machine release referenced below ."
          ],
          "id": ""
        }
      }
    },
    {
      "id": "cell-100",
      "source": "<p>A new dataset should appear in your Galaxy history now.</p>\n<h1 id=\"conclusion\">Conclusion</h1>\n<p>Well done! In this tutorial we have:</p>\n<ul>\n<li>examined raw read data, annotations and necessary input files for quantification</li>\n<li>created an index in Salmon and run Alevin</li>\n<li>identified barcodes that correspond to non-empty droplets</li>\n<li>added gene and cell metadata</li>\n<li>applied the necessary conversion to pass these data to downstream processes.</li>\n</ul>\n<p>As you might now appreciate, some tasks are much quicker and easier when run in the code, but the reproducibility and automation of Galaxy workflows is a huge advantage that helps in dealing with many samples more quickly and efficiently.</p>\n",
      "cell_type": "markdown",
      "metadata": {
        "editable": false,
        "collapsed": false
      }
    },
    {
      "cell_type": "markdown",
      "id": "final-ending-cell",
      "metadata": {
        "editable": false,
        "collapsed": false
      },
      "source": [
        "# Key Points\n\n",
        "- Create a SCE object from FASTQ files, including relevant gene and cell metadata, and do it all in Jupyter Notebook!\n",
        "\n# Congratulations on successfully completing this tutorial!\n\n",
        "Please [fill out the feedback on the GTN website](https://training.galaxyproject.org/training-material/topics/single-cell/tutorials/alevin-commandline/tutorial.html#feedback) and check there for further resources!\n"
      ]
    }
  ]
}