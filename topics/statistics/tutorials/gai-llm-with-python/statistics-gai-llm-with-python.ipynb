{
  "metadata": {},
  "nbformat": 4,
  "nbformat_minor": 5,
  "cells": [
    {
      "id": "metadata",
      "cell_type": "markdown",
      "source": "<div style=\"border: 2px solid #8A9AD0; margin: 1em 0.2em; padding: 0.5em;\">\n\n# Generative Artificial Intelligence and Large Langage Model using Python\n\nby [Raphael Mourad](https://training.galaxyproject.org/hall-of-fame/raphaelmourad/)\n\nCC-BY licensed content from the [Galaxy Training Network](https://training.galaxyproject.org/)\n\n**Objectives**\n\n- to do\n\n**Objectives**\n\n- pretraining LLM for DNA\n- finetuning LLM\n- zeroshot prediction for DNA variants and synthetic DNA sequence generation.\n\n**Time Estimation: 3H**\n</div>\n",
      "metadata": {
        "editable": false,
        "collapsed": false
      }
    },
    {
      "id": "cell-0",
      "source": "\n",
      "cell_type": "markdown",
      "metadata": {
        "editable": false,
        "collapsed": false
      }
    },
    {
      "cell_type": "markdown",
      "id": "final-ending-cell",
      "metadata": {
        "editable": false,
        "collapsed": false
      },
      "source": [
        "# Key Points\n\n",
        "- To be added\n",
        "\n# Congratulations on successfully completing this tutorial!\n\n",
        "Please [fill out the feedback on the GTN website](https://training.galaxyproject.org/training-material/topics/statistics/tutorials/gai-llm-with-python/tutorial.html#feedback) and check there for further resources!\n"
      ]
    }
  ]
}