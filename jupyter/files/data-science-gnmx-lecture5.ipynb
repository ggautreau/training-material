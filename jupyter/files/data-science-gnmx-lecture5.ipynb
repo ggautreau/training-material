{
  "metadata": {},
  "nbformat": 4,
  "nbformat_minor": 5,
  "cells": [
    {
      "id": "metadata",
      "cell_type": "markdown",
      "source": "<div style=\"border: 2px solid #8A9AD0; margin: 1em 0.2em; padding: 0.5em;\">\n\n# Introduction to sequencing with Python (part four)\n\nby [Anton Nekrutenko](https://training.galaxyproject.org/hall-of-fame/nekrut/)\n\nCC-BY licensed content from the [Galaxy Training Network](https://training.galaxyproject.org/)\n\n**Objectives**\n\n- How to manipulate files in Python\n- How to read and write FASTA\n- How to read and write FASTQ\n- How to read and write SAM\n\n**Objectives**\n\n- Understand manipulation of files in Python\n\n**Time Estimation: 1h**\n</div>\n",
      "metadata": {
        "editable": false,
        "collapsed": false
      }
    },
    {
      "id": "cell-0",
      "source": "<h1 id=\"reading-and-writing-files-in-python\">Reading and writing files in Python</h1>\n<p>First let’s download a file we will be using to your notebooks:</p>\n<div class=\"language-plaintext highlighter-rouge\"><div><pre style=\"color: inherit; background: transparent\"><code style=\"color: inherit\">!wget https://raw.githubusercontent.com/nekrut/BMMB554/master/2023/data/l9/mt_cds.fa\n</code></pre></div></div>\n<p>In Python, you can handle files using the built-in <code style=\"color: inherit\">open</code> function. The <code style=\"color: inherit\">open</code> function creates a file object, which you can use to read, write, or modify the file.</p>\n<p>Here’s an example of how to open a file for reading:</p>\n",
      "cell_type": "markdown",
      "metadata": {
        "editable": false,
        "collapsed": false
      }
    },
    {
      "id": "cell-1",
      "source": [
        "f = open(\"mt_cds.fa\", \"r\")"
      ],
      "cell_type": "code",
      "execution_count": null,
      "outputs": [],
      "metadata": {
        "attributes": {
          "classes": [
            "First let's download a file we will be using to your notebooks:"
          ],
          "id": ""
        }
      }
    },
    {
      "id": "cell-2",
      "source": "<p>In this example, the open function takes two arguments: the name of the file, and the mode in which you want to open the file. The <code style=\"color: inherit\">r</code> mode indicates that you want to open the file for reading.</p>\n<p>After you’ve opened the file, you can read its contents using the read method:</p>\n",
      "cell_type": "markdown",
      "metadata": {
        "editable": false,
        "collapsed": false
      }
    },
    {
      "id": "cell-3",
      "source": [
        "contents = f.read()\n",
        "print(contents)"
      ],
      "cell_type": "code",
      "execution_count": null,
      "outputs": [],
      "metadata": {
        "attributes": {
          "classes": [
            "First let's download a file we will be using to your notebooks:"
          ],
          "id": ""
        }
      }
    },
    {
      "id": "cell-4",
      "source": "<p>You can also read the file line by line using the readline method:</p>\n",
      "cell_type": "markdown",
      "metadata": {
        "editable": false,
        "collapsed": false
      }
    },
    {
      "id": "cell-5",
      "source": [
        "line = f.readline()\n",
        "print(line)"
      ],
      "cell_type": "code",
      "execution_count": null,
      "outputs": [],
      "metadata": {
        "attributes": {
          "classes": [
            "First let's download a file we will be using to your notebooks:"
          ],
          "id": ""
        }
      }
    },
    {
      "id": "cell-6",
      "source": "<p>When you’re done reading the file, you should close it using the close method:</p>\n",
      "cell_type": "markdown",
      "metadata": {
        "editable": false,
        "collapsed": false
      }
    },
    {
      "id": "cell-7",
      "source": [
        "f.close()"
      ],
      "cell_type": "code",
      "execution_count": null,
      "outputs": [],
      "metadata": {
        "attributes": {
          "classes": [
            "First let's download a file we will be using to your notebooks:"
          ],
          "id": ""
        }
      }
    },
    {
      "id": "cell-8",
      "source": "<p>You can also use the <code style=\"color: inherit\">with</code> statement to automatically close the file when you’re done:</p>\n",
      "cell_type": "markdown",
      "metadata": {
        "editable": false,
        "collapsed": false
      }
    },
    {
      "id": "cell-9",
      "source": [
        "with open(\"mt_cds.fa\", \"r\") as f:\n",
        "    contents = f.read()\n",
        "    print(contents)"
      ],
      "cell_type": "code",
      "execution_count": null,
      "outputs": [],
      "metadata": {
        "attributes": {
          "classes": [
            "First let's download a file we will be using to your notebooks:"
          ],
          "id": ""
        }
      }
    },
    {
      "id": "cell-10",
      "source": "<p>You can also write to files using <code style=\"color: inherit\">write</code> method (note the <code style=\"color: inherit\">\"w\"</code> mode):</p>\n",
      "cell_type": "markdown",
      "metadata": {
        "editable": false,
        "collapsed": false
      }
    },
    {
      "id": "cell-11",
      "source": [
        "f = open(\"sample.txt\", \"w\")\n",
        "f.write(\"This is a new line.\")\n",
        "f.close()"
      ],
      "cell_type": "code",
      "execution_count": null,
      "outputs": [],
      "metadata": {
        "attributes": {
          "classes": [
            "First let's download a file we will be using to your notebooks:"
          ],
          "id": ""
        }
      }
    },
    {
      "id": "cell-12",
      "source": "<p>If you open an existing file in write mode, its contents will be overwritten. If you want to append to an existing file instead, you can use the <code style=\"color: inherit\">\"a\"</code> mode:</p>\n",
      "cell_type": "markdown",
      "metadata": {
        "editable": false,
        "collapsed": false
      }
    },
    {
      "id": "cell-13",
      "source": [
        "f = open(\"sample.txt\", \"a\")\n",
        "f.write(\"This is another line.\")\n",
        "f.close()"
      ],
      "cell_type": "code",
      "execution_count": null,
      "outputs": [],
      "metadata": {
        "attributes": {
          "classes": [
            "First let's download a file we will be using to your notebooks:"
          ],
          "id": ""
        }
      }
    },
    {
      "id": "cell-14",
      "source": "<p>When you’re writing to a file, it’s important to make sure you close the file when you’re done. If you don’t close the file, any changes you make may not be saved.</p>\n<p>In addition to reading and writing text files, you can also use Python to handle binary files, such as images or audio files.</p>\n<p>Let’s download an image:</p>\n<div class=\"language-plaintext highlighter-rouge\"><div><pre style=\"color: inherit; background: transparent\"><code style=\"color: inherit\">!wget https://imgs.xkcd.com/comics/file_extensions.png\n</code></pre></div></div>\n<p>Here’s an example of how to read an image file:</p>\n",
      "cell_type": "markdown",
      "metadata": {
        "editable": false,
        "collapsed": false
      }
    },
    {
      "id": "cell-15",
      "source": [
        "with open(\"file_extensions.png\", \"rb\") as f:\n",
        "    contents = f.read()"
      ],
      "cell_type": "code",
      "execution_count": null,
      "outputs": [],
      "metadata": {
        "attributes": {
          "classes": [
            "First let's download a file we will be using to your notebooks:"
          ],
          "id": ""
        }
      }
    },
    {
      "id": "cell-16",
      "source": "<p>Note that when working with binary files, you must use the <code style=\"color: inherit\">\"rb\"</code> mode for reading and the <code style=\"color: inherit\">\"wb\"</code> mode for writing.</p>\n<p>There are many more features and methods related to file handling in Python, but the basics covered here should be enough to get you started.</p>\n<h2 id=\"fasta\"><a href=\"https://en.wikipedia.org/wiki/FASTA_format\">Fasta</a></h2>\n<p>Fasta is a file format that is commonly used to store biological sequences, such as DNA or protein sequences. In Python, you can read a Fasta file by opening the file, reading the lines one by one, and processing the data as needed.</p>\n<p>Here’s an example of how you might read a Fasta file in Python:</p>\n",
      "cell_type": "markdown",
      "metadata": {
        "editable": false,
        "collapsed": false
      }
    },
    {
      "id": "cell-17",
      "source": [
        "sequences = {}\n",
        "with open(\"mt_cds.fa\", \"r\") as file:\n",
        "  header = \"\"\n",
        "  sequence = \"\"\n",
        "  for line in file:\n",
        "    line=line.rstrip()\n",
        "    if line.startswith('>'):\n",
        "      if header != \"\":\n",
        "        sequences[header] = sequence\n",
        "        sequence = \"\"\n",
        "      header = line[1:]\n",
        "    else:\n",
        "      sequence += line\n",
        "  if header != \"\":\n",
        "    sequences[header] = sequence"
      ],
      "cell_type": "code",
      "execution_count": null,
      "outputs": [],
      "metadata": {
        "attributes": {
          "classes": [
            "First let's download a file we will be using to your notebooks:"
          ],
          "id": ""
        }
      }
    },
    {
      "id": "cell-18",
      "source": "<p>The code above uses a <code style=\"color: inherit\">with</code> statement to open the file and read the lines one by one. If a line starts with a <code style=\"color: inherit\">\"&gt;\"</code>, it is assumed to be a header, and the current sequence is stored in the dictionary using the current header as the key. If the line does not start with a <code style=\"color: inherit\">\"&gt;\"</code>, it is assumed to be part of the current sequence.</p>\n<h2 id=\"fastq\"><a href=\"https://en.wikipedia.org/wiki/FASTQ_format\">FASTQ</a></h2>\n<p>Let’s download a sample fastq file:</p>\n",
      "cell_type": "markdown",
      "metadata": {
        "editable": false,
        "collapsed": false
      }
    },
    {
      "id": "cell-19",
      "source": [
        "!wget https://raw.githubusercontent.com/nekrut/BMMB554/master/2023/data/l9/reads.fq"
      ],
      "cell_type": "code",
      "execution_count": null,
      "outputs": [],
      "metadata": {
        "attributes": {
          "classes": [
            "First let's download a file we will be using to your notebooks:"
          ],
          "id": ""
        }
      }
    },
    {
      "id": "cell-20",
      "source": "<p>Fastq is a file format that is commonly used to store high-throughput sequencing data. It consists of a series of records, each of which includes a header, a sequence, a quality score header, and a quality score string. In Python, you can read a Fastq file by opening the file, reading the lines four at a time, and processing the data as needed.</p>\n<p>Here’s an example of how you might read a Fastq file in Python:</p>\n",
      "cell_type": "markdown",
      "metadata": {
        "editable": false,
        "collapsed": false
      }
    },
    {
      "id": "cell-21",
      "source": [
        "def read_fastq(file_path):\n",
        "    records = []\n",
        "    with open(file_path, \"r\") as f:\n",
        "        while True:\n",
        "            header = f.readline().strip()\n",
        "            if header == \"\":\n",
        "                break\n",
        "            sequence = f.readline().strip()\n",
        "            quality_header = f.readline().strip()\n",
        "            quality = f.readline().strip()\n",
        "            records.append((header, sequence, quality))\n",
        "    return records"
      ],
      "cell_type": "code",
      "execution_count": null,
      "outputs": [],
      "metadata": {
        "attributes": {
          "classes": [
            "First let's download a file we will be using to your notebooks:"
          ],
          "id": ""
        }
      }
    },
    {
      "id": "cell-22",
      "source": "<p>In this example, the <code style=\"color: inherit\">read_fastq</code> function takes a file path as an argument, and returns a list of records, where each record is a tuple of four strings: the header, the sequence, the quality score header, and the quality score string. The function uses a <code style=\"color: inherit\">while</code> loop to read the lines four at a time until the end of the file is reached.</p>\n<p>You can use this function to read a Fastq file like this:</p>\n",
      "cell_type": "markdown",
      "metadata": {
        "editable": false,
        "collapsed": false
      }
    },
    {
      "id": "cell-23",
      "source": [
        "records = read_fastq(\"reads.fq\")\n",
        "for header, sequence, quality_header, quality in records:\n",
        "    print(header)\n",
        "    print(sequence)\n",
        "    print(quality_header)\n",
        "    print(quality)"
      ],
      "cell_type": "code",
      "execution_count": null,
      "outputs": [],
      "metadata": {
        "attributes": {
          "classes": [
            "First let's download a file we will be using to your notebooks:"
          ],
          "id": ""
        }
      }
    },
    {
      "id": "cell-24",
      "source": "<p>This will print the headers, sequences, quality score headers, and quality scores in the Fastq file. You can modify the read_fastq function to process the data in any way you need.</p>\n<h2 id=\"sam\"><a href=\"https://en.wikipedia.org/wiki/SAM_(file_format)\">SAM</a></h2>\n<p>Let’s download an example SAM file:</p>\n<div class=\"language-plaintext highlighter-rouge\"><div><pre style=\"color: inherit; background: transparent\"><code style=\"color: inherit\">!wget https://raw.githubusercontent.com/nekrut/BMMB554/master/2023/data/l9/sam_example.sam\n</code></pre></div></div>\n<p>SAM (Sequence Alignment/Map) is a file format that is used to store the results of DNA sequencing alignments. In Python, you can read a SAM file by opening the file, reading the lines one by one, and processing the data as needed.</p>\n<p>Here’s an example of how you might read a SAM file in Python:</p>\n",
      "cell_type": "markdown",
      "metadata": {
        "editable": false,
        "collapsed": false
      }
    },
    {
      "id": "cell-25",
      "source": [
        "def read_sam(file_path):\n",
        "    records = []\n",
        "    with open(file_path, \"r\") as f:\n",
        "        for line in f:\n",
        "            if line.startswith(\"@\"):\n",
        "                continue\n",
        "            fields = line.strip().split(\"\\t\")\n",
        "            records.append(fields)\n",
        "    return records"
      ],
      "cell_type": "code",
      "execution_count": null,
      "outputs": [],
      "metadata": {
        "attributes": {
          "classes": [
            "First let's download a file we will be using to your notebooks:"
          ],
          "id": ""
        }
      }
    },
    {
      "id": "cell-26",
      "source": "<p>In this example, the <code style=\"color: inherit\">read_sam</code> function takes a file path as an argument, and returns a list of records, where each record is a list of fields. The function uses a <code style=\"color: inherit\">with</code> statement to open the file and read the lines one by one. If a line starts with an <code style=\"color: inherit\">\"@\"</code>, it is assumed to be a header and is ignored. If the line does not start with an <code style=\"color: inherit\">\"@\"</code>, it is assumed to be a record, and the fields are extracted by splitting the line on tabs.</p>\n<p>You can use this function to read a SAM file like this:</p>\n",
      "cell_type": "markdown",
      "metadata": {
        "editable": false,
        "collapsed": false
      }
    },
    {
      "id": "cell-27",
      "source": [
        "records = read_sam(\"sam_example.sam\")\n",
        "for fields in records:\n",
        "    print(fields)"
      ],
      "cell_type": "code",
      "execution_count": null,
      "outputs": [],
      "metadata": {
        "attributes": {
          "classes": [
            "First let's download a file we will be using to your notebooks:"
          ],
          "id": ""
        }
      }
    },
    {
      "id": "cell-28",
      "source": "<p>This will print the fields in the SAM file. You can modify the read_sam function to process the data in any way you need. For example, you might want to extract specific fields, such as the reference name, the start position, and the cigar string.</p>\n",
      "cell_type": "markdown",
      "metadata": {
        "editable": false,
        "collapsed": false
      }
    },
    {
      "cell_type": "markdown",
      "id": "final-ending-cell",
      "metadata": {
        "editable": false,
        "collapsed": false
      },
      "source": [
        "# Key Points\n\n",
        "- Python can be used to read and write files\n",
        "\n# Congratulations on successfully completing this tutorial!\n\n",
        "Please [fill out the feedback on the GTN website](https://training.galaxyproject.org/training-material/topics/data-science/tutorials/gnmx-lecture5/tutorial.html#feedback) and check there for further resources!\n"
      ]
    }
  ]
}