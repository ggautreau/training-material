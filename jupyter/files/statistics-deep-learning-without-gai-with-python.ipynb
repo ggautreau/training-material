{
  "metadata": {},
  "nbformat": 4,
  "nbformat_minor": 5,
  "cells": [
    {
      "id": "metadata",
      "cell_type": "markdown",
      "source": "<div style=\"border: 2px solid #8A9AD0; margin: 1em 0.2em; padding: 0.5em;\">\n\n# Deep Learning (without Generative Artificial Intelligence) using Python\n\nby [Ralf Gabriels](https://training.galaxyproject.org/hall-of-fame/ralfg/)\n\nCC-BY licensed content from the [Galaxy Training Network](https://training.galaxyproject.org/)\n\n**Objectives**\n\n- to do\n\n**Objectives**\n\n- Input data representation\n- Concept of filters\n- Concept of pooling layers\n- Initialising a model with conv layers (code)\n- Concept of RNNs\n- Concept of attention\n- Implementation of RNN (code)\n- Implementation of attention mechanism (code)\n- Implementation of fine-tuning (code)\n\n**Time Estimation: 3H**\n</div>\n",
      "metadata": {
        "editable": false,
        "collapsed": false
      }
    },
    {
      "id": "cell-0",
      "source": "\n",
      "cell_type": "markdown",
      "metadata": {
        "editable": false,
        "collapsed": false
      }
    },
    {
      "cell_type": "markdown",
      "id": "final-ending-cell",
      "metadata": {
        "editable": false,
        "collapsed": false
      },
      "source": [
        "# Key Points\n\n",
        "- To be added\n",
        "\n# Congratulations on successfully completing this tutorial!\n\n",
        "Please [fill out the feedback on the GTN website](https://training.galaxyproject.org/training-material/topics/statistics/tutorials/deep-learning-without-gai-with-python/tutorial.html#feedback) and check there for further resources!\n"
      ]
    }
  ]
}